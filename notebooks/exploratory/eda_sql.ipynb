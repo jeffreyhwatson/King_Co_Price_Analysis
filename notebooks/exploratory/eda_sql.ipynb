{
 "cells": [
  {
   "cell_type": "markdown",
   "metadata": {},
   "source": [
    "### Core questions:\n",
    "Enclosing a porch will increase the sale price of a home.\n",
    "\n",
    "Converting a garage to a bedroom is a good way to increase the sale price of a home.\n",
    "\n",
    "Upgrading to a forced-air heating system will increase the sale price of a home."
   ]
  },
  {
   "cell_type": "markdown",
   "metadata": {},
   "source": [
    "### Core Goals:\n",
    "Create model\n",
    "\n",
    "Interpret results\n",
    "\n",
    "Make recomendations"
   ]
  },
  {
   "cell_type": "markdown",
   "metadata": {},
   "source": [
    "### Schedule:\n",
    "Friday: Business Understanding and Data Importation\n",
    "\n",
    "Saturday: Data Understanding. Add .gitignore file in exploratory directory.\n",
    "\n",
    "Sunday: Data Prep"
   ]
  },
  {
   "cell_type": "markdown",
   "metadata": {},
   "source": [
    "### Importing Libraries"
   ]
  },
  {
   "cell_type": "code",
   "execution_count": 1,
   "metadata": {},
   "outputs": [],
   "source": [
    "# import modules for eda and plotting\n",
    "import pandas as pd\n",
    "import numpy as np\n",
    "import scipy.stats as stats\n",
    "\n",
    "import matplotlib.pyplot as plt\n",
    "import seaborn as sns\n",
    "%matplotlib inline"
   ]
  },
  {
   "cell_type": "markdown",
   "metadata": {},
   "source": [
    "### SQL Prelim Work"
   ]
  },
  {
   "cell_type": "code",
   "execution_count": 36,
   "metadata": {},
   "outputs": [],
   "source": [
    "# importing sqlite\n",
    "import sqlite3\n",
    "\n",
    "# creating database, connection, and cursor\n",
    "conn = sqlite3.connect('KingDB.db')  \n",
    "cur = conn.cursor()\n",
    "\n",
    "# creating query fetch function\n",
    "def fetcha(q):\n",
    "    return cur.execute(q).fetchall()"
   ]
  },
  {
   "cell_type": "markdown",
   "metadata": {},
   "source": [
    "### SQL Dataframe"
   ]
  },
  {
   "cell_type": "code",
   "execution_count": 37,
   "metadata": {},
   "outputs": [
    {
     "data": {
      "text/plain": [
       "[('PARC',), ('RESB',), ('SALES',)]"
      ]
     },
     "execution_count": 37,
     "metadata": {},
     "output_type": "execute_result"
    }
   ],
   "source": [
    "# getting table names\n",
    "q = \"\"\"SELECT name FROM sqlite_master \n",
    "WHERE type IN ('table','view') \n",
    "AND name NOT LIKE 'sqlite_%'\n",
    "ORDER BY 1\"\"\"\n",
    "fetcha(q)"
   ]
  },
  {
   "cell_type": "code",
   "execution_count": 38,
   "metadata": {},
   "outputs": [
    {
     "data": {
      "text/plain": [
       "Index(['ExciseTaxNbr', 'Major', 'Minor', 'DocumentDate', 'SalePrice',\n",
       "       'RecordingNbr', 'Volume', 'Page', 'PlatNbr', 'PlatType',\n",
       "       ...\n",
       "       'FpMultiStory', 'FpFreestanding', 'FpAdditional', 'YrBuilt',\n",
       "       'YrRenovated', 'PcntComplete', 'Obsolescence', 'PcntNetCondition',\n",
       "       'Condition', 'AddnlCost'],\n",
       "      dtype='object', length=156)"
      ]
     },
     "execution_count": 38,
     "metadata": {},
     "output_type": "execute_result"
    }
   ],
   "source": [
    "q = \"\"\"SELECT*FROM SALES AS SA\n",
    "       JOIN PARC AS PA\n",
    "       ON SA.Major = PA.Major\n",
    "       AND SA.Minor = PA.Minor\n",
    "       JOIN RESB AS RE\n",
    "       ON PA.Major = RE.Major\n",
    "       AND PA.Minor = RE.Minor\n",
    "       \"\"\"\n",
    "df = pd.DataFrame(fetcha(q))\n",
    "df.columns = [i[0] for i in cur.description]\n",
    "df.columns"
   ]
  },
  {
   "cell_type": "code",
   "execution_count": 39,
   "metadata": {},
   "outputs": [
    {
     "data": {
      "text/html": [
       "<div>\n",
       "<style scoped>\n",
       "    .dataframe tbody tr th:only-of-type {\n",
       "        vertical-align: middle;\n",
       "    }\n",
       "\n",
       "    .dataframe tbody tr th {\n",
       "        vertical-align: top;\n",
       "    }\n",
       "\n",
       "    .dataframe thead th {\n",
       "        text-align: right;\n",
       "    }\n",
       "</style>\n",
       "<table border=\"1\" class=\"dataframe\">\n",
       "  <thead>\n",
       "    <tr style=\"text-align: right;\">\n",
       "      <th></th>\n",
       "      <th>ExciseTaxNbr</th>\n",
       "      <th>Major</th>\n",
       "      <th>Minor</th>\n",
       "      <th>DocumentDate</th>\n",
       "      <th>SalePrice</th>\n",
       "      <th>RecordingNbr</th>\n",
       "      <th>Volume</th>\n",
       "      <th>Page</th>\n",
       "      <th>PlatNbr</th>\n",
       "      <th>PlatType</th>\n",
       "      <th>...</th>\n",
       "      <th>FpMultiStory</th>\n",
       "      <th>FpFreestanding</th>\n",
       "      <th>FpAdditional</th>\n",
       "      <th>YrBuilt</th>\n",
       "      <th>YrRenovated</th>\n",
       "      <th>PcntComplete</th>\n",
       "      <th>Obsolescence</th>\n",
       "      <th>PcntNetCondition</th>\n",
       "      <th>Condition</th>\n",
       "      <th>AddnlCost</th>\n",
       "    </tr>\n",
       "  </thead>\n",
       "  <tbody>\n",
       "    <tr>\n",
       "      <th>0</th>\n",
       "      <td>2743355</td>\n",
       "      <td>638580</td>\n",
       "      <td>0110</td>\n",
       "      <td>07/14/2015</td>\n",
       "      <td>190000</td>\n",
       "      <td>20150715002686</td>\n",
       "      <td></td>\n",
       "      <td></td>\n",
       "      <td></td>\n",
       "      <td></td>\n",
       "      <td>...</td>\n",
       "      <td>1</td>\n",
       "      <td>0</td>\n",
       "      <td>1</td>\n",
       "      <td>1963</td>\n",
       "      <td>0</td>\n",
       "      <td>0</td>\n",
       "      <td>0</td>\n",
       "      <td>0</td>\n",
       "      <td>3</td>\n",
       "      <td>0</td>\n",
       "    </tr>\n",
       "    <tr>\n",
       "      <th>1</th>\n",
       "      <td>2841697</td>\n",
       "      <td>894677</td>\n",
       "      <td>0240</td>\n",
       "      <td>12/21/2016</td>\n",
       "      <td>818161</td>\n",
       "      <td>20161228000896</td>\n",
       "      <td></td>\n",
       "      <td></td>\n",
       "      <td></td>\n",
       "      <td></td>\n",
       "      <td>...</td>\n",
       "      <td>0</td>\n",
       "      <td>0</td>\n",
       "      <td>0</td>\n",
       "      <td>2016</td>\n",
       "      <td>0</td>\n",
       "      <td>0</td>\n",
       "      <td>0</td>\n",
       "      <td>0</td>\n",
       "      <td>3</td>\n",
       "      <td>0</td>\n",
       "    </tr>\n",
       "  </tbody>\n",
       "</table>\n",
       "<p>2 rows × 156 columns</p>\n",
       "</div>"
      ],
      "text/plain": [
       "  ExciseTaxNbr   Major Minor DocumentDate SalePrice    RecordingNbr Volume  \\\n",
       "0      2743355  638580  0110   07/14/2015    190000  20150715002686          \n",
       "1      2841697  894677  0240   12/21/2016    818161  20161228000896          \n",
       "\n",
       "  Page PlatNbr PlatType  ... FpMultiStory FpFreestanding FpAdditional YrBuilt  \\\n",
       "0                        ...            1              0            1    1963   \n",
       "1                        ...            0              0            0    2016   \n",
       "\n",
       "  YrRenovated PcntComplete Obsolescence PcntNetCondition Condition AddnlCost  \n",
       "0           0            0            0                0         3         0  \n",
       "1           0            0            0                0         3         0  \n",
       "\n",
       "[2 rows x 156 columns]"
      ]
     },
     "execution_count": 39,
     "metadata": {},
     "output_type": "execute_result"
    }
   ],
   "source": [
    "df.head(2)"
   ]
  },
  {
   "cell_type": "code",
   "execution_count": 40,
   "metadata": {},
   "outputs": [
    {
     "data": {
      "text/plain": [
       "(251300, 156)"
      ]
     },
     "execution_count": 40,
     "metadata": {},
     "output_type": "execute_result"
    }
   ],
   "source": [
    "df.shape"
   ]
  },
  {
   "cell_type": "code",
   "execution_count": 41,
   "metadata": {},
   "outputs": [
    {
     "name": "stdout",
     "output_type": "stream",
     "text": [
      "<class 'pandas.core.frame.DataFrame'>\n",
      "RangeIndex: 251300 entries, 0 to 251299\n",
      "Columns: 156 entries, ExciseTaxNbr to AddnlCost\n",
      "dtypes: object(156)\n",
      "memory usage: 299.1+ MB\n"
     ]
    }
   ],
   "source": [
    "df.info()"
   ]
  },
  {
   "cell_type": "code",
   "execution_count": 42,
   "metadata": {},
   "outputs": [],
   "source": [
    "# dropping unnamed column\n",
    "df = df.drop('Unnamed: 0', axis=1)"
   ]
  },
  {
   "cell_type": "code",
   "execution_count": 43,
   "metadata": {},
   "outputs": [
    {
     "data": {
      "text/plain": [
       "(251300, 155)"
      ]
     },
     "execution_count": 43,
     "metadata": {},
     "output_type": "execute_result"
    }
   ],
   "source": [
    "df.shape"
   ]
  },
  {
   "cell_type": "code",
   "execution_count": 44,
   "metadata": {},
   "outputs": [
    {
     "data": {
      "text/plain": [
       "array([     0,      0,      0,      0,      0,      0,      0,      0,\n",
       "            0,      0,      0,      0,      0,      0,      0,      0,\n",
       "            0,      0,      0,      0,      0,      0,      0,      0,\n",
       "            0,      0,  11473,  29223,      0,      0,      0,      0,\n",
       "            0,      0,      0,      0,      0, 251300, 251300,      0,\n",
       "            0,      0,      0,      0,      0,      0,      0,      0,\n",
       "            0,      0,      0,      0,      0,      0,      0,      0,\n",
       "            0,      0,      0,      0,      0,      0,      0,      0,\n",
       "            0,      0,      0,      0,      0,      0,      0,      0,\n",
       "            0,      0,      0,      0,      0,      0,      0,      0,\n",
       "            0,      0,      0,      0,      0,      0,      0,      0,\n",
       "            0,      0,      0,      0,      0,      0,      0,      0,\n",
       "            0,      0,      0,      0,      0,      0,      0,      0,\n",
       "            0,      0,      0,      0,      0,      0,      0,      0,\n",
       "          604,      0,      0,    604,  39980,      0,      0,      0,\n",
       "            0,      0,      0,      0,      0,      0,      0,      0,\n",
       "            0,      0,      0,      0,      0,      0,      0,      0,\n",
       "            0,      0,      0,      0,      0,      0,      0,      0,\n",
       "            0,      0,      0,      0,      0,      0,      0,      0,\n",
       "            0,      0,      0])"
      ]
     },
     "execution_count": 44,
     "metadata": {},
     "output_type": "execute_result"
    }
   ],
   "source": [
    "np.array(df.isnull().sum())"
   ]
  },
  {
   "cell_type": "markdown",
   "metadata": {},
   "source": [
    "### Pandas Dataframe"
   ]
  },
  {
   "cell_type": "markdown",
   "metadata": {},
   "source": [
    "### Importing the Data"
   ]
  },
  {
   "cell_type": "code",
   "execution_count": 11,
   "metadata": {},
   "outputs": [],
   "source": [
    "# create paths to the files\n",
    "files = ['EXTR_RPSale.csv', 'EXTR_ResBldg.csv', 'EXTR_Parcel.csv']\n",
    "paths = [f'../../data/raw/{file}' for file in files]\n",
    "\n",
    "# create list of data frames importing data as strings\n",
    "dfs = [pd.read_csv(path, dtype=str) for path in paths]\n",
    "\n",
    "# isolate individual data frames\n",
    "df_sale = dfs[0]\n",
    "df_resb = dfs[1]\n",
    "df_parc = dfs[2]"
   ]
  },
  {
   "cell_type": "code",
   "execution_count": 12,
   "metadata": {},
   "outputs": [
    {
     "data": {
      "text/plain": [
       "((351067, 24), (181510, 50), (205199, 82))"
      ]
     },
     "execution_count": 12,
     "metadata": {},
     "output_type": "execute_result"
    }
   ],
   "source": [
    "# checking shape of the dataframes\n",
    "df_sale.shape, df_resb.shape, df_parc.shape "
   ]
  },
  {
   "cell_type": "code",
   "execution_count": 13,
   "metadata": {},
   "outputs": [
    {
     "name": "stdout",
     "output_type": "stream",
     "text": [
      "<class 'pandas.core.frame.DataFrame'>\n",
      "RangeIndex: 351067 entries, 0 to 351066\n",
      "Data columns (total 24 columns):\n",
      " #   Column              Non-Null Count   Dtype \n",
      "---  ------              --------------   ----- \n",
      " 0   ExciseTaxNbr        351067 non-null  object\n",
      " 1   Major               351067 non-null  object\n",
      " 2   Minor               351067 non-null  object\n",
      " 3   DocumentDate        351067 non-null  object\n",
      " 4   SalePrice           351067 non-null  object\n",
      " 5   RecordingNbr        351067 non-null  object\n",
      " 6   Volume              351067 non-null  object\n",
      " 7   Page                351067 non-null  object\n",
      " 8   PlatNbr             351067 non-null  object\n",
      " 9   PlatType            351067 non-null  object\n",
      " 10  PlatLot             351067 non-null  object\n",
      " 11  PlatBlock           351067 non-null  object\n",
      " 12  SellerName          351067 non-null  object\n",
      " 13  BuyerName           351067 non-null  object\n",
      " 14  PropertyType        351067 non-null  object\n",
      " 15  PrincipalUse        351067 non-null  object\n",
      " 16  SaleInstrument      351067 non-null  object\n",
      " 17  AFForestLand        351067 non-null  object\n",
      " 18  AFCurrentUseLand    351067 non-null  object\n",
      " 19  AFNonProfitUse      351067 non-null  object\n",
      " 20  AFHistoricProperty  351067 non-null  object\n",
      " 21  SaleReason          351067 non-null  object\n",
      " 22  PropertyClass       351067 non-null  object\n",
      " 23  SaleWarning         351067 non-null  object\n",
      "dtypes: object(24)\n",
      "memory usage: 64.3+ MB\n"
     ]
    }
   ],
   "source": [
    "# checking columns and nulls\n",
    "df_sale.info()"
   ]
  },
  {
   "cell_type": "code",
   "execution_count": 14,
   "metadata": {},
   "outputs": [
    {
     "name": "stdout",
     "output_type": "stream",
     "text": [
      "<class 'pandas.core.frame.DataFrame'>\n",
      "RangeIndex: 181510 entries, 0 to 181509\n",
      "Data columns (total 50 columns):\n",
      " #   Column              Non-Null Count   Dtype \n",
      "---  ------              --------------   ----- \n",
      " 0   Major               181510 non-null  object\n",
      " 1   Minor               181510 non-null  object\n",
      " 2   BldgNbr             181510 non-null  object\n",
      " 3   NbrLivingUnits      181510 non-null  object\n",
      " 4   Address             181510 non-null  object\n",
      " 5   BuildingNumber      181510 non-null  object\n",
      " 6   Fraction            181510 non-null  object\n",
      " 7   DirectionPrefix     181146 non-null  object\n",
      " 8   StreetName          181510 non-null  object\n",
      " 9   StreetType          181510 non-null  object\n",
      " 10  DirectionSuffix     181146 non-null  object\n",
      " 11  ZipCode             154594 non-null  object\n",
      " 12  Stories             181510 non-null  object\n",
      " 13  BldgGrade           181510 non-null  object\n",
      " 14  BldgGradeVar        181510 non-null  object\n",
      " 15  SqFt1stFloor        181510 non-null  object\n",
      " 16  SqFtHalfFloor       181510 non-null  object\n",
      " 17  SqFt2ndFloor        181510 non-null  object\n",
      " 18  SqFtUpperFloor      181510 non-null  object\n",
      " 19  SqFtUnfinFull       181510 non-null  object\n",
      " 20  SqFtUnfinHalf       181510 non-null  object\n",
      " 21  SqFtTotLiving       181510 non-null  object\n",
      " 22  SqFtTotBasement     181510 non-null  object\n",
      " 23  SqFtFinBasement     181510 non-null  object\n",
      " 24  FinBasementGrade    181510 non-null  object\n",
      " 25  SqFtGarageBasement  181510 non-null  object\n",
      " 26  SqFtGarageAttached  181510 non-null  object\n",
      " 27  DaylightBasement    181510 non-null  object\n",
      " 28  SqFtOpenPorch       181510 non-null  object\n",
      " 29  SqFtEnclosedPorch   181510 non-null  object\n",
      " 30  SqFtDeck            181510 non-null  object\n",
      " 31  HeatSystem          181510 non-null  object\n",
      " 32  HeatSource          181510 non-null  object\n",
      " 33  BrickStone          181510 non-null  object\n",
      " 34  ViewUtilization     181510 non-null  object\n",
      " 35  Bedrooms            181510 non-null  object\n",
      " 36  BathHalfCount       181510 non-null  object\n",
      " 37  Bath3qtrCount       181510 non-null  object\n",
      " 38  BathFullCount       181510 non-null  object\n",
      " 39  FpSingleStory       181510 non-null  object\n",
      " 40  FpMultiStory        181510 non-null  object\n",
      " 41  FpFreestanding      181510 non-null  object\n",
      " 42  FpAdditional        181510 non-null  object\n",
      " 43  YrBuilt             181510 non-null  object\n",
      " 44  YrRenovated         181510 non-null  object\n",
      " 45  PcntComplete        181510 non-null  object\n",
      " 46  Obsolescence        181510 non-null  object\n",
      " 47  PcntNetCondition    181510 non-null  object\n",
      " 48  Condition           181510 non-null  object\n",
      " 49  AddnlCost           181510 non-null  object\n",
      "dtypes: object(50)\n",
      "memory usage: 69.2+ MB\n"
     ]
    }
   ],
   "source": [
    "# checking columns and nulls\n",
    "df_resb.info()"
   ]
  },
  {
   "cell_type": "code",
   "execution_count": 15,
   "metadata": {},
   "outputs": [
    {
     "name": "stdout",
     "output_type": "stream",
     "text": [
      "<class 'pandas.core.frame.DataFrame'>\n",
      "RangeIndex: 205199 entries, 0 to 205198\n",
      "Data columns (total 82 columns):\n",
      " #   Column                  Non-Null Count   Dtype \n",
      "---  ------                  --------------   ----- \n",
      " 0   Unnamed: 0              205199 non-null  object\n",
      " 1   Major                   205199 non-null  object\n",
      " 2   Minor                   205199 non-null  object\n",
      " 3   PropName                196088 non-null  object\n",
      " 4   PlatName                176654 non-null  object\n",
      " 5   PlatLot                 205199 non-null  object\n",
      " 6   PlatBlock               205199 non-null  object\n",
      " 7   Range                   205199 non-null  object\n",
      " 8   Township                205199 non-null  object\n",
      " 9   Section                 205199 non-null  object\n",
      " 10  QuarterSection          205199 non-null  object\n",
      " 11  PropType                205199 non-null  object\n",
      " 12  Area                    205193 non-null  object\n",
      " 13  SubArea                 205193 non-null  object\n",
      " 14  SpecArea                4864 non-null    object\n",
      " 15  SpecSubArea             4864 non-null    object\n",
      " 16  DistrictName            205199 non-null  object\n",
      " 17  LevyCode                205199 non-null  object\n",
      " 18  CurrentZoning           205199 non-null  object\n",
      " 19  HBUAsIfVacant           205199 non-null  object\n",
      " 20  HBUAsImproved           205199 non-null  object\n",
      " 21  PresentUse              205199 non-null  object\n",
      " 22  SqFtLot                 205199 non-null  object\n",
      " 23  WaterSystem             205199 non-null  object\n",
      " 24  SewerSystem             205199 non-null  object\n",
      " 25  Access                  205199 non-null  object\n",
      " 26  Topography              205199 non-null  object\n",
      " 27  StreetSurface           205199 non-null  object\n",
      " 28  RestrictiveSzShape      205199 non-null  object\n",
      " 29  InadequateParking       205199 non-null  object\n",
      " 30  PcntUnusable            205199 non-null  object\n",
      " 31  Unbuildable             205199 non-null  object\n",
      " 32  MtRainier               205199 non-null  object\n",
      " 33  Olympics                205199 non-null  object\n",
      " 34  Cascades                205199 non-null  object\n",
      " 35  Territorial             205199 non-null  object\n",
      " 36  SeattleSkyline          205199 non-null  object\n",
      " 37  PugetSound              205199 non-null  object\n",
      " 38  LakeWashington          205199 non-null  object\n",
      " 39  LakeSammamish           205199 non-null  object\n",
      " 40  SmallLakeRiverCreek     205199 non-null  object\n",
      " 41  OtherView               205199 non-null  object\n",
      " 42  WfntLocation            205199 non-null  object\n",
      " 43  WfntFootage             205199 non-null  object\n",
      " 44  WfntBank                205199 non-null  object\n",
      " 45  WfntPoorQuality         205199 non-null  object\n",
      " 46  WfntRestrictedAccess    205199 non-null  object\n",
      " 47  WfntAccessRights        205199 non-null  object\n",
      " 48  WfntProximityInfluence  205199 non-null  object\n",
      " 49  TidelandShoreland       205199 non-null  object\n",
      " 50  LotDepthFactor          205199 non-null  object\n",
      " 51  TrafficNoise            205199 non-null  object\n",
      " 52  AirportNoise            205199 non-null  object\n",
      " 53  PowerLines              205199 non-null  object\n",
      " 54  OtherNuisances          205199 non-null  object\n",
      " 55  NbrBldgSites            205199 non-null  object\n",
      " 56  Contamination           205199 non-null  object\n",
      " 57  DNRLease                205199 non-null  object\n",
      " 58  AdjacentGolfFairway     205199 non-null  object\n",
      " 59  AdjacentGreenbelt       205199 non-null  object\n",
      " 60  HistoricSite            205199 non-null  object\n",
      " 61  CurrentUseDesignation   205199 non-null  object\n",
      " 62  NativeGrowthProtEsmt    205199 non-null  object\n",
      " 63  Easements               205199 non-null  object\n",
      " 64  OtherDesignation        205199 non-null  object\n",
      " 65  DeedRestrictions        205199 non-null  object\n",
      " 66  DevelopmentRightsPurch  205199 non-null  object\n",
      " 67  CoalMineHazard          205199 non-null  object\n",
      " 68  CriticalDrainage        205199 non-null  object\n",
      " 69  ErosionHazard           205199 non-null  object\n",
      " 70  LandfillBuffer          205199 non-null  object\n",
      " 71  HundredYrFloodPlain     205199 non-null  object\n",
      " 72  SeismicHazard           205199 non-null  object\n",
      " 73  LandslideHazard         205199 non-null  object\n",
      " 74  SteepSlopeHazard        205199 non-null  object\n",
      " 75  Stream                  205199 non-null  object\n",
      " 76  Wetland                 205199 non-null  object\n",
      " 77  SpeciesOfConcern        205199 non-null  object\n",
      " 78  SensitiveAreaTract      205199 non-null  object\n",
      " 79  WaterProblems           205199 non-null  object\n",
      " 80  TranspConcurrency       205199 non-null  object\n",
      " 81  OtherProblems           205199 non-null  object\n",
      "dtypes: object(82)\n",
      "memory usage: 128.4+ MB\n"
     ]
    }
   ],
   "source": [
    "# checking columns and nulls\n",
    "df_parc.info()"
   ]
  },
  {
   "cell_type": "code",
   "execution_count": 16,
   "metadata": {},
   "outputs": [
    {
     "data": {
      "text/html": [
       "<div>\n",
       "<style scoped>\n",
       "    .dataframe tbody tr th:only-of-type {\n",
       "        vertical-align: middle;\n",
       "    }\n",
       "\n",
       "    .dataframe tbody tr th {\n",
       "        vertical-align: top;\n",
       "    }\n",
       "\n",
       "    .dataframe thead th {\n",
       "        text-align: right;\n",
       "    }\n",
       "</style>\n",
       "<table border=\"1\" class=\"dataframe\">\n",
       "  <thead>\n",
       "    <tr style=\"text-align: right;\">\n",
       "      <th></th>\n",
       "      <th>Unnamed: 0</th>\n",
       "      <th>Major</th>\n",
       "      <th>Minor</th>\n",
       "      <th>PropName</th>\n",
       "      <th>PlatName</th>\n",
       "      <th>PlatLot</th>\n",
       "      <th>PlatBlock</th>\n",
       "      <th>Range</th>\n",
       "      <th>Township</th>\n",
       "      <th>Section</th>\n",
       "      <th>...</th>\n",
       "      <th>SeismicHazard</th>\n",
       "      <th>LandslideHazard</th>\n",
       "      <th>SteepSlopeHazard</th>\n",
       "      <th>Stream</th>\n",
       "      <th>Wetland</th>\n",
       "      <th>SpeciesOfConcern</th>\n",
       "      <th>SensitiveAreaTract</th>\n",
       "      <th>WaterProblems</th>\n",
       "      <th>TranspConcurrency</th>\n",
       "      <th>OtherProblems</th>\n",
       "    </tr>\n",
       "  </thead>\n",
       "  <tbody>\n",
       "    <tr>\n",
       "      <th>0</th>\n",
       "      <td>0</td>\n",
       "      <td>807841</td>\n",
       "      <td>0410</td>\n",
       "      <td></td>\n",
       "      <td>SUMMER RIDGE DIV NO. 02</td>\n",
       "      <td>41</td>\n",
       "      <td></td>\n",
       "      <td>6</td>\n",
       "      <td>25</td>\n",
       "      <td>22</td>\n",
       "      <td>...</td>\n",
       "      <td>N</td>\n",
       "      <td>N</td>\n",
       "      <td>N</td>\n",
       "      <td>N</td>\n",
       "      <td>N</td>\n",
       "      <td>N</td>\n",
       "      <td>N</td>\n",
       "      <td>N</td>\n",
       "      <td>N</td>\n",
       "      <td>N</td>\n",
       "    </tr>\n",
       "    <tr>\n",
       "      <th>1</th>\n",
       "      <td>2</td>\n",
       "      <td>755080</td>\n",
       "      <td>0015</td>\n",
       "      <td></td>\n",
       "      <td>SANDER'S TO GILMAN PK &amp; SALMON BAY</td>\n",
       "      <td>3</td>\n",
       "      <td>1</td>\n",
       "      <td>3</td>\n",
       "      <td>25</td>\n",
       "      <td>11</td>\n",
       "      <td>...</td>\n",
       "      <td>N</td>\n",
       "      <td>N</td>\n",
       "      <td>N</td>\n",
       "      <td>N</td>\n",
       "      <td>N</td>\n",
       "      <td>N</td>\n",
       "      <td>N</td>\n",
       "      <td>N</td>\n",
       "      <td>N</td>\n",
       "      <td>N</td>\n",
       "    </tr>\n",
       "  </tbody>\n",
       "</table>\n",
       "<p>2 rows × 82 columns</p>\n",
       "</div>"
      ],
      "text/plain": [
       "  Unnamed: 0   Major Minor PropName                            PlatName  \\\n",
       "0          0  807841  0410                      SUMMER RIDGE DIV NO. 02   \n",
       "1          2  755080  0015           SANDER'S TO GILMAN PK & SALMON BAY   \n",
       "\n",
       "          PlatLot PlatBlock Range Township Section  ... SeismicHazard  \\\n",
       "0  41                           6       25      22  ...             N   \n",
       "1  3                1           3       25      11  ...             N   \n",
       "\n",
       "  LandslideHazard SteepSlopeHazard Stream Wetland SpeciesOfConcern  \\\n",
       "0               N                N      N       N                N   \n",
       "1               N                N      N       N                N   \n",
       "\n",
       "  SensitiveAreaTract WaterProblems TranspConcurrency OtherProblems  \n",
       "0                  N             N                 N             N  \n",
       "1                  N             N                 N             N  \n",
       "\n",
       "[2 rows x 82 columns]"
      ]
     },
     "execution_count": 16,
     "metadata": {},
     "output_type": "execute_result"
    }
   ],
   "source": [
    "# checking first couple of rows\n",
    "df_parc.head(2)"
   ]
  },
  {
   "cell_type": "code",
   "execution_count": 17,
   "metadata": {},
   "outputs": [],
   "source": [
    "df_parc = df_parc.drop('Unnamed: 0', axis=1)"
   ]
  },
  {
   "cell_type": "code",
   "execution_count": 18,
   "metadata": {},
   "outputs": [
    {
     "data": {
      "text/html": [
       "<div>\n",
       "<style scoped>\n",
       "    .dataframe tbody tr th:only-of-type {\n",
       "        vertical-align: middle;\n",
       "    }\n",
       "\n",
       "    .dataframe tbody tr th {\n",
       "        vertical-align: top;\n",
       "    }\n",
       "\n",
       "    .dataframe thead th {\n",
       "        text-align: right;\n",
       "    }\n",
       "</style>\n",
       "<table border=\"1\" class=\"dataframe\">\n",
       "  <thead>\n",
       "    <tr style=\"text-align: right;\">\n",
       "      <th></th>\n",
       "      <th>Major</th>\n",
       "      <th>Minor</th>\n",
       "      <th>PropName</th>\n",
       "      <th>PlatName</th>\n",
       "      <th>PlatLot</th>\n",
       "      <th>PlatBlock</th>\n",
       "      <th>Range</th>\n",
       "      <th>Township</th>\n",
       "      <th>Section</th>\n",
       "      <th>QuarterSection</th>\n",
       "      <th>...</th>\n",
       "      <th>SeismicHazard</th>\n",
       "      <th>LandslideHazard</th>\n",
       "      <th>SteepSlopeHazard</th>\n",
       "      <th>Stream</th>\n",
       "      <th>Wetland</th>\n",
       "      <th>SpeciesOfConcern</th>\n",
       "      <th>SensitiveAreaTract</th>\n",
       "      <th>WaterProblems</th>\n",
       "      <th>TranspConcurrency</th>\n",
       "      <th>OtherProblems</th>\n",
       "    </tr>\n",
       "  </thead>\n",
       "  <tbody>\n",
       "    <tr>\n",
       "      <th>0</th>\n",
       "      <td>807841</td>\n",
       "      <td>0410</td>\n",
       "      <td></td>\n",
       "      <td>SUMMER RIDGE DIV NO. 02</td>\n",
       "      <td>41</td>\n",
       "      <td></td>\n",
       "      <td>6</td>\n",
       "      <td>25</td>\n",
       "      <td>22</td>\n",
       "      <td>SW</td>\n",
       "      <td>...</td>\n",
       "      <td>N</td>\n",
       "      <td>N</td>\n",
       "      <td>N</td>\n",
       "      <td>N</td>\n",
       "      <td>N</td>\n",
       "      <td>N</td>\n",
       "      <td>N</td>\n",
       "      <td>N</td>\n",
       "      <td>N</td>\n",
       "      <td>N</td>\n",
       "    </tr>\n",
       "    <tr>\n",
       "      <th>1</th>\n",
       "      <td>755080</td>\n",
       "      <td>0015</td>\n",
       "      <td></td>\n",
       "      <td>SANDER'S TO GILMAN PK &amp; SALMON BAY</td>\n",
       "      <td>3</td>\n",
       "      <td>1</td>\n",
       "      <td>3</td>\n",
       "      <td>25</td>\n",
       "      <td>11</td>\n",
       "      <td>NW</td>\n",
       "      <td>...</td>\n",
       "      <td>N</td>\n",
       "      <td>N</td>\n",
       "      <td>N</td>\n",
       "      <td>N</td>\n",
       "      <td>N</td>\n",
       "      <td>N</td>\n",
       "      <td>N</td>\n",
       "      <td>N</td>\n",
       "      <td>N</td>\n",
       "      <td>N</td>\n",
       "    </tr>\n",
       "  </tbody>\n",
       "</table>\n",
       "<p>2 rows × 81 columns</p>\n",
       "</div>"
      ],
      "text/plain": [
       "    Major Minor PropName                            PlatName         PlatLot  \\\n",
       "0  807841  0410                      SUMMER RIDGE DIV NO. 02  41               \n",
       "1  755080  0015           SANDER'S TO GILMAN PK & SALMON BAY  3                \n",
       "\n",
       "  PlatBlock Range Township Section QuarterSection  ... SeismicHazard  \\\n",
       "0               6       25      22             SW  ...             N   \n",
       "1   1           3       25      11             NW  ...             N   \n",
       "\n",
       "  LandslideHazard SteepSlopeHazard Stream Wetland SpeciesOfConcern  \\\n",
       "0               N                N      N       N                N   \n",
       "1               N                N      N       N                N   \n",
       "\n",
       "  SensitiveAreaTract WaterProblems TranspConcurrency OtherProblems  \n",
       "0                  N             N                 N             N  \n",
       "1                  N             N                 N             N  \n",
       "\n",
       "[2 rows x 81 columns]"
      ]
     },
     "execution_count": 18,
     "metadata": {},
     "output_type": "execute_result"
    }
   ],
   "source": [
    "# checking dropped column\n",
    "df_parc.head(2)"
   ]
  },
  {
   "cell_type": "code",
   "execution_count": 19,
   "metadata": {},
   "outputs": [],
   "source": [
    "_1st_merge = pd.merge(df_sale, df_parc, on=['Major', 'Minor'])"
   ]
  },
  {
   "cell_type": "code",
   "execution_count": 20,
   "metadata": {},
   "outputs": [
    {
     "data": {
      "text/html": [
       "<div>\n",
       "<style scoped>\n",
       "    .dataframe tbody tr th:only-of-type {\n",
       "        vertical-align: middle;\n",
       "    }\n",
       "\n",
       "    .dataframe tbody tr th {\n",
       "        vertical-align: top;\n",
       "    }\n",
       "\n",
       "    .dataframe thead th {\n",
       "        text-align: right;\n",
       "    }\n",
       "</style>\n",
       "<table border=\"1\" class=\"dataframe\">\n",
       "  <thead>\n",
       "    <tr style=\"text-align: right;\">\n",
       "      <th></th>\n",
       "      <th>ExciseTaxNbr</th>\n",
       "      <th>Major</th>\n",
       "      <th>Minor</th>\n",
       "      <th>DocumentDate</th>\n",
       "      <th>SalePrice</th>\n",
       "      <th>RecordingNbr</th>\n",
       "      <th>Volume</th>\n",
       "      <th>Page</th>\n",
       "      <th>PlatNbr</th>\n",
       "      <th>PlatType</th>\n",
       "      <th>...</th>\n",
       "      <th>SeismicHazard</th>\n",
       "      <th>LandslideHazard</th>\n",
       "      <th>SteepSlopeHazard</th>\n",
       "      <th>Stream</th>\n",
       "      <th>Wetland</th>\n",
       "      <th>SpeciesOfConcern</th>\n",
       "      <th>SensitiveAreaTract</th>\n",
       "      <th>WaterProblems</th>\n",
       "      <th>TranspConcurrency</th>\n",
       "      <th>OtherProblems</th>\n",
       "    </tr>\n",
       "  </thead>\n",
       "  <tbody>\n",
       "    <tr>\n",
       "      <th>0</th>\n",
       "      <td>2857854</td>\n",
       "      <td>198920</td>\n",
       "      <td>1430</td>\n",
       "      <td>03/28/2017</td>\n",
       "      <td>0</td>\n",
       "      <td>20170410000541</td>\n",
       "      <td></td>\n",
       "      <td></td>\n",
       "      <td></td>\n",
       "      <td></td>\n",
       "      <td>...</td>\n",
       "      <td>N</td>\n",
       "      <td>N</td>\n",
       "      <td>N</td>\n",
       "      <td>N</td>\n",
       "      <td>N</td>\n",
       "      <td>N</td>\n",
       "      <td>N</td>\n",
       "      <td>N</td>\n",
       "      <td>N</td>\n",
       "      <td>N</td>\n",
       "    </tr>\n",
       "    <tr>\n",
       "      <th>1</th>\n",
       "      <td>2843191</td>\n",
       "      <td>198920</td>\n",
       "      <td>1430</td>\n",
       "      <td>12/27/2016</td>\n",
       "      <td>0</td>\n",
       "      <td>20170105001317</td>\n",
       "      <td></td>\n",
       "      <td></td>\n",
       "      <td></td>\n",
       "      <td></td>\n",
       "      <td>...</td>\n",
       "      <td>N</td>\n",
       "      <td>N</td>\n",
       "      <td>N</td>\n",
       "      <td>N</td>\n",
       "      <td>N</td>\n",
       "      <td>N</td>\n",
       "      <td>N</td>\n",
       "      <td>N</td>\n",
       "      <td>N</td>\n",
       "      <td>N</td>\n",
       "    </tr>\n",
       "  </tbody>\n",
       "</table>\n",
       "<p>2 rows × 103 columns</p>\n",
       "</div>"
      ],
      "text/plain": [
       "  ExciseTaxNbr   Major Minor DocumentDate SalePrice    RecordingNbr Volume  \\\n",
       "0      2857854  198920  1430   03/28/2017         0  20170410000541          \n",
       "1      2843191  198920  1430   12/27/2016         0  20170105001317          \n",
       "\n",
       "  Page PlatNbr PlatType  ... SeismicHazard LandslideHazard SteepSlopeHazard  \\\n",
       "0                        ...             N               N                N   \n",
       "1                        ...             N               N                N   \n",
       "\n",
       "  Stream Wetland SpeciesOfConcern SensitiveAreaTract WaterProblems  \\\n",
       "0      N       N                N                  N             N   \n",
       "1      N       N                N                  N             N   \n",
       "\n",
       "  TranspConcurrency OtherProblems  \n",
       "0                 N             N  \n",
       "1                 N             N  \n",
       "\n",
       "[2 rows x 103 columns]"
      ]
     },
     "execution_count": 20,
     "metadata": {},
     "output_type": "execute_result"
    }
   ],
   "source": [
    "_1st_merge.head(2)"
   ]
  },
  {
   "cell_type": "code",
   "execution_count": 21,
   "metadata": {},
   "outputs": [],
   "source": [
    "_2nd_merge = pd.merge(_1st_merge, df_resb, on=['Major', 'Minor'])"
   ]
  },
  {
   "cell_type": "code",
   "execution_count": 22,
   "metadata": {},
   "outputs": [
    {
     "data": {
      "text/html": [
       "<div>\n",
       "<style scoped>\n",
       "    .dataframe tbody tr th:only-of-type {\n",
       "        vertical-align: middle;\n",
       "    }\n",
       "\n",
       "    .dataframe tbody tr th {\n",
       "        vertical-align: top;\n",
       "    }\n",
       "\n",
       "    .dataframe thead th {\n",
       "        text-align: right;\n",
       "    }\n",
       "</style>\n",
       "<table border=\"1\" class=\"dataframe\">\n",
       "  <thead>\n",
       "    <tr style=\"text-align: right;\">\n",
       "      <th></th>\n",
       "      <th>ExciseTaxNbr</th>\n",
       "      <th>Major</th>\n",
       "      <th>Minor</th>\n",
       "      <th>DocumentDate</th>\n",
       "      <th>SalePrice</th>\n",
       "      <th>RecordingNbr</th>\n",
       "      <th>Volume</th>\n",
       "      <th>Page</th>\n",
       "      <th>PlatNbr</th>\n",
       "      <th>PlatType</th>\n",
       "      <th>...</th>\n",
       "      <th>FpMultiStory</th>\n",
       "      <th>FpFreestanding</th>\n",
       "      <th>FpAdditional</th>\n",
       "      <th>YrBuilt</th>\n",
       "      <th>YrRenovated</th>\n",
       "      <th>PcntComplete</th>\n",
       "      <th>Obsolescence</th>\n",
       "      <th>PcntNetCondition</th>\n",
       "      <th>Condition</th>\n",
       "      <th>AddnlCost</th>\n",
       "    </tr>\n",
       "  </thead>\n",
       "  <tbody>\n",
       "    <tr>\n",
       "      <th>0</th>\n",
       "      <td>2743355</td>\n",
       "      <td>638580</td>\n",
       "      <td>0110</td>\n",
       "      <td>07/14/2015</td>\n",
       "      <td>190000</td>\n",
       "      <td>20150715002686</td>\n",
       "      <td></td>\n",
       "      <td></td>\n",
       "      <td></td>\n",
       "      <td></td>\n",
       "      <td>...</td>\n",
       "      <td>1</td>\n",
       "      <td>0</td>\n",
       "      <td>1</td>\n",
       "      <td>1963</td>\n",
       "      <td>0</td>\n",
       "      <td>0</td>\n",
       "      <td>0</td>\n",
       "      <td>0</td>\n",
       "      <td>3</td>\n",
       "      <td>0</td>\n",
       "    </tr>\n",
       "    <tr>\n",
       "      <th>1</th>\n",
       "      <td>2743356</td>\n",
       "      <td>638580</td>\n",
       "      <td>0110</td>\n",
       "      <td>07/14/2015</td>\n",
       "      <td>0</td>\n",
       "      <td>20150715002687</td>\n",
       "      <td></td>\n",
       "      <td></td>\n",
       "      <td></td>\n",
       "      <td></td>\n",
       "      <td>...</td>\n",
       "      <td>1</td>\n",
       "      <td>0</td>\n",
       "      <td>1</td>\n",
       "      <td>1963</td>\n",
       "      <td>0</td>\n",
       "      <td>0</td>\n",
       "      <td>0</td>\n",
       "      <td>0</td>\n",
       "      <td>3</td>\n",
       "      <td>0</td>\n",
       "    </tr>\n",
       "  </tbody>\n",
       "</table>\n",
       "<p>2 rows × 151 columns</p>\n",
       "</div>"
      ],
      "text/plain": [
       "  ExciseTaxNbr   Major Minor DocumentDate SalePrice    RecordingNbr Volume  \\\n",
       "0      2743355  638580  0110   07/14/2015    190000  20150715002686          \n",
       "1      2743356  638580  0110   07/14/2015         0  20150715002687          \n",
       "\n",
       "  Page PlatNbr PlatType  ... FpMultiStory FpFreestanding FpAdditional YrBuilt  \\\n",
       "0                        ...            1              0            1    1963   \n",
       "1                        ...            1              0            1    1963   \n",
       "\n",
       "  YrRenovated PcntComplete Obsolescence PcntNetCondition Condition AddnlCost  \n",
       "0           0            0            0                0         3         0  \n",
       "1           0            0            0                0         3         0  \n",
       "\n",
       "[2 rows x 151 columns]"
      ]
     },
     "execution_count": 22,
     "metadata": {},
     "output_type": "execute_result"
    }
   ],
   "source": [
    "_2nd_merge.head(2)"
   ]
  },
  {
   "cell_type": "code",
   "execution_count": 23,
   "metadata": {},
   "outputs": [
    {
     "data": {
      "text/plain": [
       "(251300, 151)"
      ]
     },
     "execution_count": 23,
     "metadata": {},
     "output_type": "execute_result"
    }
   ],
   "source": [
    "_2nd_merge.shape"
   ]
  },
  {
   "cell_type": "code",
   "execution_count": 24,
   "metadata": {},
   "outputs": [
    {
     "name": "stdout",
     "output_type": "stream",
     "text": [
      "<class 'pandas.core.frame.DataFrame'>\n",
      "Int64Index: 251300 entries, 0 to 251299\n",
      "Columns: 151 entries, ExciseTaxNbr to AddnlCost\n",
      "dtypes: object(151)\n",
      "memory usage: 291.4+ MB\n"
     ]
    }
   ],
   "source": [
    "_2nd_merge.info()"
   ]
  },
  {
   "cell_type": "code",
   "execution_count": 25,
   "metadata": {},
   "outputs": [],
   "source": [
    "df2 = _2nd_merge"
   ]
  },
  {
   "cell_type": "code",
   "execution_count": 26,
   "metadata": {},
   "outputs": [
    {
     "data": {
      "text/plain": [
       "(251300, 151)"
      ]
     },
     "execution_count": 26,
     "metadata": {},
     "output_type": "execute_result"
    }
   ],
   "source": [
    "df2.shape"
   ]
  },
  {
   "cell_type": "code",
   "execution_count": null,
   "metadata": {},
   "outputs": [],
   "source": []
  }
 ],
 "metadata": {
  "kernelspec": {
   "display_name": "learn-env",
   "language": "python",
   "name": "learn-env"
  },
  "language_info": {
   "codemirror_mode": {
    "name": "ipython",
    "version": 3
   },
   "file_extension": ".py",
   "mimetype": "text/x-python",
   "name": "python",
   "nbconvert_exporter": "python",
   "pygments_lexer": "ipython3",
   "version": "3.8.5"
  }
 },
 "nbformat": 4,
 "nbformat_minor": 4
}

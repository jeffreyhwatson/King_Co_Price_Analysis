{
 "cells": [
  {
   "cell_type": "markdown",
   "metadata": {},
   "source": [
    "# King County Project"
   ]
  },
  {
   "cell_type": "markdown",
   "metadata": {},
   "source": [
    "## Business Problem"
   ]
  },
  {
   "cell_type": "markdown",
   "metadata": {},
   "source": [
    "A client in King County, WA wants to advise homeowners on **home improvement projects** that will **add to the sale value of their homes**.\n",
    "\n",
    "**This advice should be based on data from the most recent full calendar year, 2019**."
   ]
  },
  {
   "cell_type": "markdown",
   "metadata": {},
   "source": [
    "### Core questions:\n",
    "Enclosing a porch will increase the sale price of a home.\n",
    "\n",
    "Converting a garage to a bedroom is a good way to increase the sale price of a home.\n",
    "\n",
    "Upgrading to a forced-air heating system will increase the sale price of a home."
   ]
  },
  {
   "cell_type": "markdown",
   "metadata": {},
   "source": [
    "### Core Goals:\n",
    "Create model\n",
    "\n",
    "Interpret results\n",
    "\n",
    "Make recomendations"
   ]
  },
  {
   "cell_type": "markdown",
   "metadata": {},
   "source": [
    "## Schedule"
   ]
  },
  {
   "cell_type": "markdown",
   "metadata": {},
   "source": [
    "### Friday 2/19: \n",
    "#### Business Understanding & Preliminary EDA\n",
    "* Repo Creation\n",
    "* Data Importation\n",
    "* Database Creation\n",
    "* Created initial data frame."
   ]
  },
  {
   "cell_type": "markdown",
   "metadata": {},
   "source": [
    "### Saturday 2/20: \n",
    "#### Data Understanding & EDA\n",
    "* Added ```.gitignore``` file in exploratory directory to exclude ```KingDB.db``` file.\n",
    "* Created ```lookup()``` function.\n",
    "* Created 2019 data frame.\n",
    "* Created ```nz19``` data frame of 2019 documents with non-zero sale prices."
   ]
  },
  {
   "cell_type": "markdown",
   "metadata": {},
   "source": [
    "### Sunday 2/21: \n",
    "##### Data Prep\n",
    "\n",
    "* Added a ```function.py``` module to contain the functions written while working through the project.\n",
    "* Created a ```col_stripper()``` function, and appended it, ```fetch()```, and ```lookup()``` to the ```function``` module.\n",
    "* Did some data cleaning on the lookup dataframe ```df_look```.\n",
    "* Made a ```heat_df``` data frame with the ```'SalePrice'``` target and ```'HeatSystems'``` predictor.\n",
    "* Converted  ```'HeatSystems'``` to a column called ```'HeatNames'```with more descriptive values.\n",
    "* Perfomed one-hot encoding on ```'HeatNames'``` and created a ```model_df```.\n",
    "* Created a correlation matrix and heatmap for ```model_df```.\n"
   ]
  },
  {
   "cell_type": "markdown",
   "metadata": {},
   "source": [
    "# Initial EDA Work"
   ]
  },
  {
   "cell_type": "markdown",
   "metadata": {},
   "source": [
    "#### Importing Libraries and Adjusting Settings"
   ]
  },
  {
   "cell_type": "code",
   "execution_count": 1,
   "metadata": {},
   "outputs": [],
   "source": [
    "# import modules for eda and plotting\n",
    "import pandas as pd\n",
    "import numpy as np\n",
    "import scipy.stats as stats\n",
    "\n",
    "import sqlite3\n",
    "\n",
    "from sklearn import preprocessing\n",
    "from sklearn.preprocessing import OneHotEncoder\n",
    "\n",
    "import matplotlib.pyplot as plt\n",
    "import seaborn as sns\n",
    "\n",
    "import functions as fn\n",
    "\n",
    "# setting plots to inline\n",
    "%matplotlib inline\n",
    "\n",
    "# setting the max number of rows displayed\n",
    "pd.options.display.max_rows = 200"
   ]
  },
  {
   "cell_type": "code",
   "execution_count": null,
   "metadata": {},
   "outputs": [],
   "source": []
  },
  {
   "cell_type": "markdown",
   "metadata": {},
   "source": [
    "## SQL Dataframe"
   ]
  },
  {
   "cell_type": "markdown",
   "metadata": {},
   "source": [
    "### SQL Prelim Work\n",
    "\n",
    "#### Created Database\n",
    "Earlier, wrote up a [DB Creator](DB_Creator.ipynb) notebook and ran it to create an SQL database from the raw ```.csv``` files."
   ]
  },
  {
   "cell_type": "markdown",
   "metadata": {},
   "source": [
    "#### Creating DataFrame From the Database"
   ]
  },
  {
   "cell_type": "markdown",
   "metadata": {},
   "source": [
    "Connecting to the database, and creating a cursor object. Joining the database tables into a second main data frame. Lastly, checking basic information about the data frame."
   ]
  },
  {
   "cell_type": "code",
   "execution_count": 136,
   "metadata": {},
   "outputs": [],
   "source": [
    "# creating database, connection, and cursor\n",
    "conn = sqlite3.connect('KingDB.db')  \n",
    "cur = conn.cursor()"
   ]
  },
  {
   "cell_type": "code",
   "execution_count": 137,
   "metadata": {},
   "outputs": [
    {
     "data": {
      "text/plain": [
       "[('PARC',), ('RESB',), ('SALES',)]"
      ]
     },
     "execution_count": 137,
     "metadata": {},
     "output_type": "execute_result"
    }
   ],
   "source": [
    "# checking the table names\n",
    "q = \"\"\"SELECT name FROM sqlite_master \n",
    "WHERE type IN ('table','view') \n",
    "AND name NOT LIKE 'sqlite_%'\n",
    "ORDER BY 1\"\"\"\n",
    "fn.fetch(cur, q)"
   ]
  },
  {
   "cell_type": "markdown",
   "metadata": {},
   "source": [
    "#### Joining The Tables to Create a Data Frame"
   ]
  },
  {
   "cell_type": "code",
   "execution_count": 153,
   "metadata": {},
   "outputs": [],
   "source": [
    "# joining tables to create dataframe and appending column names\n",
    "q = \"\"\"SELECT*FROM SALES AS SA\n",
    "       JOIN PARC AS PA\n",
    "       ON SA.Major = PA.Major\n",
    "       AND SA.Minor = PA.Minor\n",
    "       JOIN RESB AS RE\n",
    "       ON PA.Major = RE.Major\n",
    "       AND PA.Minor = RE.Minor\n",
    "       \"\"\"\n",
    "df = pd.DataFrame(fn.fetch(cur, q))\n",
    "df.columns = [i[0] for i in cur.description]"
   ]
  },
  {
   "cell_type": "code",
   "execution_count": 154,
   "metadata": {},
   "outputs": [
    {
     "name": "stdout",
     "output_type": "stream",
     "text": [
      "<class 'pandas.core.frame.DataFrame'>\n",
      "RangeIndex: 251300 entries, 0 to 251299\n",
      "Columns: 156 entries, ExciseTaxNbr to AddnlCost\n",
      "dtypes: object(156)\n",
      "memory usage: 299.1+ MB\n"
     ]
    }
   ],
   "source": [
    "# checking info, shape\n",
    "df.info()"
   ]
  },
  {
   "cell_type": "markdown",
   "metadata": {},
   "source": [
    "### Checking & Dealing with Columns"
   ]
  },
  {
   "cell_type": "code",
   "execution_count": 155,
   "metadata": {},
   "outputs": [
    {
     "data": {
      "text/plain": [
       "['ExciseTaxNbr',\n",
       " 'Major',\n",
       " 'Minor',\n",
       " 'DocumentDate',\n",
       " 'SalePrice',\n",
       " 'RecordingNbr',\n",
       " 'Volume',\n",
       " 'Page',\n",
       " 'PlatNbr',\n",
       " 'PlatType',\n",
       " 'PlatLot',\n",
       " 'PlatBlock',\n",
       " 'SellerName',\n",
       " 'BuyerName',\n",
       " 'PropertyType',\n",
       " 'PrincipalUse',\n",
       " 'SaleInstrument',\n",
       " 'AFForestLand',\n",
       " 'AFCurrentUseLand',\n",
       " 'AFNonProfitUse',\n",
       " 'AFHistoricProperty',\n",
       " 'SaleReason',\n",
       " 'PropertyClass',\n",
       " 'SaleWarning',\n",
       " 'Unnamed: 0',\n",
       " 'Major',\n",
       " 'Minor',\n",
       " 'PropName',\n",
       " 'PlatName',\n",
       " 'PlatLot',\n",
       " 'PlatBlock',\n",
       " 'Range',\n",
       " 'Township',\n",
       " 'Section',\n",
       " 'QuarterSection',\n",
       " 'PropType',\n",
       " 'Area',\n",
       " 'SubArea',\n",
       " 'SpecArea',\n",
       " 'SpecSubArea',\n",
       " 'DistrictName',\n",
       " 'LevyCode',\n",
       " 'CurrentZoning',\n",
       " 'HBUAsIfVacant',\n",
       " 'HBUAsImproved',\n",
       " 'PresentUse',\n",
       " 'SqFtLot',\n",
       " 'WaterSystem',\n",
       " 'SewerSystem',\n",
       " 'Access',\n",
       " 'Topography',\n",
       " 'StreetSurface',\n",
       " 'RestrictiveSzShape',\n",
       " 'InadequateParking',\n",
       " 'PcntUnusable',\n",
       " 'Unbuildable',\n",
       " 'MtRainier',\n",
       " 'Olympics',\n",
       " 'Cascades',\n",
       " 'Territorial',\n",
       " 'SeattleSkyline',\n",
       " 'PugetSound',\n",
       " 'LakeWashington',\n",
       " 'LakeSammamish',\n",
       " 'SmallLakeRiverCreek',\n",
       " 'OtherView',\n",
       " 'WfntLocation',\n",
       " 'WfntFootage',\n",
       " 'WfntBank',\n",
       " 'WfntPoorQuality',\n",
       " 'WfntRestrictedAccess',\n",
       " 'WfntAccessRights',\n",
       " 'WfntProximityInfluence',\n",
       " 'TidelandShoreland',\n",
       " 'LotDepthFactor',\n",
       " 'TrafficNoise',\n",
       " 'AirportNoise',\n",
       " 'PowerLines',\n",
       " 'OtherNuisances',\n",
       " 'NbrBldgSites',\n",
       " 'Contamination',\n",
       " 'DNRLease',\n",
       " 'AdjacentGolfFairway',\n",
       " 'AdjacentGreenbelt',\n",
       " 'HistoricSite',\n",
       " 'CurrentUseDesignation',\n",
       " 'NativeGrowthProtEsmt',\n",
       " 'Easements',\n",
       " 'OtherDesignation',\n",
       " 'DeedRestrictions',\n",
       " 'DevelopmentRightsPurch',\n",
       " 'CoalMineHazard',\n",
       " 'CriticalDrainage',\n",
       " 'ErosionHazard',\n",
       " 'LandfillBuffer',\n",
       " 'HundredYrFloodPlain',\n",
       " 'SeismicHazard',\n",
       " 'LandslideHazard',\n",
       " 'SteepSlopeHazard',\n",
       " 'Stream',\n",
       " 'Wetland',\n",
       " 'SpeciesOfConcern',\n",
       " 'SensitiveAreaTract',\n",
       " 'WaterProblems',\n",
       " 'TranspConcurrency',\n",
       " 'OtherProblems',\n",
       " 'Major',\n",
       " 'Minor',\n",
       " 'BldgNbr',\n",
       " 'NbrLivingUnits',\n",
       " 'Address',\n",
       " 'BuildingNumber',\n",
       " 'Fraction',\n",
       " 'DirectionPrefix',\n",
       " 'StreetName',\n",
       " 'StreetType',\n",
       " 'DirectionSuffix',\n",
       " 'ZipCode',\n",
       " 'Stories',\n",
       " 'BldgGrade',\n",
       " 'BldgGradeVar',\n",
       " 'SqFt1stFloor',\n",
       " 'SqFtHalfFloor',\n",
       " 'SqFt2ndFloor',\n",
       " 'SqFtUpperFloor',\n",
       " 'SqFtUnfinFull',\n",
       " 'SqFtUnfinHalf',\n",
       " 'SqFtTotLiving',\n",
       " 'SqFtTotBasement',\n",
       " 'SqFtFinBasement',\n",
       " 'FinBasementGrade',\n",
       " 'SqFtGarageBasement',\n",
       " 'SqFtGarageAttached',\n",
       " 'DaylightBasement',\n",
       " 'SqFtOpenPorch',\n",
       " 'SqFtEnclosedPorch',\n",
       " 'SqFtDeck',\n",
       " 'HeatSystem',\n",
       " 'HeatSource',\n",
       " 'BrickStone',\n",
       " 'ViewUtilization',\n",
       " 'Bedrooms',\n",
       " 'BathHalfCount',\n",
       " 'Bath3qtrCount',\n",
       " 'BathFullCount',\n",
       " 'FpSingleStory',\n",
       " 'FpMultiStory',\n",
       " 'FpFreestanding',\n",
       " 'FpAdditional',\n",
       " 'YrBuilt',\n",
       " 'YrRenovated',\n",
       " 'PcntComplete',\n",
       " 'Obsolescence',\n",
       " 'PcntNetCondition',\n",
       " 'Condition',\n",
       " 'AddnlCost']"
      ]
     },
     "execution_count": 155,
     "metadata": {},
     "output_type": "execute_result"
    }
   ],
   "source": [
    "# checking columns\n",
    "list(df.columns)"
   ]
  },
  {
   "cell_type": "code",
   "execution_count": 156,
   "metadata": {},
   "outputs": [],
   "source": [
    "# dropping unnamed column found above\n",
    "df.drop('Unnamed: 0', axis=1, inplace=True)"
   ]
  },
  {
   "cell_type": "code",
   "execution_count": 157,
   "metadata": {},
   "outputs": [
    {
     "data": {
      "text/html": [
       "<div>\n",
       "<style scoped>\n",
       "    .dataframe tbody tr th:only-of-type {\n",
       "        vertical-align: middle;\n",
       "    }\n",
       "\n",
       "    .dataframe tbody tr th {\n",
       "        vertical-align: top;\n",
       "    }\n",
       "\n",
       "    .dataframe thead th {\n",
       "        text-align: right;\n",
       "    }\n",
       "</style>\n",
       "<table border=\"1\" class=\"dataframe\">\n",
       "  <thead>\n",
       "    <tr style=\"text-align: right;\">\n",
       "      <th></th>\n",
       "      <th>ExciseTaxNbr</th>\n",
       "      <th>Major</th>\n",
       "      <th>Minor</th>\n",
       "      <th>DocumentDate</th>\n",
       "      <th>SalePrice</th>\n",
       "      <th>RecordingNbr</th>\n",
       "      <th>Volume</th>\n",
       "      <th>Page</th>\n",
       "      <th>PlatNbr</th>\n",
       "      <th>PlatType</th>\n",
       "      <th>...</th>\n",
       "      <th>FpMultiStory</th>\n",
       "      <th>FpFreestanding</th>\n",
       "      <th>FpAdditional</th>\n",
       "      <th>YrBuilt</th>\n",
       "      <th>YrRenovated</th>\n",
       "      <th>PcntComplete</th>\n",
       "      <th>Obsolescence</th>\n",
       "      <th>PcntNetCondition</th>\n",
       "      <th>Condition</th>\n",
       "      <th>AddnlCost</th>\n",
       "    </tr>\n",
       "  </thead>\n",
       "  <tbody>\n",
       "    <tr>\n",
       "      <th>0</th>\n",
       "      <td>2743355</td>\n",
       "      <td>638580</td>\n",
       "      <td>0110</td>\n",
       "      <td>07/14/2015</td>\n",
       "      <td>190000</td>\n",
       "      <td>20150715002686</td>\n",
       "      <td></td>\n",
       "      <td></td>\n",
       "      <td></td>\n",
       "      <td></td>\n",
       "      <td>...</td>\n",
       "      <td>1</td>\n",
       "      <td>0</td>\n",
       "      <td>1</td>\n",
       "      <td>1963</td>\n",
       "      <td>0</td>\n",
       "      <td>0</td>\n",
       "      <td>0</td>\n",
       "      <td>0</td>\n",
       "      <td>3</td>\n",
       "      <td>0</td>\n",
       "    </tr>\n",
       "  </tbody>\n",
       "</table>\n",
       "<p>1 rows × 155 columns</p>\n",
       "</div>"
      ],
      "text/plain": [
       "  ExciseTaxNbr   Major Minor DocumentDate SalePrice    RecordingNbr Volume  \\\n",
       "0      2743355  638580  0110   07/14/2015    190000  20150715002686          \n",
       "\n",
       "  Page PlatNbr PlatType  ... FpMultiStory FpFreestanding FpAdditional YrBuilt  \\\n",
       "0                        ...            1              0            1    1963   \n",
       "\n",
       "  YrRenovated PcntComplete Obsolescence PcntNetCondition Condition AddnlCost  \n",
       "0           0            0            0                0         3         0  \n",
       "\n",
       "[1 rows x 155 columns]"
      ]
     },
     "execution_count": 157,
     "metadata": {},
     "output_type": "execute_result"
    }
   ],
   "source": [
    "df.head(1)"
   ]
  },
  {
   "cell_type": "code",
   "execution_count": 158,
   "metadata": {},
   "outputs": [
    {
     "name": "stdout",
     "output_type": "stream",
     "text": [
      "ExciseTaxNbr                   0\n",
      "Major                          0\n",
      "Minor                          0\n",
      "DocumentDate                   0\n",
      "SalePrice                      0\n",
      "RecordingNbr                   0\n",
      "Volume                         0\n",
      "Page                           0\n",
      "PlatNbr                        0\n",
      "PlatType                       0\n",
      "PlatLot                        0\n",
      "PlatBlock                      0\n",
      "SellerName                     0\n",
      "BuyerName                      0\n",
      "PropertyType                   0\n",
      "PrincipalUse                   0\n",
      "SaleInstrument                 0\n",
      "AFForestLand                   0\n",
      "AFCurrentUseLand               0\n",
      "AFNonProfitUse                 0\n",
      "AFHistoricProperty             0\n",
      "SaleReason                     0\n",
      "PropertyClass                  0\n",
      "SaleWarning                    0\n",
      "Major                          0\n",
      "Minor                          0\n",
      "PropName                   11473\n",
      "PlatName                   29223\n",
      "PlatLot                        0\n",
      "PlatBlock                      0\n",
      "Range                          0\n",
      "Township                       0\n",
      "Section                        0\n",
      "QuarterSection                 0\n",
      "PropType                       0\n",
      "Area                           0\n",
      "SubArea                        0\n",
      "SpecArea                  251300\n",
      "SpecSubArea               251300\n",
      "DistrictName                   0\n",
      "LevyCode                       0\n",
      "CurrentZoning                  0\n",
      "HBUAsIfVacant                  0\n",
      "HBUAsImproved                  0\n",
      "PresentUse                     0\n",
      "SqFtLot                        0\n",
      "WaterSystem                    0\n",
      "SewerSystem                    0\n",
      "Access                         0\n",
      "Topography                     0\n",
      "StreetSurface                  0\n",
      "RestrictiveSzShape             0\n",
      "InadequateParking              0\n",
      "PcntUnusable                   0\n",
      "Unbuildable                    0\n",
      "MtRainier                      0\n",
      "Olympics                       0\n",
      "Cascades                       0\n",
      "Territorial                    0\n",
      "SeattleSkyline                 0\n",
      "PugetSound                     0\n",
      "LakeWashington                 0\n",
      "LakeSammamish                  0\n",
      "SmallLakeRiverCreek            0\n",
      "OtherView                      0\n",
      "WfntLocation                   0\n",
      "WfntFootage                    0\n",
      "WfntBank                       0\n",
      "WfntPoorQuality                0\n",
      "WfntRestrictedAccess           0\n",
      "WfntAccessRights               0\n",
      "WfntProximityInfluence         0\n",
      "TidelandShoreland              0\n",
      "LotDepthFactor                 0\n",
      "TrafficNoise                   0\n",
      "AirportNoise                   0\n",
      "PowerLines                     0\n",
      "OtherNuisances                 0\n",
      "NbrBldgSites                   0\n",
      "Contamination                  0\n",
      "DNRLease                       0\n",
      "AdjacentGolfFairway            0\n",
      "AdjacentGreenbelt              0\n",
      "HistoricSite                   0\n",
      "CurrentUseDesignation          0\n",
      "NativeGrowthProtEsmt           0\n",
      "Easements                      0\n",
      "OtherDesignation               0\n",
      "DeedRestrictions               0\n",
      "DevelopmentRightsPurch         0\n",
      "CoalMineHazard                 0\n",
      "CriticalDrainage               0\n",
      "ErosionHazard                  0\n",
      "LandfillBuffer                 0\n",
      "HundredYrFloodPlain            0\n",
      "SeismicHazard                  0\n",
      "LandslideHazard                0\n",
      "SteepSlopeHazard               0\n",
      "Stream                         0\n",
      "Wetland                        0\n",
      "SpeciesOfConcern               0\n",
      "SensitiveAreaTract             0\n",
      "WaterProblems                  0\n",
      "TranspConcurrency              0\n",
      "OtherProblems                  0\n",
      "Major                          0\n",
      "Minor                          0\n",
      "BldgNbr                        0\n",
      "NbrLivingUnits                 0\n",
      "Address                        0\n",
      "BuildingNumber                 0\n",
      "Fraction                       0\n",
      "DirectionPrefix              604\n",
      "StreetName                     0\n",
      "StreetType                     0\n",
      "DirectionSuffix              604\n",
      "ZipCode                    39980\n",
      "Stories                        0\n",
      "BldgGrade                      0\n",
      "BldgGradeVar                   0\n",
      "SqFt1stFloor                   0\n",
      "SqFtHalfFloor                  0\n",
      "SqFt2ndFloor                   0\n",
      "SqFtUpperFloor                 0\n",
      "SqFtUnfinFull                  0\n",
      "SqFtUnfinHalf                  0\n",
      "SqFtTotLiving                  0\n",
      "SqFtTotBasement                0\n",
      "SqFtFinBasement                0\n",
      "FinBasementGrade               0\n",
      "SqFtGarageBasement             0\n",
      "SqFtGarageAttached             0\n",
      "DaylightBasement               0\n",
      "SqFtOpenPorch                  0\n",
      "SqFtEnclosedPorch              0\n",
      "SqFtDeck                       0\n",
      "HeatSystem                     0\n",
      "HeatSource                     0\n",
      "BrickStone                     0\n",
      "ViewUtilization                0\n",
      "Bedrooms                       0\n",
      "BathHalfCount                  0\n",
      "Bath3qtrCount                  0\n",
      "BathFullCount                  0\n",
      "FpSingleStory                  0\n",
      "FpMultiStory                   0\n",
      "FpFreestanding                 0\n",
      "FpAdditional                   0\n",
      "YrBuilt                        0\n",
      "YrRenovated                    0\n",
      "PcntComplete                   0\n",
      "Obsolescence                   0\n",
      "PcntNetCondition               0\n",
      "Condition                      0\n",
      "AddnlCost                      0\n",
      "dtype: int64\n"
     ]
    },
    {
     "data": {
      "text/plain": [
       "(251300, 155)"
      ]
     },
     "execution_count": 158,
     "metadata": {},
     "output_type": "execute_result"
    }
   ],
   "source": [
    "# checking nulls and shape\n",
    "print(df.isna().sum())\n",
    "df.shape"
   ]
  },
  {
   "cell_type": "markdown",
   "metadata": {},
   "source": [
    "Checking ```'SpecArea', 'SpecSubArea'``` columns."
   ]
  },
  {
   "cell_type": "code",
   "execution_count": 159,
   "metadata": {},
   "outputs": [
    {
     "data": {
      "text/html": [
       "<div>\n",
       "<style scoped>\n",
       "    .dataframe tbody tr th:only-of-type {\n",
       "        vertical-align: middle;\n",
       "    }\n",
       "\n",
       "    .dataframe tbody tr th {\n",
       "        vertical-align: top;\n",
       "    }\n",
       "\n",
       "    .dataframe thead th {\n",
       "        text-align: right;\n",
       "    }\n",
       "</style>\n",
       "<table border=\"1\" class=\"dataframe\">\n",
       "  <thead>\n",
       "    <tr style=\"text-align: right;\">\n",
       "      <th></th>\n",
       "      <th>SpecArea</th>\n",
       "      <th>SpecSubArea</th>\n",
       "    </tr>\n",
       "  </thead>\n",
       "  <tbody>\n",
       "    <tr>\n",
       "      <th>0</th>\n",
       "      <td>None</td>\n",
       "      <td>None</td>\n",
       "    </tr>\n",
       "    <tr>\n",
       "      <th>1</th>\n",
       "      <td>None</td>\n",
       "      <td>None</td>\n",
       "    </tr>\n",
       "  </tbody>\n",
       "</table>\n",
       "</div>"
      ],
      "text/plain": [
       "  SpecArea SpecSubArea\n",
       "0     None        None\n",
       "1     None        None"
      ]
     },
     "execution_count": 159,
     "metadata": {},
     "output_type": "execute_result"
    }
   ],
   "source": [
    "df[['SpecArea', 'SpecSubArea']].head(2)"
   ]
  },
  {
   "cell_type": "markdown",
   "metadata": {},
   "source": [
    "It looks like the ```'SpecArea'``` and ```'SpecSubArea'``` are extraneous columns for modeling purposes so they will be dropped."
   ]
  },
  {
   "cell_type": "code",
   "execution_count": 160,
   "metadata": {},
   "outputs": [
    {
     "data": {
      "text/html": [
       "<div>\n",
       "<style scoped>\n",
       "    .dataframe tbody tr th:only-of-type {\n",
       "        vertical-align: middle;\n",
       "    }\n",
       "\n",
       "    .dataframe tbody tr th {\n",
       "        vertical-align: top;\n",
       "    }\n",
       "\n",
       "    .dataframe thead th {\n",
       "        text-align: right;\n",
       "    }\n",
       "</style>\n",
       "<table border=\"1\" class=\"dataframe\">\n",
       "  <thead>\n",
       "    <tr style=\"text-align: right;\">\n",
       "      <th></th>\n",
       "      <th>ExciseTaxNbr</th>\n",
       "      <th>Major</th>\n",
       "      <th>Minor</th>\n",
       "      <th>DocumentDate</th>\n",
       "      <th>SalePrice</th>\n",
       "      <th>RecordingNbr</th>\n",
       "      <th>Volume</th>\n",
       "      <th>Page</th>\n",
       "      <th>PlatNbr</th>\n",
       "      <th>PlatType</th>\n",
       "      <th>...</th>\n",
       "      <th>FpMultiStory</th>\n",
       "      <th>FpFreestanding</th>\n",
       "      <th>FpAdditional</th>\n",
       "      <th>YrBuilt</th>\n",
       "      <th>YrRenovated</th>\n",
       "      <th>PcntComplete</th>\n",
       "      <th>Obsolescence</th>\n",
       "      <th>PcntNetCondition</th>\n",
       "      <th>Condition</th>\n",
       "      <th>AddnlCost</th>\n",
       "    </tr>\n",
       "  </thead>\n",
       "  <tbody>\n",
       "    <tr>\n",
       "      <th>0</th>\n",
       "      <td>2743355</td>\n",
       "      <td>638580</td>\n",
       "      <td>0110</td>\n",
       "      <td>07/14/2015</td>\n",
       "      <td>190000</td>\n",
       "      <td>20150715002686</td>\n",
       "      <td></td>\n",
       "      <td></td>\n",
       "      <td></td>\n",
       "      <td></td>\n",
       "      <td>...</td>\n",
       "      <td>1</td>\n",
       "      <td>0</td>\n",
       "      <td>1</td>\n",
       "      <td>1963</td>\n",
       "      <td>0</td>\n",
       "      <td>0</td>\n",
       "      <td>0</td>\n",
       "      <td>0</td>\n",
       "      <td>3</td>\n",
       "      <td>0</td>\n",
       "    </tr>\n",
       "  </tbody>\n",
       "</table>\n",
       "<p>1 rows × 153 columns</p>\n",
       "</div>"
      ],
      "text/plain": [
       "  ExciseTaxNbr   Major Minor DocumentDate SalePrice    RecordingNbr Volume  \\\n",
       "0      2743355  638580  0110   07/14/2015    190000  20150715002686          \n",
       "\n",
       "  Page PlatNbr PlatType  ... FpMultiStory FpFreestanding FpAdditional YrBuilt  \\\n",
       "0                        ...            1              0            1    1963   \n",
       "\n",
       "  YrRenovated PcntComplete Obsolescence PcntNetCondition Condition AddnlCost  \n",
       "0           0            0            0                0         3         0  \n",
       "\n",
       "[1 rows x 153 columns]"
      ]
     },
     "execution_count": 160,
     "metadata": {},
     "output_type": "execute_result"
    }
   ],
   "source": [
    "# dropping columns and checking first row\n",
    "df.drop(['SpecArea', 'SpecSubArea'], axis=1, inplace=True)\n",
    "df.head(1)"
   ]
  },
  {
   "cell_type": "code",
   "execution_count": 133,
   "metadata": {},
   "outputs": [
    {
     "data": {
      "text/html": [
       "<div>\n",
       "<style scoped>\n",
       "    .dataframe tbody tr th:only-of-type {\n",
       "        vertical-align: middle;\n",
       "    }\n",
       "\n",
       "    .dataframe tbody tr th {\n",
       "        vertical-align: top;\n",
       "    }\n",
       "\n",
       "    .dataframe thead th {\n",
       "        text-align: right;\n",
       "    }\n",
       "</style>\n",
       "<table border=\"1\" class=\"dataframe\">\n",
       "  <thead>\n",
       "    <tr style=\"text-align: right;\">\n",
       "      <th></th>\n",
       "      <th>PropName</th>\n",
       "      <th>PlatName</th>\n",
       "      <th>DirectionPrefix</th>\n",
       "      <th>DirectionSuffix</th>\n",
       "      <th>ZipCode</th>\n",
       "    </tr>\n",
       "  </thead>\n",
       "  <tbody>\n",
       "    <tr>\n",
       "      <th>0</th>\n",
       "      <td></td>\n",
       "      <td>OLYMPIC TERRACE ADD</td>\n",
       "      <td></td>\n",
       "      <td>S</td>\n",
       "      <td>98188</td>\n",
       "    </tr>\n",
       "    <tr>\n",
       "      <th>1</th>\n",
       "      <td>None</td>\n",
       "      <td>VINTNER'S PLACE</td>\n",
       "      <td>NE</td>\n",
       "      <td></td>\n",
       "      <td>None</td>\n",
       "    </tr>\n",
       "    <tr>\n",
       "      <th>2</th>\n",
       "      <td></td>\n",
       "      <td>LAKE UNION ADD</td>\n",
       "      <td></td>\n",
       "      <td>N</td>\n",
       "      <td>98103</td>\n",
       "    </tr>\n",
       "    <tr>\n",
       "      <th>3</th>\n",
       "      <td></td>\n",
       "      <td>MAPLE LEAF TO GREEN LAKE CIRCLE POR OF</td>\n",
       "      <td>NE</td>\n",
       "      <td></td>\n",
       "      <td>98115</td>\n",
       "    </tr>\n",
       "    <tr>\n",
       "      <th>4</th>\n",
       "      <td></td>\n",
       "      <td>BURROWS ADD</td>\n",
       "      <td></td>\n",
       "      <td>SW</td>\n",
       "      <td>98106</td>\n",
       "    </tr>\n",
       "  </tbody>\n",
       "</table>\n",
       "</div>"
      ],
      "text/plain": [
       "  PropName                                PlatName DirectionPrefix  \\\n",
       "0                              OLYMPIC TERRACE ADD                   \n",
       "1     None                         VINTNER'S PLACE              NE   \n",
       "2                                   LAKE UNION ADD                   \n",
       "3           MAPLE LEAF TO GREEN LAKE CIRCLE POR OF              NE   \n",
       "4                                      BURROWS ADD                   \n",
       "\n",
       "  DirectionSuffix ZipCode  \n",
       "0              S    98188  \n",
       "1                    None  \n",
       "2              N    98103  \n",
       "3                   98115  \n",
       "4              SW   98106  "
      ]
     },
     "execution_count": 133,
     "metadata": {},
     "output_type": "execute_result"
    }
   ],
   "source": [
    "# checking problematic columns\n",
    "df[['PropName', 'PlatName', 'DirectionPrefix', 'DirectionSuffix', 'ZipCode']].head()"
   ]
  },
  {
   "cell_type": "code",
   "execution_count": null,
   "metadata": {},
   "outputs": [],
   "source": []
  },
  {
   "cell_type": "code",
   "execution_count": null,
   "metadata": {},
   "outputs": [],
   "source": []
  },
  {
   "cell_type": "code",
   "execution_count": null,
   "metadata": {},
   "outputs": [],
   "source": []
  },
  {
   "cell_type": "code",
   "execution_count": 161,
   "metadata": {},
   "outputs": [
    {
     "data": {
      "text/html": [
       "<div>\n",
       "<style scoped>\n",
       "    .dataframe tbody tr th:only-of-type {\n",
       "        vertical-align: middle;\n",
       "    }\n",
       "\n",
       "    .dataframe tbody tr th {\n",
       "        vertical-align: top;\n",
       "    }\n",
       "\n",
       "    .dataframe thead th {\n",
       "        text-align: right;\n",
       "    }\n",
       "</style>\n",
       "<table border=\"1\" class=\"dataframe\">\n",
       "  <thead>\n",
       "    <tr style=\"text-align: right;\">\n",
       "      <th></th>\n",
       "      <th>Major</th>\n",
       "      <th>Minor</th>\n",
       "      <th>PlatLot</th>\n",
       "      <th>PlatBlock</th>\n",
       "      <th>Major</th>\n",
       "      <th>Minor</th>\n",
       "    </tr>\n",
       "  </thead>\n",
       "  <tbody>\n",
       "    <tr>\n",
       "      <th>0</th>\n",
       "      <td>638580</td>\n",
       "      <td>0110</td>\n",
       "      <td>11</td>\n",
       "      <td></td>\n",
       "      <td>638580</td>\n",
       "      <td>0110</td>\n",
       "    </tr>\n",
       "    <tr>\n",
       "      <th>1</th>\n",
       "      <td>894677</td>\n",
       "      <td>0240</td>\n",
       "      <td>24</td>\n",
       "      <td></td>\n",
       "      <td>894677</td>\n",
       "      <td>0240</td>\n",
       "    </tr>\n",
       "    <tr>\n",
       "      <th>2</th>\n",
       "      <td>408330</td>\n",
       "      <td>4150</td>\n",
       "      <td>9</td>\n",
       "      <td>42</td>\n",
       "      <td>408330</td>\n",
       "      <td>4150</td>\n",
       "    </tr>\n",
       "  </tbody>\n",
       "</table>\n",
       "</div>"
      ],
      "text/plain": [
       "    Major Minor         PlatLot PlatBlock   Major Minor\n",
       "0  638580  0110  11                        638580  0110\n",
       "1  894677  0240  24                        894677  0240\n",
       "2  408330  4150  9                42       408330  4150"
      ]
     },
     "execution_count": 161,
     "metadata": {},
     "output_type": "execute_result"
    }
   ],
   "source": [
    "# checking for duplicate columns\n",
    "df.loc[:, df.columns.duplicated()].head(3)"
   ]
  },
  {
   "cell_type": "code",
   "execution_count": 162,
   "metadata": {},
   "outputs": [
    {
     "data": {
      "text/plain": [
       "(251300, 147)"
      ]
     },
     "execution_count": 162,
     "metadata": {},
     "output_type": "execute_result"
    }
   ],
   "source": [
    "# dropping duplicate column and checking shape\n",
    "df = df.loc[:,~df.columns.duplicated()]\n",
    "df.shape"
   ]
  },
  {
   "cell_type": "code",
   "execution_count": 163,
   "metadata": {},
   "outputs": [
    {
     "data": {
      "text/plain": [
       "['ExciseTaxNbr',\n",
       " 'Major',\n",
       " 'Minor',\n",
       " 'DocumentDate',\n",
       " 'SalePrice',\n",
       " 'RecordingNbr',\n",
       " 'Volume',\n",
       " 'Page',\n",
       " 'PlatNbr',\n",
       " 'PlatType',\n",
       " 'PlatLot',\n",
       " 'PlatBlock',\n",
       " 'SellerName',\n",
       " 'BuyerName',\n",
       " 'PropertyType',\n",
       " 'PrincipalUse',\n",
       " 'SaleInstrument',\n",
       " 'AFForestLand',\n",
       " 'AFCurrentUseLand',\n",
       " 'AFNonProfitUse',\n",
       " 'AFHistoricProperty',\n",
       " 'SaleReason',\n",
       " 'PropertyClass',\n",
       " 'SaleWarning',\n",
       " 'PropName',\n",
       " 'PlatName',\n",
       " 'Range',\n",
       " 'Township',\n",
       " 'Section',\n",
       " 'QuarterSection',\n",
       " 'PropType',\n",
       " 'Area',\n",
       " 'SubArea',\n",
       " 'DistrictName',\n",
       " 'LevyCode',\n",
       " 'CurrentZoning',\n",
       " 'HBUAsIfVacant',\n",
       " 'HBUAsImproved',\n",
       " 'PresentUse',\n",
       " 'SqFtLot',\n",
       " 'WaterSystem',\n",
       " 'SewerSystem',\n",
       " 'Access',\n",
       " 'Topography',\n",
       " 'StreetSurface',\n",
       " 'RestrictiveSzShape',\n",
       " 'InadequateParking',\n",
       " 'PcntUnusable',\n",
       " 'Unbuildable',\n",
       " 'MtRainier',\n",
       " 'Olympics',\n",
       " 'Cascades',\n",
       " 'Territorial',\n",
       " 'SeattleSkyline',\n",
       " 'PugetSound',\n",
       " 'LakeWashington',\n",
       " 'LakeSammamish',\n",
       " 'SmallLakeRiverCreek',\n",
       " 'OtherView',\n",
       " 'WfntLocation',\n",
       " 'WfntFootage',\n",
       " 'WfntBank',\n",
       " 'WfntPoorQuality',\n",
       " 'WfntRestrictedAccess',\n",
       " 'WfntAccessRights',\n",
       " 'WfntProximityInfluence',\n",
       " 'TidelandShoreland',\n",
       " 'LotDepthFactor',\n",
       " 'TrafficNoise',\n",
       " 'AirportNoise',\n",
       " 'PowerLines',\n",
       " 'OtherNuisances',\n",
       " 'NbrBldgSites',\n",
       " 'Contamination',\n",
       " 'DNRLease',\n",
       " 'AdjacentGolfFairway',\n",
       " 'AdjacentGreenbelt',\n",
       " 'HistoricSite',\n",
       " 'CurrentUseDesignation',\n",
       " 'NativeGrowthProtEsmt',\n",
       " 'Easements',\n",
       " 'OtherDesignation',\n",
       " 'DeedRestrictions',\n",
       " 'DevelopmentRightsPurch',\n",
       " 'CoalMineHazard',\n",
       " 'CriticalDrainage',\n",
       " 'ErosionHazard',\n",
       " 'LandfillBuffer',\n",
       " 'HundredYrFloodPlain',\n",
       " 'SeismicHazard',\n",
       " 'LandslideHazard',\n",
       " 'SteepSlopeHazard',\n",
       " 'Stream',\n",
       " 'Wetland',\n",
       " 'SpeciesOfConcern',\n",
       " 'SensitiveAreaTract',\n",
       " 'WaterProblems',\n",
       " 'TranspConcurrency',\n",
       " 'OtherProblems',\n",
       " 'BldgNbr',\n",
       " 'NbrLivingUnits',\n",
       " 'Address',\n",
       " 'BuildingNumber',\n",
       " 'Fraction',\n",
       " 'DirectionPrefix',\n",
       " 'StreetName',\n",
       " 'StreetType',\n",
       " 'DirectionSuffix',\n",
       " 'ZipCode',\n",
       " 'Stories',\n",
       " 'BldgGrade',\n",
       " 'BldgGradeVar',\n",
       " 'SqFt1stFloor',\n",
       " 'SqFtHalfFloor',\n",
       " 'SqFt2ndFloor',\n",
       " 'SqFtUpperFloor',\n",
       " 'SqFtUnfinFull',\n",
       " 'SqFtUnfinHalf',\n",
       " 'SqFtTotLiving',\n",
       " 'SqFtTotBasement',\n",
       " 'SqFtFinBasement',\n",
       " 'FinBasementGrade',\n",
       " 'SqFtGarageBasement',\n",
       " 'SqFtGarageAttached',\n",
       " 'DaylightBasement',\n",
       " 'SqFtOpenPorch',\n",
       " 'SqFtEnclosedPorch',\n",
       " 'SqFtDeck',\n",
       " 'HeatSystem',\n",
       " 'HeatSource',\n",
       " 'BrickStone',\n",
       " 'ViewUtilization',\n",
       " 'Bedrooms',\n",
       " 'BathHalfCount',\n",
       " 'Bath3qtrCount',\n",
       " 'BathFullCount',\n",
       " 'FpSingleStory',\n",
       " 'FpMultiStory',\n",
       " 'FpFreestanding',\n",
       " 'FpAdditional',\n",
       " 'YrBuilt',\n",
       " 'YrRenovated',\n",
       " 'PcntComplete',\n",
       " 'Obsolescence',\n",
       " 'PcntNetCondition',\n",
       " 'Condition',\n",
       " 'AddnlCost']"
      ]
     },
     "execution_count": 163,
     "metadata": {},
     "output_type": "execute_result"
    }
   ],
   "source": [
    "list(df.columns)"
   ]
  },
  {
   "cell_type": "code",
   "execution_count": 164,
   "metadata": {},
   "outputs": [],
   "source": [
    "# moving target variable to the front column of the df\n",
    "columns = list(df.columns)\n",
    "columns = [columns[4]] + columns[:4] + columns[5:]\n",
    "df = df[columns]\n",
    "df.head(3)"
   ]
  },
  {
   "cell_type": "markdown",
   "metadata": {},
   "source": [
    "### Creating the Lookup Data Frame"
   ]
  },
  {
   "cell_type": "code",
   "execution_count": 15,
   "metadata": {},
   "outputs": [],
   "source": [
    "# creating path to the file\n",
    "files = ['EXTR_LookUp.csv']\n",
    "paths = [f'../../data/raw/{file}' for file in files]\n",
    "\n",
    "# creating list of data frames, importing data as strings\n",
    "dfs = [pd.read_csv(path, dtype=str) for path in paths]\n",
    "\n",
    "# isolating individual data frames\n",
    "look = dfs[0]"
   ]
  },
  {
   "cell_type": "markdown",
   "metadata": {},
   "source": [
    "#### Checking the Lookup Data Frame\n",
    "\n",
    "Getting basic info, checking the first row, description strings, and cleaning the columns."
   ]
  },
  {
   "cell_type": "code",
   "execution_count": 16,
   "metadata": {},
   "outputs": [
    {
     "name": "stdout",
     "output_type": "stream",
     "text": [
      "<class 'pandas.core.frame.DataFrame'>\n",
      "RangeIndex: 1208 entries, 0 to 1207\n",
      "Data columns (total 3 columns):\n",
      " #   Column         Non-Null Count  Dtype \n",
      "---  ------         --------------  ----- \n",
      " 0   LUType         1208 non-null   object\n",
      " 1   LUItem         1208 non-null   object\n",
      " 2   LUDescription  1208 non-null   object\n",
      "dtypes: object(3)\n",
      "memory usage: 28.4+ KB\n"
     ]
    }
   ],
   "source": [
    "# getting info for lookup data frame\n",
    "look.info()"
   ]
  },
  {
   "cell_type": "code",
   "execution_count": 17,
   "metadata": {},
   "outputs": [
    {
     "data": {
      "text/html": [
       "<div>\n",
       "<style scoped>\n",
       "    .dataframe tbody tr th:only-of-type {\n",
       "        vertical-align: middle;\n",
       "    }\n",
       "\n",
       "    .dataframe tbody tr th {\n",
       "        vertical-align: top;\n",
       "    }\n",
       "\n",
       "    .dataframe thead th {\n",
       "        text-align: right;\n",
       "    }\n",
       "</style>\n",
       "<table border=\"1\" class=\"dataframe\">\n",
       "  <thead>\n",
       "    <tr style=\"text-align: right;\">\n",
       "      <th></th>\n",
       "      <th>LUType</th>\n",
       "      <th>LUItem</th>\n",
       "      <th>LUDescription</th>\n",
       "    </tr>\n",
       "  </thead>\n",
       "  <tbody>\n",
       "    <tr>\n",
       "      <th>0</th>\n",
       "      <td>1</td>\n",
       "      <td>1</td>\n",
       "      <td>LAND ONLY                                     ...</td>\n",
       "    </tr>\n",
       "  </tbody>\n",
       "</table>\n",
       "</div>"
      ],
      "text/plain": [
       "  LUType LUItem                                      LUDescription\n",
       "0    1      1    LAND ONLY                                     ..."
      ]
     },
     "execution_count": 17,
     "metadata": {},
     "output_type": "execute_result"
    }
   ],
   "source": [
    "# checking first row\n",
    "look.head(1)"
   ]
  },
  {
   "cell_type": "code",
   "execution_count": 18,
   "metadata": {},
   "outputs": [
    {
     "data": {
      "text/plain": [
       "(array(['1  ', '1  '], dtype=object),\n",
       " array(['1  ', '10 '], dtype=object),\n",
       " array(['LAND ONLY                                         ',\n",
       "        'Land with new building                            '], dtype=object))"
      ]
     },
     "execution_count": 18,
     "metadata": {},
     "output_type": "execute_result"
    }
   ],
   "source": [
    "# checking strings\n",
    "look.LUType.values[:2], look.LUItem.values[:2], look.LUDescription.values[:2]"
   ]
  },
  {
   "cell_type": "markdown",
   "metadata": {},
   "source": [
    "Cleaning strings and checking results."
   ]
  },
  {
   "cell_type": "code",
   "execution_count": 19,
   "metadata": {},
   "outputs": [],
   "source": [
    "# cleaning strings\n",
    "look['LUType'] = fn.col_stripper(look, 'LUType')\n",
    "look['LUItem'] = fn.col_stripper(look, 'LUItem')\n",
    "look['LUDescription'] = fn.col_stripper(look, 'LUDescription')"
   ]
  },
  {
   "cell_type": "code",
   "execution_count": 20,
   "metadata": {},
   "outputs": [
    {
     "name": "stdout",
     "output_type": "stream",
     "text": [
      "['1' '1' '1' ... '99' '99' '99']\n",
      "['1' '10' '11' ... '3' '4' '5']\n"
     ]
    },
    {
     "data": {
      "text/plain": [
       "array(['LAND ONLY', 'Land with new building',\n",
       "       'Household, single family units', ..., 'AVERAGE', 'ABOVE AVERAGE',\n",
       "       'EXCELLENT'], dtype=object)"
      ]
     },
     "execution_count": 20,
     "metadata": {},
     "output_type": "execute_result"
    }
   ],
   "source": [
    "# checking results\n",
    "print(look.LUType.values)\n",
    "print(look.LUItem.values)\n",
    "look.LUDescription.values"
   ]
  },
  {
   "cell_type": "markdown",
   "metadata": {},
   "source": [
    "## 2019 Data"
   ]
  },
  {
   "cell_type": "markdown",
   "metadata": {},
   "source": [
    "Since we want to train our model on 2019 data, we are going to isolate the 2019 information into a new data frame and use it to define our target and predictors."
   ]
  },
  {
   "cell_type": "markdown",
   "metadata": {},
   "source": [
    "#### Light Data Cleaning"
   ]
  },
  {
   "cell_type": "markdown",
   "metadata": {},
   "source": [
    "Changing datestrings to datetime objects,  and sale price strings to floats in the main pandas dataframe. Adding a 'DocumentYear' column to main the data frame."
   ]
  },
  {
   "cell_type": "code",
   "execution_count": 21,
   "metadata": {},
   "outputs": [],
   "source": [
    "# changing date strings to datetime objects\n",
    "df.DocumentDate = pd.to_datetime(df.DocumentDate)\n",
    "\n",
    "# adding a document year column\n",
    "df['DocumentYear'] = df['DocumentDate'].apply(lambda x: x.year)\n",
    "\n",
    "# converting SalePrice string to float\n",
    "df['SalePrice'] = df['SalePrice'].astype('float')"
   ]
  },
  {
   "cell_type": "markdown",
   "metadata": {},
   "source": [
    "#### Creating Initial 2019 DataFrame"
   ]
  },
  {
   "cell_type": "markdown",
   "metadata": {},
   "source": [
    "Creating data frame and checking basic information"
   ]
  },
  {
   "cell_type": "code",
   "execution_count": 22,
   "metadata": {},
   "outputs": [],
   "source": [
    "# isolating 2019 data\n",
    "df19 = df[df['DocumentYear']==2019]"
   ]
  },
  {
   "cell_type": "code",
   "execution_count": 23,
   "metadata": {},
   "outputs": [
    {
     "name": "stdout",
     "output_type": "stream",
     "text": [
      "(43838, 150)\n"
     ]
    },
    {
     "data": {
      "text/plain": [
       "ExciseTaxNbr                  0\n",
       "Major                         0\n",
       "Minor                         0\n",
       "DocumentDate                  0\n",
       "SalePrice                     0\n",
       "RecordingNbr                  0\n",
       "Volume                        0\n",
       "Page                          0\n",
       "PlatNbr                       0\n",
       "PlatType                      0\n",
       "PlatLot                       0\n",
       "PlatBlock                     0\n",
       "SellerName                    0\n",
       "BuyerName                     0\n",
       "PropertyType                  0\n",
       "PrincipalUse                  0\n",
       "SaleInstrument                0\n",
       "AFForestLand                  0\n",
       "AFCurrentUseLand              0\n",
       "AFNonProfitUse                0\n",
       "AFHistoricProperty            0\n",
       "SaleReason                    0\n",
       "PropertyClass                 0\n",
       "SaleWarning                   0\n",
       "PropName                   2434\n",
       "PlatName                   5151\n",
       "Range                         0\n",
       "Township                      0\n",
       "Section                       0\n",
       "QuarterSection                0\n",
       "PropType                      0\n",
       "Area                          0\n",
       "SubArea                       0\n",
       "SpecArea                  43838\n",
       "SpecSubArea               43838\n",
       "DistrictName                  0\n",
       "LevyCode                      0\n",
       "CurrentZoning                 0\n",
       "HBUAsIfVacant                 0\n",
       "HBUAsImproved                 0\n",
       "PresentUse                    0\n",
       "SqFtLot                       0\n",
       "WaterSystem                   0\n",
       "SewerSystem                   0\n",
       "Access                        0\n",
       "Topography                    0\n",
       "StreetSurface                 0\n",
       "RestrictiveSzShape            0\n",
       "InadequateParking             0\n",
       "PcntUnusable                  0\n",
       "Unbuildable                   0\n",
       "MtRainier                     0\n",
       "Olympics                      0\n",
       "Cascades                      0\n",
       "Territorial                   0\n",
       "SeattleSkyline                0\n",
       "PugetSound                    0\n",
       "LakeWashington                0\n",
       "LakeSammamish                 0\n",
       "SmallLakeRiverCreek           0\n",
       "OtherView                     0\n",
       "WfntLocation                  0\n",
       "WfntFootage                   0\n",
       "WfntBank                      0\n",
       "WfntPoorQuality               0\n",
       "WfntRestrictedAccess          0\n",
       "WfntAccessRights              0\n",
       "WfntProximityInfluence        0\n",
       "TidelandShoreland             0\n",
       "LotDepthFactor                0\n",
       "TrafficNoise                  0\n",
       "AirportNoise                  0\n",
       "PowerLines                    0\n",
       "OtherNuisances                0\n",
       "NbrBldgSites                  0\n",
       "Contamination                 0\n",
       "DNRLease                      0\n",
       "AdjacentGolfFairway           0\n",
       "AdjacentGreenbelt             0\n",
       "HistoricSite                  0\n",
       "CurrentUseDesignation         0\n",
       "NativeGrowthProtEsmt          0\n",
       "Easements                     0\n",
       "OtherDesignation              0\n",
       "DeedRestrictions              0\n",
       "DevelopmentRightsPurch        0\n",
       "CoalMineHazard                0\n",
       "CriticalDrainage              0\n",
       "ErosionHazard                 0\n",
       "LandfillBuffer                0\n",
       "HundredYrFloodPlain           0\n",
       "SeismicHazard                 0\n",
       "LandslideHazard               0\n",
       "SteepSlopeHazard              0\n",
       "Stream                        0\n",
       "Wetland                       0\n",
       "SpeciesOfConcern              0\n",
       "SensitiveAreaTract            0\n",
       "WaterProblems                 0\n",
       "TranspConcurrency             0\n",
       "OtherProblems                 0\n",
       "BldgNbr                       0\n",
       "NbrLivingUnits                0\n",
       "Address                       0\n",
       "BuildingNumber                0\n",
       "Fraction                      0\n",
       "DirectionPrefix             169\n",
       "StreetName                    0\n",
       "StreetType                    0\n",
       "DirectionSuffix             169\n",
       "ZipCode                    6616\n",
       "Stories                       0\n",
       "BldgGrade                     0\n",
       "BldgGradeVar                  0\n",
       "SqFt1stFloor                  0\n",
       "SqFtHalfFloor                 0\n",
       "SqFt2ndFloor                  0\n",
       "SqFtUpperFloor                0\n",
       "SqFtUnfinFull                 0\n",
       "SqFtUnfinHalf                 0\n",
       "SqFtTotLiving                 0\n",
       "SqFtTotBasement               0\n",
       "SqFtFinBasement               0\n",
       "FinBasementGrade              0\n",
       "SqFtGarageBasement            0\n",
       "SqFtGarageAttached            0\n",
       "DaylightBasement              0\n",
       "SqFtOpenPorch                 0\n",
       "SqFtEnclosedPorch             0\n",
       "SqFtDeck                      0\n",
       "HeatSystem                    0\n",
       "HeatSource                    0\n",
       "BrickStone                    0\n",
       "ViewUtilization               0\n",
       "Bedrooms                      0\n",
       "BathHalfCount                 0\n",
       "Bath3qtrCount                 0\n",
       "BathFullCount                 0\n",
       "FpSingleStory                 0\n",
       "FpMultiStory                  0\n",
       "FpFreestanding                0\n",
       "FpAdditional                  0\n",
       "YrBuilt                       0\n",
       "YrRenovated                   0\n",
       "PcntComplete                  0\n",
       "Obsolescence                  0\n",
       "PcntNetCondition              0\n",
       "Condition                     0\n",
       "AddnlCost                     0\n",
       "DocumentYear                  0\n",
       "dtype: int64"
      ]
     },
     "execution_count": 23,
     "metadata": {},
     "output_type": "execute_result"
    }
   ],
   "source": [
    "# checking data frame shape and looking for NaNs\n",
    "print(df19.shape)\n",
    "df19.isna().sum()"
   ]
  },
  {
   "cell_type": "code",
   "execution_count": 24,
   "metadata": {},
   "outputs": [
    {
     "data": {
      "text/html": [
       "<div>\n",
       "<style scoped>\n",
       "    .dataframe tbody tr th:only-of-type {\n",
       "        vertical-align: middle;\n",
       "    }\n",
       "\n",
       "    .dataframe tbody tr th {\n",
       "        vertical-align: top;\n",
       "    }\n",
       "\n",
       "    .dataframe thead th {\n",
       "        text-align: right;\n",
       "    }\n",
       "</style>\n",
       "<table border=\"1\" class=\"dataframe\">\n",
       "  <thead>\n",
       "    <tr style=\"text-align: right;\">\n",
       "      <th></th>\n",
       "      <th>ExciseTaxNbr</th>\n",
       "      <th>Major</th>\n",
       "      <th>Minor</th>\n",
       "      <th>DocumentDate</th>\n",
       "      <th>SalePrice</th>\n",
       "      <th>RecordingNbr</th>\n",
       "      <th>Volume</th>\n",
       "      <th>Page</th>\n",
       "      <th>PlatNbr</th>\n",
       "      <th>PlatType</th>\n",
       "      <th>...</th>\n",
       "      <th>FpFreestanding</th>\n",
       "      <th>FpAdditional</th>\n",
       "      <th>YrBuilt</th>\n",
       "      <th>YrRenovated</th>\n",
       "      <th>PcntComplete</th>\n",
       "      <th>Obsolescence</th>\n",
       "      <th>PcntNetCondition</th>\n",
       "      <th>Condition</th>\n",
       "      <th>AddnlCost</th>\n",
       "      <th>DocumentYear</th>\n",
       "    </tr>\n",
       "  </thead>\n",
       "  <tbody>\n",
       "    <tr>\n",
       "      <th>5</th>\n",
       "      <td>3027422</td>\n",
       "      <td>213043</td>\n",
       "      <td>0120</td>\n",
       "      <td>2019-12-20</td>\n",
       "      <td>560000.0</td>\n",
       "      <td>20191226000848</td>\n",
       "      <td></td>\n",
       "      <td></td>\n",
       "      <td></td>\n",
       "      <td></td>\n",
       "      <td>...</td>\n",
       "      <td>0</td>\n",
       "      <td>0</td>\n",
       "      <td>1989</td>\n",
       "      <td>0</td>\n",
       "      <td>0</td>\n",
       "      <td>0</td>\n",
       "      <td>0</td>\n",
       "      <td>3</td>\n",
       "      <td>0</td>\n",
       "      <td>2019</td>\n",
       "    </tr>\n",
       "    <tr>\n",
       "      <th>6</th>\n",
       "      <td>3002257</td>\n",
       "      <td>940652</td>\n",
       "      <td>0630</td>\n",
       "      <td>2019-07-22</td>\n",
       "      <td>435000.0</td>\n",
       "      <td>20190730001339</td>\n",
       "      <td></td>\n",
       "      <td></td>\n",
       "      <td></td>\n",
       "      <td></td>\n",
       "      <td>...</td>\n",
       "      <td>0</td>\n",
       "      <td>0</td>\n",
       "      <td>1994</td>\n",
       "      <td>0</td>\n",
       "      <td>0</td>\n",
       "      <td>0</td>\n",
       "      <td>0</td>\n",
       "      <td>3</td>\n",
       "      <td>2500</td>\n",
       "      <td>2019</td>\n",
       "    </tr>\n",
       "    <tr>\n",
       "      <th>12</th>\n",
       "      <td>2993601</td>\n",
       "      <td>140281</td>\n",
       "      <td>0020</td>\n",
       "      <td>2019-06-04</td>\n",
       "      <td>450000.0</td>\n",
       "      <td>20190614000489</td>\n",
       "      <td></td>\n",
       "      <td></td>\n",
       "      <td></td>\n",
       "      <td></td>\n",
       "      <td>...</td>\n",
       "      <td>0</td>\n",
       "      <td>0</td>\n",
       "      <td>1986</td>\n",
       "      <td>0</td>\n",
       "      <td>0</td>\n",
       "      <td>0</td>\n",
       "      <td>0</td>\n",
       "      <td>3</td>\n",
       "      <td>0</td>\n",
       "      <td>2019</td>\n",
       "    </tr>\n",
       "  </tbody>\n",
       "</table>\n",
       "<p>3 rows × 150 columns</p>\n",
       "</div>"
      ],
      "text/plain": [
       "   ExciseTaxNbr   Major Minor DocumentDate  SalePrice    RecordingNbr Volume  \\\n",
       "5       3027422  213043  0120   2019-12-20   560000.0  20191226000848          \n",
       "6       3002257  940652  0630   2019-07-22   435000.0  20190730001339          \n",
       "12      2993601  140281  0020   2019-06-04   450000.0  20190614000489          \n",
       "\n",
       "   Page PlatNbr PlatType  ... FpFreestanding FpAdditional YrBuilt YrRenovated  \\\n",
       "5                         ...              0            0    1989           0   \n",
       "6                         ...              0            0    1994           0   \n",
       "12                        ...              0            0    1986           0   \n",
       "\n",
       "   PcntComplete Obsolescence PcntNetCondition Condition AddnlCost DocumentYear  \n",
       "5             0            0                0         3         0         2019  \n",
       "6             0            0                0         3      2500         2019  \n",
       "12            0            0                0         3         0         2019  \n",
       "\n",
       "[3 rows x 150 columns]"
      ]
     },
     "execution_count": 24,
     "metadata": {},
     "output_type": "execute_result"
    }
   ],
   "source": [
    "# checking first few rows\n",
    "df19.head(3)"
   ]
  },
  {
   "cell_type": "markdown",
   "metadata": {},
   "source": [
    "#### Creating a 2019 Dataframe with Non-Zero Sale Prices "
   ]
  },
  {
   "cell_type": "markdown",
   "metadata": {},
   "source": [
    "Creating data frame and checking basic information"
   ]
  },
  {
   "cell_type": "code",
   "execution_count": 25,
   "metadata": {},
   "outputs": [],
   "source": [
    "# creating a datafrme of 2019 data with non-zero sale prices and restting index\n",
    "nz19 = df19[df19['SalePrice'] != 0].reset_index()"
   ]
  },
  {
   "cell_type": "code",
   "execution_count": 26,
   "metadata": {},
   "outputs": [
    {
     "name": "stdout",
     "output_type": "stream",
     "text": [
      "(29944, 151)\n"
     ]
    },
    {
     "data": {
      "text/html": [
       "<div>\n",
       "<style scoped>\n",
       "    .dataframe tbody tr th:only-of-type {\n",
       "        vertical-align: middle;\n",
       "    }\n",
       "\n",
       "    .dataframe tbody tr th {\n",
       "        vertical-align: top;\n",
       "    }\n",
       "\n",
       "    .dataframe thead th {\n",
       "        text-align: right;\n",
       "    }\n",
       "</style>\n",
       "<table border=\"1\" class=\"dataframe\">\n",
       "  <thead>\n",
       "    <tr style=\"text-align: right;\">\n",
       "      <th></th>\n",
       "      <th>index</th>\n",
       "      <th>ExciseTaxNbr</th>\n",
       "      <th>Major</th>\n",
       "      <th>Minor</th>\n",
       "      <th>DocumentDate</th>\n",
       "      <th>SalePrice</th>\n",
       "      <th>RecordingNbr</th>\n",
       "      <th>Volume</th>\n",
       "      <th>Page</th>\n",
       "      <th>PlatNbr</th>\n",
       "      <th>...</th>\n",
       "      <th>FpFreestanding</th>\n",
       "      <th>FpAdditional</th>\n",
       "      <th>YrBuilt</th>\n",
       "      <th>YrRenovated</th>\n",
       "      <th>PcntComplete</th>\n",
       "      <th>Obsolescence</th>\n",
       "      <th>PcntNetCondition</th>\n",
       "      <th>Condition</th>\n",
       "      <th>AddnlCost</th>\n",
       "      <th>DocumentYear</th>\n",
       "    </tr>\n",
       "  </thead>\n",
       "  <tbody>\n",
       "    <tr>\n",
       "      <th>0</th>\n",
       "      <td>5</td>\n",
       "      <td>3027422</td>\n",
       "      <td>213043</td>\n",
       "      <td>0120</td>\n",
       "      <td>2019-12-20</td>\n",
       "      <td>560000.0</td>\n",
       "      <td>20191226000848</td>\n",
       "      <td></td>\n",
       "      <td></td>\n",
       "      <td></td>\n",
       "      <td>...</td>\n",
       "      <td>0</td>\n",
       "      <td>0</td>\n",
       "      <td>1989</td>\n",
       "      <td>0</td>\n",
       "      <td>0</td>\n",
       "      <td>0</td>\n",
       "      <td>0</td>\n",
       "      <td>3</td>\n",
       "      <td>0</td>\n",
       "      <td>2019</td>\n",
       "    </tr>\n",
       "    <tr>\n",
       "      <th>1</th>\n",
       "      <td>6</td>\n",
       "      <td>3002257</td>\n",
       "      <td>940652</td>\n",
       "      <td>0630</td>\n",
       "      <td>2019-07-22</td>\n",
       "      <td>435000.0</td>\n",
       "      <td>20190730001339</td>\n",
       "      <td></td>\n",
       "      <td></td>\n",
       "      <td></td>\n",
       "      <td>...</td>\n",
       "      <td>0</td>\n",
       "      <td>0</td>\n",
       "      <td>1994</td>\n",
       "      <td>0</td>\n",
       "      <td>0</td>\n",
       "      <td>0</td>\n",
       "      <td>0</td>\n",
       "      <td>3</td>\n",
       "      <td>2500</td>\n",
       "      <td>2019</td>\n",
       "    </tr>\n",
       "    <tr>\n",
       "      <th>2</th>\n",
       "      <td>12</td>\n",
       "      <td>2993601</td>\n",
       "      <td>140281</td>\n",
       "      <td>0020</td>\n",
       "      <td>2019-06-04</td>\n",
       "      <td>450000.0</td>\n",
       "      <td>20190614000489</td>\n",
       "      <td></td>\n",
       "      <td></td>\n",
       "      <td></td>\n",
       "      <td>...</td>\n",
       "      <td>0</td>\n",
       "      <td>0</td>\n",
       "      <td>1986</td>\n",
       "      <td>0</td>\n",
       "      <td>0</td>\n",
       "      <td>0</td>\n",
       "      <td>0</td>\n",
       "      <td>3</td>\n",
       "      <td>0</td>\n",
       "      <td>2019</td>\n",
       "    </tr>\n",
       "  </tbody>\n",
       "</table>\n",
       "<p>3 rows × 151 columns</p>\n",
       "</div>"
      ],
      "text/plain": [
       "   index ExciseTaxNbr   Major Minor DocumentDate  SalePrice    RecordingNbr  \\\n",
       "0      5      3027422  213043  0120   2019-12-20   560000.0  20191226000848   \n",
       "1      6      3002257  940652  0630   2019-07-22   435000.0  20190730001339   \n",
       "2     12      2993601  140281  0020   2019-06-04   450000.0  20190614000489   \n",
       "\n",
       "  Volume Page PlatNbr  ... FpFreestanding FpAdditional YrBuilt YrRenovated  \\\n",
       "0                      ...              0            0    1989           0   \n",
       "1                      ...              0            0    1994           0   \n",
       "2                      ...              0            0    1986           0   \n",
       "\n",
       "  PcntComplete Obsolescence PcntNetCondition Condition AddnlCost DocumentYear  \n",
       "0            0            0                0         3         0         2019  \n",
       "1            0            0                0         3      2500         2019  \n",
       "2            0            0                0         3         0         2019  \n",
       "\n",
       "[3 rows x 151 columns]"
      ]
     },
     "execution_count": 26,
     "metadata": {},
     "output_type": "execute_result"
    }
   ],
   "source": [
    "# checking shape and first few rows\n",
    "print(nz19.shape)\n",
    "nz19.head(3)"
   ]
  },
  {
   "cell_type": "code",
   "execution_count": 27,
   "metadata": {},
   "outputs": [
    {
     "data": {
      "text/plain": [
       "ExciseTaxNbr                   0\n",
       "Major                          0\n",
       "Minor                          0\n",
       "DocumentDate                   0\n",
       "SalePrice                      0\n",
       "RecordingNbr                   0\n",
       "Volume                         0\n",
       "Page                           0\n",
       "PlatNbr                        0\n",
       "PlatType                       0\n",
       "PlatLot                        0\n",
       "PlatBlock                      0\n",
       "SellerName                     0\n",
       "BuyerName                      0\n",
       "PropertyType                   0\n",
       "PrincipalUse                   0\n",
       "SaleInstrument                 0\n",
       "AFForestLand                   0\n",
       "AFCurrentUseLand               0\n",
       "AFNonProfitUse                 0\n",
       "AFHistoricProperty             0\n",
       "SaleReason                     0\n",
       "PropertyClass                  0\n",
       "SaleWarning                    0\n",
       "PropName                   11473\n",
       "PlatName                   29223\n",
       "Range                          0\n",
       "Township                       0\n",
       "Section                        0\n",
       "QuarterSection                 0\n",
       "PropType                       0\n",
       "Area                           0\n",
       "SubArea                        0\n",
       "SpecArea                  251300\n",
       "SpecSubArea               251300\n",
       "DistrictName                   0\n",
       "LevyCode                       0\n",
       "CurrentZoning                  0\n",
       "HBUAsIfVacant                  0\n",
       "HBUAsImproved                  0\n",
       "PresentUse                     0\n",
       "SqFtLot                        0\n",
       "WaterSystem                    0\n",
       "SewerSystem                    0\n",
       "Access                         0\n",
       "Topography                     0\n",
       "StreetSurface                  0\n",
       "RestrictiveSzShape             0\n",
       "InadequateParking              0\n",
       "PcntUnusable                   0\n",
       "Unbuildable                    0\n",
       "MtRainier                      0\n",
       "Olympics                       0\n",
       "Cascades                       0\n",
       "Territorial                    0\n",
       "SeattleSkyline                 0\n",
       "PugetSound                     0\n",
       "LakeWashington                 0\n",
       "LakeSammamish                  0\n",
       "SmallLakeRiverCreek            0\n",
       "OtherView                      0\n",
       "WfntLocation                   0\n",
       "WfntFootage                    0\n",
       "WfntBank                       0\n",
       "WfntPoorQuality                0\n",
       "WfntRestrictedAccess           0\n",
       "WfntAccessRights               0\n",
       "WfntProximityInfluence         0\n",
       "TidelandShoreland              0\n",
       "LotDepthFactor                 0\n",
       "TrafficNoise                   0\n",
       "AirportNoise                   0\n",
       "PowerLines                     0\n",
       "OtherNuisances                 0\n",
       "NbrBldgSites                   0\n",
       "Contamination                  0\n",
       "DNRLease                       0\n",
       "AdjacentGolfFairway            0\n",
       "AdjacentGreenbelt              0\n",
       "HistoricSite                   0\n",
       "CurrentUseDesignation          0\n",
       "NativeGrowthProtEsmt           0\n",
       "Easements                      0\n",
       "OtherDesignation               0\n",
       "DeedRestrictions               0\n",
       "DevelopmentRightsPurch         0\n",
       "CoalMineHazard                 0\n",
       "CriticalDrainage               0\n",
       "ErosionHazard                  0\n",
       "LandfillBuffer                 0\n",
       "HundredYrFloodPlain            0\n",
       "SeismicHazard                  0\n",
       "LandslideHazard                0\n",
       "SteepSlopeHazard               0\n",
       "Stream                         0\n",
       "Wetland                        0\n",
       "SpeciesOfConcern               0\n",
       "SensitiveAreaTract             0\n",
       "WaterProblems                  0\n",
       "TranspConcurrency              0\n",
       "OtherProblems                  0\n",
       "BldgNbr                        0\n",
       "NbrLivingUnits                 0\n",
       "Address                        0\n",
       "BuildingNumber                 0\n",
       "Fraction                       0\n",
       "DirectionPrefix              604\n",
       "StreetName                     0\n",
       "StreetType                     0\n",
       "DirectionSuffix              604\n",
       "ZipCode                    39980\n",
       "Stories                        0\n",
       "BldgGrade                      0\n",
       "BldgGradeVar                   0\n",
       "SqFt1stFloor                   0\n",
       "SqFtHalfFloor                  0\n",
       "SqFt2ndFloor                   0\n",
       "SqFtUpperFloor                 0\n",
       "SqFtUnfinFull                  0\n",
       "SqFtUnfinHalf                  0\n",
       "SqFtTotLiving                  0\n",
       "SqFtTotBasement                0\n",
       "SqFtFinBasement                0\n",
       "FinBasementGrade               0\n",
       "SqFtGarageBasement             0\n",
       "SqFtGarageAttached             0\n",
       "DaylightBasement               0\n",
       "SqFtOpenPorch                  0\n",
       "SqFtEnclosedPorch              0\n",
       "SqFtDeck                       0\n",
       "HeatSystem                     0\n",
       "HeatSource                     0\n",
       "BrickStone                     0\n",
       "ViewUtilization                0\n",
       "Bedrooms                       0\n",
       "BathHalfCount                  0\n",
       "Bath3qtrCount                  0\n",
       "BathFullCount                  0\n",
       "FpSingleStory                  0\n",
       "FpMultiStory                   0\n",
       "FpFreestanding                 0\n",
       "FpAdditional                   0\n",
       "YrBuilt                        0\n",
       "YrRenovated                    0\n",
       "PcntComplete                   0\n",
       "Obsolescence                   0\n",
       "PcntNetCondition               0\n",
       "Condition                      0\n",
       "AddnlCost                      0\n",
       "DocumentYear                   0\n",
       "dtype: int64"
      ]
     },
     "execution_count": 27,
     "metadata": {},
     "output_type": "execute_result"
    }
   ],
   "source": [
    "# checking for NaNs\n",
    "df.isna().sum()"
   ]
  },
  {
   "cell_type": "markdown",
   "metadata": {},
   "source": [
    "## Isolating Target and Initial Predictors"
   ]
  },
  {
   "cell_type": "markdown",
   "metadata": {},
   "source": [
    "Since two of the questions we want to answer relate to the HeatSystem and SqFtEnclosedPorch features, we are going to isolate them, and our SalePrice target variable, into seperate dataframes. "
   ]
  },
  {
   "cell_type": "markdown",
   "metadata": {},
   "source": [
    "### HeatSystem Dataframe\n",
    "\n",
    "Isolating ```'SalePrice'``` target and ```'HeatSystem'``` predictor in Checking first the few rows, shape, nulls, and unique values."
   ]
  },
  {
   "cell_type": "code",
   "execution_count": 28,
   "metadata": {},
   "outputs": [
    {
     "data": {
      "text/html": [
       "<div>\n",
       "<style scoped>\n",
       "    .dataframe tbody tr th:only-of-type {\n",
       "        vertical-align: middle;\n",
       "    }\n",
       "\n",
       "    .dataframe tbody tr th {\n",
       "        vertical-align: top;\n",
       "    }\n",
       "\n",
       "    .dataframe thead th {\n",
       "        text-align: right;\n",
       "    }\n",
       "</style>\n",
       "<table border=\"1\" class=\"dataframe\">\n",
       "  <thead>\n",
       "    <tr style=\"text-align: right;\">\n",
       "      <th></th>\n",
       "      <th>SalePrice</th>\n",
       "      <th>HeatSystem</th>\n",
       "    </tr>\n",
       "  </thead>\n",
       "  <tbody>\n",
       "    <tr>\n",
       "      <th>0</th>\n",
       "      <td>560000.0</td>\n",
       "      <td>5</td>\n",
       "    </tr>\n",
       "    <tr>\n",
       "      <th>1</th>\n",
       "      <td>435000.0</td>\n",
       "      <td>5</td>\n",
       "    </tr>\n",
       "    <tr>\n",
       "      <th>2</th>\n",
       "      <td>450000.0</td>\n",
       "      <td>1</td>\n",
       "    </tr>\n",
       "  </tbody>\n",
       "</table>\n",
       "</div>"
      ],
      "text/plain": [
       "   SalePrice HeatSystem\n",
       "0   560000.0          5\n",
       "1   435000.0          5\n",
       "2   450000.0          1"
      ]
     },
     "execution_count": 28,
     "metadata": {},
     "output_type": "execute_result"
    }
   ],
   "source": [
    "# Isolating SalePrice target and HeatSystem predictor into a data frame. \n",
    "heat_df = nz19[['SalePrice','HeatSystem']]\n",
    "heat_df.head(3)"
   ]
  },
  {
   "cell_type": "code",
   "execution_count": 29,
   "metadata": {},
   "outputs": [
    {
     "data": {
      "text/plain": [
       "(29944, 2)"
      ]
     },
     "execution_count": 29,
     "metadata": {},
     "output_type": "execute_result"
    }
   ],
   "source": [
    "# checking shape\n",
    "heat_df.shape"
   ]
  },
  {
   "cell_type": "code",
   "execution_count": 30,
   "metadata": {},
   "outputs": [
    {
     "data": {
      "text/plain": [
       "SalePrice     0\n",
       "HeatSystem    0\n",
       "dtype: int64"
      ]
     },
     "execution_count": 30,
     "metadata": {},
     "output_type": "execute_result"
    }
   ],
   "source": [
    "# checking NaNs\n",
    "heat_df.isna().sum()"
   ]
  },
  {
   "cell_type": "code",
   "execution_count": 31,
   "metadata": {},
   "outputs": [
    {
     "name": "stdout",
     "output_type": "stream",
     "text": [
      "['5' '1' '4' '7' '6' '3' '0' '2' '8']\n"
     ]
    },
    {
     "data": {
      "text/plain": [
       "9"
      ]
     },
     "execution_count": 31,
     "metadata": {},
     "output_type": "execute_result"
    }
   ],
   "source": [
    "# checking unique values\n",
    "print(heat_df.HeatSystem.unique())\n",
    "len(heat_df.HeatSystem.unique())"
   ]
  },
  {
   "cell_type": "code",
   "execution_count": 32,
   "metadata": {},
   "outputs": [
    {
     "ename": "NameError",
     "evalue": "name 'df_look' is not defined",
     "output_type": "error",
     "traceback": [
      "\u001b[0;31m---------------------------------------------------------------------------\u001b[0m",
      "\u001b[0;31mNameError\u001b[0m                                 Traceback (most recent call last)",
      "\u001b[0;32m<ipython-input-32-42224eb79f8c>\u001b[0m in \u001b[0;36m<module>\u001b[0;34m\u001b[0m\n\u001b[1;32m      1\u001b[0m \u001b[0;31m# looking up HeatSystem codes\u001b[0m\u001b[0;34m\u001b[0m\u001b[0;34m\u001b[0m\u001b[0;34m\u001b[0m\u001b[0m\n\u001b[0;32m----> 2\u001b[0;31m \u001b[0mlu_df\u001b[0m \u001b[0;34m=\u001b[0m \u001b[0mfn\u001b[0m\u001b[0;34m.\u001b[0m\u001b[0mlookup\u001b[0m\u001b[0;34m(\u001b[0m\u001b[0mdf_look\u001b[0m\u001b[0;34m,\u001b[0m \u001b[0;36m108\u001b[0m\u001b[0;34m)\u001b[0m\u001b[0;34m\u001b[0m\u001b[0;34m\u001b[0m\u001b[0m\n\u001b[0m\u001b[1;32m      3\u001b[0m \u001b[0mlu_df\u001b[0m\u001b[0;34m\u001b[0m\u001b[0;34m\u001b[0m\u001b[0m\n",
      "\u001b[0;31mNameError\u001b[0m: name 'df_look' is not defined"
     ]
    }
   ],
   "source": [
    "# looking up HeatSystem codes\n",
    "lu_df = fn.lookup(look, 108)\n",
    "lu_df"
   ]
  },
  {
   "cell_type": "markdown",
   "metadata": {},
   "source": [
    "#### Checking ```'0'``` Values\n",
    "\n",
    "Checking ```'0'```, since there is not a ```'0'``` lookup code. For now, will be assuming that there is no heating system information available for ```'0'``` enteries. May re-adjust assumption to 'no heating system in property' after researching further. "
   ]
  },
  {
   "cell_type": "code",
   "execution_count": null,
   "metadata": {},
   "outputs": [],
   "source": [
    "# checking '0' values\n",
    "zero_df = heat_df[heat_df['HeatSystem'] == '0']\n",
    "print(zero_df.shape)\n",
    "zero_df.head()"
   ]
  },
  {
   "cell_type": "markdown",
   "metadata": {},
   "source": [
    "#### Prepping for Model Data Frame\n",
    "\n",
    "Creating an array of the lookup code descriptions, and using it to make a list of values for use in a new column.  Will use this column in a one-hot-encoding procedure for more descriptive column names in the model dataframe."
   ]
  },
  {
   "cell_type": "code",
   "execution_count": null,
   "metadata": {},
   "outputs": [],
   "source": [
    "column_names = lu_df.LUDescription.values\n",
    "column_names"
   ]
  },
  {
   "cell_type": "code",
   "execution_count": null,
   "metadata": {},
   "outputs": [],
   "source": [
    "# putting descriptions into a list in preparation for adding a new column to the dataframe.\n",
    "heat_names = []\n",
    "for i in range(len(heat_df['HeatSystem'].values)):\n",
    "    if heat_df['HeatSystem'].values[i] == '0':\n",
    "        heat_names.append('NA')\n",
    "    if heat_df['HeatSystem'].values[i] == '1':\n",
    "        heat_names.append(column_names[0])\n",
    "    if heat_df['HeatSystem'].values[i] == '2':\n",
    "        heat_names.append(column_names[1])\n",
    "    if heat_df['HeatSystem'].values[i] == '3':\n",
    "        heat_names.append(column_names[2])\n",
    "    if heat_df['HeatSystem'].values[i] == '4':\n",
    "        heat_names.append(column_names[3])\n",
    "    if heat_df['HeatSystem'].values[i] == '5':\n",
    "        heat_names.append(column_names[4])\n",
    "    if heat_df['HeatSystem'].values[i] == '6':\n",
    "        heat_names.append(column_names[5])\n",
    "    if heat_df['HeatSystem'].values[i] == '7':\n",
    "        heat_names.append(column_names[6])\n",
    "    if heat_df['HeatSystem'].values[i] == '8':\n",
    "        heat_names.append(column_names[7])"
   ]
  },
  {
   "cell_type": "code",
   "execution_count": null,
   "metadata": {},
   "outputs": [],
   "source": [
    "# checking first few entries in list\n",
    "heat_names[:5]"
   ]
  },
  {
   "cell_type": "markdown",
   "metadata": {},
   "source": [
    "### Creating New Data Frame\n",
    "\n",
    "Creating new data frame, dropping old ```'HeatSystems'``` column, and appending a new ```'HeatNames'``` column with more descriptive system names."
   ]
  },
  {
   "cell_type": "code",
   "execution_count": null,
   "metadata": {},
   "outputs": [],
   "source": [
    "# creating new data frame and dropping old 'HeatSystems' column\n",
    "heat_df2 = heat_df.copy().drop('HeatSystem', axis=1)"
   ]
  },
  {
   "cell_type": "code",
   "execution_count": null,
   "metadata": {},
   "outputs": [],
   "source": [
    "# appending new, more descriptive heat systems column, 'HeatNames'\n",
    "heat_df2['HeatNames'] = heat_names"
   ]
  },
  {
   "cell_type": "code",
   "execution_count": null,
   "metadata": {},
   "outputs": [],
   "source": [
    "# checking first few rows\n",
    "heat_df2.head(3)"
   ]
  },
  {
   "cell_type": "markdown",
   "metadata": {},
   "source": [
    "#### One-Hot Encoding the HeatSystem Predictor\n",
    "\n",
    "Instantiating the encoder, fitting the encoder to ```heat_df2[['HeatNames']]``` , and transforming the data. Creating a new ```heat_ohe``` data frame, dropping the ```'HeatNames'``` column from ``` heat_df2```, and concatenating it will ```heat_ohe``` to form a new ```model_df``` data frame."
   ]
  },
  {
   "cell_type": "code",
   "execution_count": null,
   "metadata": {},
   "outputs": [],
   "source": [
    "# instantiating, fitting and transforming\n",
    "ohcoder = OneHotEncoder(drop='first')\n",
    "\n",
    "ohcoder.fit(heat_df2[['HeatNames']])\n",
    "\n",
    "transformed = ohcoder.transform(heat_df2[['HeatNames']])"
   ]
  },
  {
   "cell_type": "code",
   "execution_count": null,
   "metadata": {},
   "outputs": [],
   "source": [
    "# creating heat_ohe data frame and checking the first few columns\n",
    "heat_ohe = pd.DataFrame(transformed.todense(),\\\n",
    "                       columns = ohcoder.get_feature_names())\n",
    "heat_ohe.head(3)"
   ]
  },
  {
   "cell_type": "code",
   "execution_count": null,
   "metadata": {},
   "outputs": [],
   "source": [
    "# dropping the 'HeatNames' column from heat_df2\n",
    "heat2_dropped = heat_df2.drop('HeatNames', axis=1)"
   ]
  },
  {
   "cell_type": "markdown",
   "metadata": {},
   "source": [
    "#### Creating ```model_df``` Data Frame"
   ]
  },
  {
   "cell_type": "code",
   "execution_count": null,
   "metadata": {},
   "outputs": [],
   "source": [
    "# creating the model dataframe and checking first few rows\n",
    "model_df = pd.concat([heat2_dropped, heat_ohe], axis=1)\n",
    "model_df.head(3)"
   ]
  },
  {
   "cell_type": "markdown",
   "metadata": {},
   "source": [
    "#### ```model_df``` Correlation Matrix and Heatmap"
   ]
  },
  {
   "cell_type": "code",
   "execution_count": null,
   "metadata": {},
   "outputs": [],
   "source": [
    "model_df.corr()"
   ]
  },
  {
   "cell_type": "code",
   "execution_count": null,
   "metadata": {},
   "outputs": [],
   "source": [
    "sns.heatmap(model_df.corr());"
   ]
  },
  {
   "cell_type": "markdown",
   "metadata": {},
   "source": [
    "#### EnclosedPoarch Dataframe"
   ]
  },
  {
   "cell_type": "code",
   "execution_count": null,
   "metadata": {},
   "outputs": [],
   "source": [
    "# isolating SalePrice target and SqFtEnclosedPorch predictor\n",
    "porch_df = nz19[['SqFtEnclosedPorch']]\n",
    "porch_df.head()"
   ]
  },
  {
   "cell_type": "code",
   "execution_count": null,
   "metadata": {},
   "outputs": [],
   "source": []
  }
 ],
 "metadata": {
  "kernelspec": {
   "display_name": "learn-env",
   "language": "python",
   "name": "learn-env"
  },
  "language_info": {
   "codemirror_mode": {
    "name": "ipython",
    "version": 3
   },
   "file_extension": ".py",
   "mimetype": "text/x-python",
   "name": "python",
   "nbconvert_exporter": "python",
   "pygments_lexer": "ipython3",
   "version": "3.8.5"
  }
 },
 "nbformat": 4,
 "nbformat_minor": 4
}

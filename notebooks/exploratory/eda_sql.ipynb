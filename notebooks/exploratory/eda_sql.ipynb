{
 "cells": [
  {
   "cell_type": "markdown",
   "metadata": {},
   "source": [
    "# King County Project"
   ]
  },
  {
   "cell_type": "markdown",
   "metadata": {},
   "source": [
    "## Business Problem"
   ]
  },
  {
   "cell_type": "markdown",
   "metadata": {},
   "source": [
    "A client in King County, WA wants to advise homeowners on **home improvement projects** that will **add to the sale value of their homes**.\n",
    "\n",
    "**This advice should be based on data from the most recent full calendar year, 2019**."
   ]
  },
  {
   "cell_type": "markdown",
   "metadata": {},
   "source": [
    "### Sample Questions:\n",
    "Enclosing a porch will increase the sale price of a home.\n",
    "\n",
    "Converting a garage to a bedroom is a good way to increase the sale price of a home.\n",
    "\n",
    "Upgrading to a forced-air heating system will increase the sale price of a home."
   ]
  },
  {
   "cell_type": "markdown",
   "metadata": {},
   "source": [
    "### Core Goals:\n",
    "Create model\n",
    "\n",
    "Interpret results\n",
    "\n",
    "Make recomendations"
   ]
  },
  {
   "cell_type": "markdown",
   "metadata": {},
   "source": [
    "# Initial EDA Work"
   ]
  },
  {
   "cell_type": "markdown",
   "metadata": {},
   "source": [
    "### Importing Libraries and Adjusting Settings"
   ]
  },
  {
   "cell_type": "code",
   "execution_count": 1,
   "metadata": {},
   "outputs": [],
   "source": [
    "# import modules for eda and plotting\n",
    "import pandas as pd\n",
    "import numpy as np\n",
    "import scipy.stats as stats\n",
    "\n",
    "import sqlite3\n",
    "\n",
    "from sklearn import preprocessing\n",
    "from sklearn.preprocessing import OneHotEncoder\n",
    "\n",
    "import matplotlib.pyplot as plt\n",
    "import seaborn as sns\n",
    "\n",
    "import statsmodels.api as sm\n",
    "from statsmodels.formula.api import ols\n",
    "from statsmodels.stats.diagnostic import linear_rainbow, het_breuschpagan\n",
    "from statsmodels.stats.outliers_influence import variance_inflation_factor\n",
    "\n",
    "import functions as fn\n",
    "\n",
    "# setting plots to inline\n",
    "%matplotlib inline\n",
    "\n",
    "# setting the max number of rows displayed\n",
    "pd.options.display.max_rows = 300"
   ]
  },
  {
   "cell_type": "markdown",
   "metadata": {},
   "source": [
    "## SQL Dataframe"
   ]
  },
  {
   "cell_type": "markdown",
   "metadata": {},
   "source": [
    "### SQL Prelim Work\n",
    "\n",
    "#### Created Database\n",
    "Earlier, wrote up a [DB Creator](DB_Creator.ipynb) notebook and ran it to create an SQL database from the raw `.csv` files."
   ]
  },
  {
   "cell_type": "markdown",
   "metadata": {},
   "source": [
    "#### Creating DataFrame From the Database"
   ]
  },
  {
   "cell_type": "markdown",
   "metadata": {},
   "source": [
    "Connecting to the database, and creating a cursor object. Joining the database tables into a second main data frame. Lastly, checking basic information about the data frame."
   ]
  },
  {
   "cell_type": "code",
   "execution_count": 2,
   "metadata": {},
   "outputs": [],
   "source": [
    "# creating database, connection, and cursor\n",
    "conn = sqlite3.connect('KingDB.db')  \n",
    "cur = conn.cursor()"
   ]
  },
  {
   "cell_type": "code",
   "execution_count": 3,
   "metadata": {},
   "outputs": [
    {
     "data": {
      "text/plain": [
       "[('LOOK',), ('PARC',), ('RESB',), ('SALES',)]"
      ]
     },
     "execution_count": 3,
     "metadata": {},
     "output_type": "execute_result"
    }
   ],
   "source": [
    "# checking the table names\n",
    "q = \"\"\"SELECT name FROM sqlite_master \n",
    "WHERE type IN ('table','view') \n",
    "AND name NOT LIKE 'sqlite_%'\n",
    "ORDER BY 1\"\"\"\n",
    "fn.fetch(cur, q)"
   ]
  },
  {
   "cell_type": "markdown",
   "metadata": {},
   "source": [
    "### Joining Tables to Create the Main Data Frame"
   ]
  },
  {
   "cell_type": "code",
   "execution_count": 4,
   "metadata": {},
   "outputs": [],
   "source": [
    "# joining tables to create dataframe and appending column names\n",
    "q = \"\"\"SELECT*FROM SALES AS SA\n",
    "       JOIN PARC AS PA\n",
    "       ON SA.Major = PA.Major\n",
    "       AND SA.Minor = PA.Minor\n",
    "       JOIN RESB AS RE\n",
    "       ON PA.Major = RE.Major\n",
    "       AND PA.Minor = RE.Minor\n",
    "       \"\"\"\n",
    "df = pd.DataFrame(fn.fetch(cur, q))\n",
    "df.columns = [i[0] for i in cur.description]"
   ]
  },
  {
   "cell_type": "code",
   "execution_count": 5,
   "metadata": {},
   "outputs": [
    {
     "name": "stdout",
     "output_type": "stream",
     "text": [
      "<class 'pandas.core.frame.DataFrame'>\n",
      "RangeIndex: 251300 entries, 0 to 251299\n",
      "Columns: 156 entries, ExciseTaxNbr to AddnlCost\n",
      "dtypes: object(156)\n",
      "memory usage: 299.1+ MB\n"
     ]
    }
   ],
   "source": [
    "# checking info, shape\n",
    "df.info()"
   ]
  },
  {
   "cell_type": "code",
   "execution_count": 6,
   "metadata": {},
   "outputs": [
    {
     "data": {
      "text/plain": [
       "(251300, 156)"
      ]
     },
     "execution_count": 6,
     "metadata": {},
     "output_type": "execute_result"
    }
   ],
   "source": [
    "df.shape"
   ]
  },
  {
   "cell_type": "markdown",
   "metadata": {},
   "source": [
    "### Creating the Lookup Data Frame"
   ]
  },
  {
   "cell_type": "code",
   "execution_count": 7,
   "metadata": {},
   "outputs": [],
   "source": [
    "# joining tables to create dataframe and appending column names\n",
    "q = \"\"\"SELECT*FROM LOOK\"\"\"\n",
    "look = pd.DataFrame(fn.fetch(cur, q))\n",
    "look.columns = [i[0] for i in cur.description]"
   ]
  },
  {
   "cell_type": "markdown",
   "metadata": {},
   "source": [
    "#### Checking the Lookup Data Frame\n",
    "\n",
    "Getting basic info, checking the first row, description strings, and cleaning the columns."
   ]
  },
  {
   "cell_type": "code",
   "execution_count": 8,
   "metadata": {},
   "outputs": [
    {
     "name": "stdout",
     "output_type": "stream",
     "text": [
      "<class 'pandas.core.frame.DataFrame'>\n",
      "RangeIndex: 1208 entries, 0 to 1207\n",
      "Data columns (total 3 columns):\n",
      " #   Column         Non-Null Count  Dtype \n",
      "---  ------         --------------  ----- \n",
      " 0   LUType         1208 non-null   object\n",
      " 1   LUItem         1208 non-null   object\n",
      " 2   LUDescription  1208 non-null   object\n",
      "dtypes: object(3)\n",
      "memory usage: 28.4+ KB\n"
     ]
    }
   ],
   "source": [
    "# getting info for lookup data frame\n",
    "look.info()"
   ]
  },
  {
   "cell_type": "code",
   "execution_count": 9,
   "metadata": {},
   "outputs": [
    {
     "data": {
      "text/html": [
       "<div>\n",
       "<style scoped>\n",
       "    .dataframe tbody tr th:only-of-type {\n",
       "        vertical-align: middle;\n",
       "    }\n",
       "\n",
       "    .dataframe tbody tr th {\n",
       "        vertical-align: top;\n",
       "    }\n",
       "\n",
       "    .dataframe thead th {\n",
       "        text-align: right;\n",
       "    }\n",
       "</style>\n",
       "<table border=\"1\" class=\"dataframe\">\n",
       "  <thead>\n",
       "    <tr style=\"text-align: right;\">\n",
       "      <th></th>\n",
       "      <th>LUType</th>\n",
       "      <th>LUItem</th>\n",
       "      <th>LUDescription</th>\n",
       "    </tr>\n",
       "  </thead>\n",
       "  <tbody>\n",
       "    <tr>\n",
       "      <th>0</th>\n",
       "      <td>1</td>\n",
       "      <td>1</td>\n",
       "      <td>LAND ONLY                                     ...</td>\n",
       "    </tr>\n",
       "  </tbody>\n",
       "</table>\n",
       "</div>"
      ],
      "text/plain": [
       "  LUType LUItem                                      LUDescription\n",
       "0    1      1    LAND ONLY                                     ..."
      ]
     },
     "execution_count": 9,
     "metadata": {},
     "output_type": "execute_result"
    }
   ],
   "source": [
    "# checking first row\n",
    "look.head(1)"
   ]
  },
  {
   "cell_type": "code",
   "execution_count": 10,
   "metadata": {},
   "outputs": [
    {
     "data": {
      "text/plain": [
       "(array(['1  ', '1  '], dtype=object),\n",
       " array(['1  ', '10 '], dtype=object),\n",
       " array(['LAND ONLY                                         ',\n",
       "        'Land with new building                            '], dtype=object))"
      ]
     },
     "execution_count": 10,
     "metadata": {},
     "output_type": "execute_result"
    }
   ],
   "source": [
    "# checking strings\n",
    "look.LUType.values[:2], look.LUItem.values[:2], look.LUDescription.values[:2]"
   ]
  },
  {
   "cell_type": "markdown",
   "metadata": {},
   "source": [
    "Cleaning strings and checking results."
   ]
  },
  {
   "cell_type": "code",
   "execution_count": 11,
   "metadata": {},
   "outputs": [],
   "source": [
    "# cleaning strings\n",
    "look['LUType'] = fn.col_stripper(look, 'LUType')\n",
    "look['LUItem'] = fn.col_stripper(look, 'LUItem')\n",
    "look['LUDescription'] = fn.col_stripper(look, 'LUDescription')"
   ]
  },
  {
   "cell_type": "code",
   "execution_count": 12,
   "metadata": {},
   "outputs": [
    {
     "name": "stdout",
     "output_type": "stream",
     "text": [
      "['1' '1' '1' ... '99' '99' '99']\n",
      "['1' '10' '11' ... '3' '4' '5']\n"
     ]
    },
    {
     "data": {
      "text/plain": [
       "array(['LAND ONLY', 'Land with new building',\n",
       "       'Household, single family units', ..., 'AVERAGE', 'ABOVE AVERAGE',\n",
       "       'EXCELLENT'], dtype=object)"
      ]
     },
     "execution_count": 12,
     "metadata": {},
     "output_type": "execute_result"
    }
   ],
   "source": [
    "# checking results\n",
    "print(look.LUType.values)\n",
    "print(look.LUItem.values)\n",
    "look.LUDescription.values"
   ]
  },
  {
   "cell_type": "markdown",
   "metadata": {},
   "source": [
    "### Checking & Dealing with Columns in Main Data Frame\n",
    "Working through the columns of the main data frame to narrow down the list of features to a more manageable size."
   ]
  },
  {
   "cell_type": "code",
   "execution_count": 13,
   "metadata": {
    "tags": []
   },
   "outputs": [
    {
     "data": {
      "text/plain": [
       "['ExciseTaxNbr',\n",
       " 'Major',\n",
       " 'Minor',\n",
       " 'DocumentDate',\n",
       " 'SalePrice',\n",
       " 'RecordingNbr',\n",
       " 'Volume',\n",
       " 'Page',\n",
       " 'PlatNbr',\n",
       " 'PlatType',\n",
       " 'PlatLot',\n",
       " 'PlatBlock',\n",
       " 'SellerName',\n",
       " 'BuyerName',\n",
       " 'PropertyType',\n",
       " 'PrincipalUse',\n",
       " 'SaleInstrument',\n",
       " 'AFForestLand',\n",
       " 'AFCurrentUseLand',\n",
       " 'AFNonProfitUse',\n",
       " 'AFHistoricProperty',\n",
       " 'SaleReason',\n",
       " 'PropertyClass',\n",
       " 'SaleWarning',\n",
       " 'Unnamed: 0',\n",
       " 'Major',\n",
       " 'Minor',\n",
       " 'PropName',\n",
       " 'PlatName',\n",
       " 'PlatLot',\n",
       " 'PlatBlock',\n",
       " 'Range',\n",
       " 'Township',\n",
       " 'Section',\n",
       " 'QuarterSection',\n",
       " 'PropType',\n",
       " 'Area',\n",
       " 'SubArea',\n",
       " 'SpecArea',\n",
       " 'SpecSubArea',\n",
       " 'DistrictName',\n",
       " 'LevyCode',\n",
       " 'CurrentZoning',\n",
       " 'HBUAsIfVacant',\n",
       " 'HBUAsImproved',\n",
       " 'PresentUse',\n",
       " 'SqFtLot',\n",
       " 'WaterSystem',\n",
       " 'SewerSystem',\n",
       " 'Access',\n",
       " 'Topography',\n",
       " 'StreetSurface',\n",
       " 'RestrictiveSzShape',\n",
       " 'InadequateParking',\n",
       " 'PcntUnusable',\n",
       " 'Unbuildable',\n",
       " 'MtRainier',\n",
       " 'Olympics',\n",
       " 'Cascades',\n",
       " 'Territorial',\n",
       " 'SeattleSkyline',\n",
       " 'PugetSound',\n",
       " 'LakeWashington',\n",
       " 'LakeSammamish',\n",
       " 'SmallLakeRiverCreek',\n",
       " 'OtherView',\n",
       " 'WfntLocation',\n",
       " 'WfntFootage',\n",
       " 'WfntBank',\n",
       " 'WfntPoorQuality',\n",
       " 'WfntRestrictedAccess',\n",
       " 'WfntAccessRights',\n",
       " 'WfntProximityInfluence',\n",
       " 'TidelandShoreland',\n",
       " 'LotDepthFactor',\n",
       " 'TrafficNoise',\n",
       " 'AirportNoise',\n",
       " 'PowerLines',\n",
       " 'OtherNuisances',\n",
       " 'NbrBldgSites',\n",
       " 'Contamination',\n",
       " 'DNRLease',\n",
       " 'AdjacentGolfFairway',\n",
       " 'AdjacentGreenbelt',\n",
       " 'HistoricSite',\n",
       " 'CurrentUseDesignation',\n",
       " 'NativeGrowthProtEsmt',\n",
       " 'Easements',\n",
       " 'OtherDesignation',\n",
       " 'DeedRestrictions',\n",
       " 'DevelopmentRightsPurch',\n",
       " 'CoalMineHazard',\n",
       " 'CriticalDrainage',\n",
       " 'ErosionHazard',\n",
       " 'LandfillBuffer',\n",
       " 'HundredYrFloodPlain',\n",
       " 'SeismicHazard',\n",
       " 'LandslideHazard',\n",
       " 'SteepSlopeHazard',\n",
       " 'Stream',\n",
       " 'Wetland',\n",
       " 'SpeciesOfConcern',\n",
       " 'SensitiveAreaTract',\n",
       " 'WaterProblems',\n",
       " 'TranspConcurrency',\n",
       " 'OtherProblems',\n",
       " 'Major',\n",
       " 'Minor',\n",
       " 'BldgNbr',\n",
       " 'NbrLivingUnits',\n",
       " 'Address',\n",
       " 'BuildingNumber',\n",
       " 'Fraction',\n",
       " 'DirectionPrefix',\n",
       " 'StreetName',\n",
       " 'StreetType',\n",
       " 'DirectionSuffix',\n",
       " 'ZipCode',\n",
       " 'Stories',\n",
       " 'BldgGrade',\n",
       " 'BldgGradeVar',\n",
       " 'SqFt1stFloor',\n",
       " 'SqFtHalfFloor',\n",
       " 'SqFt2ndFloor',\n",
       " 'SqFtUpperFloor',\n",
       " 'SqFtUnfinFull',\n",
       " 'SqFtUnfinHalf',\n",
       " 'SqFtTotLiving',\n",
       " 'SqFtTotBasement',\n",
       " 'SqFtFinBasement',\n",
       " 'FinBasementGrade',\n",
       " 'SqFtGarageBasement',\n",
       " 'SqFtGarageAttached',\n",
       " 'DaylightBasement',\n",
       " 'SqFtOpenPorch',\n",
       " 'SqFtEnclosedPorch',\n",
       " 'SqFtDeck',\n",
       " 'HeatSystem',\n",
       " 'HeatSource',\n",
       " 'BrickStone',\n",
       " 'ViewUtilization',\n",
       " 'Bedrooms',\n",
       " 'BathHalfCount',\n",
       " 'Bath3qtrCount',\n",
       " 'BathFullCount',\n",
       " 'FpSingleStory',\n",
       " 'FpMultiStory',\n",
       " 'FpFreestanding',\n",
       " 'FpAdditional',\n",
       " 'YrBuilt',\n",
       " 'YrRenovated',\n",
       " 'PcntComplete',\n",
       " 'Obsolescence',\n",
       " 'PcntNetCondition',\n",
       " 'Condition',\n",
       " 'AddnlCost']"
      ]
     },
     "execution_count": 13,
     "metadata": {},
     "output_type": "execute_result"
    }
   ],
   "source": [
    "# checking columns\n",
    "list(df.columns)"
   ]
  },
  {
   "cell_type": "markdown",
   "metadata": {},
   "source": [
    "#### Removing `Unnamed: 0` Column"
   ]
  },
  {
   "cell_type": "code",
   "execution_count": 14,
   "metadata": {},
   "outputs": [],
   "source": [
    "# using custom dropper function to remove unnamed column found above\n",
    "fn.dropper(df, ['Unnamed: 0'], True)"
   ]
  },
  {
   "cell_type": "markdown",
   "metadata": {},
   "source": [
    "## Checking `PropertyType`, `PropertyClass`, `PropType`\n"
   ]
  },
  {
   "cell_type": "code",
   "execution_count": 15,
   "metadata": {},
   "outputs": [
    {
     "data": {
      "text/html": [
       "<div>\n",
       "<style scoped>\n",
       "    .dataframe tbody tr th:only-of-type {\n",
       "        vertical-align: middle;\n",
       "    }\n",
       "\n",
       "    .dataframe tbody tr th {\n",
       "        vertical-align: top;\n",
       "    }\n",
       "\n",
       "    .dataframe thead th {\n",
       "        text-align: right;\n",
       "    }\n",
       "</style>\n",
       "<table border=\"1\" class=\"dataframe\">\n",
       "  <thead>\n",
       "    <tr style=\"text-align: right;\">\n",
       "      <th></th>\n",
       "      <th>PropertyType</th>\n",
       "      <th>PropertyClass</th>\n",
       "      <th>PropType</th>\n",
       "    </tr>\n",
       "  </thead>\n",
       "  <tbody>\n",
       "    <tr>\n",
       "      <th>0</th>\n",
       "      <td>3</td>\n",
       "      <td>8</td>\n",
       "      <td>R</td>\n",
       "    </tr>\n",
       "    <tr>\n",
       "      <th>1</th>\n",
       "      <td>2</td>\n",
       "      <td>8</td>\n",
       "      <td>R</td>\n",
       "    </tr>\n",
       "    <tr>\n",
       "      <th>2</th>\n",
       "      <td>3</td>\n",
       "      <td>8</td>\n",
       "      <td>R</td>\n",
       "    </tr>\n",
       "  </tbody>\n",
       "</table>\n",
       "</div>"
      ],
      "text/plain": [
       "  PropertyType PropertyClass PropType\n",
       "0            3             8        R\n",
       "1            2             8        R\n",
       "2            3             8        R"
      ]
     },
     "execution_count": 15,
     "metadata": {},
     "output_type": "execute_result"
    }
   ],
   "source": [
    "df[['PropertyType', 'PropertyClass', 'PropType']].head(3)"
   ]
  },
  {
   "cell_type": "markdown",
   "metadata": {},
   "source": [
    "Checking Lookup Codes"
   ]
  },
  {
   "cell_type": "code",
   "execution_count": 16,
   "metadata": {
    "tags": []
   },
   "outputs": [
    {
     "data": {
      "text/plain": [
       "(   LUType LUItem                                      LUDescription\n",
       " 0       1      1                                          LAND ONLY\n",
       " 1       1     10                             Land with new building\n",
       " 2       1     11                     Household, single family units\n",
       " 3       1     12  Multiple family residence (Residential, 2-4 un...\n",
       " 4       1     13  Multiple family residence (Residential, 5+ units)\n",
       " 5       1     14                           Residential condominiums\n",
       " 6       1     15                        Mobile home parks or courts\n",
       " 7       1     16                                      Hotels/motels\n",
       " 8       1     17                              Institutional lodging\n",
       " 9       1     18          All other residential not elsewhere coded\n",
       " 10      1     19                                 Vacation and cabin\n",
       " 11      1      2                             LAND WITH NEW BUILDING\n",
       " 12      1     21                          Food and kindred products\n",
       " 13      1     22                              Textile mill products\n",
       " 14      1     23                  Apparel & other finished products\n",
       " 15      1     24        Lumber and wood products (except furniture)\n",
       " 16      1     25                             Furniture and fixtures\n",
       " 17      1     26                          Paper and allied products\n",
       " 18      1     27                            Printing and publishing\n",
       " 19      1     28                                          Chemicals\n",
       " 20      1     29          Petroleum refining and related industries\n",
       " 21      1      3                           LAND WITH PREV USED BLDG\n",
       " 22      1     30          Rubber and miscellaneous plastic products\n",
       " 23      1     31                       Leather and leather products\n",
       " 24      1     32                     Stone, clay and glass products\n",
       " 25      1     33                           Primary metal industries\n",
       " 26      1     34                          Fabricated metal products\n",
       " 27      1     35  Prof. scientific, controlling instr; optical g...\n",
       " 28      1     39                        Miscellaneous manufacturing\n",
       " 29      1      4                              LAND WITH MOBILE HOME\n",
       " 30      1     41                    Railroad/transit transportation\n",
       " 31      1     42                       Motor vehicle transportation\n",
       " 32      1     43                            Aircraft transportation\n",
       " 33      1     44                        Marine craft transportation\n",
       " 34      1     45                    Highway and street right of way\n",
       " 35      1     46                                 Automobile parking\n",
       " 36      1     47                                      Communication\n",
       " 37      1     48                                          Utilities\n",
       " 38      1     49        Other transp., com., & util. not classified\n",
       " 39      1      5                                        TIMBER ONLY\n",
       " 40      1     50  Condominiums - other than residential condomin...\n",
       " 41      1     51                                    Wholesale trade\n",
       " 42      1     52  Retail trade-bldg materials, hardware, farm equip\n",
       " 43      1     53                 Retail trade - general merchandise\n",
       " 44      1     54                                Retail trade - food\n",
       " 45      1     55        Retail trade-autom., marine craft, aircraft\n",
       " 46      1     56             Retail trade - apparel and accessories\n",
       " 47      1     57   Retail trade-furniture, home furnishings, equip.\n",
       " 48      1     58                     Retail trade-eating & drinking\n",
       " 49      1     59             Tenant occupied, commercial properties\n",
       " 50      1      6                                      BUILDING ONLY\n",
       " 51      1     61       Finance, insurance, and real estate services\n",
       " 52      1     62                                  Personal services\n",
       " 53      1     63                                  Business services\n",
       " 54      1     64                                    Repair services\n",
       " 55      1     65      Professional services (medical, dental, etc.)\n",
       " 56      1     66                     Contract construction services\n",
       " 57      1     67                              Governmental services\n",
       " 58      1     68                               Educational services\n",
       " 59      1     69                             Miscellaneous services\n",
       " 60      1     71         Cultural activities and nature exhibitions\n",
       " 61      1     72                                    Public assembly\n",
       " 62      1     73                                         Amusements\n",
       " 63      1     74       Recreational activities (gold courses, etc.)\n",
       " 64      1     75                            Resorts and group camps\n",
       " 65      1     76                                              Parks\n",
       " 66      1     79    Other cultural, entertainment, and recreational\n",
       " 67      1     80                            Water or Mineral rights\n",
       " 68      1     81  Agriculture (not classified under current use ...\n",
       " 69      1     82                     Agriculture related activities\n",
       " 70      1     83  Agr classified under current use chapter 84.34...\n",
       " 71      1     84            Fishing activities and related services\n",
       " 72      1     85             Mining activities and related services\n",
       " 73      1     86               Standing Timber (separate from land)\n",
       " 74      1     88     Forest land designated under chapter 84.33 RCW\n",
       " 75      1     89                          Other resource production\n",
       " 76      1      9                              Land with mobile home\n",
       " 77      1     91                       Undeveloped land (land only)\n",
       " 78      1     92                               Noncommercial forest\n",
       " 79      1     93                                        Water areas\n",
       " 80      1     94  Open space land classified under chapter 84.34...\n",
       " 81      1     95      Timberland classified under chapter 84.34 RCW\n",
       " 82      1     96                        Improvements on leased land\n",
       " 83      1     99                             Other undeveloped land,\n",
       "     LUType LUItem                 LUDescription\n",
       " 861      4      1                 C/I-Land only\n",
       " 862      4      2     C/I-Imp prop; no condo/MH\n",
       " 863      4      3               C/I-Condominium\n",
       " 864      4      4           C/I-Air rights only\n",
       " 865      4      5  C/I-Imp prop excl air rights\n",
       " 866      4      6    C/I-Land or bldg; no split\n",
       " 867      4      7                 Res-Land only\n",
       " 868      4      8         Res-Improved property\n",
       " 869      4      9        Res or C/I-Mobile Home)"
      ]
     },
     "execution_count": 16,
     "metadata": {},
     "output_type": "execute_result"
    }
   ],
   "source": [
    "fn.lookup(look, 1), fn.lookup(look,4)"
   ]
  },
  {
   "cell_type": "markdown",
   "metadata": {},
   "source": [
    "#### Making `PropType` Lookup Data Frame"
   ]
  },
  {
   "cell_type": "code",
   "execution_count": 17,
   "metadata": {},
   "outputs": [
    {
     "data": {
      "text/html": [
       "<div>\n",
       "<style scoped>\n",
       "    .dataframe tbody tr th:only-of-type {\n",
       "        vertical-align: middle;\n",
       "    }\n",
       "\n",
       "    .dataframe tbody tr th {\n",
       "        vertical-align: top;\n",
       "    }\n",
       "\n",
       "    .dataframe thead th {\n",
       "        text-align: right;\n",
       "    }\n",
       "</style>\n",
       "<table border=\"1\" class=\"dataframe\">\n",
       "  <thead>\n",
       "    <tr style=\"text-align: right;\">\n",
       "      <th></th>\n",
       "      <th>LUItem</th>\n",
       "      <th>LUDescription</th>\n",
       "    </tr>\n",
       "  </thead>\n",
       "  <tbody>\n",
       "    <tr>\n",
       "      <th>0</th>\n",
       "      <td>C</td>\n",
       "      <td>Commercial</td>\n",
       "    </tr>\n",
       "    <tr>\n",
       "      <th>1</th>\n",
       "      <td>K</td>\n",
       "      <td>Condominium</td>\n",
       "    </tr>\n",
       "    <tr>\n",
       "      <th>2</th>\n",
       "      <td>M</td>\n",
       "      <td>Coal &amp; Mineral Rights</td>\n",
       "    </tr>\n",
       "    <tr>\n",
       "      <th>3</th>\n",
       "      <td>N</td>\n",
       "      <td>Mining</td>\n",
       "    </tr>\n",
       "    <tr>\n",
       "      <th>4</th>\n",
       "      <td>R</td>\n",
       "      <td>Residential</td>\n",
       "    </tr>\n",
       "    <tr>\n",
       "      <th>5</th>\n",
       "      <td>T</td>\n",
       "      <td>Timber</td>\n",
       "    </tr>\n",
       "    <tr>\n",
       "      <th>6</th>\n",
       "      <td>U</td>\n",
       "      <td>Undivided Interest</td>\n",
       "    </tr>\n",
       "    <tr>\n",
       "      <th>7</th>\n",
       "      <td>X</td>\n",
       "      <td>Exempt</td>\n",
       "    </tr>\n",
       "  </tbody>\n",
       "</table>\n",
       "</div>"
      ],
      "text/plain": [
       "  LUItem          LUDescription\n",
       "0      C             Commercial\n",
       "1      K            Condominium\n",
       "2      M  Coal & Mineral Rights\n",
       "3      N                 Mining\n",
       "4      R            Residential\n",
       "5      T                 Timber\n",
       "6      U     Undivided Interest\n",
       "7      X                 Exempt"
      ]
     },
     "execution_count": 17,
     "metadata": {},
     "output_type": "execute_result"
    }
   ],
   "source": [
    "# PropType Codes \n",
    "codes = ['C', 'K', 'M', 'N', 'R', 'T', 'U', 'X']\n",
    "ptypes = ['Commercial', 'Condominium', 'Coal & Mineral Rights',\\\n",
    "            'Mining', 'Residential', 'Timber', 'Undivided Interest', 'Exempt']\n",
    "pt = {'LUItem': codes, 'LUDescription': ptypes}\n",
    "PropTypes = pd.DataFrame().from_dict(pt)\n",
    "PropTypes"
   ]
  },
  {
   "cell_type": "code",
   "execution_count": 18,
   "metadata": {},
   "outputs": [
    {
     "data": {
      "text/plain": [
       "PropertyType\n",
       "3     138077\n",
       "11     88244\n",
       "2      11250\n",
       "1       5351\n",
       "10      4256\n",
       "0       1285\n",
       "12       741\n",
       "91       590\n",
       "14       478\n",
       "5        336\n",
       "4        209\n",
       "18        72\n",
       "13        68\n",
       "99        54\n",
       "6         41\n",
       "45        41\n",
       "94        37\n",
       "59        37\n",
       "96        31\n",
       "83        20\n",
       "19        14\n",
       "80         8\n",
       "88         7\n",
       "9          7\n",
       "95         5\n",
       "65         5\n",
       "17         4\n",
       "69         3\n",
       "47         3\n",
       "15         2\n",
       "50         2\n",
       "21         2\n",
       "30         2\n",
       "68         2\n",
       "76         2\n",
       "22         2\n",
       "90         1\n",
       "93         1\n",
       "92         1\n",
       "23         1\n",
       "44         1\n",
       "89         1\n",
       "86         1\n",
       "24         1\n",
       "33         1\n",
       "32         1\n",
       "51         1\n",
       "63         1\n",
       "dtype: int64"
      ]
     },
     "execution_count": 18,
     "metadata": {},
     "output_type": "execute_result"
    }
   ],
   "source": [
    "df.groupby('PropertyType').size().sort_values(ascending=False)"
   ]
  },
  {
   "cell_type": "markdown",
   "metadata": {
    "tags": []
   },
   "source": [
    "## Light Data Cleaning"
   ]
  },
  {
   "cell_type": "markdown",
   "metadata": {},
   "source": [
    "Changing datestrings to datetime objects,  and sale price strings to floats in the main pandas dataframe. Adding a 'DocumentYear' column to main the data frame."
   ]
  },
  {
   "cell_type": "code",
   "execution_count": 19,
   "metadata": {},
   "outputs": [],
   "source": [
    "# changing date strings to datetime objects\n",
    "df.DocumentDate = pd.to_datetime(df.DocumentDate)\n",
    "\n",
    "# adding a document year column\n",
    "df['DocumentYear'] = df['DocumentDate'].apply(lambda x: x.year)\n",
    "\n",
    "# converting SalePrice string to float\n",
    "df['SalePrice'] = df['SalePrice'].astype('float')"
   ]
  },
  {
   "cell_type": "markdown",
   "metadata": {},
   "source": [
    "### Checking For Null Values"
   ]
  },
  {
   "cell_type": "code",
   "execution_count": 20,
   "metadata": {
    "tags": []
   },
   "outputs": [
    {
     "name": "stdout",
     "output_type": "stream",
     "text": [
      "ExciseTaxNbr                   0\n",
      "Major                          0\n",
      "Minor                          0\n",
      "DocumentDate                   0\n",
      "SalePrice                      0\n",
      "RecordingNbr                   0\n",
      "Volume                         0\n",
      "Page                           0\n",
      "PlatNbr                        0\n",
      "PlatType                       0\n",
      "PlatLot                        0\n",
      "PlatBlock                      0\n",
      "SellerName                     0\n",
      "BuyerName                      0\n",
      "PropertyType                   0\n",
      "PrincipalUse                   0\n",
      "SaleInstrument                 0\n",
      "AFForestLand                   0\n",
      "AFCurrentUseLand               0\n",
      "AFNonProfitUse                 0\n",
      "AFHistoricProperty             0\n",
      "SaleReason                     0\n",
      "PropertyClass                  0\n",
      "SaleWarning                    0\n",
      "Major                          0\n",
      "Minor                          0\n",
      "PropName                   11473\n",
      "PlatName                   29223\n",
      "PlatLot                        0\n",
      "PlatBlock                      0\n",
      "Range                          0\n",
      "Township                       0\n",
      "Section                        0\n",
      "QuarterSection                 0\n",
      "PropType                       0\n",
      "Area                           0\n",
      "SubArea                        0\n",
      "SpecArea                  251300\n",
      "SpecSubArea               251300\n",
      "DistrictName                   0\n",
      "LevyCode                       0\n",
      "CurrentZoning                  0\n",
      "HBUAsIfVacant                  0\n",
      "HBUAsImproved                  0\n",
      "PresentUse                     0\n",
      "SqFtLot                        0\n",
      "WaterSystem                    0\n",
      "SewerSystem                    0\n",
      "Access                         0\n",
      "Topography                     0\n",
      "StreetSurface                  0\n",
      "RestrictiveSzShape             0\n",
      "InadequateParking              0\n",
      "PcntUnusable                   0\n",
      "Unbuildable                    0\n",
      "MtRainier                      0\n",
      "Olympics                       0\n",
      "Cascades                       0\n",
      "Territorial                    0\n",
      "SeattleSkyline                 0\n",
      "PugetSound                     0\n",
      "LakeWashington                 0\n",
      "LakeSammamish                  0\n",
      "SmallLakeRiverCreek            0\n",
      "OtherView                      0\n",
      "WfntLocation                   0\n",
      "WfntFootage                    0\n",
      "WfntBank                       0\n",
      "WfntPoorQuality                0\n",
      "WfntRestrictedAccess           0\n",
      "WfntAccessRights               0\n",
      "WfntProximityInfluence         0\n",
      "TidelandShoreland              0\n",
      "LotDepthFactor                 0\n",
      "TrafficNoise                   0\n",
      "AirportNoise                   0\n",
      "PowerLines                     0\n",
      "OtherNuisances                 0\n",
      "NbrBldgSites                   0\n",
      "Contamination                  0\n",
      "DNRLease                       0\n",
      "AdjacentGolfFairway            0\n",
      "AdjacentGreenbelt              0\n",
      "HistoricSite                   0\n",
      "CurrentUseDesignation          0\n",
      "NativeGrowthProtEsmt           0\n",
      "Easements                      0\n",
      "OtherDesignation               0\n",
      "DeedRestrictions               0\n",
      "DevelopmentRightsPurch         0\n",
      "CoalMineHazard                 0\n",
      "CriticalDrainage               0\n",
      "ErosionHazard                  0\n",
      "LandfillBuffer                 0\n",
      "HundredYrFloodPlain            0\n",
      "SeismicHazard                  0\n",
      "LandslideHazard                0\n",
      "SteepSlopeHazard               0\n",
      "Stream                         0\n",
      "Wetland                        0\n",
      "SpeciesOfConcern               0\n",
      "SensitiveAreaTract             0\n",
      "WaterProblems                  0\n",
      "TranspConcurrency              0\n",
      "OtherProblems                  0\n",
      "Major                          0\n",
      "Minor                          0\n",
      "BldgNbr                        0\n",
      "NbrLivingUnits                 0\n",
      "Address                        0\n",
      "BuildingNumber                 0\n",
      "Fraction                       0\n",
      "DirectionPrefix              604\n",
      "StreetName                     0\n",
      "StreetType                     0\n",
      "DirectionSuffix              604\n",
      "ZipCode                    39980\n",
      "Stories                        0\n",
      "BldgGrade                      0\n",
      "BldgGradeVar                   0\n",
      "SqFt1stFloor                   0\n",
      "SqFtHalfFloor                  0\n",
      "SqFt2ndFloor                   0\n",
      "SqFtUpperFloor                 0\n",
      "SqFtUnfinFull                  0\n",
      "SqFtUnfinHalf                  0\n",
      "SqFtTotLiving                  0\n",
      "SqFtTotBasement                0\n",
      "SqFtFinBasement                0\n",
      "FinBasementGrade               0\n",
      "SqFtGarageBasement             0\n",
      "SqFtGarageAttached             0\n",
      "DaylightBasement               0\n",
      "SqFtOpenPorch                  0\n",
      "SqFtEnclosedPorch              0\n",
      "SqFtDeck                       0\n",
      "HeatSystem                     0\n",
      "HeatSource                     0\n",
      "BrickStone                     0\n",
      "ViewUtilization                0\n",
      "Bedrooms                       0\n",
      "BathHalfCount                  0\n",
      "Bath3qtrCount                  0\n",
      "BathFullCount                  0\n",
      "FpSingleStory                  0\n",
      "FpMultiStory                   0\n",
      "FpFreestanding                 0\n",
      "FpAdditional                   0\n",
      "YrBuilt                        0\n",
      "YrRenovated                    0\n",
      "PcntComplete                   0\n",
      "Obsolescence                   0\n",
      "PcntNetCondition               0\n",
      "Condition                      0\n",
      "AddnlCost                      0\n",
      "DocumentYear                   0\n",
      "dtype: int64\n"
     ]
    },
    {
     "data": {
      "text/plain": [
       "(251300, 156)"
      ]
     },
     "execution_count": 20,
     "metadata": {},
     "output_type": "execute_result"
    }
   ],
   "source": [
    "# checking nulls and shape\n",
    "print(df.isna().sum())\n",
    "df.shape"
   ]
  },
  {
   "cell_type": "markdown",
   "metadata": {},
   "source": [
    "### Checking `'SpecArea'` and `'SpecSubArea'` columns."
   ]
  },
  {
   "cell_type": "code",
   "execution_count": 21,
   "metadata": {},
   "outputs": [
    {
     "data": {
      "text/html": [
       "<div>\n",
       "<style scoped>\n",
       "    .dataframe tbody tr th:only-of-type {\n",
       "        vertical-align: middle;\n",
       "    }\n",
       "\n",
       "    .dataframe tbody tr th {\n",
       "        vertical-align: top;\n",
       "    }\n",
       "\n",
       "    .dataframe thead th {\n",
       "        text-align: right;\n",
       "    }\n",
       "</style>\n",
       "<table border=\"1\" class=\"dataframe\">\n",
       "  <thead>\n",
       "    <tr style=\"text-align: right;\">\n",
       "      <th></th>\n",
       "      <th>SpecArea</th>\n",
       "      <th>SpecSubArea</th>\n",
       "    </tr>\n",
       "  </thead>\n",
       "  <tbody>\n",
       "    <tr>\n",
       "      <th>0</th>\n",
       "      <td>None</td>\n",
       "      <td>None</td>\n",
       "    </tr>\n",
       "    <tr>\n",
       "      <th>1</th>\n",
       "      <td>None</td>\n",
       "      <td>None</td>\n",
       "    </tr>\n",
       "    <tr>\n",
       "      <th>2</th>\n",
       "      <td>None</td>\n",
       "      <td>None</td>\n",
       "    </tr>\n",
       "  </tbody>\n",
       "</table>\n",
       "</div>"
      ],
      "text/plain": [
       "  SpecArea SpecSubArea\n",
       "0     None        None\n",
       "1     None        None\n",
       "2     None        None"
      ]
     },
     "execution_count": 21,
     "metadata": {},
     "output_type": "execute_result"
    }
   ],
   "source": [
    "# inspecting columns with custom chunker() function\n",
    "fn.chunker(df, ['SpecArea', 'SpecSubArea'])"
   ]
  },
  {
   "cell_type": "markdown",
   "metadata": {},
   "source": [
    "It looks like the `'SpecArea'` and `'SpecSubArea'` are extraneous columns for modeling purposes so they will be dropped."
   ]
  },
  {
   "cell_type": "code",
   "execution_count": 22,
   "metadata": {},
   "outputs": [
    {
     "data": {
      "text/html": [
       "<div>\n",
       "<style scoped>\n",
       "    .dataframe tbody tr th:only-of-type {\n",
       "        vertical-align: middle;\n",
       "    }\n",
       "\n",
       "    .dataframe tbody tr th {\n",
       "        vertical-align: top;\n",
       "    }\n",
       "\n",
       "    .dataframe thead th {\n",
       "        text-align: right;\n",
       "    }\n",
       "</style>\n",
       "<table border=\"1\" class=\"dataframe\">\n",
       "  <thead>\n",
       "    <tr style=\"text-align: right;\">\n",
       "      <th></th>\n",
       "      <th>ExciseTaxNbr</th>\n",
       "      <th>Major</th>\n",
       "      <th>Minor</th>\n",
       "      <th>DocumentDate</th>\n",
       "      <th>SalePrice</th>\n",
       "      <th>RecordingNbr</th>\n",
       "      <th>Volume</th>\n",
       "      <th>Page</th>\n",
       "      <th>PlatNbr</th>\n",
       "      <th>PlatType</th>\n",
       "      <th>...</th>\n",
       "      <th>FpFreestanding</th>\n",
       "      <th>FpAdditional</th>\n",
       "      <th>YrBuilt</th>\n",
       "      <th>YrRenovated</th>\n",
       "      <th>PcntComplete</th>\n",
       "      <th>Obsolescence</th>\n",
       "      <th>PcntNetCondition</th>\n",
       "      <th>Condition</th>\n",
       "      <th>AddnlCost</th>\n",
       "      <th>DocumentYear</th>\n",
       "    </tr>\n",
       "  </thead>\n",
       "  <tbody>\n",
       "    <tr>\n",
       "      <th>0</th>\n",
       "      <td>2743355</td>\n",
       "      <td>638580</td>\n",
       "      <td>0110</td>\n",
       "      <td>2015-07-14</td>\n",
       "      <td>190000.0</td>\n",
       "      <td>20150715002686</td>\n",
       "      <td></td>\n",
       "      <td></td>\n",
       "      <td></td>\n",
       "      <td></td>\n",
       "      <td>...</td>\n",
       "      <td>0</td>\n",
       "      <td>1</td>\n",
       "      <td>1963</td>\n",
       "      <td>0</td>\n",
       "      <td>0</td>\n",
       "      <td>0</td>\n",
       "      <td>0</td>\n",
       "      <td>3</td>\n",
       "      <td>0</td>\n",
       "      <td>2015</td>\n",
       "    </tr>\n",
       "  </tbody>\n",
       "</table>\n",
       "<p>1 rows × 154 columns</p>\n",
       "</div>"
      ],
      "text/plain": [
       "  ExciseTaxNbr   Major Minor DocumentDate  SalePrice    RecordingNbr Volume  \\\n",
       "0      2743355  638580  0110   2015-07-14   190000.0  20150715002686          \n",
       "\n",
       "  Page PlatNbr PlatType  ... FpFreestanding FpAdditional YrBuilt YrRenovated  \\\n",
       "0                        ...              0            1    1963           0   \n",
       "\n",
       "  PcntComplete Obsolescence PcntNetCondition Condition AddnlCost DocumentYear  \n",
       "0            0            0                0         3         0         2015  \n",
       "\n",
       "[1 rows x 154 columns]"
      ]
     },
     "execution_count": 22,
     "metadata": {},
     "output_type": "execute_result"
    }
   ],
   "source": [
    "# dropping columns and checking first row\n",
    "fn.dropper(df, ['SpecArea', 'SpecSubArea'], True)\n",
    "df.head(1)"
   ]
  },
  {
   "cell_type": "markdown",
   "metadata": {},
   "source": [
    "### Inspecting Columns with Null Values"
   ]
  },
  {
   "cell_type": "code",
   "execution_count": 23,
   "metadata": {},
   "outputs": [
    {
     "data": {
      "text/html": [
       "<div>\n",
       "<style scoped>\n",
       "    .dataframe tbody tr th:only-of-type {\n",
       "        vertical-align: middle;\n",
       "    }\n",
       "\n",
       "    .dataframe tbody tr th {\n",
       "        vertical-align: top;\n",
       "    }\n",
       "\n",
       "    .dataframe thead th {\n",
       "        text-align: right;\n",
       "    }\n",
       "</style>\n",
       "<table border=\"1\" class=\"dataframe\">\n",
       "  <thead>\n",
       "    <tr style=\"text-align: right;\">\n",
       "      <th></th>\n",
       "      <th>PropName</th>\n",
       "      <th>PlatName</th>\n",
       "      <th>DirectionPrefix</th>\n",
       "      <th>DirectionSuffix</th>\n",
       "      <th>ZipCode</th>\n",
       "    </tr>\n",
       "  </thead>\n",
       "  <tbody>\n",
       "    <tr>\n",
       "      <th>0</th>\n",
       "      <td></td>\n",
       "      <td>OLYMPIC TERRACE ADD</td>\n",
       "      <td></td>\n",
       "      <td>S</td>\n",
       "      <td>98188</td>\n",
       "    </tr>\n",
       "    <tr>\n",
       "      <th>1</th>\n",
       "      <td>None</td>\n",
       "      <td>VINTNER'S PLACE</td>\n",
       "      <td>NE</td>\n",
       "      <td></td>\n",
       "      <td>None</td>\n",
       "    </tr>\n",
       "    <tr>\n",
       "      <th>2</th>\n",
       "      <td></td>\n",
       "      <td>LAKE UNION ADD</td>\n",
       "      <td></td>\n",
       "      <td>N</td>\n",
       "      <td>98103</td>\n",
       "    </tr>\n",
       "  </tbody>\n",
       "</table>\n",
       "</div>"
      ],
      "text/plain": [
       "  PropName             PlatName DirectionPrefix DirectionSuffix ZipCode\n",
       "0           OLYMPIC TERRACE ADD                              S    98188\n",
       "1     None      VINTNER'S PLACE              NE                    None\n",
       "2                LAKE UNION ADD                              N    98103"
      ]
     },
     "execution_count": 23,
     "metadata": {},
     "output_type": "execute_result"
    }
   ],
   "source": [
    "# checking problematic columns\n",
    "li = ['PropName', 'PlatName', 'DirectionPrefix', 'DirectionSuffix', 'ZipCode']\n",
    "fn.chunker(df, li)"
   ]
  },
  {
   "cell_type": "markdown",
   "metadata": {
    "tags": []
   },
   "source": [
    "#### Keeping `'ZipCode'` Column but Dropping Others\n",
    "\n",
    "The othe columns have to do with Plat Mapping and seem irrelevant to the model. Zip Codes can have value as proxy indicators so may be useful later. Keeping for now."
   ]
  },
  {
   "cell_type": "code",
   "execution_count": 24,
   "metadata": {
    "tags": []
   },
   "outputs": [],
   "source": [
    "# dropping extraneous columns\n",
    "fn.dropper(df, li[:4], True)"
   ]
  },
  {
   "cell_type": "code",
   "execution_count": 25,
   "metadata": {},
   "outputs": [
    {
     "data": {
      "text/html": [
       "<div>\n",
       "<style scoped>\n",
       "    .dataframe tbody tr th:only-of-type {\n",
       "        vertical-align: middle;\n",
       "    }\n",
       "\n",
       "    .dataframe tbody tr th {\n",
       "        vertical-align: top;\n",
       "    }\n",
       "\n",
       "    .dataframe thead th {\n",
       "        text-align: right;\n",
       "    }\n",
       "</style>\n",
       "<table border=\"1\" class=\"dataframe\">\n",
       "  <thead>\n",
       "    <tr style=\"text-align: right;\">\n",
       "      <th></th>\n",
       "      <th>ExciseTaxNbr</th>\n",
       "      <th>Major</th>\n",
       "      <th>Minor</th>\n",
       "      <th>DocumentDate</th>\n",
       "      <th>SalePrice</th>\n",
       "      <th>RecordingNbr</th>\n",
       "      <th>Volume</th>\n",
       "      <th>Page</th>\n",
       "      <th>PlatNbr</th>\n",
       "      <th>PlatType</th>\n",
       "      <th>...</th>\n",
       "      <th>FpFreestanding</th>\n",
       "      <th>FpAdditional</th>\n",
       "      <th>YrBuilt</th>\n",
       "      <th>YrRenovated</th>\n",
       "      <th>PcntComplete</th>\n",
       "      <th>Obsolescence</th>\n",
       "      <th>PcntNetCondition</th>\n",
       "      <th>Condition</th>\n",
       "      <th>AddnlCost</th>\n",
       "      <th>DocumentYear</th>\n",
       "    </tr>\n",
       "  </thead>\n",
       "  <tbody>\n",
       "    <tr>\n",
       "      <th>1</th>\n",
       "      <td>2841697</td>\n",
       "      <td>894677</td>\n",
       "      <td>0240</td>\n",
       "      <td>2016-12-21</td>\n",
       "      <td>818161.0</td>\n",
       "      <td>20161228000896</td>\n",
       "      <td></td>\n",
       "      <td></td>\n",
       "      <td></td>\n",
       "      <td></td>\n",
       "      <td>...</td>\n",
       "      <td>0</td>\n",
       "      <td>0</td>\n",
       "      <td>2016</td>\n",
       "      <td>0</td>\n",
       "      <td>0</td>\n",
       "      <td>0</td>\n",
       "      <td>0</td>\n",
       "      <td>3</td>\n",
       "      <td>0</td>\n",
       "      <td>2016</td>\n",
       "    </tr>\n",
       "    <tr>\n",
       "      <th>20</th>\n",
       "      <td>2723231</td>\n",
       "      <td>912610</td>\n",
       "      <td>0736</td>\n",
       "      <td>2015-01-30</td>\n",
       "      <td>0.0</td>\n",
       "      <td>20150409000784</td>\n",
       "      <td></td>\n",
       "      <td></td>\n",
       "      <td></td>\n",
       "      <td></td>\n",
       "      <td>...</td>\n",
       "      <td>0</td>\n",
       "      <td>0</td>\n",
       "      <td>2013</td>\n",
       "      <td>0</td>\n",
       "      <td>0</td>\n",
       "      <td>0</td>\n",
       "      <td>0</td>\n",
       "      <td>3</td>\n",
       "      <td>0</td>\n",
       "      <td>2015</td>\n",
       "    </tr>\n",
       "    <tr>\n",
       "      <th>24</th>\n",
       "      <td>2799723</td>\n",
       "      <td>162404</td>\n",
       "      <td>9140</td>\n",
       "      <td>2016-05-18</td>\n",
       "      <td>414950.0</td>\n",
       "      <td>20160601000406</td>\n",
       "      <td></td>\n",
       "      <td></td>\n",
       "      <td></td>\n",
       "      <td></td>\n",
       "      <td>...</td>\n",
       "      <td>0</td>\n",
       "      <td>0</td>\n",
       "      <td>2016</td>\n",
       "      <td>0</td>\n",
       "      <td>0</td>\n",
       "      <td>0</td>\n",
       "      <td>0</td>\n",
       "      <td>3</td>\n",
       "      <td>0</td>\n",
       "      <td>2016</td>\n",
       "    </tr>\n",
       "    <tr>\n",
       "      <th>31</th>\n",
       "      <td>2855775</td>\n",
       "      <td>931550</td>\n",
       "      <td>0560</td>\n",
       "      <td>2017-03-07</td>\n",
       "      <td>608283.0</td>\n",
       "      <td>20170329001482</td>\n",
       "      <td></td>\n",
       "      <td></td>\n",
       "      <td></td>\n",
       "      <td></td>\n",
       "      <td>...</td>\n",
       "      <td>0</td>\n",
       "      <td>0</td>\n",
       "      <td>2016</td>\n",
       "      <td>0</td>\n",
       "      <td>0</td>\n",
       "      <td>0</td>\n",
       "      <td>0</td>\n",
       "      <td>3</td>\n",
       "      <td>0</td>\n",
       "      <td>2017</td>\n",
       "    </tr>\n",
       "    <tr>\n",
       "      <th>39</th>\n",
       "      <td>2862980</td>\n",
       "      <td>418720</td>\n",
       "      <td>0290</td>\n",
       "      <td>2017-05-01</td>\n",
       "      <td>750000.0</td>\n",
       "      <td></td>\n",
       "      <td></td>\n",
       "      <td></td>\n",
       "      <td></td>\n",
       "      <td></td>\n",
       "      <td>...</td>\n",
       "      <td>0</td>\n",
       "      <td>0</td>\n",
       "      <td>2010</td>\n",
       "      <td>0</td>\n",
       "      <td>0</td>\n",
       "      <td>0</td>\n",
       "      <td>0</td>\n",
       "      <td>3</td>\n",
       "      <td>6000</td>\n",
       "      <td>2017</td>\n",
       "    </tr>\n",
       "    <tr>\n",
       "      <th>...</th>\n",
       "      <td>...</td>\n",
       "      <td>...</td>\n",
       "      <td>...</td>\n",
       "      <td>...</td>\n",
       "      <td>...</td>\n",
       "      <td>...</td>\n",
       "      <td>...</td>\n",
       "      <td>...</td>\n",
       "      <td>...</td>\n",
       "      <td>...</td>\n",
       "      <td>...</td>\n",
       "      <td>...</td>\n",
       "      <td>...</td>\n",
       "      <td>...</td>\n",
       "      <td>...</td>\n",
       "      <td>...</td>\n",
       "      <td>...</td>\n",
       "      <td>...</td>\n",
       "      <td>...</td>\n",
       "      <td>...</td>\n",
       "      <td>...</td>\n",
       "    </tr>\n",
       "    <tr>\n",
       "      <th>251281</th>\n",
       "      <td>3045715</td>\n",
       "      <td>412700</td>\n",
       "      <td>0898</td>\n",
       "      <td>2020-04-29</td>\n",
       "      <td>619000.0</td>\n",
       "      <td>20200505001286</td>\n",
       "      <td></td>\n",
       "      <td></td>\n",
       "      <td></td>\n",
       "      <td></td>\n",
       "      <td>...</td>\n",
       "      <td>0</td>\n",
       "      <td>0</td>\n",
       "      <td>2018</td>\n",
       "      <td>0</td>\n",
       "      <td>0</td>\n",
       "      <td>0</td>\n",
       "      <td>0</td>\n",
       "      <td>3</td>\n",
       "      <td>6000</td>\n",
       "      <td>2020</td>\n",
       "    </tr>\n",
       "    <tr>\n",
       "      <th>251283</th>\n",
       "      <td>2901247</td>\n",
       "      <td>095200</td>\n",
       "      <td>5840</td>\n",
       "      <td>2017-11-09</td>\n",
       "      <td>0.0</td>\n",
       "      <td>20171116001180</td>\n",
       "      <td></td>\n",
       "      <td></td>\n",
       "      <td></td>\n",
       "      <td></td>\n",
       "      <td>...</td>\n",
       "      <td>0</td>\n",
       "      <td>0</td>\n",
       "      <td>2017</td>\n",
       "      <td>0</td>\n",
       "      <td>0</td>\n",
       "      <td>0</td>\n",
       "      <td>0</td>\n",
       "      <td>3</td>\n",
       "      <td>0</td>\n",
       "      <td>2017</td>\n",
       "    </tr>\n",
       "    <tr>\n",
       "      <th>251290</th>\n",
       "      <td>2997920</td>\n",
       "      <td>302300</td>\n",
       "      <td>0320</td>\n",
       "      <td>2019-05-01</td>\n",
       "      <td>0.0</td>\n",
       "      <td>20190705000539</td>\n",
       "      <td></td>\n",
       "      <td></td>\n",
       "      <td></td>\n",
       "      <td></td>\n",
       "      <td>...</td>\n",
       "      <td>0</td>\n",
       "      <td>0</td>\n",
       "      <td>2011</td>\n",
       "      <td>0</td>\n",
       "      <td>0</td>\n",
       "      <td>0</td>\n",
       "      <td>0</td>\n",
       "      <td>3</td>\n",
       "      <td>6000</td>\n",
       "      <td>2019</td>\n",
       "    </tr>\n",
       "    <tr>\n",
       "      <th>251298</th>\n",
       "      <td>2971374</td>\n",
       "      <td>924600</td>\n",
       "      <td>0650</td>\n",
       "      <td>2019-01-02</td>\n",
       "      <td>0.0</td>\n",
       "      <td></td>\n",
       "      <td></td>\n",
       "      <td></td>\n",
       "      <td></td>\n",
       "      <td></td>\n",
       "      <td>...</td>\n",
       "      <td>0</td>\n",
       "      <td>0</td>\n",
       "      <td>2015</td>\n",
       "      <td>0</td>\n",
       "      <td>0</td>\n",
       "      <td>0</td>\n",
       "      <td>0</td>\n",
       "      <td>3</td>\n",
       "      <td>0</td>\n",
       "      <td>2019</td>\n",
       "    </tr>\n",
       "    <tr>\n",
       "      <th>251299</th>\n",
       "      <td>2728428</td>\n",
       "      <td>678120</td>\n",
       "      <td>0047</td>\n",
       "      <td>2015-04-23</td>\n",
       "      <td>399950.0</td>\n",
       "      <td>20150505001366</td>\n",
       "      <td></td>\n",
       "      <td></td>\n",
       "      <td></td>\n",
       "      <td></td>\n",
       "      <td>...</td>\n",
       "      <td>0</td>\n",
       "      <td>0</td>\n",
       "      <td>2015</td>\n",
       "      <td>0</td>\n",
       "      <td>0</td>\n",
       "      <td>0</td>\n",
       "      <td>0</td>\n",
       "      <td>3</td>\n",
       "      <td>0</td>\n",
       "      <td>2015</td>\n",
       "    </tr>\n",
       "  </tbody>\n",
       "</table>\n",
       "<p>39980 rows × 150 columns</p>\n",
       "</div>"
      ],
      "text/plain": [
       "       ExciseTaxNbr   Major Minor DocumentDate  SalePrice    RecordingNbr  \\\n",
       "1           2841697  894677  0240   2016-12-21   818161.0  20161228000896   \n",
       "20          2723231  912610  0736   2015-01-30        0.0  20150409000784   \n",
       "24          2799723  162404  9140   2016-05-18   414950.0  20160601000406   \n",
       "31          2855775  931550  0560   2017-03-07   608283.0  20170329001482   \n",
       "39          2862980  418720  0290   2017-05-01   750000.0                   \n",
       "...             ...     ...   ...          ...        ...             ...   \n",
       "251281      3045715  412700  0898   2020-04-29   619000.0  20200505001286   \n",
       "251283      2901247  095200  5840   2017-11-09        0.0  20171116001180   \n",
       "251290      2997920  302300  0320   2019-05-01        0.0  20190705000539   \n",
       "251298      2971374  924600  0650   2019-01-02        0.0                   \n",
       "251299      2728428  678120  0047   2015-04-23   399950.0  20150505001366   \n",
       "\n",
       "       Volume Page PlatNbr PlatType  ... FpFreestanding FpAdditional YrBuilt  \\\n",
       "1                                    ...              0            0    2016   \n",
       "20                                   ...              0            0    2013   \n",
       "24                                   ...              0            0    2016   \n",
       "31                                   ...              0            0    2016   \n",
       "39                                   ...              0            0    2010   \n",
       "...       ...  ...     ...      ...  ...            ...          ...     ...   \n",
       "251281                               ...              0            0    2018   \n",
       "251283                               ...              0            0    2017   \n",
       "251290                               ...              0            0    2011   \n",
       "251298                               ...              0            0    2015   \n",
       "251299                               ...              0            0    2015   \n",
       "\n",
       "       YrRenovated PcntComplete Obsolescence PcntNetCondition Condition  \\\n",
       "1                0            0            0                0         3   \n",
       "20               0            0            0                0         3   \n",
       "24               0            0            0                0         3   \n",
       "31               0            0            0                0         3   \n",
       "39               0            0            0                0         3   \n",
       "...            ...          ...          ...              ...       ...   \n",
       "251281           0            0            0                0         3   \n",
       "251283           0            0            0                0         3   \n",
       "251290           0            0            0                0         3   \n",
       "251298           0            0            0                0         3   \n",
       "251299           0            0            0                0         3   \n",
       "\n",
       "       AddnlCost DocumentYear  \n",
       "1              0         2016  \n",
       "20             0         2015  \n",
       "24             0         2016  \n",
       "31             0         2017  \n",
       "39          6000         2017  \n",
       "...          ...          ...  \n",
       "251281      6000         2020  \n",
       "251283         0         2017  \n",
       "251290      6000         2019  \n",
       "251298         0         2019  \n",
       "251299         0         2015  \n",
       "\n",
       "[39980 rows x 150 columns]"
      ]
     },
     "execution_count": 25,
     "metadata": {},
     "output_type": "execute_result"
    }
   ],
   "source": [
    "df[df.isna().any(axis=1)]"
   ]
  },
  {
   "cell_type": "code",
   "execution_count": 26,
   "metadata": {},
   "outputs": [
    {
     "data": {
      "text/plain": [
       "39980"
      ]
     },
     "execution_count": 26,
     "metadata": {},
     "output_type": "execute_result"
    }
   ],
   "source": [
    "# checking number of null zips\n",
    "df.isna().any(axis=1).sum()"
   ]
  },
  {
   "cell_type": "markdown",
   "metadata": {},
   "source": [
    "### Replacing Null Zip Codes With `'00000'`"
   ]
  },
  {
   "cell_type": "code",
   "execution_count": 27,
   "metadata": {},
   "outputs": [],
   "source": [
    "# filling NaNs with '00000'\n",
    "df.fillna('00000', inplace=True)"
   ]
  },
  {
   "cell_type": "code",
   "execution_count": 28,
   "metadata": {},
   "outputs": [
    {
     "data": {
      "text/plain": [
       "0"
      ]
     },
     "execution_count": 28,
     "metadata": {},
     "output_type": "execute_result"
    }
   ],
   "source": [
    "# checking work\n",
    "df['ZipCode'].isna().sum()"
   ]
  },
  {
   "cell_type": "code",
   "execution_count": 29,
   "metadata": {},
   "outputs": [
    {
     "data": {
      "text/plain": [
       "array(['98188', '00000', '98103', '98115', '98106', '98019', '98038',\n",
       "       '98070', '98168', '98092', '98125', '98030', '98007', '98116',\n",
       "       '98023', '98109', '98033', '98146', '98117', '98052', '98058',\n",
       "       '98045', '98118', '98166', '98034', '98004', '98133', '98006',\n",
       "       '98002', '98065', '98075', '98010', '98102', '98077', '98011',\n",
       "       '98074', '98042', '98032', '98053', '98198', '98051', '98001',\n",
       "       '98008', '98059', '98003', '98027', '98056', '98028', '98126',\n",
       "       '98107', '98122', '98155', '98105', '98022', '98199', '98136',\n",
       "       '98040', '98047', '98177', '98031', '98005', '98148', '98108',\n",
       "       '98178', '98055', '98144', '98112', '98072', '98119', '98029',\n",
       "       '98024', '98302', '98039', '98288', '98014', '98058 ', '98224',\n",
       "       '98057', '98354', '98134', '98050', '98104', '98000', '98132',\n",
       "       '98026', '98204', '98042-3001', '98068', '98023-7330',\n",
       "       '98074-9301', '98034-2540', '98097', '8126', '9059', '28028',\n",
       "       'A on plans', '98189', '98075-9645', ' ', '98107-5353', '98',\n",
       "       '98199-3014', '98103-8173', '98074-3908', '98018', '98008-4429',\n",
       "       '988122', '98028-4712', '98038-3112', '98113', '981182019',\n",
       "       '98198-8930', '98422', '98028-2118', '89045', '98085', '98405',\n",
       "       '98043', '98055-2521', '98009', '98058-5344', '98074-6568',\n",
       "       '90333', '98121', '98023-7841', '98083', '98088', '3',\n",
       "       '98136-1728', '98075-8010', '90108', '98059-5449', '98118-6116',\n",
       "       '98013', '98059-7120', '98028-6100', '91844', '98031-3173',\n",
       "       '98074-4417', '98028-8908', '9800', '98075-9644', '98012', '98952',\n",
       "       '98111', '9859', '9804', '98028-8533', '98029-3602', '98146-3008',\n",
       "       '98079', '98052-1963', '98028-4505', '98075-9513', '98074-6745',\n",
       "       '98101', '95059', '98063'], dtype=object)"
      ]
     },
     "execution_count": 29,
     "metadata": {},
     "output_type": "execute_result"
    }
   ],
   "source": [
    "# checking unique zipcodes\n",
    "df['ZipCode'].unique()"
   ]
  },
  {
   "cell_type": "markdown",
   "metadata": {},
   "source": [
    "### Cleaning ZipCode Data\n",
    "Adding new `ZipClean` column and cleaning zip code data by splitting 9-digit code and dropping last 4 digits. Also, stripping whitespaces and dropping any rows with codes not of length 5. Lastly, dropping original `ZipCode` column."
   ]
  },
  {
   "cell_type": "code",
   "execution_count": 30,
   "metadata": {},
   "outputs": [],
   "source": [
    "# adding new column with split codes\n",
    "df['ZipClean']=df.groupby('ZipCode')['ZipCode'].transform(lambda x: x.str.split('-').str[0])"
   ]
  },
  {
   "cell_type": "code",
   "execution_count": 31,
   "metadata": {},
   "outputs": [],
   "source": [
    "# stripping whitespace\n",
    "df['ZipClean'] = fn.col_stripper(df,'ZipClean')"
   ]
  },
  {
   "cell_type": "code",
   "execution_count": 32,
   "metadata": {},
   "outputs": [],
   "source": [
    "# making a list of uniques\n",
    "uniques = df['ZipClean'].unique()"
   ]
  },
  {
   "cell_type": "code",
   "execution_count": 33,
   "metadata": {},
   "outputs": [],
   "source": [
    "# making a list of dirty strings\n",
    "dirty_zips = [x for x in uniques if len(x) != 5]"
   ]
  },
  {
   "cell_type": "code",
   "execution_count": 34,
   "metadata": {},
   "outputs": [
    {
     "data": {
      "text/plain": [
       "['8126',\n",
       " '9059',\n",
       " 'A on plans',\n",
       " '',\n",
       " '98',\n",
       " '988122',\n",
       " '981182019',\n",
       " '3',\n",
       " '9800',\n",
       " '9859',\n",
       " '9804']"
      ]
     },
     "execution_count": 34,
     "metadata": {},
     "output_type": "execute_result"
    }
   ],
   "source": [
    "# printing list of dirty strings\n",
    "dirty_zips"
   ]
  },
  {
   "cell_type": "code",
   "execution_count": 35,
   "metadata": {},
   "outputs": [],
   "source": [
    "# # creating drop index and dropping rows\n",
    "# drop_idx = df[(df.ZipClean == '8126')|\\\n",
    "#              (df.ZipClean == '9059')|\\\n",
    "#              (df.ZipClean == 'A on plans')|\\\n",
    "#              (df.ZipClean == '')|\\\n",
    "#              (df.ZipClean == '98')|\\\n",
    "#              (df.ZipClean == '988122')|\\\n",
    "#              (df.ZipClean == '981182019')|\\\n",
    "#              (df.ZipClean == '3')|\\\n",
    "#              (df.ZipClean == '9800')|\\\n",
    "#              (df.ZipClean == '9859')|\\\n",
    "#              (df.ZipClean == '9804')].index\n",
    "# df.drop(drop_idx, inplace=True)"
   ]
  },
  {
   "cell_type": "code",
   "execution_count": 36,
   "metadata": {},
   "outputs": [],
   "source": [
    "# dropping rows with dirty zip codes\n",
    "df = df[~df.ZipClean.isin(dirty_zips)]"
   ]
  },
  {
   "cell_type": "code",
   "execution_count": null,
   "metadata": {},
   "outputs": [],
   "source": []
  },
  {
   "cell_type": "code",
   "execution_count": 37,
   "metadata": {},
   "outputs": [
    {
     "data": {
      "text/plain": [
       "array(['98188', '00000', '98103', '98115', '98106', '98019', '98038',\n",
       "       '98070', '98168', '98092', '98125', '98030', '98007', '98116',\n",
       "       '98023', '98109', '98033', '98146', '98117', '98052', '98058',\n",
       "       '98045', '98118', '98166', '98034', '98004', '98133', '98006',\n",
       "       '98002', '98065', '98075', '98010', '98102', '98077', '98011',\n",
       "       '98074', '98042', '98032', '98053', '98198', '98051', '98001',\n",
       "       '98008', '98059', '98003', '98027', '98056', '98028', '98126',\n",
       "       '98107', '98122', '98155', '98105', '98022', '98199', '98136',\n",
       "       '98040', '98047', '98177', '98031', '98005', '98148', '98108',\n",
       "       '98178', '98055', '98144', '98112', '98072', '98119', '98029',\n",
       "       '98024', '98302', '98039', '98288', '98014', '98224', '98057',\n",
       "       '98354', '98134', '98050', '98104', '98000', '98132', '98026',\n",
       "       '98204', '98068', '98097', '28028', '98189', '98018', '98113',\n",
       "       '98422', '89045', '98085', '98405', '98043', '98009', '90333',\n",
       "       '98121', '98083', '98088', '90108', '98013', '91844', '98012',\n",
       "       '98952', '98111', '98079', '98101', '95059', '98063'], dtype=object)"
      ]
     },
     "execution_count": 37,
     "metadata": {},
     "output_type": "execute_result"
    }
   ],
   "source": [
    "# checking cleaned data\n",
    "df['ZipClean'].unique()"
   ]
  },
  {
   "cell_type": "code",
   "execution_count": 38,
   "metadata": {},
   "outputs": [],
   "source": [
    "# dropping original zip code column\n",
    "fn.dropper(df, 'ZipCode', True)"
   ]
  },
  {
   "cell_type": "code",
   "execution_count": 39,
   "metadata": {},
   "outputs": [
    {
     "data": {
      "text/html": [
       "<div>\n",
       "<style scoped>\n",
       "    .dataframe tbody tr th:only-of-type {\n",
       "        vertical-align: middle;\n",
       "    }\n",
       "\n",
       "    .dataframe tbody tr th {\n",
       "        vertical-align: top;\n",
       "    }\n",
       "\n",
       "    .dataframe thead th {\n",
       "        text-align: right;\n",
       "    }\n",
       "</style>\n",
       "<table border=\"1\" class=\"dataframe\">\n",
       "  <thead>\n",
       "    <tr style=\"text-align: right;\">\n",
       "      <th></th>\n",
       "      <th>ExciseTaxNbr</th>\n",
       "      <th>Major</th>\n",
       "      <th>Minor</th>\n",
       "      <th>DocumentDate</th>\n",
       "      <th>SalePrice</th>\n",
       "      <th>RecordingNbr</th>\n",
       "      <th>Volume</th>\n",
       "      <th>Page</th>\n",
       "      <th>PlatNbr</th>\n",
       "      <th>PlatType</th>\n",
       "      <th>...</th>\n",
       "      <th>FpAdditional</th>\n",
       "      <th>YrBuilt</th>\n",
       "      <th>YrRenovated</th>\n",
       "      <th>PcntComplete</th>\n",
       "      <th>Obsolescence</th>\n",
       "      <th>PcntNetCondition</th>\n",
       "      <th>Condition</th>\n",
       "      <th>AddnlCost</th>\n",
       "      <th>DocumentYear</th>\n",
       "      <th>ZipClean</th>\n",
       "    </tr>\n",
       "  </thead>\n",
       "  <tbody>\n",
       "    <tr>\n",
       "      <th>0</th>\n",
       "      <td>2743355</td>\n",
       "      <td>638580</td>\n",
       "      <td>0110</td>\n",
       "      <td>2015-07-14</td>\n",
       "      <td>190000.0</td>\n",
       "      <td>20150715002686</td>\n",
       "      <td></td>\n",
       "      <td></td>\n",
       "      <td></td>\n",
       "      <td></td>\n",
       "      <td>...</td>\n",
       "      <td>1</td>\n",
       "      <td>1963</td>\n",
       "      <td>0</td>\n",
       "      <td>0</td>\n",
       "      <td>0</td>\n",
       "      <td>0</td>\n",
       "      <td>3</td>\n",
       "      <td>0</td>\n",
       "      <td>2015</td>\n",
       "      <td>98188</td>\n",
       "    </tr>\n",
       "  </tbody>\n",
       "</table>\n",
       "<p>1 rows × 150 columns</p>\n",
       "</div>"
      ],
      "text/plain": [
       "  ExciseTaxNbr   Major Minor DocumentDate  SalePrice    RecordingNbr Volume  \\\n",
       "0      2743355  638580  0110   2015-07-14   190000.0  20150715002686          \n",
       "\n",
       "  Page PlatNbr PlatType  ... FpAdditional YrBuilt YrRenovated PcntComplete  \\\n",
       "0                        ...            1    1963           0            0   \n",
       "\n",
       "  Obsolescence PcntNetCondition Condition AddnlCost DocumentYear ZipClean  \n",
       "0            0                0         3         0         2015    98188  \n",
       "\n",
       "[1 rows x 150 columns]"
      ]
     },
     "execution_count": 39,
     "metadata": {},
     "output_type": "execute_result"
    }
   ],
   "source": [
    "# checking work\n",
    "df.head(1)"
   ]
  },
  {
   "cell_type": "markdown",
   "metadata": {},
   "source": [
    "### Checking for Duplicate Columns\n",
    "\n",
    "Before going any further, finding and dropping any dupes."
   ]
  },
  {
   "cell_type": "code",
   "execution_count": 40,
   "metadata": {},
   "outputs": [
    {
     "data": {
      "text/html": [
       "<div>\n",
       "<style scoped>\n",
       "    .dataframe tbody tr th:only-of-type {\n",
       "        vertical-align: middle;\n",
       "    }\n",
       "\n",
       "    .dataframe tbody tr th {\n",
       "        vertical-align: top;\n",
       "    }\n",
       "\n",
       "    .dataframe thead th {\n",
       "        text-align: right;\n",
       "    }\n",
       "</style>\n",
       "<table border=\"1\" class=\"dataframe\">\n",
       "  <thead>\n",
       "    <tr style=\"text-align: right;\">\n",
       "      <th></th>\n",
       "      <th>Major</th>\n",
       "      <th>Minor</th>\n",
       "      <th>PlatLot</th>\n",
       "      <th>PlatBlock</th>\n",
       "      <th>Major</th>\n",
       "      <th>Minor</th>\n",
       "    </tr>\n",
       "  </thead>\n",
       "  <tbody>\n",
       "    <tr>\n",
       "      <th>0</th>\n",
       "      <td>638580</td>\n",
       "      <td>0110</td>\n",
       "      <td>11</td>\n",
       "      <td></td>\n",
       "      <td>638580</td>\n",
       "      <td>0110</td>\n",
       "    </tr>\n",
       "    <tr>\n",
       "      <th>1</th>\n",
       "      <td>894677</td>\n",
       "      <td>0240</td>\n",
       "      <td>24</td>\n",
       "      <td></td>\n",
       "      <td>894677</td>\n",
       "      <td>0240</td>\n",
       "    </tr>\n",
       "    <tr>\n",
       "      <th>2</th>\n",
       "      <td>408330</td>\n",
       "      <td>4150</td>\n",
       "      <td>9</td>\n",
       "      <td>42</td>\n",
       "      <td>408330</td>\n",
       "      <td>4150</td>\n",
       "    </tr>\n",
       "  </tbody>\n",
       "</table>\n",
       "</div>"
      ],
      "text/plain": [
       "    Major Minor         PlatLot PlatBlock   Major Minor\n",
       "0  638580  0110  11                        638580  0110\n",
       "1  894677  0240  24                        894677  0240\n",
       "2  408330  4150  9                42       408330  4150"
      ]
     },
     "execution_count": 40,
     "metadata": {},
     "output_type": "execute_result"
    }
   ],
   "source": [
    "# checking for duplicate columns\n",
    "df.loc[:, df.columns.duplicated()].head(3)"
   ]
  },
  {
   "cell_type": "code",
   "execution_count": 41,
   "metadata": {},
   "outputs": [
    {
     "name": "stdout",
     "output_type": "stream",
     "text": [
      "(251279, 144)\n"
     ]
    },
    {
     "data": {
      "text/html": [
       "<div>\n",
       "<style scoped>\n",
       "    .dataframe tbody tr th:only-of-type {\n",
       "        vertical-align: middle;\n",
       "    }\n",
       "\n",
       "    .dataframe tbody tr th {\n",
       "        vertical-align: top;\n",
       "    }\n",
       "\n",
       "    .dataframe thead th {\n",
       "        text-align: right;\n",
       "    }\n",
       "</style>\n",
       "<table border=\"1\" class=\"dataframe\">\n",
       "  <thead>\n",
       "    <tr style=\"text-align: right;\">\n",
       "      <th></th>\n",
       "      <th>ExciseTaxNbr</th>\n",
       "      <th>Major</th>\n",
       "      <th>Minor</th>\n",
       "      <th>DocumentDate</th>\n",
       "      <th>SalePrice</th>\n",
       "      <th>RecordingNbr</th>\n",
       "      <th>Volume</th>\n",
       "      <th>Page</th>\n",
       "      <th>PlatNbr</th>\n",
       "      <th>PlatType</th>\n",
       "      <th>...</th>\n",
       "      <th>FpAdditional</th>\n",
       "      <th>YrBuilt</th>\n",
       "      <th>YrRenovated</th>\n",
       "      <th>PcntComplete</th>\n",
       "      <th>Obsolescence</th>\n",
       "      <th>PcntNetCondition</th>\n",
       "      <th>Condition</th>\n",
       "      <th>AddnlCost</th>\n",
       "      <th>DocumentYear</th>\n",
       "      <th>ZipClean</th>\n",
       "    </tr>\n",
       "  </thead>\n",
       "  <tbody>\n",
       "    <tr>\n",
       "      <th>0</th>\n",
       "      <td>2743355</td>\n",
       "      <td>638580</td>\n",
       "      <td>0110</td>\n",
       "      <td>2015-07-14</td>\n",
       "      <td>190000.0</td>\n",
       "      <td>20150715002686</td>\n",
       "      <td></td>\n",
       "      <td></td>\n",
       "      <td></td>\n",
       "      <td></td>\n",
       "      <td>...</td>\n",
       "      <td>1</td>\n",
       "      <td>1963</td>\n",
       "      <td>0</td>\n",
       "      <td>0</td>\n",
       "      <td>0</td>\n",
       "      <td>0</td>\n",
       "      <td>3</td>\n",
       "      <td>0</td>\n",
       "      <td>2015</td>\n",
       "      <td>98188</td>\n",
       "    </tr>\n",
       "  </tbody>\n",
       "</table>\n",
       "<p>1 rows × 144 columns</p>\n",
       "</div>"
      ],
      "text/plain": [
       "  ExciseTaxNbr   Major Minor DocumentDate  SalePrice    RecordingNbr Volume  \\\n",
       "0      2743355  638580  0110   2015-07-14   190000.0  20150715002686          \n",
       "\n",
       "  Page PlatNbr PlatType  ... FpAdditional YrBuilt YrRenovated PcntComplete  \\\n",
       "0                        ...            1    1963           0            0   \n",
       "\n",
       "  Obsolescence PcntNetCondition Condition AddnlCost DocumentYear ZipClean  \n",
       "0            0                0         3         0         2015    98188  \n",
       "\n",
       "[1 rows x 144 columns]"
      ]
     },
     "execution_count": 41,
     "metadata": {},
     "output_type": "execute_result"
    }
   ],
   "source": [
    "# dropping duplicate column and checking shape\n",
    "df = df.loc[:,~df.columns.duplicated()]\n",
    "print(df.shape)\n",
    "df.head(1)"
   ]
  },
  {
   "cell_type": "markdown",
   "metadata": {},
   "source": [
    "##  Swapping Column Order & Adding an `'ID'` Feature\n",
    "Doing a little house cleaning by moving the `'SalePrice'` target variable to the front of the data frame and creating an `'ID'` feature by combining the `'Major'` and `'Minor'` values into a single string. Moving the `'ID'` feature to second position in the data frame."
   ]
  },
  {
   "cell_type": "code",
   "execution_count": 42,
   "metadata": {},
   "outputs": [
    {
     "data": {
      "text/html": [
       "<div>\n",
       "<style scoped>\n",
       "    .dataframe tbody tr th:only-of-type {\n",
       "        vertical-align: middle;\n",
       "    }\n",
       "\n",
       "    .dataframe tbody tr th {\n",
       "        vertical-align: top;\n",
       "    }\n",
       "\n",
       "    .dataframe thead th {\n",
       "        text-align: right;\n",
       "    }\n",
       "</style>\n",
       "<table border=\"1\" class=\"dataframe\">\n",
       "  <thead>\n",
       "    <tr style=\"text-align: right;\">\n",
       "      <th></th>\n",
       "      <th>SalePrice</th>\n",
       "      <th>ExciseTaxNbr</th>\n",
       "      <th>Major</th>\n",
       "      <th>Minor</th>\n",
       "      <th>DocumentDate</th>\n",
       "      <th>RecordingNbr</th>\n",
       "      <th>Volume</th>\n",
       "      <th>Page</th>\n",
       "      <th>PlatNbr</th>\n",
       "      <th>PlatType</th>\n",
       "      <th>...</th>\n",
       "      <th>FpAdditional</th>\n",
       "      <th>YrBuilt</th>\n",
       "      <th>YrRenovated</th>\n",
       "      <th>PcntComplete</th>\n",
       "      <th>Obsolescence</th>\n",
       "      <th>PcntNetCondition</th>\n",
       "      <th>Condition</th>\n",
       "      <th>AddnlCost</th>\n",
       "      <th>DocumentYear</th>\n",
       "      <th>ZipClean</th>\n",
       "    </tr>\n",
       "  </thead>\n",
       "  <tbody>\n",
       "    <tr>\n",
       "      <th>0</th>\n",
       "      <td>190000.0</td>\n",
       "      <td>2743355</td>\n",
       "      <td>638580</td>\n",
       "      <td>0110</td>\n",
       "      <td>2015-07-14</td>\n",
       "      <td>20150715002686</td>\n",
       "      <td></td>\n",
       "      <td></td>\n",
       "      <td></td>\n",
       "      <td></td>\n",
       "      <td>...</td>\n",
       "      <td>1</td>\n",
       "      <td>1963</td>\n",
       "      <td>0</td>\n",
       "      <td>0</td>\n",
       "      <td>0</td>\n",
       "      <td>0</td>\n",
       "      <td>3</td>\n",
       "      <td>0</td>\n",
       "      <td>2015</td>\n",
       "      <td>98188</td>\n",
       "    </tr>\n",
       "    <tr>\n",
       "      <th>1</th>\n",
       "      <td>818161.0</td>\n",
       "      <td>2841697</td>\n",
       "      <td>894677</td>\n",
       "      <td>0240</td>\n",
       "      <td>2016-12-21</td>\n",
       "      <td>20161228000896</td>\n",
       "      <td></td>\n",
       "      <td></td>\n",
       "      <td></td>\n",
       "      <td></td>\n",
       "      <td>...</td>\n",
       "      <td>0</td>\n",
       "      <td>2016</td>\n",
       "      <td>0</td>\n",
       "      <td>0</td>\n",
       "      <td>0</td>\n",
       "      <td>0</td>\n",
       "      <td>3</td>\n",
       "      <td>0</td>\n",
       "      <td>2016</td>\n",
       "      <td>00000</td>\n",
       "    </tr>\n",
       "    <tr>\n",
       "      <th>2</th>\n",
       "      <td>0.0</td>\n",
       "      <td>2860712</td>\n",
       "      <td>408330</td>\n",
       "      <td>4150</td>\n",
       "      <td>2017-03-15</td>\n",
       "      <td>20170426000922</td>\n",
       "      <td></td>\n",
       "      <td></td>\n",
       "      <td></td>\n",
       "      <td></td>\n",
       "      <td>...</td>\n",
       "      <td>0</td>\n",
       "      <td>1906</td>\n",
       "      <td>0</td>\n",
       "      <td>0</td>\n",
       "      <td>0</td>\n",
       "      <td>0</td>\n",
       "      <td>4</td>\n",
       "      <td>0</td>\n",
       "      <td>2017</td>\n",
       "      <td>98103</td>\n",
       "    </tr>\n",
       "  </tbody>\n",
       "</table>\n",
       "<p>3 rows × 144 columns</p>\n",
       "</div>"
      ],
      "text/plain": [
       "   SalePrice ExciseTaxNbr   Major Minor DocumentDate    RecordingNbr Volume  \\\n",
       "0   190000.0      2743355  638580  0110   2015-07-14  20150715002686          \n",
       "1   818161.0      2841697  894677  0240   2016-12-21  20161228000896          \n",
       "2        0.0      2860712  408330  4150   2017-03-15  20170426000922          \n",
       "\n",
       "  Page PlatNbr PlatType  ... FpAdditional YrBuilt YrRenovated PcntComplete  \\\n",
       "0                        ...            1    1963           0            0   \n",
       "1                        ...            0    2016           0            0   \n",
       "2                        ...            0    1906           0            0   \n",
       "\n",
       "  Obsolescence PcntNetCondition Condition AddnlCost DocumentYear ZipClean  \n",
       "0            0                0         3         0         2015    98188  \n",
       "1            0                0         3         0         2016    00000  \n",
       "2            0                0         4         0         2017    98103  \n",
       "\n",
       "[3 rows x 144 columns]"
      ]
     },
     "execution_count": 42,
     "metadata": {},
     "output_type": "execute_result"
    }
   ],
   "source": [
    "# moving target variable to the front column of the df\n",
    "columns = list(df.columns)\n",
    "columns = [columns[4]] + columns[:4] + columns[5:]\n",
    "df = df[columns]\n",
    "df.head(3)"
   ]
  },
  {
   "cell_type": "markdown",
   "metadata": {},
   "source": [
    "#### Creating `ID` Feature and Moving it to Front of Data Frame"
   ]
  },
  {
   "cell_type": "code",
   "execution_count": 43,
   "metadata": {},
   "outputs": [],
   "source": [
    "# creating 'ID' column\n",
    "df['ID'] = df['Major'] + df['Minor']"
   ]
  },
  {
   "cell_type": "code",
   "execution_count": 44,
   "metadata": {},
   "outputs": [
    {
     "name": "stdout",
     "output_type": "stream",
     "text": [
      "<class 'pandas.core.frame.DataFrame'>\n",
      "Int64Index: 251279 entries, 0 to 251299\n",
      "Columns: 145 entries, SalePrice to ID\n",
      "dtypes: datetime64[ns](1), float64(1), int64(1), object(142)\n",
      "memory usage: 279.9+ MB\n"
     ]
    }
   ],
   "source": [
    "# getting info\n",
    "df.info()"
   ]
  },
  {
   "cell_type": "code",
   "execution_count": 45,
   "metadata": {},
   "outputs": [
    {
     "data": {
      "text/html": [
       "<div>\n",
       "<style scoped>\n",
       "    .dataframe tbody tr th:only-of-type {\n",
       "        vertical-align: middle;\n",
       "    }\n",
       "\n",
       "    .dataframe tbody tr th {\n",
       "        vertical-align: top;\n",
       "    }\n",
       "\n",
       "    .dataframe thead th {\n",
       "        text-align: right;\n",
       "    }\n",
       "</style>\n",
       "<table border=\"1\" class=\"dataframe\">\n",
       "  <thead>\n",
       "    <tr style=\"text-align: right;\">\n",
       "      <th></th>\n",
       "      <th>SalePrice</th>\n",
       "      <th>ID</th>\n",
       "      <th>ExciseTaxNbr</th>\n",
       "      <th>Major</th>\n",
       "      <th>Minor</th>\n",
       "      <th>DocumentDate</th>\n",
       "      <th>RecordingNbr</th>\n",
       "      <th>Volume</th>\n",
       "      <th>Page</th>\n",
       "      <th>PlatNbr</th>\n",
       "      <th>...</th>\n",
       "      <th>FpAdditional</th>\n",
       "      <th>YrBuilt</th>\n",
       "      <th>YrRenovated</th>\n",
       "      <th>PcntComplete</th>\n",
       "      <th>Obsolescence</th>\n",
       "      <th>PcntNetCondition</th>\n",
       "      <th>Condition</th>\n",
       "      <th>AddnlCost</th>\n",
       "      <th>DocumentYear</th>\n",
       "      <th>ZipClean</th>\n",
       "    </tr>\n",
       "  </thead>\n",
       "  <tbody>\n",
       "    <tr>\n",
       "      <th>0</th>\n",
       "      <td>190000.0</td>\n",
       "      <td>6385800110</td>\n",
       "      <td>2743355</td>\n",
       "      <td>638580</td>\n",
       "      <td>0110</td>\n",
       "      <td>2015-07-14</td>\n",
       "      <td>20150715002686</td>\n",
       "      <td></td>\n",
       "      <td></td>\n",
       "      <td></td>\n",
       "      <td>...</td>\n",
       "      <td>1</td>\n",
       "      <td>1963</td>\n",
       "      <td>0</td>\n",
       "      <td>0</td>\n",
       "      <td>0</td>\n",
       "      <td>0</td>\n",
       "      <td>3</td>\n",
       "      <td>0</td>\n",
       "      <td>2015</td>\n",
       "      <td>98188</td>\n",
       "    </tr>\n",
       "  </tbody>\n",
       "</table>\n",
       "<p>1 rows × 145 columns</p>\n",
       "</div>"
      ],
      "text/plain": [
       "   SalePrice          ID ExciseTaxNbr   Major Minor DocumentDate  \\\n",
       "0   190000.0  6385800110      2743355  638580  0110   2015-07-14   \n",
       "\n",
       "     RecordingNbr Volume Page PlatNbr  ... FpAdditional YrBuilt YrRenovated  \\\n",
       "0  20150715002686                      ...            1    1963           0   \n",
       "\n",
       "  PcntComplete Obsolescence PcntNetCondition Condition AddnlCost DocumentYear  \\\n",
       "0            0            0                0         3         0         2015   \n",
       "\n",
       "  ZipClean  \n",
       "0    98188  \n",
       "\n",
       "[1 rows x 145 columns]"
      ]
     },
     "execution_count": 45,
     "metadata": {},
     "output_type": "execute_result"
    }
   ],
   "source": [
    "# moving ID column to the front column of the df\n",
    "columns = list(df.columns)\n",
    "columns = columns[:1] + [columns[144]] + columns[1:144]\n",
    "df = df[columns]\n",
    "df.head(1)"
   ]
  },
  {
   "cell_type": "code",
   "execution_count": 46,
   "metadata": {},
   "outputs": [],
   "source": [
    "fn.dropper(df, ['Major', 'Minor'], True)"
   ]
  },
  {
   "cell_type": "markdown",
   "metadata": {},
   "source": [
    "## Checking For Duplicate Rows\n",
    "Looking for duped rows before cleaning columns."
   ]
  },
  {
   "cell_type": "code",
   "execution_count": 47,
   "metadata": {
    "tags": []
   },
   "outputs": [
    {
     "data": {
      "text/html": [
       "<div>\n",
       "<style scoped>\n",
       "    .dataframe tbody tr th:only-of-type {\n",
       "        vertical-align: middle;\n",
       "    }\n",
       "\n",
       "    .dataframe tbody tr th {\n",
       "        vertical-align: top;\n",
       "    }\n",
       "\n",
       "    .dataframe thead th {\n",
       "        text-align: right;\n",
       "    }\n",
       "</style>\n",
       "<table border=\"1\" class=\"dataframe\">\n",
       "  <thead>\n",
       "    <tr style=\"text-align: right;\">\n",
       "      <th></th>\n",
       "      <th>SalePrice</th>\n",
       "      <th>ID</th>\n",
       "      <th>ExciseTaxNbr</th>\n",
       "      <th>DocumentDate</th>\n",
       "      <th>RecordingNbr</th>\n",
       "      <th>Volume</th>\n",
       "      <th>Page</th>\n",
       "      <th>PlatNbr</th>\n",
       "      <th>PlatType</th>\n",
       "      <th>PlatLot</th>\n",
       "      <th>...</th>\n",
       "      <th>FpAdditional</th>\n",
       "      <th>YrBuilt</th>\n",
       "      <th>YrRenovated</th>\n",
       "      <th>PcntComplete</th>\n",
       "      <th>Obsolescence</th>\n",
       "      <th>PcntNetCondition</th>\n",
       "      <th>Condition</th>\n",
       "      <th>AddnlCost</th>\n",
       "      <th>DocumentYear</th>\n",
       "      <th>ZipClean</th>\n",
       "    </tr>\n",
       "  </thead>\n",
       "  <tbody>\n",
       "  </tbody>\n",
       "</table>\n",
       "<p>0 rows × 143 columns</p>\n",
       "</div>"
      ],
      "text/plain": [
       "Empty DataFrame\n",
       "Columns: [SalePrice, ID, ExciseTaxNbr, DocumentDate, RecordingNbr, Volume, Page, PlatNbr, PlatType, PlatLot, PlatBlock, SellerName, BuyerName, PropertyType, PrincipalUse, SaleInstrument, AFForestLand, AFCurrentUseLand, AFNonProfitUse, AFHistoricProperty, SaleReason, PropertyClass, SaleWarning, Range, Township, Section, QuarterSection, PropType, Area, SubArea, DistrictName, LevyCode, CurrentZoning, HBUAsIfVacant, HBUAsImproved, PresentUse, SqFtLot, WaterSystem, SewerSystem, Access, Topography, StreetSurface, RestrictiveSzShape, InadequateParking, PcntUnusable, Unbuildable, MtRainier, Olympics, Cascades, Territorial, SeattleSkyline, PugetSound, LakeWashington, LakeSammamish, SmallLakeRiverCreek, OtherView, WfntLocation, WfntFootage, WfntBank, WfntPoorQuality, WfntRestrictedAccess, WfntAccessRights, WfntProximityInfluence, TidelandShoreland, LotDepthFactor, TrafficNoise, AirportNoise, PowerLines, OtherNuisances, NbrBldgSites, Contamination, DNRLease, AdjacentGolfFairway, AdjacentGreenbelt, HistoricSite, CurrentUseDesignation, NativeGrowthProtEsmt, Easements, OtherDesignation, DeedRestrictions, DevelopmentRightsPurch, CoalMineHazard, CriticalDrainage, ErosionHazard, LandfillBuffer, HundredYrFloodPlain, SeismicHazard, LandslideHazard, SteepSlopeHazard, Stream, Wetland, SpeciesOfConcern, SensitiveAreaTract, WaterProblems, TranspConcurrency, OtherProblems, BldgNbr, NbrLivingUnits, Address, BuildingNumber, ...]\n",
       "Index: []\n",
       "\n",
       "[0 rows x 143 columns]"
      ]
     },
     "execution_count": 47,
     "metadata": {},
     "output_type": "execute_result"
    }
   ],
   "source": [
    "# checking for duplicate rows\n",
    "df[df.duplicated()]"
   ]
  },
  {
   "cell_type": "markdown",
   "metadata": {},
   "source": [
    "# Data Understanding\n",
    "Getting a feel for what is going on in data."
   ]
  },
  {
   "cell_type": "markdown",
   "metadata": {},
   "source": [
    "### Checking For Duplicate `ID`s"
   ]
  },
  {
   "cell_type": "code",
   "execution_count": 48,
   "metadata": {},
   "outputs": [
    {
     "name": "stdout",
     "output_type": "stream",
     "text": [
      "(123199, 143)\n"
     ]
    },
    {
     "data": {
      "text/html": [
       "<div>\n",
       "<style scoped>\n",
       "    .dataframe tbody tr th:only-of-type {\n",
       "        vertical-align: middle;\n",
       "    }\n",
       "\n",
       "    .dataframe tbody tr th {\n",
       "        vertical-align: top;\n",
       "    }\n",
       "\n",
       "    .dataframe thead th {\n",
       "        text-align: right;\n",
       "    }\n",
       "</style>\n",
       "<table border=\"1\" class=\"dataframe\">\n",
       "  <thead>\n",
       "    <tr style=\"text-align: right;\">\n",
       "      <th></th>\n",
       "      <th>SalePrice</th>\n",
       "      <th>ID</th>\n",
       "      <th>ExciseTaxNbr</th>\n",
       "      <th>DocumentDate</th>\n",
       "      <th>RecordingNbr</th>\n",
       "      <th>Volume</th>\n",
       "      <th>Page</th>\n",
       "      <th>PlatNbr</th>\n",
       "      <th>PlatType</th>\n",
       "      <th>PlatLot</th>\n",
       "      <th>...</th>\n",
       "      <th>FpAdditional</th>\n",
       "      <th>YrBuilt</th>\n",
       "      <th>YrRenovated</th>\n",
       "      <th>PcntComplete</th>\n",
       "      <th>Obsolescence</th>\n",
       "      <th>PcntNetCondition</th>\n",
       "      <th>Condition</th>\n",
       "      <th>AddnlCost</th>\n",
       "      <th>DocumentYear</th>\n",
       "      <th>ZipClean</th>\n",
       "    </tr>\n",
       "  </thead>\n",
       "  <tbody>\n",
       "    <tr>\n",
       "      <th>0</th>\n",
       "      <td>190000.0</td>\n",
       "      <td>6385800110</td>\n",
       "      <td>2743355</td>\n",
       "      <td>2015-07-14</td>\n",
       "      <td>20150715002686</td>\n",
       "      <td></td>\n",
       "      <td></td>\n",
       "      <td></td>\n",
       "      <td></td>\n",
       "      <td></td>\n",
       "      <td>...</td>\n",
       "      <td>1</td>\n",
       "      <td>1963</td>\n",
       "      <td>0</td>\n",
       "      <td>0</td>\n",
       "      <td>0</td>\n",
       "      <td>0</td>\n",
       "      <td>3</td>\n",
       "      <td>0</td>\n",
       "      <td>2015</td>\n",
       "      <td>98188</td>\n",
       "    </tr>\n",
       "    <tr>\n",
       "      <th>1</th>\n",
       "      <td>818161.0</td>\n",
       "      <td>8946770240</td>\n",
       "      <td>2841697</td>\n",
       "      <td>2016-12-21</td>\n",
       "      <td>20161228000896</td>\n",
       "      <td></td>\n",
       "      <td></td>\n",
       "      <td></td>\n",
       "      <td></td>\n",
       "      <td></td>\n",
       "      <td>...</td>\n",
       "      <td>0</td>\n",
       "      <td>2016</td>\n",
       "      <td>0</td>\n",
       "      <td>0</td>\n",
       "      <td>0</td>\n",
       "      <td>0</td>\n",
       "      <td>3</td>\n",
       "      <td>0</td>\n",
       "      <td>2016</td>\n",
       "      <td>00000</td>\n",
       "    </tr>\n",
       "    <tr>\n",
       "      <th>3</th>\n",
       "      <td>0.0</td>\n",
       "      <td>5101404256</td>\n",
       "      <td>2813396</td>\n",
       "      <td>2016-07-25</td>\n",
       "      <td>20160802000964</td>\n",
       "      <td></td>\n",
       "      <td></td>\n",
       "      <td></td>\n",
       "      <td></td>\n",
       "      <td></td>\n",
       "      <td>...</td>\n",
       "      <td>0</td>\n",
       "      <td>1949</td>\n",
       "      <td>0</td>\n",
       "      <td>0</td>\n",
       "      <td>0</td>\n",
       "      <td>0</td>\n",
       "      <td>3</td>\n",
       "      <td>0</td>\n",
       "      <td>2016</td>\n",
       "      <td>98115</td>\n",
       "    </tr>\n",
       "  </tbody>\n",
       "</table>\n",
       "<p>3 rows × 143 columns</p>\n",
       "</div>"
      ],
      "text/plain": [
       "   SalePrice          ID ExciseTaxNbr DocumentDate    RecordingNbr Volume  \\\n",
       "0   190000.0  6385800110      2743355   2015-07-14  20150715002686          \n",
       "1   818161.0  8946770240      2841697   2016-12-21  20161228000896          \n",
       "3        0.0  5101404256      2813396   2016-07-25  20160802000964          \n",
       "\n",
       "  Page PlatNbr PlatType         PlatLot  ... FpAdditional YrBuilt YrRenovated  \\\n",
       "0                                        ...            1    1963           0   \n",
       "1                                        ...            0    2016           0   \n",
       "3                                        ...            0    1949           0   \n",
       "\n",
       "  PcntComplete Obsolescence PcntNetCondition Condition AddnlCost DocumentYear  \\\n",
       "0            0            0                0         3         0         2015   \n",
       "1            0            0                0         3         0         2016   \n",
       "3            0            0                0         3         0         2016   \n",
       "\n",
       "  ZipClean  \n",
       "0    98188  \n",
       "1    00000  \n",
       "3    98115  \n",
       "\n",
       "[3 rows x 143 columns]"
      ]
     },
     "execution_count": 48,
     "metadata": {},
     "output_type": "execute_result"
    }
   ],
   "source": [
    "# checking for duplicated ids\n",
    "dupe_ids = df[df.duplicated(subset=['ID'], keep=False)]\n",
    "print(dupe_ids.shape)\n",
    "dupe_ids.head(3)"
   ]
  },
  {
   "cell_type": "markdown",
   "metadata": {},
   "source": [
    "#### Filtering Zero Prices"
   ]
  },
  {
   "cell_type": "code",
   "execution_count": 49,
   "metadata": {},
   "outputs": [
    {
     "name": "stdout",
     "output_type": "stream",
     "text": [
      "(76237, 143)\n"
     ]
    },
    {
     "data": {
      "text/html": [
       "<div>\n",
       "<style scoped>\n",
       "    .dataframe tbody tr th:only-of-type {\n",
       "        vertical-align: middle;\n",
       "    }\n",
       "\n",
       "    .dataframe tbody tr th {\n",
       "        vertical-align: top;\n",
       "    }\n",
       "\n",
       "    .dataframe thead th {\n",
       "        text-align: right;\n",
       "    }\n",
       "</style>\n",
       "<table border=\"1\" class=\"dataframe\">\n",
       "  <thead>\n",
       "    <tr style=\"text-align: right;\">\n",
       "      <th></th>\n",
       "      <th>SalePrice</th>\n",
       "      <th>ID</th>\n",
       "      <th>ExciseTaxNbr</th>\n",
       "      <th>DocumentDate</th>\n",
       "      <th>RecordingNbr</th>\n",
       "      <th>Volume</th>\n",
       "      <th>Page</th>\n",
       "      <th>PlatNbr</th>\n",
       "      <th>PlatType</th>\n",
       "      <th>PlatLot</th>\n",
       "      <th>...</th>\n",
       "      <th>FpAdditional</th>\n",
       "      <th>YrBuilt</th>\n",
       "      <th>YrRenovated</th>\n",
       "      <th>PcntComplete</th>\n",
       "      <th>Obsolescence</th>\n",
       "      <th>PcntNetCondition</th>\n",
       "      <th>Condition</th>\n",
       "      <th>AddnlCost</th>\n",
       "      <th>DocumentYear</th>\n",
       "      <th>ZipClean</th>\n",
       "    </tr>\n",
       "  </thead>\n",
       "  <tbody>\n",
       "    <tr>\n",
       "      <th>144761</th>\n",
       "      <td>394950.0</td>\n",
       "      <td>0001000040</td>\n",
       "      <td>2804519</td>\n",
       "      <td>2016-06-17</td>\n",
       "      <td>20160623001164</td>\n",
       "      <td></td>\n",
       "      <td></td>\n",
       "      <td></td>\n",
       "      <td></td>\n",
       "      <td></td>\n",
       "      <td>...</td>\n",
       "      <td>0</td>\n",
       "      <td>2016</td>\n",
       "      <td>0</td>\n",
       "      <td>0</td>\n",
       "      <td>0</td>\n",
       "      <td>0</td>\n",
       "      <td>3</td>\n",
       "      <td>0</td>\n",
       "      <td>2016</td>\n",
       "      <td>00000</td>\n",
       "    </tr>\n",
       "    <tr>\n",
       "      <th>198044</th>\n",
       "      <td>126000.0</td>\n",
       "      <td>0001000040</td>\n",
       "      <td>2760609</td>\n",
       "      <td>2015-10-06</td>\n",
       "      <td>20151009000683</td>\n",
       "      <td></td>\n",
       "      <td></td>\n",
       "      <td></td>\n",
       "      <td></td>\n",
       "      <td></td>\n",
       "      <td>...</td>\n",
       "      <td>0</td>\n",
       "      <td>2016</td>\n",
       "      <td>0</td>\n",
       "      <td>0</td>\n",
       "      <td>0</td>\n",
       "      <td>0</td>\n",
       "      <td>3</td>\n",
       "      <td>0</td>\n",
       "      <td>2015</td>\n",
       "      <td>00000</td>\n",
       "    </tr>\n",
       "    <tr>\n",
       "      <th>60412</th>\n",
       "      <td>380000.0</td>\n",
       "      <td>0001000042</td>\n",
       "      <td>2809927</td>\n",
       "      <td>2016-07-07</td>\n",
       "      <td>20160718001671</td>\n",
       "      <td></td>\n",
       "      <td></td>\n",
       "      <td></td>\n",
       "      <td></td>\n",
       "      <td></td>\n",
       "      <td>...</td>\n",
       "      <td>0</td>\n",
       "      <td>2016</td>\n",
       "      <td>0</td>\n",
       "      <td>0</td>\n",
       "      <td>0</td>\n",
       "      <td>0</td>\n",
       "      <td>3</td>\n",
       "      <td>0</td>\n",
       "      <td>2016</td>\n",
       "      <td>00000</td>\n",
       "    </tr>\n",
       "    <tr>\n",
       "      <th>192863</th>\n",
       "      <td>485500.0</td>\n",
       "      <td>0001000042</td>\n",
       "      <td>3018323</td>\n",
       "      <td>2019-10-29</td>\n",
       "      <td>20191031001228</td>\n",
       "      <td></td>\n",
       "      <td></td>\n",
       "      <td></td>\n",
       "      <td></td>\n",
       "      <td></td>\n",
       "      <td>...</td>\n",
       "      <td>0</td>\n",
       "      <td>2016</td>\n",
       "      <td>0</td>\n",
       "      <td>0</td>\n",
       "      <td>0</td>\n",
       "      <td>0</td>\n",
       "      <td>3</td>\n",
       "      <td>0</td>\n",
       "      <td>2019</td>\n",
       "      <td>00000</td>\n",
       "    </tr>\n",
       "    <tr>\n",
       "      <th>198045</th>\n",
       "      <td>126000.0</td>\n",
       "      <td>0001000042</td>\n",
       "      <td>2760609</td>\n",
       "      <td>2015-10-06</td>\n",
       "      <td>20151009000683</td>\n",
       "      <td></td>\n",
       "      <td></td>\n",
       "      <td></td>\n",
       "      <td></td>\n",
       "      <td></td>\n",
       "      <td>...</td>\n",
       "      <td>0</td>\n",
       "      <td>2016</td>\n",
       "      <td>0</td>\n",
       "      <td>0</td>\n",
       "      <td>0</td>\n",
       "      <td>0</td>\n",
       "      <td>3</td>\n",
       "      <td>0</td>\n",
       "      <td>2015</td>\n",
       "      <td>00000</td>\n",
       "    </tr>\n",
       "  </tbody>\n",
       "</table>\n",
       "<p>5 rows × 143 columns</p>\n",
       "</div>"
      ],
      "text/plain": [
       "        SalePrice          ID ExciseTaxNbr DocumentDate    RecordingNbr  \\\n",
       "144761   394950.0  0001000040      2804519   2016-06-17  20160623001164   \n",
       "198044   126000.0  0001000040      2760609   2015-10-06  20151009000683   \n",
       "60412    380000.0  0001000042      2809927   2016-07-07  20160718001671   \n",
       "192863   485500.0  0001000042      3018323   2019-10-29  20191031001228   \n",
       "198045   126000.0  0001000042      2760609   2015-10-06  20151009000683   \n",
       "\n",
       "       Volume Page PlatNbr PlatType         PlatLot  ... FpAdditional YrBuilt  \\\n",
       "144761                                               ...            0    2016   \n",
       "198044                                               ...            0    2016   \n",
       "60412                                                ...            0    2016   \n",
       "192863                                               ...            0    2016   \n",
       "198045                                               ...            0    2016   \n",
       "\n",
       "       YrRenovated PcntComplete Obsolescence PcntNetCondition Condition  \\\n",
       "144761           0            0            0                0         3   \n",
       "198044           0            0            0                0         3   \n",
       "60412            0            0            0                0         3   \n",
       "192863           0            0            0                0         3   \n",
       "198045           0            0            0                0         3   \n",
       "\n",
       "       AddnlCost DocumentYear ZipClean  \n",
       "144761         0         2016    00000  \n",
       "198044         0         2015    00000  \n",
       "60412          0         2016    00000  \n",
       "192863         0         2019    00000  \n",
       "198045         0         2015    00000  \n",
       "\n",
       "[5 rows x 143 columns]"
      ]
     },
     "execution_count": 49,
     "metadata": {},
     "output_type": "execute_result"
    }
   ],
   "source": [
    "# getting non-zero rows\n",
    "nz_dupes = dupe_ids[dupe_ids['SalePrice'] != 0].sort_values(by='ID')\n",
    "print(nz_dupes.shape)\n",
    "nz_dupes.head()"
   ]
  },
  {
   "cell_type": "markdown",
   "metadata": {},
   "source": [
    "#### Focusing in on Some Features to Get Context"
   ]
  },
  {
   "cell_type": "code",
   "execution_count": 50,
   "metadata": {},
   "outputs": [
    {
     "data": {
      "text/html": [
       "<div>\n",
       "<style scoped>\n",
       "    .dataframe tbody tr th:only-of-type {\n",
       "        vertical-align: middle;\n",
       "    }\n",
       "\n",
       "    .dataframe tbody tr th {\n",
       "        vertical-align: top;\n",
       "    }\n",
       "\n",
       "    .dataframe thead th {\n",
       "        text-align: right;\n",
       "    }\n",
       "</style>\n",
       "<table border=\"1\" class=\"dataframe\">\n",
       "  <thead>\n",
       "    <tr style=\"text-align: right;\">\n",
       "      <th></th>\n",
       "      <th>SalePrice</th>\n",
       "      <th>ID</th>\n",
       "      <th>ExciseTaxNbr</th>\n",
       "      <th>RecordingNbr</th>\n",
       "      <th>DocumentDate</th>\n",
       "      <th>Address</th>\n",
       "      <th>PropertyType</th>\n",
       "    </tr>\n",
       "  </thead>\n",
       "  <tbody>\n",
       "    <tr>\n",
       "      <th>144761</th>\n",
       "      <td>394950.0</td>\n",
       "      <td>0001000040</td>\n",
       "      <td>2804519</td>\n",
       "      <td>20160623001164</td>\n",
       "      <td>2016-06-17</td>\n",
       "      <td>1502   M ST NE</td>\n",
       "      <td>3</td>\n",
       "    </tr>\n",
       "    <tr>\n",
       "      <th>198044</th>\n",
       "      <td>126000.0</td>\n",
       "      <td>0001000040</td>\n",
       "      <td>2760609</td>\n",
       "      <td>20151009000683</td>\n",
       "      <td>2015-10-06</td>\n",
       "      <td>1502   M ST NE</td>\n",
       "      <td>1</td>\n",
       "    </tr>\n",
       "    <tr>\n",
       "      <th>60412</th>\n",
       "      <td>380000.0</td>\n",
       "      <td>0001000042</td>\n",
       "      <td>2809927</td>\n",
       "      <td>20160718001671</td>\n",
       "      <td>2016-07-07</td>\n",
       "      <td>1424   M ST NE</td>\n",
       "      <td>3</td>\n",
       "    </tr>\n",
       "    <tr>\n",
       "      <th>192863</th>\n",
       "      <td>485500.0</td>\n",
       "      <td>0001000042</td>\n",
       "      <td>3018323</td>\n",
       "      <td>20191031001228</td>\n",
       "      <td>2019-10-29</td>\n",
       "      <td>1424   M ST NE</td>\n",
       "      <td>11</td>\n",
       "    </tr>\n",
       "    <tr>\n",
       "      <th>198045</th>\n",
       "      <td>126000.0</td>\n",
       "      <td>0001000042</td>\n",
       "      <td>2760609</td>\n",
       "      <td>20151009000683</td>\n",
       "      <td>2015-10-06</td>\n",
       "      <td>1424   M ST NE</td>\n",
       "      <td>1</td>\n",
       "    </tr>\n",
       "  </tbody>\n",
       "</table>\n",
       "</div>"
      ],
      "text/plain": [
       "        SalePrice          ID ExciseTaxNbr    RecordingNbr DocumentDate  \\\n",
       "144761   394950.0  0001000040      2804519  20160623001164   2016-06-17   \n",
       "198044   126000.0  0001000040      2760609  20151009000683   2015-10-06   \n",
       "60412    380000.0  0001000042      2809927  20160718001671   2016-07-07   \n",
       "192863   485500.0  0001000042      3018323  20191031001228   2019-10-29   \n",
       "198045   126000.0  0001000042      2760609  20151009000683   2015-10-06   \n",
       "\n",
       "                 Address PropertyType  \n",
       "144761  1502   M ST NE              3  \n",
       "198044  1502   M ST NE              1  \n",
       "60412   1424   M ST NE              3  \n",
       "192863  1424   M ST NE             11  \n",
       "198045  1424   M ST NE              1  "
      ]
     },
     "execution_count": 50,
     "metadata": {},
     "output_type": "execute_result"
    }
   ],
   "source": [
    "# getting context\n",
    "nz_dupes[['SalePrice', 'ID', 'ExciseTaxNbr',\\\n",
    "          'RecordingNbr','DocumentDate',\\\n",
    "          'Address', 'PropertyType']].head(5)"
   ]
  },
  {
   "cell_type": "markdown",
   "metadata": {},
   "source": [
    "#### Using Lookup Codes on `PropertyType`"
   ]
  },
  {
   "cell_type": "code",
   "execution_count": 51,
   "metadata": {
    "tags": []
   },
   "outputs": [
    {
     "name": "stdout",
     "output_type": "stream",
     "text": [
      "  LUType LUItem LUDescription\n",
      "0      1      1     LAND ONLY\n",
      "   LUType LUItem             LUDescription\n",
      "21      1      3  LAND WITH PREV USED BLDG\n",
      "  LUType LUItem                   LUDescription\n",
      "2      1     11  Household, single family units\n"
     ]
    }
   ],
   "source": [
    "li = [1, 3, 11]\n",
    "for x in li:\n",
    "    print(fn.lookup(look,1,x))"
   ]
  },
  {
   "cell_type": "markdown",
   "metadata": {},
   "source": [
    "#### Checking `ExciseTaxNbr`"
   ]
  },
  {
   "cell_type": "code",
   "execution_count": 52,
   "metadata": {},
   "outputs": [
    {
     "data": {
      "text/html": [
       "<div>\n",
       "<style scoped>\n",
       "    .dataframe tbody tr th:only-of-type {\n",
       "        vertical-align: middle;\n",
       "    }\n",
       "\n",
       "    .dataframe tbody tr th {\n",
       "        vertical-align: top;\n",
       "    }\n",
       "\n",
       "    .dataframe thead th {\n",
       "        text-align: right;\n",
       "    }\n",
       "</style>\n",
       "<table border=\"1\" class=\"dataframe\">\n",
       "  <thead>\n",
       "    <tr style=\"text-align: right;\">\n",
       "      <th></th>\n",
       "      <th>SalePrice</th>\n",
       "      <th>ID</th>\n",
       "      <th>ExciseTaxNbr</th>\n",
       "      <th>DocumentDate</th>\n",
       "      <th>RecordingNbr</th>\n",
       "      <th>Volume</th>\n",
       "      <th>Page</th>\n",
       "      <th>PlatNbr</th>\n",
       "      <th>PlatType</th>\n",
       "      <th>PlatLot</th>\n",
       "      <th>...</th>\n",
       "      <th>FpAdditional</th>\n",
       "      <th>YrBuilt</th>\n",
       "      <th>YrRenovated</th>\n",
       "      <th>PcntComplete</th>\n",
       "      <th>Obsolescence</th>\n",
       "      <th>PcntNetCondition</th>\n",
       "      <th>Condition</th>\n",
       "      <th>AddnlCost</th>\n",
       "      <th>DocumentYear</th>\n",
       "      <th>ZipClean</th>\n",
       "    </tr>\n",
       "  </thead>\n",
       "  <tbody>\n",
       "    <tr>\n",
       "      <th>132</th>\n",
       "      <td>1512000.0</td>\n",
       "      <td>9822700460</td>\n",
       "      <td>2888358</td>\n",
       "      <td>2017-09-08</td>\n",
       "      <td></td>\n",
       "      <td></td>\n",
       "      <td></td>\n",
       "      <td></td>\n",
       "      <td></td>\n",
       "      <td></td>\n",
       "      <td>...</td>\n",
       "      <td>0</td>\n",
       "      <td>2019</td>\n",
       "      <td>0</td>\n",
       "      <td>0</td>\n",
       "      <td>0</td>\n",
       "      <td>0</td>\n",
       "      <td>3</td>\n",
       "      <td>0</td>\n",
       "      <td>2017</td>\n",
       "      <td>98105</td>\n",
       "    </tr>\n",
       "    <tr>\n",
       "      <th>133</th>\n",
       "      <td>1512000.0</td>\n",
       "      <td>9822700465</td>\n",
       "      <td>2888358</td>\n",
       "      <td>2017-09-08</td>\n",
       "      <td></td>\n",
       "      <td></td>\n",
       "      <td></td>\n",
       "      <td></td>\n",
       "      <td></td>\n",
       "      <td></td>\n",
       "      <td>...</td>\n",
       "      <td>0</td>\n",
       "      <td>2019</td>\n",
       "      <td>0</td>\n",
       "      <td>0</td>\n",
       "      <td>0</td>\n",
       "      <td>0</td>\n",
       "      <td>3</td>\n",
       "      <td>0</td>\n",
       "      <td>2017</td>\n",
       "      <td>98105</td>\n",
       "    </tr>\n",
       "    <tr>\n",
       "      <th>173</th>\n",
       "      <td>875000.0</td>\n",
       "      <td>1522059185</td>\n",
       "      <td>2809560</td>\n",
       "      <td>2016-07-13</td>\n",
       "      <td>20160715001611</td>\n",
       "      <td></td>\n",
       "      <td></td>\n",
       "      <td></td>\n",
       "      <td></td>\n",
       "      <td></td>\n",
       "      <td>...</td>\n",
       "      <td>0</td>\n",
       "      <td>2017</td>\n",
       "      <td>0</td>\n",
       "      <td>0</td>\n",
       "      <td>0</td>\n",
       "      <td>0</td>\n",
       "      <td>3</td>\n",
       "      <td>0</td>\n",
       "      <td>2016</td>\n",
       "      <td>00000</td>\n",
       "    </tr>\n",
       "    <tr>\n",
       "      <th>174</th>\n",
       "      <td>875000.0</td>\n",
       "      <td>1522059183</td>\n",
       "      <td>2809560</td>\n",
       "      <td>2016-07-13</td>\n",
       "      <td>20160715001611</td>\n",
       "      <td></td>\n",
       "      <td></td>\n",
       "      <td></td>\n",
       "      <td></td>\n",
       "      <td></td>\n",
       "      <td>...</td>\n",
       "      <td>0</td>\n",
       "      <td>2016</td>\n",
       "      <td>0</td>\n",
       "      <td>0</td>\n",
       "      <td>0</td>\n",
       "      <td>0</td>\n",
       "      <td>3</td>\n",
       "      <td>0</td>\n",
       "      <td>2016</td>\n",
       "      <td>00000</td>\n",
       "    </tr>\n",
       "    <tr>\n",
       "      <th>175</th>\n",
       "      <td>875000.0</td>\n",
       "      <td>1522059187</td>\n",
       "      <td>2809560</td>\n",
       "      <td>2016-07-13</td>\n",
       "      <td>20160715001611</td>\n",
       "      <td></td>\n",
       "      <td></td>\n",
       "      <td></td>\n",
       "      <td></td>\n",
       "      <td></td>\n",
       "      <td>...</td>\n",
       "      <td>0</td>\n",
       "      <td>2017</td>\n",
       "      <td>0</td>\n",
       "      <td>0</td>\n",
       "      <td>0</td>\n",
       "      <td>0</td>\n",
       "      <td>3</td>\n",
       "      <td>0</td>\n",
       "      <td>2016</td>\n",
       "      <td>00000</td>\n",
       "    </tr>\n",
       "  </tbody>\n",
       "</table>\n",
       "<p>5 rows × 143 columns</p>\n",
       "</div>"
      ],
      "text/plain": [
       "     SalePrice          ID ExciseTaxNbr DocumentDate    RecordingNbr Volume  \\\n",
       "132  1512000.0  9822700460      2888358   2017-09-08                          \n",
       "133  1512000.0  9822700465      2888358   2017-09-08                          \n",
       "173   875000.0  1522059185      2809560   2016-07-13  20160715001611          \n",
       "174   875000.0  1522059183      2809560   2016-07-13  20160715001611          \n",
       "175   875000.0  1522059187      2809560   2016-07-13  20160715001611          \n",
       "\n",
       "    Page PlatNbr PlatType         PlatLot  ... FpAdditional YrBuilt  \\\n",
       "132                                        ...            0    2019   \n",
       "133                                        ...            0    2019   \n",
       "173                                        ...            0    2017   \n",
       "174                                        ...            0    2016   \n",
       "175                                        ...            0    2017   \n",
       "\n",
       "    YrRenovated PcntComplete Obsolescence PcntNetCondition Condition  \\\n",
       "132           0            0            0                0         3   \n",
       "133           0            0            0                0         3   \n",
       "173           0            0            0                0         3   \n",
       "174           0            0            0                0         3   \n",
       "175           0            0            0                0         3   \n",
       "\n",
       "    AddnlCost DocumentYear ZipClean  \n",
       "132         0         2017    98105  \n",
       "133         0         2017    98105  \n",
       "173         0         2016    00000  \n",
       "174         0         2016    00000  \n",
       "175         0         2016    00000  \n",
       "\n",
       "[5 rows x 143 columns]"
      ]
     },
     "execution_count": 52,
     "metadata": {},
     "output_type": "execute_result"
    }
   ],
   "source": [
    "ext_nb = df[df.duplicated(subset=['ExciseTaxNbr'], keep=False)]\n",
    "ext_nb[ext_nb['SalePrice'] != 0].head()"
   ]
  },
  {
   "cell_type": "markdown",
   "metadata": {},
   "source": [
    "### An Example `ID`\n",
    "Focusing on a single `ID` for a closer look at how the data works. "
   ]
  },
  {
   "cell_type": "code",
   "execution_count": 53,
   "metadata": {},
   "outputs": [
    {
     "data": {
      "text/html": [
       "<div>\n",
       "<style scoped>\n",
       "    .dataframe tbody tr th:only-of-type {\n",
       "        vertical-align: middle;\n",
       "    }\n",
       "\n",
       "    .dataframe tbody tr th {\n",
       "        vertical-align: top;\n",
       "    }\n",
       "\n",
       "    .dataframe thead th {\n",
       "        text-align: right;\n",
       "    }\n",
       "</style>\n",
       "<table border=\"1\" class=\"dataframe\">\n",
       "  <thead>\n",
       "    <tr style=\"text-align: right;\">\n",
       "      <th></th>\n",
       "      <th>SalePrice</th>\n",
       "      <th>ID</th>\n",
       "      <th>ExciseTaxNbr</th>\n",
       "      <th>RecordingNbr</th>\n",
       "      <th>DocumentDate</th>\n",
       "      <th>Address</th>\n",
       "      <th>PropertyType</th>\n",
       "    </tr>\n",
       "  </thead>\n",
       "  <tbody>\n",
       "    <tr>\n",
       "      <th>198045</th>\n",
       "      <td>126000.0</td>\n",
       "      <td>0001000042</td>\n",
       "      <td>2760609</td>\n",
       "      <td>20151009000683</td>\n",
       "      <td>2015-10-06</td>\n",
       "      <td>1424   M ST NE</td>\n",
       "      <td>1</td>\n",
       "    </tr>\n",
       "    <tr>\n",
       "      <th>60412</th>\n",
       "      <td>380000.0</td>\n",
       "      <td>0001000042</td>\n",
       "      <td>2809927</td>\n",
       "      <td>20160718001671</td>\n",
       "      <td>2016-07-07</td>\n",
       "      <td>1424   M ST NE</td>\n",
       "      <td>3</td>\n",
       "    </tr>\n",
       "    <tr>\n",
       "      <th>192863</th>\n",
       "      <td>485500.0</td>\n",
       "      <td>0001000042</td>\n",
       "      <td>3018323</td>\n",
       "      <td>20191031001228</td>\n",
       "      <td>2019-10-29</td>\n",
       "      <td>1424   M ST NE</td>\n",
       "      <td>11</td>\n",
       "    </tr>\n",
       "  </tbody>\n",
       "</table>\n",
       "</div>"
      ],
      "text/plain": [
       "        SalePrice          ID ExciseTaxNbr    RecordingNbr DocumentDate  \\\n",
       "198045   126000.0  0001000042      2760609  20151009000683   2015-10-06   \n",
       "60412    380000.0  0001000042      2809927  20160718001671   2016-07-07   \n",
       "192863   485500.0  0001000042      3018323  20191031001228   2019-10-29   \n",
       "\n",
       "                 Address PropertyType  \n",
       "198045  1424   M ST NE              1  \n",
       "60412   1424   M ST NE              3  \n",
       "192863  1424   M ST NE             11  "
      ]
     },
     "execution_count": 53,
     "metadata": {},
     "output_type": "execute_result"
    }
   ],
   "source": [
    "example = nz_dupes[['SalePrice', 'ID', 'ExciseTaxNbr',\\\n",
    "          'RecordingNbr','DocumentDate',\\\n",
    "          'Address', 'PropertyType']]\n",
    "example[example.ID == '0001000042'].sort_values(by='DocumentDate')"
   ]
  },
  {
   "cell_type": "markdown",
   "metadata": {},
   "source": [
    "### Preliminary Understanding\n",
    "\n",
    "It seems that the `ID` (`Major` + `Minor`) feature is tied to the property address, and `ExciseTaxNumber` is tied to the transaction date. In the example dataframe above, we can see the history of a single parcel of land. In 2015, the undeveloped land (`PropertyType 1`) was sold. 2016 saw it sold again, with some type of building attached (`PropertyType 3`). Finally, the sale in 2019 was recorded as a `PropertyType` 11, indicating that a home was built on the land. It looks like **`PropertyType` 11** and **12** (and maybe **13** ) will be the primary types in the model data frame."
   ]
  },
  {
   "cell_type": "markdown",
   "metadata": {},
   "source": [
    "## Diving Deeper into the Data\n",
    "Looking at a property with multiple building."
   ]
  },
  {
   "cell_type": "code",
   "execution_count": 54,
   "metadata": {
    "tags": []
   },
   "outputs": [
    {
     "data": {
      "text/plain": [
       "(63, 8)"
      ]
     },
     "execution_count": 54,
     "metadata": {},
     "output_type": "execute_result"
    }
   ],
   "source": [
    "deep = df[df.ID == '0822119001']\n",
    "deep = deep[deep['DocumentYear'] == 2019]\n",
    "deep = deep[['SalePrice', 'ID', 'ExciseTaxNbr',\\\n",
    "          'RecordingNbr','DocumentDate',\\\n",
    "          'Address', 'BldgNbr', 'PropertyType']]\n",
    "deep.shape"
   ]
  },
  {
   "cell_type": "code",
   "execution_count": 55,
   "metadata": {},
   "outputs": [
    {
     "data": {
      "text/html": [
       "<div>\n",
       "<style scoped>\n",
       "    .dataframe tbody tr th:only-of-type {\n",
       "        vertical-align: middle;\n",
       "    }\n",
       "\n",
       "    .dataframe tbody tr th {\n",
       "        vertical-align: top;\n",
       "    }\n",
       "\n",
       "    .dataframe thead th {\n",
       "        text-align: right;\n",
       "    }\n",
       "</style>\n",
       "<table border=\"1\" class=\"dataframe\">\n",
       "  <thead>\n",
       "    <tr style=\"text-align: right;\">\n",
       "      <th></th>\n",
       "      <th>SalePrice</th>\n",
       "      <th>ID</th>\n",
       "      <th>ExciseTaxNbr</th>\n",
       "      <th>RecordingNbr</th>\n",
       "      <th>DocumentDate</th>\n",
       "      <th>Address</th>\n",
       "      <th>BldgNbr</th>\n",
       "      <th>PropertyType</th>\n",
       "    </tr>\n",
       "  </thead>\n",
       "  <tbody>\n",
       "    <tr>\n",
       "      <th>135744</th>\n",
       "      <td>70000.0</td>\n",
       "      <td>0822119001</td>\n",
       "      <td>3017542</td>\n",
       "      <td>20191028001102</td>\n",
       "      <td>2019-10-21</td>\n",
       "      <td>20904   677TH PL SE  98045</td>\n",
       "      <td>1</td>\n",
       "      <td>0</td>\n",
       "    </tr>\n",
       "    <tr>\n",
       "      <th>135745</th>\n",
       "      <td>70000.0</td>\n",
       "      <td>0822119001</td>\n",
       "      <td>3017542</td>\n",
       "      <td>20191028001102</td>\n",
       "      <td>2019-10-21</td>\n",
       "      <td>20904   677TH PL SE  98045</td>\n",
       "      <td>10</td>\n",
       "      <td>0</td>\n",
       "    </tr>\n",
       "  </tbody>\n",
       "</table>\n",
       "</div>"
      ],
      "text/plain": [
       "        SalePrice          ID ExciseTaxNbr    RecordingNbr DocumentDate  \\\n",
       "135744    70000.0  0822119001      3017542  20191028001102   2019-10-21   \n",
       "135745    70000.0  0822119001      3017542  20191028001102   2019-10-21   \n",
       "\n",
       "                           Address BldgNbr PropertyType  \n",
       "135744  20904   677TH PL SE  98045       1            0  \n",
       "135745  20904   677TH PL SE  98045      10            0  "
      ]
     },
     "execution_count": 55,
     "metadata": {},
     "output_type": "execute_result"
    }
   ],
   "source": [
    "deep.head(2)"
   ]
  },
  {
   "cell_type": "markdown",
   "metadata": {},
   "source": [
    "#### Corrupt Data\n",
    "Looks like there is some corrupt `PropertyType` data with an invalid code of '0'.\n",
    "Checking all 63 rows."
   ]
  },
  {
   "cell_type": "code",
   "execution_count": 56,
   "metadata": {
    "tags": []
   },
   "outputs": [
    {
     "data": {
      "text/html": [
       "<div>\n",
       "<style scoped>\n",
       "    .dataframe tbody tr th:only-of-type {\n",
       "        vertical-align: middle;\n",
       "    }\n",
       "\n",
       "    .dataframe tbody tr th {\n",
       "        vertical-align: top;\n",
       "    }\n",
       "\n",
       "    .dataframe thead th {\n",
       "        text-align: right;\n",
       "    }\n",
       "</style>\n",
       "<table border=\"1\" class=\"dataframe\">\n",
       "  <thead>\n",
       "    <tr style=\"text-align: right;\">\n",
       "      <th></th>\n",
       "      <th>SalePrice</th>\n",
       "      <th>ID</th>\n",
       "      <th>ExciseTaxNbr</th>\n",
       "      <th>RecordingNbr</th>\n",
       "      <th>DocumentDate</th>\n",
       "      <th>Address</th>\n",
       "      <th>BldgNbr</th>\n",
       "      <th>PropertyType</th>\n",
       "    </tr>\n",
       "  </thead>\n",
       "  <tbody>\n",
       "    <tr>\n",
       "      <th>135744</th>\n",
       "      <td>70000.0</td>\n",
       "      <td>0822119001</td>\n",
       "      <td>3017542</td>\n",
       "      <td>20191028001102</td>\n",
       "      <td>2019-10-21</td>\n",
       "      <td>20904   677TH PL SE  98045</td>\n",
       "      <td>1</td>\n",
       "      <td>0</td>\n",
       "    </tr>\n",
       "    <tr>\n",
       "      <th>135745</th>\n",
       "      <td>70000.0</td>\n",
       "      <td>0822119001</td>\n",
       "      <td>3017542</td>\n",
       "      <td>20191028001102</td>\n",
       "      <td>2019-10-21</td>\n",
       "      <td>20904   677TH PL SE  98045</td>\n",
       "      <td>10</td>\n",
       "      <td>0</td>\n",
       "    </tr>\n",
       "    <tr>\n",
       "      <th>135746</th>\n",
       "      <td>70000.0</td>\n",
       "      <td>0822119001</td>\n",
       "      <td>3017542</td>\n",
       "      <td>20191028001102</td>\n",
       "      <td>2019-10-21</td>\n",
       "      <td>20904   677TH PL SE  98045</td>\n",
       "      <td>11</td>\n",
       "      <td>0</td>\n",
       "    </tr>\n",
       "    <tr>\n",
       "      <th>135747</th>\n",
       "      <td>70000.0</td>\n",
       "      <td>0822119001</td>\n",
       "      <td>3017542</td>\n",
       "      <td>20191028001102</td>\n",
       "      <td>2019-10-21</td>\n",
       "      <td>20904   677TH PL SE  98045</td>\n",
       "      <td>12</td>\n",
       "      <td>0</td>\n",
       "    </tr>\n",
       "    <tr>\n",
       "      <th>135748</th>\n",
       "      <td>70000.0</td>\n",
       "      <td>0822119001</td>\n",
       "      <td>3017542</td>\n",
       "      <td>20191028001102</td>\n",
       "      <td>2019-10-21</td>\n",
       "      <td>20904   677TH PL SE  98045</td>\n",
       "      <td>13</td>\n",
       "      <td>0</td>\n",
       "    </tr>\n",
       "    <tr>\n",
       "      <th>135749</th>\n",
       "      <td>70000.0</td>\n",
       "      <td>0822119001</td>\n",
       "      <td>3017542</td>\n",
       "      <td>20191028001102</td>\n",
       "      <td>2019-10-21</td>\n",
       "      <td>20904   677TH PL SE  98045</td>\n",
       "      <td>14</td>\n",
       "      <td>0</td>\n",
       "    </tr>\n",
       "    <tr>\n",
       "      <th>135750</th>\n",
       "      <td>70000.0</td>\n",
       "      <td>0822119001</td>\n",
       "      <td>3017542</td>\n",
       "      <td>20191028001102</td>\n",
       "      <td>2019-10-21</td>\n",
       "      <td>20904   677TH PL SE  98045</td>\n",
       "      <td>15</td>\n",
       "      <td>0</td>\n",
       "    </tr>\n",
       "    <tr>\n",
       "      <th>135751</th>\n",
       "      <td>70000.0</td>\n",
       "      <td>0822119001</td>\n",
       "      <td>3017542</td>\n",
       "      <td>20191028001102</td>\n",
       "      <td>2019-10-21</td>\n",
       "      <td>20904   677TH PL SE  98045</td>\n",
       "      <td>16</td>\n",
       "      <td>0</td>\n",
       "    </tr>\n",
       "    <tr>\n",
       "      <th>135752</th>\n",
       "      <td>70000.0</td>\n",
       "      <td>0822119001</td>\n",
       "      <td>3017542</td>\n",
       "      <td>20191028001102</td>\n",
       "      <td>2019-10-21</td>\n",
       "      <td>20904   677TH PL SE  98045</td>\n",
       "      <td>17</td>\n",
       "      <td>0</td>\n",
       "    </tr>\n",
       "    <tr>\n",
       "      <th>135753</th>\n",
       "      <td>70000.0</td>\n",
       "      <td>0822119001</td>\n",
       "      <td>3017542</td>\n",
       "      <td>20191028001102</td>\n",
       "      <td>2019-10-21</td>\n",
       "      <td>20904   677TH PL SE  98045</td>\n",
       "      <td>18</td>\n",
       "      <td>0</td>\n",
       "    </tr>\n",
       "    <tr>\n",
       "      <th>135754</th>\n",
       "      <td>70000.0</td>\n",
       "      <td>0822119001</td>\n",
       "      <td>3017542</td>\n",
       "      <td>20191028001102</td>\n",
       "      <td>2019-10-21</td>\n",
       "      <td>20904   677TH PL SE  98045</td>\n",
       "      <td>19</td>\n",
       "      <td>0</td>\n",
       "    </tr>\n",
       "    <tr>\n",
       "      <th>135755</th>\n",
       "      <td>70000.0</td>\n",
       "      <td>0822119001</td>\n",
       "      <td>3017542</td>\n",
       "      <td>20191028001102</td>\n",
       "      <td>2019-10-21</td>\n",
       "      <td>20904   677TH PL SE  98045</td>\n",
       "      <td>2</td>\n",
       "      <td>0</td>\n",
       "    </tr>\n",
       "    <tr>\n",
       "      <th>135756</th>\n",
       "      <td>70000.0</td>\n",
       "      <td>0822119001</td>\n",
       "      <td>3017542</td>\n",
       "      <td>20191028001102</td>\n",
       "      <td>2019-10-21</td>\n",
       "      <td>20904   677TH PL SE  98045</td>\n",
       "      <td>20</td>\n",
       "      <td>0</td>\n",
       "    </tr>\n",
       "    <tr>\n",
       "      <th>135757</th>\n",
       "      <td>70000.0</td>\n",
       "      <td>0822119001</td>\n",
       "      <td>3017542</td>\n",
       "      <td>20191028001102</td>\n",
       "      <td>2019-10-21</td>\n",
       "      <td>20904   677TH PL SE  98045</td>\n",
       "      <td>21</td>\n",
       "      <td>0</td>\n",
       "    </tr>\n",
       "    <tr>\n",
       "      <th>135758</th>\n",
       "      <td>70000.0</td>\n",
       "      <td>0822119001</td>\n",
       "      <td>3017542</td>\n",
       "      <td>20191028001102</td>\n",
       "      <td>2019-10-21</td>\n",
       "      <td>20904   677TH PL SE  98045</td>\n",
       "      <td>3</td>\n",
       "      <td>0</td>\n",
       "    </tr>\n",
       "    <tr>\n",
       "      <th>135759</th>\n",
       "      <td>70000.0</td>\n",
       "      <td>0822119001</td>\n",
       "      <td>3017542</td>\n",
       "      <td>20191028001102</td>\n",
       "      <td>2019-10-21</td>\n",
       "      <td>20904   677TH PL SE  98045</td>\n",
       "      <td>4</td>\n",
       "      <td>0</td>\n",
       "    </tr>\n",
       "    <tr>\n",
       "      <th>135760</th>\n",
       "      <td>70000.0</td>\n",
       "      <td>0822119001</td>\n",
       "      <td>3017542</td>\n",
       "      <td>20191028001102</td>\n",
       "      <td>2019-10-21</td>\n",
       "      <td>20904   677TH PL SE  98045</td>\n",
       "      <td>5</td>\n",
       "      <td>0</td>\n",
       "    </tr>\n",
       "    <tr>\n",
       "      <th>135761</th>\n",
       "      <td>70000.0</td>\n",
       "      <td>0822119001</td>\n",
       "      <td>3017542</td>\n",
       "      <td>20191028001102</td>\n",
       "      <td>2019-10-21</td>\n",
       "      <td>20904   677TH PL SE  98045</td>\n",
       "      <td>6</td>\n",
       "      <td>0</td>\n",
       "    </tr>\n",
       "    <tr>\n",
       "      <th>135762</th>\n",
       "      <td>70000.0</td>\n",
       "      <td>0822119001</td>\n",
       "      <td>3017542</td>\n",
       "      <td>20191028001102</td>\n",
       "      <td>2019-10-21</td>\n",
       "      <td>20904   677TH PL SE  98045</td>\n",
       "      <td>7</td>\n",
       "      <td>0</td>\n",
       "    </tr>\n",
       "    <tr>\n",
       "      <th>135763</th>\n",
       "      <td>70000.0</td>\n",
       "      <td>0822119001</td>\n",
       "      <td>3017542</td>\n",
       "      <td>20191028001102</td>\n",
       "      <td>2019-10-21</td>\n",
       "      <td>20904   677TH PL SE  98045</td>\n",
       "      <td>8</td>\n",
       "      <td>0</td>\n",
       "    </tr>\n",
       "    <tr>\n",
       "      <th>135764</th>\n",
       "      <td>70000.0</td>\n",
       "      <td>0822119001</td>\n",
       "      <td>3017542</td>\n",
       "      <td>20191028001102</td>\n",
       "      <td>2019-10-21</td>\n",
       "      <td>20904   677TH PL SE  98045</td>\n",
       "      <td>9</td>\n",
       "      <td>0</td>\n",
       "    </tr>\n",
       "    <tr>\n",
       "      <th>137341</th>\n",
       "      <td>70000.0</td>\n",
       "      <td>0822119001</td>\n",
       "      <td>3017076</td>\n",
       "      <td></td>\n",
       "      <td>2019-10-21</td>\n",
       "      <td>20904   677TH PL SE  98045</td>\n",
       "      <td>1</td>\n",
       "      <td>3</td>\n",
       "    </tr>\n",
       "    <tr>\n",
       "      <th>137342</th>\n",
       "      <td>70000.0</td>\n",
       "      <td>0822119001</td>\n",
       "      <td>3017076</td>\n",
       "      <td></td>\n",
       "      <td>2019-10-21</td>\n",
       "      <td>20904   677TH PL SE  98045</td>\n",
       "      <td>10</td>\n",
       "      <td>3</td>\n",
       "    </tr>\n",
       "    <tr>\n",
       "      <th>137343</th>\n",
       "      <td>70000.0</td>\n",
       "      <td>0822119001</td>\n",
       "      <td>3017076</td>\n",
       "      <td></td>\n",
       "      <td>2019-10-21</td>\n",
       "      <td>20904   677TH PL SE  98045</td>\n",
       "      <td>11</td>\n",
       "      <td>3</td>\n",
       "    </tr>\n",
       "    <tr>\n",
       "      <th>137344</th>\n",
       "      <td>70000.0</td>\n",
       "      <td>0822119001</td>\n",
       "      <td>3017076</td>\n",
       "      <td></td>\n",
       "      <td>2019-10-21</td>\n",
       "      <td>20904   677TH PL SE  98045</td>\n",
       "      <td>12</td>\n",
       "      <td>3</td>\n",
       "    </tr>\n",
       "    <tr>\n",
       "      <th>137345</th>\n",
       "      <td>70000.0</td>\n",
       "      <td>0822119001</td>\n",
       "      <td>3017076</td>\n",
       "      <td></td>\n",
       "      <td>2019-10-21</td>\n",
       "      <td>20904   677TH PL SE  98045</td>\n",
       "      <td>13</td>\n",
       "      <td>3</td>\n",
       "    </tr>\n",
       "    <tr>\n",
       "      <th>137346</th>\n",
       "      <td>70000.0</td>\n",
       "      <td>0822119001</td>\n",
       "      <td>3017076</td>\n",
       "      <td></td>\n",
       "      <td>2019-10-21</td>\n",
       "      <td>20904   677TH PL SE  98045</td>\n",
       "      <td>14</td>\n",
       "      <td>3</td>\n",
       "    </tr>\n",
       "    <tr>\n",
       "      <th>137347</th>\n",
       "      <td>70000.0</td>\n",
       "      <td>0822119001</td>\n",
       "      <td>3017076</td>\n",
       "      <td></td>\n",
       "      <td>2019-10-21</td>\n",
       "      <td>20904   677TH PL SE  98045</td>\n",
       "      <td>15</td>\n",
       "      <td>3</td>\n",
       "    </tr>\n",
       "    <tr>\n",
       "      <th>137348</th>\n",
       "      <td>70000.0</td>\n",
       "      <td>0822119001</td>\n",
       "      <td>3017076</td>\n",
       "      <td></td>\n",
       "      <td>2019-10-21</td>\n",
       "      <td>20904   677TH PL SE  98045</td>\n",
       "      <td>16</td>\n",
       "      <td>3</td>\n",
       "    </tr>\n",
       "    <tr>\n",
       "      <th>137349</th>\n",
       "      <td>70000.0</td>\n",
       "      <td>0822119001</td>\n",
       "      <td>3017076</td>\n",
       "      <td></td>\n",
       "      <td>2019-10-21</td>\n",
       "      <td>20904   677TH PL SE  98045</td>\n",
       "      <td>17</td>\n",
       "      <td>3</td>\n",
       "    </tr>\n",
       "    <tr>\n",
       "      <th>137350</th>\n",
       "      <td>70000.0</td>\n",
       "      <td>0822119001</td>\n",
       "      <td>3017076</td>\n",
       "      <td></td>\n",
       "      <td>2019-10-21</td>\n",
       "      <td>20904   677TH PL SE  98045</td>\n",
       "      <td>18</td>\n",
       "      <td>3</td>\n",
       "    </tr>\n",
       "    <tr>\n",
       "      <th>137351</th>\n",
       "      <td>70000.0</td>\n",
       "      <td>0822119001</td>\n",
       "      <td>3017076</td>\n",
       "      <td></td>\n",
       "      <td>2019-10-21</td>\n",
       "      <td>20904   677TH PL SE  98045</td>\n",
       "      <td>19</td>\n",
       "      <td>3</td>\n",
       "    </tr>\n",
       "    <tr>\n",
       "      <th>137352</th>\n",
       "      <td>70000.0</td>\n",
       "      <td>0822119001</td>\n",
       "      <td>3017076</td>\n",
       "      <td></td>\n",
       "      <td>2019-10-21</td>\n",
       "      <td>20904   677TH PL SE  98045</td>\n",
       "      <td>2</td>\n",
       "      <td>3</td>\n",
       "    </tr>\n",
       "    <tr>\n",
       "      <th>137353</th>\n",
       "      <td>70000.0</td>\n",
       "      <td>0822119001</td>\n",
       "      <td>3017076</td>\n",
       "      <td></td>\n",
       "      <td>2019-10-21</td>\n",
       "      <td>20904   677TH PL SE  98045</td>\n",
       "      <td>20</td>\n",
       "      <td>3</td>\n",
       "    </tr>\n",
       "    <tr>\n",
       "      <th>137354</th>\n",
       "      <td>70000.0</td>\n",
       "      <td>0822119001</td>\n",
       "      <td>3017076</td>\n",
       "      <td></td>\n",
       "      <td>2019-10-21</td>\n",
       "      <td>20904   677TH PL SE  98045</td>\n",
       "      <td>21</td>\n",
       "      <td>3</td>\n",
       "    </tr>\n",
       "    <tr>\n",
       "      <th>137355</th>\n",
       "      <td>70000.0</td>\n",
       "      <td>0822119001</td>\n",
       "      <td>3017076</td>\n",
       "      <td></td>\n",
       "      <td>2019-10-21</td>\n",
       "      <td>20904   677TH PL SE  98045</td>\n",
       "      <td>3</td>\n",
       "      <td>3</td>\n",
       "    </tr>\n",
       "    <tr>\n",
       "      <th>137356</th>\n",
       "      <td>70000.0</td>\n",
       "      <td>0822119001</td>\n",
       "      <td>3017076</td>\n",
       "      <td></td>\n",
       "      <td>2019-10-21</td>\n",
       "      <td>20904   677TH PL SE  98045</td>\n",
       "      <td>4</td>\n",
       "      <td>3</td>\n",
       "    </tr>\n",
       "    <tr>\n",
       "      <th>137357</th>\n",
       "      <td>70000.0</td>\n",
       "      <td>0822119001</td>\n",
       "      <td>3017076</td>\n",
       "      <td></td>\n",
       "      <td>2019-10-21</td>\n",
       "      <td>20904   677TH PL SE  98045</td>\n",
       "      <td>5</td>\n",
       "      <td>3</td>\n",
       "    </tr>\n",
       "    <tr>\n",
       "      <th>137358</th>\n",
       "      <td>70000.0</td>\n",
       "      <td>0822119001</td>\n",
       "      <td>3017076</td>\n",
       "      <td></td>\n",
       "      <td>2019-10-21</td>\n",
       "      <td>20904   677TH PL SE  98045</td>\n",
       "      <td>6</td>\n",
       "      <td>3</td>\n",
       "    </tr>\n",
       "    <tr>\n",
       "      <th>137359</th>\n",
       "      <td>70000.0</td>\n",
       "      <td>0822119001</td>\n",
       "      <td>3017076</td>\n",
       "      <td></td>\n",
       "      <td>2019-10-21</td>\n",
       "      <td>20904   677TH PL SE  98045</td>\n",
       "      <td>7</td>\n",
       "      <td>3</td>\n",
       "    </tr>\n",
       "    <tr>\n",
       "      <th>137360</th>\n",
       "      <td>70000.0</td>\n",
       "      <td>0822119001</td>\n",
       "      <td>3017076</td>\n",
       "      <td></td>\n",
       "      <td>2019-10-21</td>\n",
       "      <td>20904   677TH PL SE  98045</td>\n",
       "      <td>8</td>\n",
       "      <td>3</td>\n",
       "    </tr>\n",
       "    <tr>\n",
       "      <th>137361</th>\n",
       "      <td>70000.0</td>\n",
       "      <td>0822119001</td>\n",
       "      <td>3017076</td>\n",
       "      <td></td>\n",
       "      <td>2019-10-21</td>\n",
       "      <td>20904   677TH PL SE  98045</td>\n",
       "      <td>9</td>\n",
       "      <td>3</td>\n",
       "    </tr>\n",
       "    <tr>\n",
       "      <th>221477</th>\n",
       "      <td>70000.0</td>\n",
       "      <td>0822119001</td>\n",
       "      <td>3017115</td>\n",
       "      <td>20191025000752</td>\n",
       "      <td>2019-10-21</td>\n",
       "      <td>20904   677TH PL SE  98045</td>\n",
       "      <td>1</td>\n",
       "      <td>0</td>\n",
       "    </tr>\n",
       "    <tr>\n",
       "      <th>221478</th>\n",
       "      <td>70000.0</td>\n",
       "      <td>0822119001</td>\n",
       "      <td>3017115</td>\n",
       "      <td>20191025000752</td>\n",
       "      <td>2019-10-21</td>\n",
       "      <td>20904   677TH PL SE  98045</td>\n",
       "      <td>10</td>\n",
       "      <td>0</td>\n",
       "    </tr>\n",
       "    <tr>\n",
       "      <th>221479</th>\n",
       "      <td>70000.0</td>\n",
       "      <td>0822119001</td>\n",
       "      <td>3017115</td>\n",
       "      <td>20191025000752</td>\n",
       "      <td>2019-10-21</td>\n",
       "      <td>20904   677TH PL SE  98045</td>\n",
       "      <td>11</td>\n",
       "      <td>0</td>\n",
       "    </tr>\n",
       "    <tr>\n",
       "      <th>221480</th>\n",
       "      <td>70000.0</td>\n",
       "      <td>0822119001</td>\n",
       "      <td>3017115</td>\n",
       "      <td>20191025000752</td>\n",
       "      <td>2019-10-21</td>\n",
       "      <td>20904   677TH PL SE  98045</td>\n",
       "      <td>12</td>\n",
       "      <td>0</td>\n",
       "    </tr>\n",
       "    <tr>\n",
       "      <th>221481</th>\n",
       "      <td>70000.0</td>\n",
       "      <td>0822119001</td>\n",
       "      <td>3017115</td>\n",
       "      <td>20191025000752</td>\n",
       "      <td>2019-10-21</td>\n",
       "      <td>20904   677TH PL SE  98045</td>\n",
       "      <td>13</td>\n",
       "      <td>0</td>\n",
       "    </tr>\n",
       "    <tr>\n",
       "      <th>221482</th>\n",
       "      <td>70000.0</td>\n",
       "      <td>0822119001</td>\n",
       "      <td>3017115</td>\n",
       "      <td>20191025000752</td>\n",
       "      <td>2019-10-21</td>\n",
       "      <td>20904   677TH PL SE  98045</td>\n",
       "      <td>14</td>\n",
       "      <td>0</td>\n",
       "    </tr>\n",
       "    <tr>\n",
       "      <th>221483</th>\n",
       "      <td>70000.0</td>\n",
       "      <td>0822119001</td>\n",
       "      <td>3017115</td>\n",
       "      <td>20191025000752</td>\n",
       "      <td>2019-10-21</td>\n",
       "      <td>20904   677TH PL SE  98045</td>\n",
       "      <td>15</td>\n",
       "      <td>0</td>\n",
       "    </tr>\n",
       "    <tr>\n",
       "      <th>221484</th>\n",
       "      <td>70000.0</td>\n",
       "      <td>0822119001</td>\n",
       "      <td>3017115</td>\n",
       "      <td>20191025000752</td>\n",
       "      <td>2019-10-21</td>\n",
       "      <td>20904   677TH PL SE  98045</td>\n",
       "      <td>16</td>\n",
       "      <td>0</td>\n",
       "    </tr>\n",
       "    <tr>\n",
       "      <th>221485</th>\n",
       "      <td>70000.0</td>\n",
       "      <td>0822119001</td>\n",
       "      <td>3017115</td>\n",
       "      <td>20191025000752</td>\n",
       "      <td>2019-10-21</td>\n",
       "      <td>20904   677TH PL SE  98045</td>\n",
       "      <td>17</td>\n",
       "      <td>0</td>\n",
       "    </tr>\n",
       "    <tr>\n",
       "      <th>221486</th>\n",
       "      <td>70000.0</td>\n",
       "      <td>0822119001</td>\n",
       "      <td>3017115</td>\n",
       "      <td>20191025000752</td>\n",
       "      <td>2019-10-21</td>\n",
       "      <td>20904   677TH PL SE  98045</td>\n",
       "      <td>18</td>\n",
       "      <td>0</td>\n",
       "    </tr>\n",
       "    <tr>\n",
       "      <th>221487</th>\n",
       "      <td>70000.0</td>\n",
       "      <td>0822119001</td>\n",
       "      <td>3017115</td>\n",
       "      <td>20191025000752</td>\n",
       "      <td>2019-10-21</td>\n",
       "      <td>20904   677TH PL SE  98045</td>\n",
       "      <td>19</td>\n",
       "      <td>0</td>\n",
       "    </tr>\n",
       "    <tr>\n",
       "      <th>221488</th>\n",
       "      <td>70000.0</td>\n",
       "      <td>0822119001</td>\n",
       "      <td>3017115</td>\n",
       "      <td>20191025000752</td>\n",
       "      <td>2019-10-21</td>\n",
       "      <td>20904   677TH PL SE  98045</td>\n",
       "      <td>2</td>\n",
       "      <td>0</td>\n",
       "    </tr>\n",
       "    <tr>\n",
       "      <th>221489</th>\n",
       "      <td>70000.0</td>\n",
       "      <td>0822119001</td>\n",
       "      <td>3017115</td>\n",
       "      <td>20191025000752</td>\n",
       "      <td>2019-10-21</td>\n",
       "      <td>20904   677TH PL SE  98045</td>\n",
       "      <td>20</td>\n",
       "      <td>0</td>\n",
       "    </tr>\n",
       "    <tr>\n",
       "      <th>221490</th>\n",
       "      <td>70000.0</td>\n",
       "      <td>0822119001</td>\n",
       "      <td>3017115</td>\n",
       "      <td>20191025000752</td>\n",
       "      <td>2019-10-21</td>\n",
       "      <td>20904   677TH PL SE  98045</td>\n",
       "      <td>21</td>\n",
       "      <td>0</td>\n",
       "    </tr>\n",
       "    <tr>\n",
       "      <th>221491</th>\n",
       "      <td>70000.0</td>\n",
       "      <td>0822119001</td>\n",
       "      <td>3017115</td>\n",
       "      <td>20191025000752</td>\n",
       "      <td>2019-10-21</td>\n",
       "      <td>20904   677TH PL SE  98045</td>\n",
       "      <td>3</td>\n",
       "      <td>0</td>\n",
       "    </tr>\n",
       "    <tr>\n",
       "      <th>221492</th>\n",
       "      <td>70000.0</td>\n",
       "      <td>0822119001</td>\n",
       "      <td>3017115</td>\n",
       "      <td>20191025000752</td>\n",
       "      <td>2019-10-21</td>\n",
       "      <td>20904   677TH PL SE  98045</td>\n",
       "      <td>4</td>\n",
       "      <td>0</td>\n",
       "    </tr>\n",
       "    <tr>\n",
       "      <th>221493</th>\n",
       "      <td>70000.0</td>\n",
       "      <td>0822119001</td>\n",
       "      <td>3017115</td>\n",
       "      <td>20191025000752</td>\n",
       "      <td>2019-10-21</td>\n",
       "      <td>20904   677TH PL SE  98045</td>\n",
       "      <td>5</td>\n",
       "      <td>0</td>\n",
       "    </tr>\n",
       "    <tr>\n",
       "      <th>221494</th>\n",
       "      <td>70000.0</td>\n",
       "      <td>0822119001</td>\n",
       "      <td>3017115</td>\n",
       "      <td>20191025000752</td>\n",
       "      <td>2019-10-21</td>\n",
       "      <td>20904   677TH PL SE  98045</td>\n",
       "      <td>6</td>\n",
       "      <td>0</td>\n",
       "    </tr>\n",
       "    <tr>\n",
       "      <th>221495</th>\n",
       "      <td>70000.0</td>\n",
       "      <td>0822119001</td>\n",
       "      <td>3017115</td>\n",
       "      <td>20191025000752</td>\n",
       "      <td>2019-10-21</td>\n",
       "      <td>20904   677TH PL SE  98045</td>\n",
       "      <td>7</td>\n",
       "      <td>0</td>\n",
       "    </tr>\n",
       "    <tr>\n",
       "      <th>221496</th>\n",
       "      <td>70000.0</td>\n",
       "      <td>0822119001</td>\n",
       "      <td>3017115</td>\n",
       "      <td>20191025000752</td>\n",
       "      <td>2019-10-21</td>\n",
       "      <td>20904   677TH PL SE  98045</td>\n",
       "      <td>8</td>\n",
       "      <td>0</td>\n",
       "    </tr>\n",
       "    <tr>\n",
       "      <th>221497</th>\n",
       "      <td>70000.0</td>\n",
       "      <td>0822119001</td>\n",
       "      <td>3017115</td>\n",
       "      <td>20191025000752</td>\n",
       "      <td>2019-10-21</td>\n",
       "      <td>20904   677TH PL SE  98045</td>\n",
       "      <td>9</td>\n",
       "      <td>0</td>\n",
       "    </tr>\n",
       "  </tbody>\n",
       "</table>\n",
       "</div>"
      ],
      "text/plain": [
       "        SalePrice          ID ExciseTaxNbr    RecordingNbr DocumentDate  \\\n",
       "135744    70000.0  0822119001      3017542  20191028001102   2019-10-21   \n",
       "135745    70000.0  0822119001      3017542  20191028001102   2019-10-21   \n",
       "135746    70000.0  0822119001      3017542  20191028001102   2019-10-21   \n",
       "135747    70000.0  0822119001      3017542  20191028001102   2019-10-21   \n",
       "135748    70000.0  0822119001      3017542  20191028001102   2019-10-21   \n",
       "135749    70000.0  0822119001      3017542  20191028001102   2019-10-21   \n",
       "135750    70000.0  0822119001      3017542  20191028001102   2019-10-21   \n",
       "135751    70000.0  0822119001      3017542  20191028001102   2019-10-21   \n",
       "135752    70000.0  0822119001      3017542  20191028001102   2019-10-21   \n",
       "135753    70000.0  0822119001      3017542  20191028001102   2019-10-21   \n",
       "135754    70000.0  0822119001      3017542  20191028001102   2019-10-21   \n",
       "135755    70000.0  0822119001      3017542  20191028001102   2019-10-21   \n",
       "135756    70000.0  0822119001      3017542  20191028001102   2019-10-21   \n",
       "135757    70000.0  0822119001      3017542  20191028001102   2019-10-21   \n",
       "135758    70000.0  0822119001      3017542  20191028001102   2019-10-21   \n",
       "135759    70000.0  0822119001      3017542  20191028001102   2019-10-21   \n",
       "135760    70000.0  0822119001      3017542  20191028001102   2019-10-21   \n",
       "135761    70000.0  0822119001      3017542  20191028001102   2019-10-21   \n",
       "135762    70000.0  0822119001      3017542  20191028001102   2019-10-21   \n",
       "135763    70000.0  0822119001      3017542  20191028001102   2019-10-21   \n",
       "135764    70000.0  0822119001      3017542  20191028001102   2019-10-21   \n",
       "137341    70000.0  0822119001      3017076                   2019-10-21   \n",
       "137342    70000.0  0822119001      3017076                   2019-10-21   \n",
       "137343    70000.0  0822119001      3017076                   2019-10-21   \n",
       "137344    70000.0  0822119001      3017076                   2019-10-21   \n",
       "137345    70000.0  0822119001      3017076                   2019-10-21   \n",
       "137346    70000.0  0822119001      3017076                   2019-10-21   \n",
       "137347    70000.0  0822119001      3017076                   2019-10-21   \n",
       "137348    70000.0  0822119001      3017076                   2019-10-21   \n",
       "137349    70000.0  0822119001      3017076                   2019-10-21   \n",
       "137350    70000.0  0822119001      3017076                   2019-10-21   \n",
       "137351    70000.0  0822119001      3017076                   2019-10-21   \n",
       "137352    70000.0  0822119001      3017076                   2019-10-21   \n",
       "137353    70000.0  0822119001      3017076                   2019-10-21   \n",
       "137354    70000.0  0822119001      3017076                   2019-10-21   \n",
       "137355    70000.0  0822119001      3017076                   2019-10-21   \n",
       "137356    70000.0  0822119001      3017076                   2019-10-21   \n",
       "137357    70000.0  0822119001      3017076                   2019-10-21   \n",
       "137358    70000.0  0822119001      3017076                   2019-10-21   \n",
       "137359    70000.0  0822119001      3017076                   2019-10-21   \n",
       "137360    70000.0  0822119001      3017076                   2019-10-21   \n",
       "137361    70000.0  0822119001      3017076                   2019-10-21   \n",
       "221477    70000.0  0822119001      3017115  20191025000752   2019-10-21   \n",
       "221478    70000.0  0822119001      3017115  20191025000752   2019-10-21   \n",
       "221479    70000.0  0822119001      3017115  20191025000752   2019-10-21   \n",
       "221480    70000.0  0822119001      3017115  20191025000752   2019-10-21   \n",
       "221481    70000.0  0822119001      3017115  20191025000752   2019-10-21   \n",
       "221482    70000.0  0822119001      3017115  20191025000752   2019-10-21   \n",
       "221483    70000.0  0822119001      3017115  20191025000752   2019-10-21   \n",
       "221484    70000.0  0822119001      3017115  20191025000752   2019-10-21   \n",
       "221485    70000.0  0822119001      3017115  20191025000752   2019-10-21   \n",
       "221486    70000.0  0822119001      3017115  20191025000752   2019-10-21   \n",
       "221487    70000.0  0822119001      3017115  20191025000752   2019-10-21   \n",
       "221488    70000.0  0822119001      3017115  20191025000752   2019-10-21   \n",
       "221489    70000.0  0822119001      3017115  20191025000752   2019-10-21   \n",
       "221490    70000.0  0822119001      3017115  20191025000752   2019-10-21   \n",
       "221491    70000.0  0822119001      3017115  20191025000752   2019-10-21   \n",
       "221492    70000.0  0822119001      3017115  20191025000752   2019-10-21   \n",
       "221493    70000.0  0822119001      3017115  20191025000752   2019-10-21   \n",
       "221494    70000.0  0822119001      3017115  20191025000752   2019-10-21   \n",
       "221495    70000.0  0822119001      3017115  20191025000752   2019-10-21   \n",
       "221496    70000.0  0822119001      3017115  20191025000752   2019-10-21   \n",
       "221497    70000.0  0822119001      3017115  20191025000752   2019-10-21   \n",
       "\n",
       "                           Address BldgNbr PropertyType  \n",
       "135744  20904   677TH PL SE  98045       1            0  \n",
       "135745  20904   677TH PL SE  98045      10            0  \n",
       "135746  20904   677TH PL SE  98045      11            0  \n",
       "135747  20904   677TH PL SE  98045      12            0  \n",
       "135748  20904   677TH PL SE  98045      13            0  \n",
       "135749  20904   677TH PL SE  98045      14            0  \n",
       "135750  20904   677TH PL SE  98045      15            0  \n",
       "135751  20904   677TH PL SE  98045      16            0  \n",
       "135752  20904   677TH PL SE  98045      17            0  \n",
       "135753  20904   677TH PL SE  98045      18            0  \n",
       "135754  20904   677TH PL SE  98045      19            0  \n",
       "135755  20904   677TH PL SE  98045       2            0  \n",
       "135756  20904   677TH PL SE  98045      20            0  \n",
       "135757  20904   677TH PL SE  98045      21            0  \n",
       "135758  20904   677TH PL SE  98045       3            0  \n",
       "135759  20904   677TH PL SE  98045       4            0  \n",
       "135760  20904   677TH PL SE  98045       5            0  \n",
       "135761  20904   677TH PL SE  98045       6            0  \n",
       "135762  20904   677TH PL SE  98045       7            0  \n",
       "135763  20904   677TH PL SE  98045       8            0  \n",
       "135764  20904   677TH PL SE  98045       9            0  \n",
       "137341  20904   677TH PL SE  98045       1            3  \n",
       "137342  20904   677TH PL SE  98045      10            3  \n",
       "137343  20904   677TH PL SE  98045      11            3  \n",
       "137344  20904   677TH PL SE  98045      12            3  \n",
       "137345  20904   677TH PL SE  98045      13            3  \n",
       "137346  20904   677TH PL SE  98045      14            3  \n",
       "137347  20904   677TH PL SE  98045      15            3  \n",
       "137348  20904   677TH PL SE  98045      16            3  \n",
       "137349  20904   677TH PL SE  98045      17            3  \n",
       "137350  20904   677TH PL SE  98045      18            3  \n",
       "137351  20904   677TH PL SE  98045      19            3  \n",
       "137352  20904   677TH PL SE  98045       2            3  \n",
       "137353  20904   677TH PL SE  98045      20            3  \n",
       "137354  20904   677TH PL SE  98045      21            3  \n",
       "137355  20904   677TH PL SE  98045       3            3  \n",
       "137356  20904   677TH PL SE  98045       4            3  \n",
       "137357  20904   677TH PL SE  98045       5            3  \n",
       "137358  20904   677TH PL SE  98045       6            3  \n",
       "137359  20904   677TH PL SE  98045       7            3  \n",
       "137360  20904   677TH PL SE  98045       8            3  \n",
       "137361  20904   677TH PL SE  98045       9            3  \n",
       "221477  20904   677TH PL SE  98045       1            0  \n",
       "221478  20904   677TH PL SE  98045      10            0  \n",
       "221479  20904   677TH PL SE  98045      11            0  \n",
       "221480  20904   677TH PL SE  98045      12            0  \n",
       "221481  20904   677TH PL SE  98045      13            0  \n",
       "221482  20904   677TH PL SE  98045      14            0  \n",
       "221483  20904   677TH PL SE  98045      15            0  \n",
       "221484  20904   677TH PL SE  98045      16            0  \n",
       "221485  20904   677TH PL SE  98045      17            0  \n",
       "221486  20904   677TH PL SE  98045      18            0  \n",
       "221487  20904   677TH PL SE  98045      19            0  \n",
       "221488  20904   677TH PL SE  98045       2            0  \n",
       "221489  20904   677TH PL SE  98045      20            0  \n",
       "221490  20904   677TH PL SE  98045      21            0  \n",
       "221491  20904   677TH PL SE  98045       3            0  \n",
       "221492  20904   677TH PL SE  98045       4            0  \n",
       "221493  20904   677TH PL SE  98045       5            0  \n",
       "221494  20904   677TH PL SE  98045       6            0  \n",
       "221495  20904   677TH PL SE  98045       7            0  \n",
       "221496  20904   677TH PL SE  98045       8            0  \n",
       "221497  20904   677TH PL SE  98045       9            0  "
      ]
     },
     "execution_count": 56,
     "metadata": {},
     "output_type": "execute_result"
    }
   ],
   "source": [
    "deep"
   ]
  },
  {
   "cell_type": "markdown",
   "metadata": {},
   "source": [
    "#### Checking Number of Buildings"
   ]
  },
  {
   "cell_type": "code",
   "execution_count": 57,
   "metadata": {},
   "outputs": [
    {
     "data": {
      "text/plain": [
       "21"
      ]
     },
     "execution_count": 57,
     "metadata": {},
     "output_type": "execute_result"
    }
   ],
   "source": [
    "len(deep.BldgNbr.unique())"
   ]
  },
  {
   "cell_type": "markdown",
   "metadata": {},
   "source": [
    "Looks like there are 42 invalid entries Dropping."
   ]
  },
  {
   "cell_type": "markdown",
   "metadata": {},
   "source": [
    "#### Dropping '0' Values"
   ]
  },
  {
   "cell_type": "code",
   "execution_count": 58,
   "metadata": {},
   "outputs": [],
   "source": [
    "drop_idx = deep[deep.PropertyType == '0'].index\n",
    "deep.drop(drop_idx, inplace=True)"
   ]
  },
  {
   "cell_type": "code",
   "execution_count": 59,
   "metadata": {},
   "outputs": [
    {
     "name": "stdout",
     "output_type": "stream",
     "text": [
      "(21, 8)\n"
     ]
    },
    {
     "data": {
      "text/html": [
       "<div>\n",
       "<style scoped>\n",
       "    .dataframe tbody tr th:only-of-type {\n",
       "        vertical-align: middle;\n",
       "    }\n",
       "\n",
       "    .dataframe tbody tr th {\n",
       "        vertical-align: top;\n",
       "    }\n",
       "\n",
       "    .dataframe thead th {\n",
       "        text-align: right;\n",
       "    }\n",
       "</style>\n",
       "<table border=\"1\" class=\"dataframe\">\n",
       "  <thead>\n",
       "    <tr style=\"text-align: right;\">\n",
       "      <th></th>\n",
       "      <th>SalePrice</th>\n",
       "      <th>ID</th>\n",
       "      <th>ExciseTaxNbr</th>\n",
       "      <th>RecordingNbr</th>\n",
       "      <th>DocumentDate</th>\n",
       "      <th>Address</th>\n",
       "      <th>BldgNbr</th>\n",
       "      <th>PropertyType</th>\n",
       "    </tr>\n",
       "  </thead>\n",
       "  <tbody>\n",
       "    <tr>\n",
       "      <th>137341</th>\n",
       "      <td>70000.0</td>\n",
       "      <td>0822119001</td>\n",
       "      <td>3017076</td>\n",
       "      <td></td>\n",
       "      <td>2019-10-21</td>\n",
       "      <td>20904   677TH PL SE  98045</td>\n",
       "      <td>1</td>\n",
       "      <td>3</td>\n",
       "    </tr>\n",
       "    <tr>\n",
       "      <th>137342</th>\n",
       "      <td>70000.0</td>\n",
       "      <td>0822119001</td>\n",
       "      <td>3017076</td>\n",
       "      <td></td>\n",
       "      <td>2019-10-21</td>\n",
       "      <td>20904   677TH PL SE  98045</td>\n",
       "      <td>10</td>\n",
       "      <td>3</td>\n",
       "    </tr>\n",
       "  </tbody>\n",
       "</table>\n",
       "</div>"
      ],
      "text/plain": [
       "        SalePrice          ID ExciseTaxNbr    RecordingNbr DocumentDate  \\\n",
       "137341    70000.0  0822119001      3017076                   2019-10-21   \n",
       "137342    70000.0  0822119001      3017076                   2019-10-21   \n",
       "\n",
       "                           Address BldgNbr PropertyType  \n",
       "137341  20904   677TH PL SE  98045       1            3  \n",
       "137342  20904   677TH PL SE  98045      10            3  "
      ]
     },
     "execution_count": 59,
     "metadata": {},
     "output_type": "execute_result"
    }
   ],
   "source": [
    "print(deep.shape)\n",
    "deep.head(2)"
   ]
  },
  {
   "cell_type": "markdown",
   "metadata": {},
   "source": [
    "#### Looking Good\n",
    "The shape of the data frame make more sense after dropping rows."
   ]
  },
  {
   "cell_type": "markdown",
   "metadata": {},
   "source": [
    "## Deeper Understanding\n",
    "Feeling confident that `'0'` `SalePrice` & `PropertyType` rows can be safely removed for cleaning purposes after performing the above analysis. "
   ]
  },
  {
   "cell_type": "markdown",
   "metadata": {},
   "source": [
    "## Dropping Zeroes"
   ]
  },
  {
   "cell_type": "code",
   "execution_count": 60,
   "metadata": {},
   "outputs": [],
   "source": [
    "# dropping 0 prices\n",
    "drop_idx = df[(df.SalePrice == 0)].index\n",
    "df.drop(drop_idx, inplace=True)"
   ]
  },
  {
   "cell_type": "code",
   "execution_count": 61,
   "metadata": {},
   "outputs": [
    {
     "data": {
      "text/plain": [
       "(173621, 143)"
      ]
     },
     "execution_count": 61,
     "metadata": {},
     "output_type": "execute_result"
    }
   ],
   "source": [
    "df.shape"
   ]
  },
  {
   "cell_type": "code",
   "execution_count": 62,
   "metadata": {},
   "outputs": [],
   "source": [
    "# dropping'0' propertytypes\n",
    "drop_idx = df[df.PropertyType == '0'].index\n",
    "df.drop(drop_idx, inplace=True)"
   ]
  },
  {
   "cell_type": "code",
   "execution_count": 63,
   "metadata": {},
   "outputs": [
    {
     "data": {
      "text/plain": [
       "(172793, 143)"
      ]
     },
     "execution_count": 63,
     "metadata": {},
     "output_type": "execute_result"
    }
   ],
   "source": [
    "df.shape"
   ]
  },
  {
   "cell_type": "markdown",
   "metadata": {},
   "source": [
    "## 2019 Data"
   ]
  },
  {
   "cell_type": "markdown",
   "metadata": {},
   "source": [
    "Since we want to train our model on 2019 data, we are going to isolate the 2019 information into a new data frame and use it to define our target and predictors."
   ]
  },
  {
   "cell_type": "markdown",
   "metadata": {},
   "source": [
    "#### Creating Initial 2019 DataFrame"
   ]
  },
  {
   "cell_type": "markdown",
   "metadata": {},
   "source": [
    "Creating data frame and checking basic information"
   ]
  },
  {
   "cell_type": "code",
   "execution_count": 64,
   "metadata": {},
   "outputs": [],
   "source": [
    "# isolating 2019 data\n",
    "df = df[df['DocumentYear']==2019]"
   ]
  },
  {
   "cell_type": "code",
   "execution_count": 65,
   "metadata": {
    "tags": []
   },
   "outputs": [
    {
     "name": "stdout",
     "output_type": "stream",
     "text": [
      "(29761, 143)\n"
     ]
    },
    {
     "data": {
      "text/plain": [
       "SalePrice                 0\n",
       "ID                        0\n",
       "ExciseTaxNbr              0\n",
       "DocumentDate              0\n",
       "RecordingNbr              0\n",
       "Volume                    0\n",
       "Page                      0\n",
       "PlatNbr                   0\n",
       "PlatType                  0\n",
       "PlatLot                   0\n",
       "PlatBlock                 0\n",
       "SellerName                0\n",
       "BuyerName                 0\n",
       "PropertyType              0\n",
       "PrincipalUse              0\n",
       "SaleInstrument            0\n",
       "AFForestLand              0\n",
       "AFCurrentUseLand          0\n",
       "AFNonProfitUse            0\n",
       "AFHistoricProperty        0\n",
       "SaleReason                0\n",
       "PropertyClass             0\n",
       "SaleWarning               0\n",
       "Range                     0\n",
       "Township                  0\n",
       "Section                   0\n",
       "QuarterSection            0\n",
       "PropType                  0\n",
       "Area                      0\n",
       "SubArea                   0\n",
       "DistrictName              0\n",
       "LevyCode                  0\n",
       "CurrentZoning             0\n",
       "HBUAsIfVacant             0\n",
       "HBUAsImproved             0\n",
       "PresentUse                0\n",
       "SqFtLot                   0\n",
       "WaterSystem               0\n",
       "SewerSystem               0\n",
       "Access                    0\n",
       "Topography                0\n",
       "StreetSurface             0\n",
       "RestrictiveSzShape        0\n",
       "InadequateParking         0\n",
       "PcntUnusable              0\n",
       "Unbuildable               0\n",
       "MtRainier                 0\n",
       "Olympics                  0\n",
       "Cascades                  0\n",
       "Territorial               0\n",
       "SeattleSkyline            0\n",
       "PugetSound                0\n",
       "LakeWashington            0\n",
       "LakeSammamish             0\n",
       "SmallLakeRiverCreek       0\n",
       "OtherView                 0\n",
       "WfntLocation              0\n",
       "WfntFootage               0\n",
       "WfntBank                  0\n",
       "WfntPoorQuality           0\n",
       "WfntRestrictedAccess      0\n",
       "WfntAccessRights          0\n",
       "WfntProximityInfluence    0\n",
       "TidelandShoreland         0\n",
       "LotDepthFactor            0\n",
       "TrafficNoise              0\n",
       "AirportNoise              0\n",
       "PowerLines                0\n",
       "OtherNuisances            0\n",
       "NbrBldgSites              0\n",
       "Contamination             0\n",
       "DNRLease                  0\n",
       "AdjacentGolfFairway       0\n",
       "AdjacentGreenbelt         0\n",
       "HistoricSite              0\n",
       "CurrentUseDesignation     0\n",
       "NativeGrowthProtEsmt      0\n",
       "Easements                 0\n",
       "OtherDesignation          0\n",
       "DeedRestrictions          0\n",
       "DevelopmentRightsPurch    0\n",
       "CoalMineHazard            0\n",
       "CriticalDrainage          0\n",
       "ErosionHazard             0\n",
       "LandfillBuffer            0\n",
       "HundredYrFloodPlain       0\n",
       "SeismicHazard             0\n",
       "LandslideHazard           0\n",
       "SteepSlopeHazard          0\n",
       "Stream                    0\n",
       "Wetland                   0\n",
       "SpeciesOfConcern          0\n",
       "SensitiveAreaTract        0\n",
       "WaterProblems             0\n",
       "TranspConcurrency         0\n",
       "OtherProblems             0\n",
       "BldgNbr                   0\n",
       "NbrLivingUnits            0\n",
       "Address                   0\n",
       "BuildingNumber            0\n",
       "Fraction                  0\n",
       "StreetName                0\n",
       "StreetType                0\n",
       "Stories                   0\n",
       "BldgGrade                 0\n",
       "BldgGradeVar              0\n",
       "SqFt1stFloor              0\n",
       "SqFtHalfFloor             0\n",
       "SqFt2ndFloor              0\n",
       "SqFtUpperFloor            0\n",
       "SqFtUnfinFull             0\n",
       "SqFtUnfinHalf             0\n",
       "SqFtTotLiving             0\n",
       "SqFtTotBasement           0\n",
       "SqFtFinBasement           0\n",
       "FinBasementGrade          0\n",
       "SqFtGarageBasement        0\n",
       "SqFtGarageAttached        0\n",
       "DaylightBasement          0\n",
       "SqFtOpenPorch             0\n",
       "SqFtEnclosedPorch         0\n",
       "SqFtDeck                  0\n",
       "HeatSystem                0\n",
       "HeatSource                0\n",
       "BrickStone                0\n",
       "ViewUtilization           0\n",
       "Bedrooms                  0\n",
       "BathHalfCount             0\n",
       "Bath3qtrCount             0\n",
       "BathFullCount             0\n",
       "FpSingleStory             0\n",
       "FpMultiStory              0\n",
       "FpFreestanding            0\n",
       "FpAdditional              0\n",
       "YrBuilt                   0\n",
       "YrRenovated               0\n",
       "PcntComplete              0\n",
       "Obsolescence              0\n",
       "PcntNetCondition          0\n",
       "Condition                 0\n",
       "AddnlCost                 0\n",
       "DocumentYear              0\n",
       "ZipClean                  0\n",
       "dtype: int64"
      ]
     },
     "execution_count": 65,
     "metadata": {},
     "output_type": "execute_result"
    }
   ],
   "source": [
    "# checking data frame shape and looking for NaNs\n",
    "print(df.shape)\n",
    "df.isna().sum()"
   ]
  },
  {
   "cell_type": "code",
   "execution_count": 66,
   "metadata": {},
   "outputs": [
    {
     "data": {
      "text/html": [
       "<div>\n",
       "<style scoped>\n",
       "    .dataframe tbody tr th:only-of-type {\n",
       "        vertical-align: middle;\n",
       "    }\n",
       "\n",
       "    .dataframe tbody tr th {\n",
       "        vertical-align: top;\n",
       "    }\n",
       "\n",
       "    .dataframe thead th {\n",
       "        text-align: right;\n",
       "    }\n",
       "</style>\n",
       "<table border=\"1\" class=\"dataframe\">\n",
       "  <thead>\n",
       "    <tr style=\"text-align: right;\">\n",
       "      <th></th>\n",
       "      <th>SalePrice</th>\n",
       "      <th>ID</th>\n",
       "      <th>ExciseTaxNbr</th>\n",
       "      <th>DocumentDate</th>\n",
       "      <th>RecordingNbr</th>\n",
       "      <th>Volume</th>\n",
       "      <th>Page</th>\n",
       "      <th>PlatNbr</th>\n",
       "      <th>PlatType</th>\n",
       "      <th>PlatLot</th>\n",
       "      <th>...</th>\n",
       "      <th>FpAdditional</th>\n",
       "      <th>YrBuilt</th>\n",
       "      <th>YrRenovated</th>\n",
       "      <th>PcntComplete</th>\n",
       "      <th>Obsolescence</th>\n",
       "      <th>PcntNetCondition</th>\n",
       "      <th>Condition</th>\n",
       "      <th>AddnlCost</th>\n",
       "      <th>DocumentYear</th>\n",
       "      <th>ZipClean</th>\n",
       "    </tr>\n",
       "  </thead>\n",
       "  <tbody>\n",
       "    <tr>\n",
       "      <th>5</th>\n",
       "      <td>560000.0</td>\n",
       "      <td>2130430120</td>\n",
       "      <td>3027422</td>\n",
       "      <td>2019-12-20</td>\n",
       "      <td>20191226000848</td>\n",
       "      <td></td>\n",
       "      <td></td>\n",
       "      <td></td>\n",
       "      <td></td>\n",
       "      <td></td>\n",
       "      <td>...</td>\n",
       "      <td>0</td>\n",
       "      <td>1989</td>\n",
       "      <td>0</td>\n",
       "      <td>0</td>\n",
       "      <td>0</td>\n",
       "      <td>0</td>\n",
       "      <td>3</td>\n",
       "      <td>0</td>\n",
       "      <td>2019</td>\n",
       "      <td>98019</td>\n",
       "    </tr>\n",
       "    <tr>\n",
       "      <th>6</th>\n",
       "      <td>435000.0</td>\n",
       "      <td>9406520630</td>\n",
       "      <td>3002257</td>\n",
       "      <td>2019-07-22</td>\n",
       "      <td>20190730001339</td>\n",
       "      <td></td>\n",
       "      <td></td>\n",
       "      <td></td>\n",
       "      <td></td>\n",
       "      <td></td>\n",
       "      <td>...</td>\n",
       "      <td>0</td>\n",
       "      <td>1994</td>\n",
       "      <td>0</td>\n",
       "      <td>0</td>\n",
       "      <td>0</td>\n",
       "      <td>0</td>\n",
       "      <td>3</td>\n",
       "      <td>2500</td>\n",
       "      <td>2019</td>\n",
       "      <td>98038</td>\n",
       "    </tr>\n",
       "    <tr>\n",
       "      <th>12</th>\n",
       "      <td>450000.0</td>\n",
       "      <td>1402810020</td>\n",
       "      <td>2993601</td>\n",
       "      <td>2019-06-04</td>\n",
       "      <td>20190614000489</td>\n",
       "      <td></td>\n",
       "      <td></td>\n",
       "      <td></td>\n",
       "      <td></td>\n",
       "      <td></td>\n",
       "      <td>...</td>\n",
       "      <td>0</td>\n",
       "      <td>1986</td>\n",
       "      <td>0</td>\n",
       "      <td>0</td>\n",
       "      <td>0</td>\n",
       "      <td>0</td>\n",
       "      <td>3</td>\n",
       "      <td>0</td>\n",
       "      <td>2019</td>\n",
       "      <td>98019</td>\n",
       "    </tr>\n",
       "  </tbody>\n",
       "</table>\n",
       "<p>3 rows × 143 columns</p>\n",
       "</div>"
      ],
      "text/plain": [
       "    SalePrice          ID ExciseTaxNbr DocumentDate    RecordingNbr Volume  \\\n",
       "5    560000.0  2130430120      3027422   2019-12-20  20191226000848          \n",
       "6    435000.0  9406520630      3002257   2019-07-22  20190730001339          \n",
       "12   450000.0  1402810020      2993601   2019-06-04  20190614000489          \n",
       "\n",
       "   Page PlatNbr PlatType         PlatLot  ... FpAdditional YrBuilt  \\\n",
       "5                                         ...            0    1989   \n",
       "6                                         ...            0    1994   \n",
       "12                                        ...            0    1986   \n",
       "\n",
       "   YrRenovated PcntComplete Obsolescence PcntNetCondition Condition AddnlCost  \\\n",
       "5            0            0            0                0         3         0   \n",
       "6            0            0            0                0         3      2500   \n",
       "12           0            0            0                0         3         0   \n",
       "\n",
       "   DocumentYear ZipClean  \n",
       "5          2019    98019  \n",
       "6          2019    98038  \n",
       "12         2019    98019  \n",
       "\n",
       "[3 rows x 143 columns]"
      ]
     },
     "execution_count": 66,
     "metadata": {},
     "output_type": "execute_result"
    }
   ],
   "source": [
    "# checking first few rows\n",
    "df.head(3)"
   ]
  },
  {
   "cell_type": "markdown",
   "metadata": {},
   "source": [
    "## Narrowing Data Down to Single Family Homes"
   ]
  },
  {
   "cell_type": "code",
   "execution_count": 67,
   "metadata": {},
   "outputs": [
    {
     "data": {
      "text/plain": [
       "(18804, 143)"
      ]
     },
     "execution_count": 67,
     "metadata": {},
     "output_type": "execute_result"
    }
   ],
   "source": [
    "df = df[df.PropertyType == '11']\n",
    "df.shape"
   ]
  },
  {
   "cell_type": "markdown",
   "metadata": {},
   "source": [
    "# Inspecting Columns and Dropping Extraneous Features\n",
    "Working through the list of columns step by step and removing features that seem like they will have minimal impact of the model."
   ]
  },
  {
   "cell_type": "code",
   "execution_count": 68,
   "metadata": {
    "tags": []
   },
   "outputs": [
    {
     "data": {
      "text/plain": [
       "['SalePrice',\n",
       " 'ID',\n",
       " 'ExciseTaxNbr',\n",
       " 'DocumentDate',\n",
       " 'RecordingNbr',\n",
       " 'Volume',\n",
       " 'Page',\n",
       " 'PlatNbr',\n",
       " 'PlatType',\n",
       " 'PlatLot',\n",
       " 'PlatBlock',\n",
       " 'SellerName',\n",
       " 'BuyerName',\n",
       " 'PropertyType',\n",
       " 'PrincipalUse',\n",
       " 'SaleInstrument',\n",
       " 'AFForestLand',\n",
       " 'AFCurrentUseLand',\n",
       " 'AFNonProfitUse',\n",
       " 'AFHistoricProperty',\n",
       " 'SaleReason',\n",
       " 'PropertyClass',\n",
       " 'SaleWarning',\n",
       " 'Range',\n",
       " 'Township',\n",
       " 'Section',\n",
       " 'QuarterSection',\n",
       " 'PropType',\n",
       " 'Area',\n",
       " 'SubArea',\n",
       " 'DistrictName',\n",
       " 'LevyCode',\n",
       " 'CurrentZoning',\n",
       " 'HBUAsIfVacant',\n",
       " 'HBUAsImproved',\n",
       " 'PresentUse',\n",
       " 'SqFtLot',\n",
       " 'WaterSystem',\n",
       " 'SewerSystem',\n",
       " 'Access',\n",
       " 'Topography',\n",
       " 'StreetSurface',\n",
       " 'RestrictiveSzShape',\n",
       " 'InadequateParking',\n",
       " 'PcntUnusable',\n",
       " 'Unbuildable',\n",
       " 'MtRainier',\n",
       " 'Olympics',\n",
       " 'Cascades',\n",
       " 'Territorial',\n",
       " 'SeattleSkyline',\n",
       " 'PugetSound',\n",
       " 'LakeWashington',\n",
       " 'LakeSammamish',\n",
       " 'SmallLakeRiverCreek',\n",
       " 'OtherView',\n",
       " 'WfntLocation',\n",
       " 'WfntFootage',\n",
       " 'WfntBank',\n",
       " 'WfntPoorQuality',\n",
       " 'WfntRestrictedAccess',\n",
       " 'WfntAccessRights',\n",
       " 'WfntProximityInfluence',\n",
       " 'TidelandShoreland',\n",
       " 'LotDepthFactor',\n",
       " 'TrafficNoise',\n",
       " 'AirportNoise',\n",
       " 'PowerLines',\n",
       " 'OtherNuisances',\n",
       " 'NbrBldgSites',\n",
       " 'Contamination',\n",
       " 'DNRLease',\n",
       " 'AdjacentGolfFairway',\n",
       " 'AdjacentGreenbelt',\n",
       " 'HistoricSite',\n",
       " 'CurrentUseDesignation',\n",
       " 'NativeGrowthProtEsmt',\n",
       " 'Easements',\n",
       " 'OtherDesignation',\n",
       " 'DeedRestrictions',\n",
       " 'DevelopmentRightsPurch',\n",
       " 'CoalMineHazard',\n",
       " 'CriticalDrainage',\n",
       " 'ErosionHazard',\n",
       " 'LandfillBuffer',\n",
       " 'HundredYrFloodPlain',\n",
       " 'SeismicHazard',\n",
       " 'LandslideHazard',\n",
       " 'SteepSlopeHazard',\n",
       " 'Stream',\n",
       " 'Wetland',\n",
       " 'SpeciesOfConcern',\n",
       " 'SensitiveAreaTract',\n",
       " 'WaterProblems',\n",
       " 'TranspConcurrency',\n",
       " 'OtherProblems',\n",
       " 'BldgNbr',\n",
       " 'NbrLivingUnits',\n",
       " 'Address',\n",
       " 'BuildingNumber',\n",
       " 'Fraction',\n",
       " 'StreetName',\n",
       " 'StreetType',\n",
       " 'Stories',\n",
       " 'BldgGrade',\n",
       " 'BldgGradeVar',\n",
       " 'SqFt1stFloor',\n",
       " 'SqFtHalfFloor',\n",
       " 'SqFt2ndFloor',\n",
       " 'SqFtUpperFloor',\n",
       " 'SqFtUnfinFull',\n",
       " 'SqFtUnfinHalf',\n",
       " 'SqFtTotLiving',\n",
       " 'SqFtTotBasement',\n",
       " 'SqFtFinBasement',\n",
       " 'FinBasementGrade',\n",
       " 'SqFtGarageBasement',\n",
       " 'SqFtGarageAttached',\n",
       " 'DaylightBasement',\n",
       " 'SqFtOpenPorch',\n",
       " 'SqFtEnclosedPorch',\n",
       " 'SqFtDeck',\n",
       " 'HeatSystem',\n",
       " 'HeatSource',\n",
       " 'BrickStone',\n",
       " 'ViewUtilization',\n",
       " 'Bedrooms',\n",
       " 'BathHalfCount',\n",
       " 'Bath3qtrCount',\n",
       " 'BathFullCount',\n",
       " 'FpSingleStory',\n",
       " 'FpMultiStory',\n",
       " 'FpFreestanding',\n",
       " 'FpAdditional',\n",
       " 'YrBuilt',\n",
       " 'YrRenovated',\n",
       " 'PcntComplete',\n",
       " 'Obsolescence',\n",
       " 'PcntNetCondition',\n",
       " 'Condition',\n",
       " 'AddnlCost',\n",
       " 'DocumentYear',\n",
       " 'ZipClean']"
      ]
     },
     "execution_count": 68,
     "metadata": {},
     "output_type": "execute_result"
    }
   ],
   "source": [
    "# printing list of columns and copying it to external text file for ease of use\n",
    "list(df.columns)"
   ]
  },
  {
   "cell_type": "markdown",
   "metadata": {},
   "source": [
    "## `SALES` Table Columns\n",
    "Inspecting and dropping columns from the `SALES` table."
   ]
  },
  {
   "cell_type": "markdown",
   "metadata": {},
   "source": [
    "#### Checking First Batch of Columns\n",
    "\n",
    "Seem to be a mix of blank columns and administrative information that will probably have no effect on the model."
   ]
  },
  {
   "cell_type": "code",
   "execution_count": 69,
   "metadata": {},
   "outputs": [
    {
     "data": {
      "text/html": [
       "<div>\n",
       "<style scoped>\n",
       "    .dataframe tbody tr th:only-of-type {\n",
       "        vertical-align: middle;\n",
       "    }\n",
       "\n",
       "    .dataframe tbody tr th {\n",
       "        vertical-align: top;\n",
       "    }\n",
       "\n",
       "    .dataframe thead th {\n",
       "        text-align: right;\n",
       "    }\n",
       "</style>\n",
       "<table border=\"1\" class=\"dataframe\">\n",
       "  <thead>\n",
       "    <tr style=\"text-align: right;\">\n",
       "      <th></th>\n",
       "      <th>RecordingNbr</th>\n",
       "      <th>Volume</th>\n",
       "      <th>Page</th>\n",
       "      <th>PlatNbr</th>\n",
       "      <th>PlatType</th>\n",
       "      <th>PlatLot</th>\n",
       "      <th>PlatBlock</th>\n",
       "      <th>SellerName</th>\n",
       "      <th>BuyerName</th>\n",
       "    </tr>\n",
       "  </thead>\n",
       "  <tbody>\n",
       "    <tr>\n",
       "      <th>5</th>\n",
       "      <td>20191226000848</td>\n",
       "      <td></td>\n",
       "      <td></td>\n",
       "      <td></td>\n",
       "      <td></td>\n",
       "      <td></td>\n",
       "      <td></td>\n",
       "      <td>DOYLE REGAN M+STERLING C                      ...</td>\n",
       "      <td>SHAW HEATHER C                                ...</td>\n",
       "    </tr>\n",
       "    <tr>\n",
       "      <th>6</th>\n",
       "      <td>20190730001339</td>\n",
       "      <td></td>\n",
       "      <td></td>\n",
       "      <td></td>\n",
       "      <td></td>\n",
       "      <td></td>\n",
       "      <td></td>\n",
       "      <td>CRAMER NEIL C+PAM R+ET AL                     ...</td>\n",
       "      <td>HANSON BRYAN L+KAILI                          ...</td>\n",
       "    </tr>\n",
       "    <tr>\n",
       "      <th>69</th>\n",
       "      <td></td>\n",
       "      <td></td>\n",
       "      <td></td>\n",
       "      <td></td>\n",
       "      <td></td>\n",
       "      <td></td>\n",
       "      <td></td>\n",
       "      <td>BROWN MARK E+MARCIE K                         ...</td>\n",
       "      <td>MEDVED ROBERT J+JENNIFER E                    ...</td>\n",
       "    </tr>\n",
       "  </tbody>\n",
       "</table>\n",
       "</div>"
      ],
      "text/plain": [
       "      RecordingNbr Volume Page PlatNbr PlatType         PlatLot PlatBlock  \\\n",
       "5   20191226000848                                                          \n",
       "6   20190730001339                                                          \n",
       "69                                                                          \n",
       "\n",
       "                                           SellerName  \\\n",
       "5   DOYLE REGAN M+STERLING C                      ...   \n",
       "6   CRAMER NEIL C+PAM R+ET AL                     ...   \n",
       "69  BROWN MARK E+MARCIE K                         ...   \n",
       "\n",
       "                                            BuyerName  \n",
       "5   SHAW HEATHER C                                ...  \n",
       "6   HANSON BRYAN L+KAILI                          ...  \n",
       "69  MEDVED ROBERT J+JENNIFER E                    ...  "
      ]
     },
     "execution_count": 69,
     "metadata": {},
     "output_type": "execute_result"
    }
   ],
   "source": [
    "# checking columns \n",
    "li = ['RecordingNbr', 'Volume', 'Page', 'PlatNbr' ,'PlatType',\\\n",
    "    'PlatLot', 'PlatBlock', 'SellerName', 'BuyerName']\n",
    "fn.chunker(df,li)"
   ]
  },
  {
   "cell_type": "markdown",
   "metadata": {},
   "source": [
    "Dropping columns and checking the results."
   ]
  },
  {
   "cell_type": "code",
   "execution_count": 70,
   "metadata": {},
   "outputs": [],
   "source": [
    "# dropping blank and extraneous columns\n",
    "fn.dropper(df, li, True)"
   ]
  },
  {
   "cell_type": "code",
   "execution_count": 71,
   "metadata": {},
   "outputs": [
    {
     "data": {
      "text/html": [
       "<div>\n",
       "<style scoped>\n",
       "    .dataframe tbody tr th:only-of-type {\n",
       "        vertical-align: middle;\n",
       "    }\n",
       "\n",
       "    .dataframe tbody tr th {\n",
       "        vertical-align: top;\n",
       "    }\n",
       "\n",
       "    .dataframe thead th {\n",
       "        text-align: right;\n",
       "    }\n",
       "</style>\n",
       "<table border=\"1\" class=\"dataframe\">\n",
       "  <thead>\n",
       "    <tr style=\"text-align: right;\">\n",
       "      <th></th>\n",
       "      <th>SalePrice</th>\n",
       "      <th>ID</th>\n",
       "      <th>ExciseTaxNbr</th>\n",
       "      <th>DocumentDate</th>\n",
       "      <th>PropertyType</th>\n",
       "      <th>PrincipalUse</th>\n",
       "      <th>SaleInstrument</th>\n",
       "      <th>AFForestLand</th>\n",
       "      <th>AFCurrentUseLand</th>\n",
       "      <th>AFNonProfitUse</th>\n",
       "      <th>...</th>\n",
       "      <th>FpAdditional</th>\n",
       "      <th>YrBuilt</th>\n",
       "      <th>YrRenovated</th>\n",
       "      <th>PcntComplete</th>\n",
       "      <th>Obsolescence</th>\n",
       "      <th>PcntNetCondition</th>\n",
       "      <th>Condition</th>\n",
       "      <th>AddnlCost</th>\n",
       "      <th>DocumentYear</th>\n",
       "      <th>ZipClean</th>\n",
       "    </tr>\n",
       "  </thead>\n",
       "  <tbody>\n",
       "    <tr>\n",
       "      <th>5</th>\n",
       "      <td>560000.0</td>\n",
       "      <td>2130430120</td>\n",
       "      <td>3027422</td>\n",
       "      <td>2019-12-20</td>\n",
       "      <td>11</td>\n",
       "      <td>6</td>\n",
       "      <td>3</td>\n",
       "      <td>N</td>\n",
       "      <td>N</td>\n",
       "      <td>N</td>\n",
       "      <td>...</td>\n",
       "      <td>0</td>\n",
       "      <td>1989</td>\n",
       "      <td>0</td>\n",
       "      <td>0</td>\n",
       "      <td>0</td>\n",
       "      <td>0</td>\n",
       "      <td>3</td>\n",
       "      <td>0</td>\n",
       "      <td>2019</td>\n",
       "      <td>98019</td>\n",
       "    </tr>\n",
       "  </tbody>\n",
       "</table>\n",
       "<p>1 rows × 134 columns</p>\n",
       "</div>"
      ],
      "text/plain": [
       "   SalePrice          ID ExciseTaxNbr DocumentDate PropertyType PrincipalUse  \\\n",
       "5   560000.0  2130430120      3027422   2019-12-20           11            6   \n",
       "\n",
       "  SaleInstrument AFForestLand AFCurrentUseLand AFNonProfitUse  ...  \\\n",
       "5              3            N                N              N  ...   \n",
       "\n",
       "  FpAdditional YrBuilt YrRenovated PcntComplete Obsolescence PcntNetCondition  \\\n",
       "5            0    1989           0            0            0                0   \n",
       "\n",
       "  Condition AddnlCost DocumentYear ZipClean  \n",
       "5         3         0         2019    98019  \n",
       "\n",
       "[1 rows x 134 columns]"
      ]
     },
     "execution_count": 71,
     "metadata": {},
     "output_type": "execute_result"
    }
   ],
   "source": [
    "# checking first row\n",
    "df.head(1)"
   ]
  },
  {
   "cell_type": "code",
   "execution_count": 72,
   "metadata": {},
   "outputs": [
    {
     "data": {
      "text/html": [
       "<div>\n",
       "<style scoped>\n",
       "    .dataframe tbody tr th:only-of-type {\n",
       "        vertical-align: middle;\n",
       "    }\n",
       "\n",
       "    .dataframe tbody tr th {\n",
       "        vertical-align: top;\n",
       "    }\n",
       "\n",
       "    .dataframe thead th {\n",
       "        text-align: right;\n",
       "    }\n",
       "</style>\n",
       "<table border=\"1\" class=\"dataframe\">\n",
       "  <thead>\n",
       "    <tr style=\"text-align: right;\">\n",
       "      <th></th>\n",
       "      <th>SaleInstrument</th>\n",
       "      <th>AFForestLand</th>\n",
       "      <th>AFCurrentUseLand</th>\n",
       "      <th>AFNonProfitUse</th>\n",
       "      <th>AFHistoricProperty</th>\n",
       "      <th>SaleReason</th>\n",
       "      <th>PropertyClass</th>\n",
       "      <th>SaleWarning</th>\n",
       "    </tr>\n",
       "  </thead>\n",
       "  <tbody>\n",
       "    <tr>\n",
       "      <th>5</th>\n",
       "      <td>3</td>\n",
       "      <td>N</td>\n",
       "      <td>N</td>\n",
       "      <td>N</td>\n",
       "      <td>N</td>\n",
       "      <td>1</td>\n",
       "      <td>8</td>\n",
       "      <td></td>\n",
       "    </tr>\n",
       "    <tr>\n",
       "      <th>6</th>\n",
       "      <td>3</td>\n",
       "      <td>N</td>\n",
       "      <td>N</td>\n",
       "      <td>N</td>\n",
       "      <td>N</td>\n",
       "      <td>1</td>\n",
       "      <td>8</td>\n",
       "      <td></td>\n",
       "    </tr>\n",
       "    <tr>\n",
       "      <th>69</th>\n",
       "      <td>3</td>\n",
       "      <td>N</td>\n",
       "      <td>N</td>\n",
       "      <td>N</td>\n",
       "      <td>N</td>\n",
       "      <td>1</td>\n",
       "      <td>8</td>\n",
       "      <td></td>\n",
       "    </tr>\n",
       "  </tbody>\n",
       "</table>\n",
       "</div>"
      ],
      "text/plain": [
       "   SaleInstrument AFForestLand AFCurrentUseLand AFNonProfitUse  \\\n",
       "5               3            N                N              N   \n",
       "6               3            N                N              N   \n",
       "69              3            N                N              N   \n",
       "\n",
       "   AFHistoricProperty SaleReason PropertyClass SaleWarning  \n",
       "5                   N          1             8              \n",
       "6                   N          1             8              \n",
       "69                  N          1             8              "
      ]
     },
     "execution_count": 72,
     "metadata": {},
     "output_type": "execute_result"
    }
   ],
   "source": [
    "# creating data frame to inspect latest batch of columns\n",
    "li =['SaleInstrument',\n",
    " 'AFForestLand',\n",
    " 'AFCurrentUseLand',\n",
    " 'AFNonProfitUse',\n",
    " 'AFHistoricProperty',\n",
    " 'SaleReason',\n",
    " 'PropertyClass',\n",
    " 'SaleWarning']\n",
    "fn.chunker(df, li)"
   ]
  },
  {
   "cell_type": "markdown",
   "metadata": {},
   "source": [
    "#### Using Lookup Table For More Info on the Features\n",
    "Checking lookup data and dropping columns. Looking up info on the `SaleInstrument` and `PropertyClass` features."
   ]
  },
  {
   "cell_type": "code",
   "execution_count": 73,
   "metadata": {
    "tags": []
   },
   "outputs": [
    {
     "data": {
      "text/plain": [
       "(     LUType LUItem                    LUDescription\n",
       " 1002      6      1                             None\n",
       " 1003      6     10             Real Estate Contract\n",
       " 1004      6     11           Purchaser's Assignment\n",
       " 1005      6     13              Seller's Assignment\n",
       " 1006      6     15                  Quit Claim Deed\n",
       " 1007      6     18                   Trustees' Deed\n",
       " 1008      6     19                  Executor's Deed\n",
       " 1009      6      2                    Warranty Deed\n",
       " 1010      6     20                   Fiduciary Deed\n",
       " 1011      6     21                   Sheriff's Deed\n",
       " 1012      6     22           Bargain and Sales Deed\n",
       " 1013      6     23                   Receivers Deed\n",
       " 1014      6     24             Deed of Personal Rep\n",
       " 1015      6     25         Judgment Per Stipulation\n",
       " 1016      6     26            Other - See Affidavit\n",
       " 1017      6     27                             DEED\n",
       " 1018      6     28  Forfeiture Real Estate Contract\n",
       " 1019      6      3          Statutory Warranty Deed\n",
       " 1020      6      4            Special Warranty Deed\n",
       " 1021      6      5          Corporate Warranty Deed\n",
       " 1022      6      6         Assumption Warranty Deed\n",
       " 1023      6      7                       Grant Deed\n",
       " 1024      6      8                Contract (equity)\n",
       " 1025      6      9           Contract (installment),\n",
       "     LUType LUItem                 LUDescription\n",
       " 861      4      1                 C/I-Land only\n",
       " 862      4      2     C/I-Imp prop; no condo/MH\n",
       " 863      4      3               C/I-Condominium\n",
       " 864      4      4           C/I-Air rights only\n",
       " 865      4      5  C/I-Imp prop excl air rights\n",
       " 866      4      6    C/I-Land or bldg; no split\n",
       " 867      4      7                 Res-Land only\n",
       " 868      4      8         Res-Improved property\n",
       " 869      4      9        Res or C/I-Mobile Home)"
      ]
     },
     "execution_count": 73,
     "metadata": {},
     "output_type": "execute_result"
    }
   ],
   "source": [
    "# using custom lookup function to print info \n",
    "fn.lookup(look, 6), fn.lookup(look, 4)"
   ]
  },
  {
   "cell_type": "markdown",
   "metadata": {},
   "source": [
    "#### Dropping Columns\n",
    "Seems to be more administrative data that can be safely dropped."
   ]
  },
  {
   "cell_type": "code",
   "execution_count": 74,
   "metadata": {},
   "outputs": [],
   "source": [
    "# dropping extraneous columns\n",
    "fn.dropper(df, li, True)"
   ]
  },
  {
   "cell_type": "markdown",
   "metadata": {},
   "source": [
    "## `PARC` Table Columns\n",
    "Inspecting and dropping columns from the `PARC` table."
   ]
  },
  {
   "cell_type": "markdown",
   "metadata": {},
   "source": [
    "#### Inspecting Next Batch and Checking `'DistrictName'` Feature"
   ]
  },
  {
   "cell_type": "code",
   "execution_count": 75,
   "metadata": {},
   "outputs": [
    {
     "data": {
      "text/html": [
       "<div>\n",
       "<style scoped>\n",
       "    .dataframe tbody tr th:only-of-type {\n",
       "        vertical-align: middle;\n",
       "    }\n",
       "\n",
       "    .dataframe tbody tr th {\n",
       "        vertical-align: top;\n",
       "    }\n",
       "\n",
       "    .dataframe thead th {\n",
       "        text-align: right;\n",
       "    }\n",
       "</style>\n",
       "<table border=\"1\" class=\"dataframe\">\n",
       "  <thead>\n",
       "    <tr style=\"text-align: right;\">\n",
       "      <th></th>\n",
       "      <th>Range</th>\n",
       "      <th>Township</th>\n",
       "      <th>Section</th>\n",
       "      <th>QuarterSection</th>\n",
       "      <th>PropType</th>\n",
       "      <th>Area</th>\n",
       "      <th>SubArea</th>\n",
       "      <th>DistrictName</th>\n",
       "      <th>LevyCode</th>\n",
       "      <th>CurrentZoning</th>\n",
       "    </tr>\n",
       "  </thead>\n",
       "  <tbody>\n",
       "    <tr>\n",
       "      <th>5</th>\n",
       "      <td>6</td>\n",
       "      <td>26</td>\n",
       "      <td>13</td>\n",
       "      <td>SE</td>\n",
       "      <td>R</td>\n",
       "      <td>70</td>\n",
       "      <td>2</td>\n",
       "      <td>DUVALL</td>\n",
       "      <td>1155</td>\n",
       "      <td>R4.5</td>\n",
       "    </tr>\n",
       "    <tr>\n",
       "      <th>6</th>\n",
       "      <td>6</td>\n",
       "      <td>22</td>\n",
       "      <td>27</td>\n",
       "      <td>SW</td>\n",
       "      <td>R</td>\n",
       "      <td>56</td>\n",
       "      <td>3</td>\n",
       "      <td>MAPLE VALLEY</td>\n",
       "      <td>1813</td>\n",
       "      <td>R-6</td>\n",
       "    </tr>\n",
       "    <tr>\n",
       "      <th>69</th>\n",
       "      <td>6</td>\n",
       "      <td>22</td>\n",
       "      <td>27</td>\n",
       "      <td>NW</td>\n",
       "      <td>R</td>\n",
       "      <td>56</td>\n",
       "      <td>3</td>\n",
       "      <td>MAPLE VALLEY</td>\n",
       "      <td>1813</td>\n",
       "      <td>R-4</td>\n",
       "    </tr>\n",
       "  </tbody>\n",
       "</table>\n",
       "</div>"
      ],
      "text/plain": [
       "   Range Township Section QuarterSection PropType Area SubArea  DistrictName  \\\n",
       "5      6       26      13             SE        R   70       2        DUVALL   \n",
       "6      6       22      27             SW        R   56       3  MAPLE VALLEY   \n",
       "69     6       22      27             NW        R   56       3  MAPLE VALLEY   \n",
       "\n",
       "   LevyCode CurrentZoning  \n",
       "5      1155          R4.5  \n",
       "6      1813           R-6  \n",
       "69     1813           R-4  "
      ]
     },
     "execution_count": 75,
     "metadata": {},
     "output_type": "execute_result"
    }
   ],
   "source": [
    "# checking columns\n",
    "li = ['Range',\n",
    " 'Township',\n",
    " 'Section',\n",
    " 'QuarterSection',\n",
    " 'PropType',\n",
    " 'Area',\n",
    " 'SubArea',\n",
    " 'DistrictName',\n",
    " 'LevyCode',\n",
    " 'CurrentZoning']\n",
    "fn.chunker(df, li)"
   ]
  },
  {
   "cell_type": "code",
   "execution_count": 76,
   "metadata": {
    "tags": []
   },
   "outputs": [
    {
     "name": "stdout",
     "output_type": "stream",
     "text": [
      "40\n"
     ]
    },
    {
     "data": {
      "text/plain": [
       "array(['DUVALL', 'MAPLE VALLEY', 'BELLEVUE', 'AUBURN', 'KING COUNTY',\n",
       "       'KENT', 'SEATTLE', 'LAKE FOREST PARK', 'ISSAQUAH', 'WOODINVILLE',\n",
       "       'FEDERAL WAY', 'REDMOND', 'MERCER ISLAND', 'RENTON', 'SNOQUALMIE',\n",
       "       'KENMORE', 'SAMMAMISH', 'DES MOINES', 'SHORELINE', 'KIRKLAND',\n",
       "       'SeaTac', 'NEWCASTLE', 'BURIEN', 'TUKWILA', 'ENUMCLAW',\n",
       "       'CLYDE HILL', 'NORTH BEND', 'SKYKOMISH', 'COVINGTON', 'ALGONA',\n",
       "       'BOTHELL', 'MEDINA', 'MILTON', 'CARNATION', 'NORMANDY PARK',\n",
       "       'BEAUX ARTS', 'YARROW POINT', 'BLACK DIAMOND', 'HUNTS POINT',\n",
       "       'PACIFIC'], dtype=object)"
      ]
     },
     "execution_count": 76,
     "metadata": {},
     "output_type": "execute_result"
    }
   ],
   "source": [
    "# getting unique values\n",
    "print(len(df['DistrictName'].unique()))\n",
    "df['DistrictName'].unique()"
   ]
  },
  {
   "cell_type": "markdown",
   "metadata": {},
   "source": [
    "#### Slicing List and Dropping Features Except for `'PropType'` & `'DistrictName'`\n",
    "District name seems like it may be useful so will be kept for now."
   ]
  },
  {
   "cell_type": "code",
   "execution_count": 77,
   "metadata": {},
   "outputs": [],
   "source": [
    "li = li[:4] + li[5:7] + li[8:10]\n",
    "fn.dropper(df, li, True)"
   ]
  },
  {
   "cell_type": "markdown",
   "metadata": {},
   "source": [
    "#### Processing Next Batch\n",
    "Creating dataframe and using lookup data to inspect features."
   ]
  },
  {
   "cell_type": "code",
   "execution_count": 78,
   "metadata": {},
   "outputs": [
    {
     "data": {
      "text/html": [
       "<div>\n",
       "<style scoped>\n",
       "    .dataframe tbody tr th:only-of-type {\n",
       "        vertical-align: middle;\n",
       "    }\n",
       "\n",
       "    .dataframe tbody tr th {\n",
       "        vertical-align: top;\n",
       "    }\n",
       "\n",
       "    .dataframe thead th {\n",
       "        text-align: right;\n",
       "    }\n",
       "</style>\n",
       "<table border=\"1\" class=\"dataframe\">\n",
       "  <thead>\n",
       "    <tr style=\"text-align: right;\">\n",
       "      <th></th>\n",
       "      <th>HBUAsIfVacant</th>\n",
       "      <th>HBUAsImproved</th>\n",
       "      <th>PresentUse</th>\n",
       "      <th>SqFtLot</th>\n",
       "      <th>WaterSystem</th>\n",
       "      <th>SewerSystem</th>\n",
       "      <th>Access</th>\n",
       "      <th>Topography</th>\n",
       "      <th>StreetSurface</th>\n",
       "      <th>RestrictiveSzShape</th>\n",
       "      <th>InadequateParking</th>\n",
       "      <th>PcntUnusable</th>\n",
       "      <th>Unbuildable</th>\n",
       "    </tr>\n",
       "  </thead>\n",
       "  <tbody>\n",
       "    <tr>\n",
       "      <th>5</th>\n",
       "      <td>1</td>\n",
       "      <td>1</td>\n",
       "      <td>2</td>\n",
       "      <td>10523</td>\n",
       "      <td>2</td>\n",
       "      <td>2</td>\n",
       "      <td>4</td>\n",
       "      <td>0</td>\n",
       "      <td>1</td>\n",
       "      <td>0</td>\n",
       "      <td>0</td>\n",
       "      <td>0</td>\n",
       "      <td>False</td>\n",
       "    </tr>\n",
       "    <tr>\n",
       "      <th>6</th>\n",
       "      <td>1</td>\n",
       "      <td>1</td>\n",
       "      <td>2</td>\n",
       "      <td>7392</td>\n",
       "      <td>2</td>\n",
       "      <td>2</td>\n",
       "      <td>4</td>\n",
       "      <td>0</td>\n",
       "      <td>1</td>\n",
       "      <td>0</td>\n",
       "      <td>0</td>\n",
       "      <td>0</td>\n",
       "      <td>False</td>\n",
       "    </tr>\n",
       "    <tr>\n",
       "      <th>69</th>\n",
       "      <td>1</td>\n",
       "      <td>1</td>\n",
       "      <td>2</td>\n",
       "      <td>5250</td>\n",
       "      <td>2</td>\n",
       "      <td>2</td>\n",
       "      <td>4</td>\n",
       "      <td>0</td>\n",
       "      <td>1</td>\n",
       "      <td>0</td>\n",
       "      <td>0</td>\n",
       "      <td>0</td>\n",
       "      <td>False</td>\n",
       "    </tr>\n",
       "  </tbody>\n",
       "</table>\n",
       "</div>"
      ],
      "text/plain": [
       "   HBUAsIfVacant HBUAsImproved PresentUse SqFtLot WaterSystem SewerSystem  \\\n",
       "5              1             1          2   10523           2           2   \n",
       "6              1             1          2    7392           2           2   \n",
       "69             1             1          2    5250           2           2   \n",
       "\n",
       "   Access Topography StreetSurface RestrictiveSzShape InadequateParking  \\\n",
       "5       4          0             1                  0                 0   \n",
       "6       4          0             1                  0                 0   \n",
       "69      4          0             1                  0                 0   \n",
       "\n",
       "   PcntUnusable Unbuildable  \n",
       "5             0       False  \n",
       "6             0       False  \n",
       "69            0       False  "
      ]
     },
     "execution_count": 78,
     "metadata": {},
     "output_type": "execute_result"
    }
   ],
   "source": [
    "li = ['HBUAsIfVacant',\n",
    " 'HBUAsImproved',\n",
    " 'PresentUse',\n",
    " 'SqFtLot',\n",
    " 'WaterSystem',\n",
    " 'SewerSystem',\n",
    " 'Access',\n",
    " 'Topography',\n",
    " 'StreetSurface',\n",
    " 'RestrictiveSzShape',\n",
    " 'InadequateParking',\n",
    " 'PcntUnusable',\n",
    " 'Unbuildable',]\n",
    "fn.chunker(df, li)"
   ]
  },
  {
   "cell_type": "code",
   "execution_count": 79,
   "metadata": {
    "tags": []
   },
   "outputs": [
    {
     "data": {
      "text/plain": [
       "(    LUType LUItem            LUDescription\n",
       " 213    103      1            SINGLE FAMILY\n",
       " 214    103     10  AMUSEMENT/ENTERTAINMENT\n",
       " 215    103     11                 CULTURAL\n",
       " 216    103     12      EDUCATIONAL SERVICE\n",
       " 217    103     13       COMMERCIAL SERVICE\n",
       " 218    103     14         RETAIL/WHOLESALE\n",
       " 219    103     15            MANUFACTURING\n",
       " 220    103     16             AGRICULTURAL\n",
       " 221    103     17                 FORESTRY\n",
       " 222    103     18     FISH & WILDLIFE MGMT\n",
       " 223    103     19                  MINERAL\n",
       " 224    103      2                   DUPLEX\n",
       " 225    103     20        REGIONAL LAND USE\n",
       " 226    103     21                MIXED USE\n",
       " 227    103      3                  TRIPLEX\n",
       " 228    103      4              MOBILE HOME\n",
       " 229    103      5        OTHER SF DWELLING\n",
       " 230    103      6    MULTI-FAMILY DWELLING\n",
       " 231    103      7          GROUP RESIDENCE\n",
       " 232    103      8        TEMPORARY LODGING\n",
       " 233    103      9          PARK/RECREATION,\n",
       "     LUType LUItem LUDescription\n",
       " 234    104      1   PRESENT USE\n",
       " 235    104      2   INTERIM USE\n",
       " 236    104      3     TEAR DOWN\n",
       " 237    104      4         OTHER,\n",
       "     LUType LUItem                   LUDescription\n",
       " 84     102      0                                \n",
       " 85     102     10              Congregate Housing\n",
       " 86     102    101                    Retail Store\n",
       " 87     102    104                 Retail(Big Box)\n",
       " 88     102    105                Retail(Discount)\n",
       " 89     102    106                 Office Building\n",
       " 90     102     11                       Apartment\n",
       " 91     102    118                     Office Park\n",
       " 92     102    122           Medical/Dental Office\n",
       " 93     102    126             Condominium(Office)\n",
       " 94     102    130                            Farm\n",
       " 95     102    137        Greenhse/Nrsry/Hort Srvc\n",
       " 96     102    138    Mining/Quarry/Ore Processing\n",
       " 97     102    140                   Bowling Alley\n",
       " 98     102    141                      Campground\n",
       " 99     102    142                   Driving Range\n",
       " 100    102    143                     Golf Course\n",
       " 101    102    145                     Health Club\n",
       " 102    102    146                          Marina\n",
       " 103    102    147                   Movie Theater\n",
       " 104    102    149         Park, Public(Zoo/Arbor)\n",
       " 105    102    150        Park, Private(Amuse Ctr)\n",
       " 106    102    152                        Ski Area\n",
       " 107    102    153        Skating Rink(Ice/Roller)\n",
       " 108    102    156                  Sport Facility\n",
       " 109    102    157     Art Gallery/Museum/Soc Srvc\n",
       " 110    102    159                  Parking(Assoc)\n",
       " 111    102     16            Apartment(Mixed Use)\n",
       " 112    102    160       Auditorium//Assembly Bldg\n",
       " 113    102    161           Auto Showroom and Lot\n",
       " 114    102    162                            Bank\n",
       " 115    102    163                        Car Wash\n",
       " 116    102    165       Church/Welfare/Relig Srvc\n",
       " 117    102    166                            Club\n",
       " 118    102    167          Conv Store without Gas\n",
       " 119    102    168             Conv Store with Gas\n",
       " 120    102     17                Apartment(Co-op)\n",
       " 121    102    171           Restaurant(Fast Food)\n",
       " 122    102    172            Governmental Service\n",
       " 123    102    173                        Hospital\n",
       " 124    102    179     Mortuary/Cemetery/Crematory\n",
       " 125    102     18           Apartment(Subsidized)\n",
       " 126    102    180         Parking(Commercial Lot)\n",
       " 127    102    182                 Parking(Garage)\n",
       " 128    102    183               Restaurant/Lounge\n",
       " 129    102    184                  School(Public)\n",
       " 130    102    185                 School(Private)\n",
       " 131    102    186                 Service Station\n",
       " 132    102    188                   Tavern/Lounge\n",
       " 133    102    189        Post Office/Post Service\n",
       " 134    102    190         Vet/Animal Control Srvc\n",
       " 135    102    191                   Grocery Store\n",
       " 136    102    193                  Daycare Center\n",
       " 137    102    194                       Mini Lube\n",
       " 138    102    195                       Warehouse\n",
       " 139    102      2     Single Family(Res Use/Zone)\n",
       " 140    102     20        Condominium(Residential)\n",
       " 141    102    202             High Tech/High Flex\n",
       " 142    102    210                 Industrial Park\n",
       " 143    102    216                Service Building\n",
       " 144    102    223         Industrial(Gen Purpose)\n",
       " 145    102    245               Industrial(Heavy)\n",
       " 146    102    246               Industrial(Light)\n",
       " 147    102    247        Air Terminal and Hangers\n",
       " 148    102     25          Condominium(Mixed Use)\n",
       " 149    102    252                  Mini Warehouse\n",
       " 150    102    261                  Terminal(Rail)\n",
       " 151    102    262      Terminal(Marine/Comm Fish)\n",
       " 152    102    263                 Terminal(Grain)\n",
       " 153    102    264        Terminal(Auto/Bus/Other)\n",
       " 154    102    266                 Utility, Public\n",
       " 155    102    267    Utility, Private(Radio/T.V.)\n",
       " 156    102    271                Terminal(Marine)\n",
       " 157    102    272        Historic Prop(Residence)\n",
       " 158    102    273           Historic Prop(Office)\n",
       " 159    102    274           Historic Prop(Retail)\n",
       " 160    102    275        Historic Prop(Eat/Drink)\n",
       " 161    102    276     Historic Prop(Loft/Warehse)\n",
       " 162    102    277     Historic Prop(Park/Billbrd)\n",
       " 163    102    278    Historic Prop(Transient Fac)\n",
       " 164    102    279    Historic Prop(Rec/Entertain)\n",
       " 165    102    280             Historic Prop(Misc)\n",
       " 166    102     29                  Townhouse Plat\n",
       " 167    102    299      Historic Prop(Vacant Land)\n",
       " 168    102      3                          Duplex\n",
       " 169    102    300           Vacant(Single-family)\n",
       " 170    102    301            Vacant(Multi-family)\n",
       " 171    102    309              Vacant(Commercial)\n",
       " 172    102    316              Vacant(Industrial)\n",
       " 173    102    323        Reforestation(RCW 84.28)\n",
       " 174    102    324    Forest Land(Class-RCW 84.33)\n",
       " 175    102    325    Forest Land(Desig-RCW 84.33)\n",
       " 176    102    326  Open Space(Curr Use-RCW 84.34)\n",
       " 177    102    327     Open Space(Agric-RCW 84.34)\n",
       " 178    102    328  Open Space Tmbr Land/Greenbelt\n",
       " 179    102    330                        Easement\n",
       " 180    102    331         Reserve/Wilderness Area\n",
       " 181    102    332      Right of Way/Utility, Road\n",
       " 182    102    333              River/Creek/Stream\n",
       " 183    102    334             Tideland, 1st Class\n",
       " 184    102    335             Tideland, 2nd Class\n",
       " 185    102    336         Transferable Dev Rights\n",
       " 186    102    337               Water Body, Fresh\n",
       " 187    102    339                 Shell Structure\n",
       " 188    102    340                 Bed & Breakfast\n",
       " 189    102    341                   Rooming House\n",
       " 190    102    342       Fraternity/Sorority House\n",
       " 191    102    343                     Gas Station\n",
       " 192    102     38                Mobile Home Park\n",
       " 193    102      4                         Triplex\n",
       " 194    102     48          Condominium(M Home Pk)\n",
       " 195    102     49             Retirement Facility\n",
       " 196    102      5                          4-Plex\n",
       " 197    102     51                     Hotel/Motel\n",
       " 198    102     55           Rehabilitation Center\n",
       " 199    102     56             Residence Hall/Dorm\n",
       " 200    102     57                      Group Home\n",
       " 201    102     58            Resort/Lodge/Retreat\n",
       " 202    102     59                    Nursing Home\n",
       " 203    102      6         Single Family(C/I Zone)\n",
       " 204    102     60         Shopping Ctr(Nghbrhood)\n",
       " 205    102     61         Shopping Ctr(Community)\n",
       " 206    102     62          Shopping Ctr(Regional)\n",
       " 207    102     63        Shopping Ctr(Maj Retail)\n",
       " 208    102     64         Shopping Ctr(Specialty)\n",
       " 209    102      7                       Houseboat\n",
       " 210    102      8                     Mobile Home\n",
       " 211    102      9          Single Family(C/I Use)\n",
       " 212    102     96              Retail(Line/Strip))"
      ]
     },
     "execution_count": 79,
     "metadata": {},
     "output_type": "execute_result"
    }
   ],
   "source": [
    "# looking up HBU As If Vacant, HBU As Improved, Present Use features\n",
    "fn.lookup(look,103), fn.lookup(look, 104), fn.lookup(look, 102)"
   ]
  },
  {
   "cell_type": "markdown",
   "metadata": {},
   "source": [
    "#### Dropping First Three Columns in Batch "
   ]
  },
  {
   "cell_type": "code",
   "execution_count": 80,
   "metadata": {},
   "outputs": [],
   "source": [
    "# dropping columns\n",
    "li = ['HBUAsIfVacant',\n",
    " 'HBUAsImproved',\n",
    " 'PresentUse']\n",
    "fn.dropper(df, li, True)"
   ]
  },
  {
   "cell_type": "markdown",
   "metadata": {},
   "source": [
    "#### Saving These Features for Now\n",
    "'WaterSystem', 'SewerSystem', 'Access', 'Topography', 'StreetSurface', 'RestrictiveSzShape', 'InadequateParking'"
   ]
  },
  {
   "cell_type": "code",
   "execution_count": 81,
   "metadata": {},
   "outputs": [
    {
     "data": {
      "text/plain": [
       "(    LUType LUItem       LUDescription\n",
       " 989     56      1             PRIVATE\n",
       " 990     56      2      WATER DISTRICT\n",
       " 991     56      3  PRIVATE RESTRICTED\n",
       " 992     56      4   PUBLIC RESTRICTED,\n",
       "     LUType LUItem       LUDescription\n",
       " 993     57      1             PRIVATE\n",
       " 994     57      2              PUBLIC\n",
       " 995     57      3  PRIVATE RESTRICTED\n",
       " 996     57      4   PUBLIC RESTRICTED,\n",
       "     LUType LUItem      LUDescription\n",
       " 984     55      1         RESTRICTED\n",
       " 985     55      2  LEGAL/UNDEVELOPED\n",
       " 986     55      3            PRIVATE\n",
       " 987     55      4             PUBLIC\n",
       " 988     55      5            WALK IN)"
      ]
     },
     "execution_count": 81,
     "metadata": {},
     "output_type": "execute_result"
    }
   ],
   "source": [
    "# looking up info for Water System, Sewer System, Access features\n",
    "fn.lookup(look, 56), fn.lookup(look, 57), fn.lookup(look, 55)"
   ]
  },
  {
   "cell_type": "code",
   "execution_count": 82,
   "metadata": {},
   "outputs": [
    {
     "data": {
      "text/plain": [
       "(     LUType LUItem LUDescription\n",
       " 1001     59      1           YES,\n",
       "      LUType LUItem LUDescription\n",
       " 1026     60      1         PAVED\n",
       " 1027     60      2        GRAVEL\n",
       " 1028     60      3          DIRT\n",
       " 1029     60      4   UNDEVELOPED)"
      ]
     },
     "execution_count": 82,
     "metadata": {},
     "output_type": "execute_result"
    }
   ],
   "source": [
    "#  lookup for Topography, Street Surface features\n",
    "fn.lookup(look, 59), fn.lookup(look, 60)"
   ]
  },
  {
   "cell_type": "code",
   "execution_count": 83,
   "metadata": {},
   "outputs": [
    {
     "data": {
      "text/plain": [
       "(     LUType LUItem LUDescription\n",
       " 1178     90      1           YES,\n",
       "      LUType LUItem LUDescription\n",
       " 1180     92      1    INADEQUATE\n",
       " 1181     92      2      ADEQUATE)"
      ]
     },
     "execution_count": 83,
     "metadata": {},
     "output_type": "execute_result"
    }
   ],
   "source": [
    "#  lookup for Restrictive Size/Shape, Inadequate Parking features\n",
    "fn.lookup(look, 90), fn.lookup(look, 92)"
   ]
  },
  {
   "cell_type": "markdown",
   "metadata": {},
   "source": [
    "#### Dropping Last two columns in Batch"
   ]
  },
  {
   "cell_type": "code",
   "execution_count": 84,
   "metadata": {},
   "outputs": [],
   "source": [
    "li = ['PcntUnusable', 'Unbuildable',]\n",
    "fn.dropper(df, li, True)"
   ]
  },
  {
   "cell_type": "markdown",
   "metadata": {},
   "source": [
    "### Inspecting Next Batch\n",
    "Features indicate if various views are available from property. Veiws do affect property values, so keeping the features for now."
   ]
  },
  {
   "cell_type": "code",
   "execution_count": 85,
   "metadata": {},
   "outputs": [
    {
     "data": {
      "text/html": [
       "<div>\n",
       "<style scoped>\n",
       "    .dataframe tbody tr th:only-of-type {\n",
       "        vertical-align: middle;\n",
       "    }\n",
       "\n",
       "    .dataframe tbody tr th {\n",
       "        vertical-align: top;\n",
       "    }\n",
       "\n",
       "    .dataframe thead th {\n",
       "        text-align: right;\n",
       "    }\n",
       "</style>\n",
       "<table border=\"1\" class=\"dataframe\">\n",
       "  <thead>\n",
       "    <tr style=\"text-align: right;\">\n",
       "      <th></th>\n",
       "      <th>MtRainier</th>\n",
       "      <th>Olympics</th>\n",
       "      <th>Cascades</th>\n",
       "      <th>Territorial</th>\n",
       "      <th>SeattleSkyline</th>\n",
       "      <th>PugetSound</th>\n",
       "      <th>LakeWashington</th>\n",
       "      <th>LakeSammamish</th>\n",
       "      <th>SmallLakeRiverCreek</th>\n",
       "      <th>OtherView</th>\n",
       "    </tr>\n",
       "  </thead>\n",
       "  <tbody>\n",
       "    <tr>\n",
       "      <th>5</th>\n",
       "      <td>0</td>\n",
       "      <td>0</td>\n",
       "      <td>0</td>\n",
       "      <td>0</td>\n",
       "      <td>0</td>\n",
       "      <td>0</td>\n",
       "      <td>0</td>\n",
       "      <td>0</td>\n",
       "      <td>0</td>\n",
       "      <td>0</td>\n",
       "    </tr>\n",
       "    <tr>\n",
       "      <th>6</th>\n",
       "      <td>0</td>\n",
       "      <td>0</td>\n",
       "      <td>0</td>\n",
       "      <td>0</td>\n",
       "      <td>0</td>\n",
       "      <td>0</td>\n",
       "      <td>0</td>\n",
       "      <td>0</td>\n",
       "      <td>0</td>\n",
       "      <td>0</td>\n",
       "    </tr>\n",
       "    <tr>\n",
       "      <th>69</th>\n",
       "      <td>0</td>\n",
       "      <td>0</td>\n",
       "      <td>0</td>\n",
       "      <td>0</td>\n",
       "      <td>0</td>\n",
       "      <td>0</td>\n",
       "      <td>0</td>\n",
       "      <td>0</td>\n",
       "      <td>0</td>\n",
       "      <td>0</td>\n",
       "    </tr>\n",
       "  </tbody>\n",
       "</table>\n",
       "</div>"
      ],
      "text/plain": [
       "   MtRainier Olympics Cascades Territorial SeattleSkyline PugetSound  \\\n",
       "5          0        0        0           0              0          0   \n",
       "6          0        0        0           0              0          0   \n",
       "69         0        0        0           0              0          0   \n",
       "\n",
       "   LakeWashington LakeSammamish SmallLakeRiverCreek OtherView  \n",
       "5               0             0                   0         0  \n",
       "6               0             0                   0         0  \n",
       "69              0             0                   0         0  "
      ]
     },
     "execution_count": 85,
     "metadata": {},
     "output_type": "execute_result"
    }
   ],
   "source": [
    "# checking view features\n",
    "li = ['MtRainier',\n",
    " 'Olympics',\n",
    " 'Cascades',\n",
    " 'Territorial',\n",
    " 'SeattleSkyline',\n",
    " 'PugetSound',\n",
    " 'LakeWashington',\n",
    " 'LakeSammamish',\n",
    " 'SmallLakeRiverCreek',\n",
    " 'OtherView',]\n",
    "fn.chunker(df, li)"
   ]
  },
  {
   "cell_type": "code",
   "execution_count": 86,
   "metadata": {},
   "outputs": [
    {
     "data": {
      "text/html": [
       "<div>\n",
       "<style scoped>\n",
       "    .dataframe tbody tr th:only-of-type {\n",
       "        vertical-align: middle;\n",
       "    }\n",
       "\n",
       "    .dataframe tbody tr th {\n",
       "        vertical-align: top;\n",
       "    }\n",
       "\n",
       "    .dataframe thead th {\n",
       "        text-align: right;\n",
       "    }\n",
       "</style>\n",
       "<table border=\"1\" class=\"dataframe\">\n",
       "  <thead>\n",
       "    <tr style=\"text-align: right;\">\n",
       "      <th></th>\n",
       "      <th>LUType</th>\n",
       "      <th>LUItem</th>\n",
       "      <th>LUDescription</th>\n",
       "    </tr>\n",
       "  </thead>\n",
       "  <tbody>\n",
       "    <tr>\n",
       "      <th>997</th>\n",
       "      <td>58</td>\n",
       "      <td>1</td>\n",
       "      <td>FAIR</td>\n",
       "    </tr>\n",
       "    <tr>\n",
       "      <th>998</th>\n",
       "      <td>58</td>\n",
       "      <td>2</td>\n",
       "      <td>AVERAGE</td>\n",
       "    </tr>\n",
       "    <tr>\n",
       "      <th>999</th>\n",
       "      <td>58</td>\n",
       "      <td>3</td>\n",
       "      <td>GOOD</td>\n",
       "    </tr>\n",
       "    <tr>\n",
       "      <th>1000</th>\n",
       "      <td>58</td>\n",
       "      <td>4</td>\n",
       "      <td>EXCELLENT</td>\n",
       "    </tr>\n",
       "  </tbody>\n",
       "</table>\n",
       "</div>"
      ],
      "text/plain": [
       "     LUType LUItem LUDescription\n",
       "997      58      1          FAIR\n",
       "998      58      2       AVERAGE\n",
       "999      58      3          GOOD\n",
       "1000     58      4     EXCELLENT"
      ]
     },
     "execution_count": 86,
     "metadata": {},
     "output_type": "execute_result"
    }
   ],
   "source": [
    "# looking up info\n",
    "fn.lookup(look, 58)"
   ]
  },
  {
   "cell_type": "markdown",
   "metadata": {},
   "source": [
    "#### Processing Next Batch\n",
    "Features have to do with waterfront property issues. Will inspecting lookup data to help make drop decision later."
   ]
  },
  {
   "cell_type": "code",
   "execution_count": 87,
   "metadata": {},
   "outputs": [
    {
     "data": {
      "text/html": [
       "<div>\n",
       "<style scoped>\n",
       "    .dataframe tbody tr th:only-of-type {\n",
       "        vertical-align: middle;\n",
       "    }\n",
       "\n",
       "    .dataframe tbody tr th {\n",
       "        vertical-align: top;\n",
       "    }\n",
       "\n",
       "    .dataframe thead th {\n",
       "        text-align: right;\n",
       "    }\n",
       "</style>\n",
       "<table border=\"1\" class=\"dataframe\">\n",
       "  <thead>\n",
       "    <tr style=\"text-align: right;\">\n",
       "      <th></th>\n",
       "      <th>WfntLocation</th>\n",
       "      <th>WfntFootage</th>\n",
       "      <th>WfntBank</th>\n",
       "      <th>WfntPoorQuality</th>\n",
       "      <th>WfntRestrictedAccess</th>\n",
       "      <th>WfntAccessRights</th>\n",
       "      <th>WfntProximityInfluence</th>\n",
       "      <th>TidelandShoreland</th>\n",
       "    </tr>\n",
       "  </thead>\n",
       "  <tbody>\n",
       "    <tr>\n",
       "      <th>5</th>\n",
       "      <td>0</td>\n",
       "      <td>0</td>\n",
       "      <td>0</td>\n",
       "      <td>0</td>\n",
       "      <td>0</td>\n",
       "      <td>N</td>\n",
       "      <td>N</td>\n",
       "      <td>0</td>\n",
       "    </tr>\n",
       "    <tr>\n",
       "      <th>6</th>\n",
       "      <td>0</td>\n",
       "      <td>0</td>\n",
       "      <td>0</td>\n",
       "      <td>0</td>\n",
       "      <td>0</td>\n",
       "      <td>N</td>\n",
       "      <td>N</td>\n",
       "      <td>0</td>\n",
       "    </tr>\n",
       "    <tr>\n",
       "      <th>69</th>\n",
       "      <td>0</td>\n",
       "      <td>0</td>\n",
       "      <td>0</td>\n",
       "      <td>0</td>\n",
       "      <td>0</td>\n",
       "      <td>N</td>\n",
       "      <td>N</td>\n",
       "      <td>0</td>\n",
       "    </tr>\n",
       "  </tbody>\n",
       "</table>\n",
       "</div>"
      ],
      "text/plain": [
       "   WfntLocation WfntFootage WfntBank WfntPoorQuality WfntRestrictedAccess  \\\n",
       "5             0           0        0               0                    0   \n",
       "6             0           0        0               0                    0   \n",
       "69            0           0        0               0                    0   \n",
       "\n",
       "   WfntAccessRights WfntProximityInfluence TidelandShoreland  \n",
       "5                 N                      N                 0  \n",
       "6                 N                      N                 0  \n",
       "69                N                      N                 0  "
      ]
     },
     "execution_count": 87,
     "metadata": {},
     "output_type": "execute_result"
    }
   ],
   "source": [
    "# checking waterfront features\n",
    "li = ['WfntLocation',\n",
    " 'WfntFootage',\n",
    " 'WfntBank',\n",
    " 'WfntPoorQuality',\n",
    " 'WfntRestrictedAccess',\n",
    " 'WfntAccessRights',\n",
    " 'WfntProximityInfluence',\n",
    " 'TidelandShoreland']\n",
    "fn.chunker(df, li)"
   ]
  },
  {
   "cell_type": "code",
   "execution_count": 88,
   "metadata": {
    "tags": []
   },
   "outputs": [
    {
     "name": "stdout",
     "output_type": "stream",
     "text": [
      "location     LUType LUItem LUDescription\n",
      "964     50      1      DUWAMISH\n",
      "965     50      2   ELLIOTT BAY\n",
      "966     50      3   PUGET SOUND\n",
      "967     50      4    LAKE UNION\n",
      "968     50      5    SHIP CANAL\n",
      "969     50      6     LAKE WASH\n",
      "970     50      7     LAKE SAMM\n",
      "971     50      8    OTHER LAKE\n",
      "972     50      9  RIVER/SLOUGH\n",
      "bank     LUType LUItem LUDescription\n",
      "974     52      1           LOW\n",
      "975     52      2        MEDIUM\n",
      "976     52      3          HIGH\n",
      "977     52      4       NO BANK\n",
      "poor quality     LUType LUItem LUDescription\n",
      "973     51      1           YES\n",
      "rest. access     LUType LUItem         LUDescription\n",
      "978     53      1          To Residence\n",
      "979     53      2         To Waterfront\n",
      "980     53      3  No Waterfront Access\n",
      "tideland     LUType LUItem                      LUDescription\n",
      "981     54      1                       UPLANDS ONLY\n",
      "982     54      2  UPLANDS WITH TIDELANDS/SHORELANDS\n",
      "983     54      3          TIDELANDS/SHORELANDS ONLY\n"
     ]
    }
   ],
   "source": [
    "# printing lookup info\n",
    "print('location', fn.lookup(look, 50)) \n",
    "print('bank' ,fn.lookup(look, 52)) \n",
    "print('poor quality', fn.lookup(look, 51))\n",
    "print('rest. access', fn.lookup(look, 53))\n",
    "print('tideland', fn.lookup(look, 54))"
   ]
  },
  {
   "cell_type": "markdown",
   "metadata": {},
   "source": [
    "#### Checking Nuisance Features\n",
    "Seem like important factors in housing prices, so keeping for now."
   ]
  },
  {
   "cell_type": "code",
   "execution_count": 89,
   "metadata": {},
   "outputs": [
    {
     "data": {
      "text/html": [
       "<div>\n",
       "<style scoped>\n",
       "    .dataframe tbody tr th:only-of-type {\n",
       "        vertical-align: middle;\n",
       "    }\n",
       "\n",
       "    .dataframe tbody tr th {\n",
       "        vertical-align: top;\n",
       "    }\n",
       "\n",
       "    .dataframe thead th {\n",
       "        text-align: right;\n",
       "    }\n",
       "</style>\n",
       "<table border=\"1\" class=\"dataframe\">\n",
       "  <thead>\n",
       "    <tr style=\"text-align: right;\">\n",
       "      <th></th>\n",
       "      <th>LotDepthFactor</th>\n",
       "      <th>TrafficNoise</th>\n",
       "      <th>AirportNoise</th>\n",
       "      <th>PowerLines</th>\n",
       "      <th>OtherNuisances</th>\n",
       "      <th>NbrBldgSites</th>\n",
       "      <th>Contamination</th>\n",
       "      <th>DNRLease</th>\n",
       "      <th>AdjacentGolfFairway</th>\n",
       "      <th>AdjacentGreenbelt</th>\n",
       "    </tr>\n",
       "  </thead>\n",
       "  <tbody>\n",
       "    <tr>\n",
       "      <th>5</th>\n",
       "      <td>0</td>\n",
       "      <td>0</td>\n",
       "      <td>0</td>\n",
       "      <td>N</td>\n",
       "      <td>N</td>\n",
       "      <td>0</td>\n",
       "      <td>0</td>\n",
       "      <td>N</td>\n",
       "      <td>N</td>\n",
       "      <td>N</td>\n",
       "    </tr>\n",
       "    <tr>\n",
       "      <th>6</th>\n",
       "      <td>0</td>\n",
       "      <td>0</td>\n",
       "      <td>0</td>\n",
       "      <td>N</td>\n",
       "      <td>N</td>\n",
       "      <td>0</td>\n",
       "      <td>0</td>\n",
       "      <td>N</td>\n",
       "      <td>N</td>\n",
       "      <td>N</td>\n",
       "    </tr>\n",
       "    <tr>\n",
       "      <th>69</th>\n",
       "      <td>0</td>\n",
       "      <td>0</td>\n",
       "      <td>0</td>\n",
       "      <td>N</td>\n",
       "      <td>N</td>\n",
       "      <td>0</td>\n",
       "      <td>0</td>\n",
       "      <td>N</td>\n",
       "      <td>N</td>\n",
       "      <td>N</td>\n",
       "    </tr>\n",
       "  </tbody>\n",
       "</table>\n",
       "</div>"
      ],
      "text/plain": [
       "   LotDepthFactor TrafficNoise AirportNoise PowerLines OtherNuisances  \\\n",
       "5               0            0            0          N              N   \n",
       "6               0            0            0          N              N   \n",
       "69              0            0            0          N              N   \n",
       "\n",
       "   NbrBldgSites Contamination DNRLease AdjacentGolfFairway AdjacentGreenbelt  \n",
       "5             0             0        N                   N                 N  \n",
       "6             0             0        N                   N                 N  \n",
       "69            0             0        N                   N                 N  "
      ]
     },
     "execution_count": 89,
     "metadata": {},
     "output_type": "execute_result"
    }
   ],
   "source": [
    "li = ['LotDepthFactor',\n",
    " 'TrafficNoise',\n",
    " 'AirportNoise',\n",
    " 'PowerLines',\n",
    " 'OtherNuisances',\n",
    " 'NbrBldgSites',\n",
    " 'Contamination',\n",
    " 'DNRLease',\n",
    " 'AdjacentGolfFairway',\n",
    " 'AdjacentGreenbelt']\n",
    "fn.chunker(df, li)"
   ]
  },
  {
   "cell_type": "code",
   "execution_count": 90,
   "metadata": {},
   "outputs": [
    {
     "data": {
      "text/plain": [
       "(     LUType LUItem LUDescription\n",
       " 1183     95      1      MODERATE\n",
       " 1184     95      2          HIGH\n",
       " 1185     95      3       EXTREME,\n",
       "      LUType LUItem LUDescription\n",
       " 1182     93      1           YES)"
      ]
     },
     "execution_count": 90,
     "metadata": {},
     "output_type": "execute_result"
    }
   ],
   "source": [
    "# lookup info for traffic noise and contamination\n",
    "fn.lookup(look,95), fn.lookup(look,93)"
   ]
  },
  {
   "cell_type": "markdown",
   "metadata": {},
   "source": [
    "### More Administrative Features\n",
    "Inspecting and dropping extraneous features."
   ]
  },
  {
   "cell_type": "code",
   "execution_count": 91,
   "metadata": {},
   "outputs": [
    {
     "data": {
      "text/html": [
       "<div>\n",
       "<style scoped>\n",
       "    .dataframe tbody tr th:only-of-type {\n",
       "        vertical-align: middle;\n",
       "    }\n",
       "\n",
       "    .dataframe tbody tr th {\n",
       "        vertical-align: top;\n",
       "    }\n",
       "\n",
       "    .dataframe thead th {\n",
       "        text-align: right;\n",
       "    }\n",
       "</style>\n",
       "<table border=\"1\" class=\"dataframe\">\n",
       "  <thead>\n",
       "    <tr style=\"text-align: right;\">\n",
       "      <th></th>\n",
       "      <th>HistoricSite</th>\n",
       "      <th>CurrentUseDesignation</th>\n",
       "      <th>NativeGrowthProtEsmt</th>\n",
       "      <th>Easements</th>\n",
       "      <th>OtherDesignation</th>\n",
       "      <th>DeedRestrictions</th>\n",
       "      <th>DevelopmentRightsPurch</th>\n",
       "    </tr>\n",
       "  </thead>\n",
       "  <tbody>\n",
       "    <tr>\n",
       "      <th>5</th>\n",
       "      <td>0</td>\n",
       "      <td>0</td>\n",
       "      <td>N</td>\n",
       "      <td>N</td>\n",
       "      <td>N</td>\n",
       "      <td>N</td>\n",
       "      <td>N</td>\n",
       "    </tr>\n",
       "    <tr>\n",
       "      <th>6</th>\n",
       "      <td>0</td>\n",
       "      <td>0</td>\n",
       "      <td>N</td>\n",
       "      <td>N</td>\n",
       "      <td>N</td>\n",
       "      <td>N</td>\n",
       "      <td>N</td>\n",
       "    </tr>\n",
       "    <tr>\n",
       "      <th>69</th>\n",
       "      <td>0</td>\n",
       "      <td>0</td>\n",
       "      <td>N</td>\n",
       "      <td>N</td>\n",
       "      <td>N</td>\n",
       "      <td>N</td>\n",
       "      <td>N</td>\n",
       "    </tr>\n",
       "  </tbody>\n",
       "</table>\n",
       "</div>"
      ],
      "text/plain": [
       "   HistoricSite CurrentUseDesignation NativeGrowthProtEsmt Easements  \\\n",
       "5             0                     0                    N         N   \n",
       "6             0                     0                    N         N   \n",
       "69            0                     0                    N         N   \n",
       "\n",
       "   OtherDesignation DeedRestrictions DevelopmentRightsPurch  \n",
       "5                 N                N                      N  \n",
       "6                 N                N                      N  \n",
       "69                N                N                      N  "
      ]
     },
     "execution_count": 91,
     "metadata": {},
     "output_type": "execute_result"
    }
   ],
   "source": [
    "li = ['HistoricSite',\n",
    " 'CurrentUseDesignation',\n",
    " 'NativeGrowthProtEsmt',\n",
    " 'Easements',\n",
    " 'OtherDesignation',\n",
    " 'DeedRestrictions',\n",
    " 'DevelopmentRightsPurch']\n",
    "fn.chunker(df,li)"
   ]
  },
  {
   "cell_type": "code",
   "execution_count": 92,
   "metadata": {},
   "outputs": [
    {
     "data": {
      "text/plain": [
       "(    LUType LUItem   LUDescription\n",
       " 238    105      3  Separate Value,\n",
       "      LUType LUItem     LUDescription\n",
       " 1052     67      1          DISTRICT\n",
       " 1053     67      2         INVENTORY\n",
       " 1054     67      3        DESIGNATED\n",
       " 1055     67      4  VACANT HIST LAND,\n",
       "     LUType LUItem        LUDescription\n",
       " 770     16      1                AGRIC\n",
       " 771     16      2       TIMBER (84.34)\n",
       " 772     16      3           OPEN SPACE\n",
       " 773     16      4  FOREST LAND (84.33)\n",
       " 774     16      5                CLFRS)"
      ]
     },
     "execution_count": 92,
     "metadata": {},
     "output_type": "execute_result"
    }
   ],
   "source": [
    "# checking 'AdjacentGreenbelt', 'HistoricSite', 'CurrentUseDesignation' info\n",
    "fn.lookup(look,105), fn.lookup(look,67), fn.lookup(look,16)"
   ]
  },
  {
   "cell_type": "code",
   "execution_count": 93,
   "metadata": {},
   "outputs": [],
   "source": [
    "# dropping features\n",
    "fn.dropper(df, li, True)"
   ]
  },
  {
   "cell_type": "markdown",
   "metadata": {},
   "source": [
    "### Hazard Features\n",
    "Seem important, so probably keeping for now."
   ]
  },
  {
   "cell_type": "code",
   "execution_count": 94,
   "metadata": {},
   "outputs": [
    {
     "data": {
      "text/html": [
       "<div>\n",
       "<style scoped>\n",
       "    .dataframe tbody tr th:only-of-type {\n",
       "        vertical-align: middle;\n",
       "    }\n",
       "\n",
       "    .dataframe tbody tr th {\n",
       "        vertical-align: top;\n",
       "    }\n",
       "\n",
       "    .dataframe thead th {\n",
       "        text-align: right;\n",
       "    }\n",
       "</style>\n",
       "<table border=\"1\" class=\"dataframe\">\n",
       "  <thead>\n",
       "    <tr style=\"text-align: right;\">\n",
       "      <th></th>\n",
       "      <th>CoalMineHazard</th>\n",
       "      <th>CriticalDrainage</th>\n",
       "      <th>ErosionHazard</th>\n",
       "      <th>LandfillBuffer</th>\n",
       "      <th>HundredYrFloodPlain</th>\n",
       "      <th>SeismicHazard</th>\n",
       "      <th>LandslideHazard</th>\n",
       "      <th>SteepSlopeHazard</th>\n",
       "    </tr>\n",
       "  </thead>\n",
       "  <tbody>\n",
       "    <tr>\n",
       "      <th>5</th>\n",
       "      <td>N</td>\n",
       "      <td>N</td>\n",
       "      <td>N</td>\n",
       "      <td>N</td>\n",
       "      <td>N</td>\n",
       "      <td>N</td>\n",
       "      <td>N</td>\n",
       "      <td>N</td>\n",
       "    </tr>\n",
       "    <tr>\n",
       "      <th>6</th>\n",
       "      <td>N</td>\n",
       "      <td>N</td>\n",
       "      <td>N</td>\n",
       "      <td>N</td>\n",
       "      <td>N</td>\n",
       "      <td>N</td>\n",
       "      <td>N</td>\n",
       "      <td>N</td>\n",
       "    </tr>\n",
       "    <tr>\n",
       "      <th>69</th>\n",
       "      <td>N</td>\n",
       "      <td>N</td>\n",
       "      <td>N</td>\n",
       "      <td>N</td>\n",
       "      <td>N</td>\n",
       "      <td>N</td>\n",
       "      <td>N</td>\n",
       "      <td>N</td>\n",
       "    </tr>\n",
       "  </tbody>\n",
       "</table>\n",
       "</div>"
      ],
      "text/plain": [
       "   CoalMineHazard CriticalDrainage ErosionHazard LandfillBuffer  \\\n",
       "5               N                N             N              N   \n",
       "6               N                N             N              N   \n",
       "69              N                N             N              N   \n",
       "\n",
       "   HundredYrFloodPlain SeismicHazard LandslideHazard SteepSlopeHazard  \n",
       "5                    N             N               N                N  \n",
       "6                    N             N               N                N  \n",
       "69                   N             N               N                N  "
      ]
     },
     "execution_count": 94,
     "metadata": {},
     "output_type": "execute_result"
    }
   ],
   "source": [
    "li = ['CoalMineHazard',\n",
    " 'CriticalDrainage',\n",
    " 'ErosionHazard',\n",
    " 'LandfillBuffer',\n",
    " 'HundredYrFloodPlain',\n",
    " 'SeismicHazard',\n",
    " 'LandslideHazard',\n",
    " 'SteepSlopeHazard',]\n",
    "fn.chunker(df, li)"
   ]
  },
  {
   "cell_type": "markdown",
   "metadata": {},
   "source": [
    "### Miscellaneous Features\n",
    "Checking last few features from the `PARC` table."
   ]
  },
  {
   "cell_type": "code",
   "execution_count": 95,
   "metadata": {},
   "outputs": [
    {
     "data": {
      "text/html": [
       "<div>\n",
       "<style scoped>\n",
       "    .dataframe tbody tr th:only-of-type {\n",
       "        vertical-align: middle;\n",
       "    }\n",
       "\n",
       "    .dataframe tbody tr th {\n",
       "        vertical-align: top;\n",
       "    }\n",
       "\n",
       "    .dataframe thead th {\n",
       "        text-align: right;\n",
       "    }\n",
       "</style>\n",
       "<table border=\"1\" class=\"dataframe\">\n",
       "  <thead>\n",
       "    <tr style=\"text-align: right;\">\n",
       "      <th></th>\n",
       "      <th>Stream</th>\n",
       "      <th>Wetland</th>\n",
       "      <th>SpeciesOfConcern</th>\n",
       "      <th>SensitiveAreaTract</th>\n",
       "      <th>WaterProblems</th>\n",
       "      <th>TranspConcurrency</th>\n",
       "      <th>OtherProblems</th>\n",
       "    </tr>\n",
       "  </thead>\n",
       "  <tbody>\n",
       "    <tr>\n",
       "      <th>5</th>\n",
       "      <td>N</td>\n",
       "      <td>N</td>\n",
       "      <td>N</td>\n",
       "      <td>N</td>\n",
       "      <td>N</td>\n",
       "      <td>N</td>\n",
       "      <td>N</td>\n",
       "    </tr>\n",
       "    <tr>\n",
       "      <th>6</th>\n",
       "      <td>N</td>\n",
       "      <td>N</td>\n",
       "      <td>N</td>\n",
       "      <td>N</td>\n",
       "      <td>N</td>\n",
       "      <td>N</td>\n",
       "      <td>N</td>\n",
       "    </tr>\n",
       "    <tr>\n",
       "      <th>69</th>\n",
       "      <td>N</td>\n",
       "      <td>N</td>\n",
       "      <td>N</td>\n",
       "      <td>N</td>\n",
       "      <td>N</td>\n",
       "      <td>N</td>\n",
       "      <td>N</td>\n",
       "    </tr>\n",
       "  </tbody>\n",
       "</table>\n",
       "</div>"
      ],
      "text/plain": [
       "   Stream Wetland SpeciesOfConcern SensitiveAreaTract WaterProblems  \\\n",
       "5       N       N                N                  N             N   \n",
       "6       N       N                N                  N             N   \n",
       "69      N       N                N                  N             N   \n",
       "\n",
       "   TranspConcurrency OtherProblems  \n",
       "5                  N             N  \n",
       "6                  N             N  \n",
       "69                 N             N  "
      ]
     },
     "execution_count": 95,
     "metadata": {},
     "output_type": "execute_result"
    }
   ],
   "source": [
    "li = ['Stream',\n",
    " 'Wetland',\n",
    " 'SpeciesOfConcern',\n",
    " 'SensitiveAreaTract',\n",
    " 'WaterProblems',\n",
    " 'TranspConcurrency',\n",
    " 'OtherProblems',]\n",
    "fn.chunker(df,li)"
   ]
  },
  {
   "cell_type": "code",
   "execution_count": null,
   "metadata": {},
   "outputs": [],
   "source": []
  },
  {
   "cell_type": "markdown",
   "metadata": {},
   "source": [
    "## `RESB` Table Columns\n",
    "Inspecting and dropping columns from the `RESB` table."
   ]
  },
  {
   "cell_type": "code",
   "execution_count": 96,
   "metadata": {},
   "outputs": [
    {
     "data": {
      "text/html": [
       "<div>\n",
       "<style scoped>\n",
       "    .dataframe tbody tr th:only-of-type {\n",
       "        vertical-align: middle;\n",
       "    }\n",
       "\n",
       "    .dataframe tbody tr th {\n",
       "        vertical-align: top;\n",
       "    }\n",
       "\n",
       "    .dataframe thead th {\n",
       "        text-align: right;\n",
       "    }\n",
       "</style>\n",
       "<table border=\"1\" class=\"dataframe\">\n",
       "  <thead>\n",
       "    <tr style=\"text-align: right;\">\n",
       "      <th></th>\n",
       "      <th>BldgNbr</th>\n",
       "      <th>NbrLivingUnits</th>\n",
       "      <th>Address</th>\n",
       "      <th>BuildingNumber</th>\n",
       "      <th>Fraction</th>\n",
       "      <th>StreetName</th>\n",
       "      <th>StreetType</th>\n",
       "    </tr>\n",
       "  </thead>\n",
       "  <tbody>\n",
       "    <tr>\n",
       "      <th>5</th>\n",
       "      <td>1</td>\n",
       "      <td>1</td>\n",
       "      <td>27033  NE DOROTHY ST   98019</td>\n",
       "      <td>27033</td>\n",
       "      <td></td>\n",
       "      <td>DOROTHY</td>\n",
       "      <td>ST</td>\n",
       "    </tr>\n",
       "    <tr>\n",
       "      <th>6</th>\n",
       "      <td>1</td>\n",
       "      <td>1</td>\n",
       "      <td>22848  SE 264TH CT   98038</td>\n",
       "      <td>22848</td>\n",
       "      <td></td>\n",
       "      <td>264TH</td>\n",
       "      <td>CT</td>\n",
       "    </tr>\n",
       "    <tr>\n",
       "      <th>69</th>\n",
       "      <td>1</td>\n",
       "      <td>1</td>\n",
       "      <td>26034   231ST PL SE</td>\n",
       "      <td>26034</td>\n",
       "      <td></td>\n",
       "      <td>231ST</td>\n",
       "      <td>PL</td>\n",
       "    </tr>\n",
       "  </tbody>\n",
       "</table>\n",
       "</div>"
      ],
      "text/plain": [
       "   BldgNbr NbrLivingUnits                       Address BuildingNumber  \\\n",
       "5        1              1  27033  NE DOROTHY ST   98019          27033   \n",
       "6        1              1    22848  SE 264TH CT   98038          22848   \n",
       "69       1              1         26034   231ST PL SE            26034   \n",
       "\n",
       "   Fraction                 StreetName StreetType  \n",
       "5            DOROTHY                       ST      \n",
       "6            264TH                         CT      \n",
       "69           231ST                         PL      "
      ]
     },
     "execution_count": 96,
     "metadata": {},
     "output_type": "execute_result"
    }
   ],
   "source": [
    "li = ['BldgNbr',\n",
    " 'NbrLivingUnits',\n",
    " 'Address',\n",
    " 'BuildingNumber',\n",
    " 'Fraction',\n",
    " 'StreetName',\n",
    " 'StreetType']\n",
    "fn.chunker(df, li)"
   ]
  },
  {
   "cell_type": "markdown",
   "metadata": {},
   "source": [
    "### Zip Code Data\n",
    "Inpecting the `ZipClean` (zip codes) feature more closely. Looking at percentage of rows with null values and the number of unique values."
   ]
  },
  {
   "cell_type": "markdown",
   "metadata": {},
   "source": [
    "#### Percent of Zip Data Null"
   ]
  },
  {
   "cell_type": "code",
   "execution_count": 97,
   "metadata": {},
   "outputs": [
    {
     "data": {
      "text/plain": [
       "2481"
      ]
     },
     "execution_count": 97,
     "metadata": {},
     "output_type": "execute_result"
    }
   ],
   "source": [
    "# rechecking ZipCode nulls\n",
    "null_zips = df[df['ZipClean']=='00000']\n",
    "len(null_zips)"
   ]
  },
  {
   "cell_type": "code",
   "execution_count": 98,
   "metadata": {},
   "outputs": [
    {
     "data": {
      "text/plain": [
       "18804"
      ]
     },
     "execution_count": 98,
     "metadata": {},
     "output_type": "execute_result"
    }
   ],
   "source": [
    "# getting number of rows\n",
    "number_rows = df.shape[0]\n",
    "number_rows"
   ]
  },
  {
   "cell_type": "code",
   "execution_count": 99,
   "metadata": {},
   "outputs": [
    {
     "data": {
      "text/plain": [
       "0.13"
      ]
     },
     "execution_count": 99,
     "metadata": {},
     "output_type": "execute_result"
    }
   ],
   "source": [
    "# finding percent of rows with null values\n",
    "round(len(null_zips)/number_rows, 2)"
   ]
  },
  {
   "cell_type": "markdown",
   "metadata": {},
   "source": [
    "#### 13% of Zip Code Data is Null"
   ]
  },
  {
   "cell_type": "code",
   "execution_count": 100,
   "metadata": {},
   "outputs": [
    {
     "data": {
      "text/plain": [
       "82"
      ]
     },
     "execution_count": 100,
     "metadata": {},
     "output_type": "execute_result"
    }
   ],
   "source": [
    "# finding number of unique zipcodes\n",
    "len(df['ZipClean'].unique())"
   ]
  },
  {
   "cell_type": "markdown",
   "metadata": {},
   "source": [
    "#### Null vs Non-Null Zip Code Prices"
   ]
  },
  {
   "cell_type": "code",
   "execution_count": 101,
   "metadata": {},
   "outputs": [
    {
     "data": {
      "text/html": [
       "<div>\n",
       "<style scoped>\n",
       "    .dataframe tbody tr th:only-of-type {\n",
       "        vertical-align: middle;\n",
       "    }\n",
       "\n",
       "    .dataframe tbody tr th {\n",
       "        vertical-align: top;\n",
       "    }\n",
       "\n",
       "    .dataframe thead th {\n",
       "        text-align: right;\n",
       "    }\n",
       "</style>\n",
       "<table border=\"1\" class=\"dataframe\">\n",
       "  <thead>\n",
       "    <tr style=\"text-align: right;\">\n",
       "      <th></th>\n",
       "      <th>SalePrice</th>\n",
       "    </tr>\n",
       "  </thead>\n",
       "  <tbody>\n",
       "    <tr>\n",
       "      <th>count</th>\n",
       "      <td>2.481000e+03</td>\n",
       "    </tr>\n",
       "    <tr>\n",
       "      <th>mean</th>\n",
       "      <td>9.397512e+05</td>\n",
       "    </tr>\n",
       "    <tr>\n",
       "      <th>std</th>\n",
       "      <td>6.189832e+05</td>\n",
       "    </tr>\n",
       "    <tr>\n",
       "      <th>min</th>\n",
       "      <td>5.000000e+03</td>\n",
       "    </tr>\n",
       "    <tr>\n",
       "      <th>25%</th>\n",
       "      <td>5.600000e+05</td>\n",
       "    </tr>\n",
       "    <tr>\n",
       "      <th>50%</th>\n",
       "      <td>7.600000e+05</td>\n",
       "    </tr>\n",
       "    <tr>\n",
       "      <th>75%</th>\n",
       "      <td>1.125000e+06</td>\n",
       "    </tr>\n",
       "    <tr>\n",
       "      <th>max</th>\n",
       "      <td>7.050000e+06</td>\n",
       "    </tr>\n",
       "  </tbody>\n",
       "</table>\n",
       "</div>"
      ],
      "text/plain": [
       "          SalePrice\n",
       "count  2.481000e+03\n",
       "mean   9.397512e+05\n",
       "std    6.189832e+05\n",
       "min    5.000000e+03\n",
       "25%    5.600000e+05\n",
       "50%    7.600000e+05\n",
       "75%    1.125000e+06\n",
       "max    7.050000e+06"
      ]
     },
     "execution_count": 101,
     "metadata": {},
     "output_type": "execute_result"
    }
   ],
   "source": [
    "# getting stats on null prices\n",
    "null_zips[['SalePrice']].describe()"
   ]
  },
  {
   "cell_type": "code",
   "execution_count": 102,
   "metadata": {},
   "outputs": [
    {
     "data": {
      "text/html": [
       "<div>\n",
       "<style scoped>\n",
       "    .dataframe tbody tr th:only-of-type {\n",
       "        vertical-align: middle;\n",
       "    }\n",
       "\n",
       "    .dataframe tbody tr th {\n",
       "        vertical-align: top;\n",
       "    }\n",
       "\n",
       "    .dataframe thead th {\n",
       "        text-align: right;\n",
       "    }\n",
       "</style>\n",
       "<table border=\"1\" class=\"dataframe\">\n",
       "  <thead>\n",
       "    <tr style=\"text-align: right;\">\n",
       "      <th></th>\n",
       "      <th>SalePrice</th>\n",
       "    </tr>\n",
       "  </thead>\n",
       "  <tbody>\n",
       "    <tr>\n",
       "      <th>count</th>\n",
       "      <td>1.632300e+04</td>\n",
       "    </tr>\n",
       "    <tr>\n",
       "      <th>mean</th>\n",
       "      <td>7.750344e+05</td>\n",
       "    </tr>\n",
       "    <tr>\n",
       "      <th>std</th>\n",
       "      <td>5.836287e+05</td>\n",
       "    </tr>\n",
       "    <tr>\n",
       "      <th>min</th>\n",
       "      <td>1.000000e+01</td>\n",
       "    </tr>\n",
       "    <tr>\n",
       "      <th>25%</th>\n",
       "      <td>4.570000e+05</td>\n",
       "    </tr>\n",
       "    <tr>\n",
       "      <th>50%</th>\n",
       "      <td>6.458650e+05</td>\n",
       "    </tr>\n",
       "    <tr>\n",
       "      <th>75%</th>\n",
       "      <td>8.850000e+05</td>\n",
       "    </tr>\n",
       "    <tr>\n",
       "      <th>max</th>\n",
       "      <td>1.605000e+07</td>\n",
       "    </tr>\n",
       "  </tbody>\n",
       "</table>\n",
       "</div>"
      ],
      "text/plain": [
       "          SalePrice\n",
       "count  1.632300e+04\n",
       "mean   7.750344e+05\n",
       "std    5.836287e+05\n",
       "min    1.000000e+01\n",
       "25%    4.570000e+05\n",
       "50%    6.458650e+05\n",
       "75%    8.850000e+05\n",
       "max    1.605000e+07"
      ]
     },
     "execution_count": 102,
     "metadata": {},
     "output_type": "execute_result"
    }
   ],
   "source": [
    "zips = df[df['ZipClean']!='00000']\n",
    "zips[['SalePrice']].describe()"
   ]
  },
  {
   "cell_type": "code",
   "execution_count": 103,
   "metadata": {},
   "outputs": [
    {
     "data": {
      "text/plain": [
       "164717"
      ]
     },
     "execution_count": 103,
     "metadata": {},
     "output_type": "execute_result"
    }
   ],
   "source": [
    "round(null_zips.SalePrice.mean() - zips.SalePrice.mean())"
   ]
  },
  {
   "cell_type": "markdown",
   "metadata": {},
   "source": [
    "#### Mean of Null Zip Code Sale Prices is 164,717 Dollars Higher"
   ]
  },
  {
   "cell_type": "markdown",
   "metadata": {},
   "source": [
    "### Running a t-test\n",
    "Ho = Houses in the null-zip-code group have the same mean sale price as houses in the valid-zip-code group.\n",
    "\n",
    "Ha = Houses in the null-zip-code group have a significantly different mean sale price than houses in the valid-zip-code group.\n",
    "\n",
    "Significance Level: alpha = .05"
   ]
  },
  {
   "cell_type": "code",
   "execution_count": 104,
   "metadata": {},
   "outputs": [
    {
     "data": {
      "text/plain": [
       "Ttest_indResult(statistic=12.44085087936663, pvalue=9.916563825386235e-35)"
      ]
     },
     "execution_count": 104,
     "metadata": {},
     "output_type": "execute_result"
    }
   ],
   "source": [
    "n = null_zips['SalePrice']\n",
    "\n",
    "z = zips['SalePrice']\n",
    "\n",
    "result = stats.ttest_ind(n, z, equal_var=False, alternative='two-sided')\n",
    "\n",
    "result"
   ]
  },
  {
   "cell_type": "markdown",
   "metadata": {},
   "source": [
    "### Results: There is a Statisically Significant Difference in Mean Sale Price"
   ]
  },
  {
   "cell_type": "markdown",
   "metadata": {},
   "source": [
    "Since our p value is less than our alpha, sufficient we have evidence to reject the null hypothesis and determine that homes in the  null-zip-code group have a significantly different mean sale price than homes in the valid-zip-code group. This finding requires more research into the characteristics (if any) that are inherent to the different groups that is beyond the scope of this project."
   ]
  },
  {
   "cell_type": "markdown",
   "metadata": {},
   "source": [
    "### Dropping Null Zip Codes For Feature Clarity\n",
    "Dropping rows with null zip codes since we want to base our model on features that can be fully quantified."
   ]
  },
  {
   "cell_type": "code",
   "execution_count": 105,
   "metadata": {},
   "outputs": [],
   "source": [
    "drop_idx = df[df.ZipClean == '00000'].index\n",
    "df.drop(drop_idx, inplace=True)"
   ]
  },
  {
   "cell_type": "code",
   "execution_count": 106,
   "metadata": {},
   "outputs": [
    {
     "data": {
      "text/plain": [
       "(16323, 106)"
      ]
     },
     "execution_count": 106,
     "metadata": {},
     "output_type": "execute_result"
    }
   ],
   "source": [
    "df.shape"
   ]
  },
  {
   "cell_type": "markdown",
   "metadata": {},
   "source": [
    "### Checking Zip Codes Against District Names"
   ]
  },
  {
   "cell_type": "code",
   "execution_count": 107,
   "metadata": {
    "tags": []
   },
   "outputs": [
    {
     "data": {
      "text/plain": [
       "DistrictName      ZipClean\n",
       "ALGONA            98001        35\n",
       "AUBURN            98001        93\n",
       "                  98002       217\n",
       "                  98003         2\n",
       "                  98030         6\n",
       "                  98031         1\n",
       "                  98092       215\n",
       "BEAUX ARTS        98004         4\n",
       "BELLEVUE          98004       152\n",
       "                  98005       104\n",
       "                  98006       335\n",
       "                  98007        92\n",
       "                  98008       225\n",
       "                  98053         1\n",
       "BLACK DIAMOND     98010        44\n",
       "BOTHELL           98011       151\n",
       "                  98034         5\n",
       "                  98072         3\n",
       "BURIEN            98146        93\n",
       "                  98148        33\n",
       "                  98166       118\n",
       "                  98168       134\n",
       "CARNATION         98014        26\n",
       "CLYDE HILL        98004        45\n",
       "COVINGTON         98042       260\n",
       "DES MOINES        98148        19\n",
       "                  98198       208\n",
       "DUVALL            98019        80\n",
       "                  98079         1\n",
       "ENUMCLAW          98022       120\n",
       "FEDERAL WAY       98001        14\n",
       "                  98003       231\n",
       "                  98023       509\n",
       "HUNTS POINT       98004         7\n",
       "ISSAQUAH          98027       123\n",
       "                  98029        77\n",
       "KENMORE           98028       209\n",
       "KENT              98030       198\n",
       "                  98031       270\n",
       "                  98032       115\n",
       "                  98042       142\n",
       "                  98055         3\n",
       "                  98058         9\n",
       "                  98198         1\n",
       "KING COUNTY       98001       206\n",
       "                  98003        48\n",
       "                  98010         6\n",
       "                  98014        48\n",
       "                  98019        33\n",
       "                  98022       102\n",
       "                  98024        48\n",
       "                  98027        92\n",
       "                  98029         2\n",
       "                  98032        11\n",
       "                  98038        86\n",
       "                  98042       148\n",
       "                  98045       115\n",
       "                  98050         7\n",
       "                  98051        32\n",
       "                  98052        47\n",
       "                  98053       227\n",
       "                  98056        12\n",
       "                  98058       299\n",
       "                  98059       137\n",
       "                  98065        22\n",
       "                  98070       116\n",
       "                  98072        81\n",
       "                  98074        11\n",
       "                  98077       165\n",
       "                  98092        82\n",
       "                  98106        28\n",
       "                  98108         5\n",
       "                  98126         5\n",
       "                  98146        76\n",
       "                  98168        43\n",
       "                  98178       158\n",
       "                  98224         3\n",
       "                  98288         5\n",
       "KIRKLAND          98004         2\n",
       "                  98011         5\n",
       "                  98033       304\n",
       "                  98034       407\n",
       "LAKE FOREST PARK  98155       112\n",
       "MAPLE VALLEY      98038       343\n",
       "MEDINA            98004         1\n",
       "                  98039        32\n",
       "MERCER ISLAND     98040       227\n",
       "                  98042         1\n",
       "MILTON            98003         3\n",
       "                  98354        12\n",
       "NEWCASTLE         98056        61\n",
       "                  98059        37\n",
       "NORMANDY PARK     98166        67\n",
       "                  98198         2\n",
       "NORTH BEND        98045        86\n",
       "PACIFIC           98001         5\n",
       "                  98047        33\n",
       "REDMOND           98033         2\n",
       "                  98052       301\n",
       "RENTON            98031         2\n",
       "                  98055       185\n",
       "                  98056       213\n",
       "                  98057         3\n",
       "                  98058       155\n",
       "                  98059       146\n",
       "                  98178         2\n",
       "SAMMAMISH         98027         1\n",
       "                  98029        92\n",
       "                  98053         1\n",
       "                  98074       277\n",
       "                  98075       215\n",
       "SEATTLE           91844         1\n",
       "                  98102        66\n",
       "                  98103       343\n",
       "                  98105       190\n",
       "                  98106       245\n",
       "                  98107       160\n",
       "                  98108       149\n",
       "                  98109        82\n",
       "                  98112       208\n",
       "                  98113         2\n",
       "                  98115       425\n",
       "                  98116       240\n",
       "                  98117       396\n",
       "                  98118       347\n",
       "                  98119       131\n",
       "                  98122       212\n",
       "                  98125       276\n",
       "                  98126       266\n",
       "                  98133       152\n",
       "                  98134         1\n",
       "                  98136       183\n",
       "                  98144       206\n",
       "                  98146        55\n",
       "                  98177       109\n",
       "                  98178        58\n",
       "                  98199       228\n",
       "SHORELINE         98117         1\n",
       "                  98133       176\n",
       "                  98155       205\n",
       "                  98177       117\n",
       "SKYKOMISH         98288         2\n",
       "SNOQUALMIE        98065       144\n",
       "SeaTac            98148         4\n",
       "                  98168        31\n",
       "                  98188        83\n",
       "                  98198        24\n",
       "TUKWILA           98168        58\n",
       "                  98178        18\n",
       "                  98188        30\n",
       "WOODINVILLE       98072       108\n",
       "YARROW POINT      98004        20\n",
       "dtype: int64"
      ]
     },
     "execution_count": 107,
     "metadata": {},
     "output_type": "execute_result"
    }
   ],
   "source": [
    "zips.groupby(['DistrictName', 'ZipClean']).size()"
   ]
  },
  {
   "cell_type": "code",
   "execution_count": 108,
   "metadata": {},
   "outputs": [
    {
     "data": {
      "text/html": [
       "<div>\n",
       "<style scoped>\n",
       "    .dataframe tbody tr th:only-of-type {\n",
       "        vertical-align: middle;\n",
       "    }\n",
       "\n",
       "    .dataframe tbody tr th {\n",
       "        vertical-align: top;\n",
       "    }\n",
       "\n",
       "    .dataframe thead th {\n",
       "        text-align: right;\n",
       "    }\n",
       "</style>\n",
       "<table border=\"1\" class=\"dataframe\">\n",
       "  <thead>\n",
       "    <tr style=\"text-align: right;\">\n",
       "      <th></th>\n",
       "      <th>DistrictName</th>\n",
       "      <th>PropertyType</th>\n",
       "      <th>Address</th>\n",
       "    </tr>\n",
       "  </thead>\n",
       "  <tbody>\n",
       "    <tr>\n",
       "      <th>count</th>\n",
       "      <td>16323</td>\n",
       "      <td>16323</td>\n",
       "      <td>16323</td>\n",
       "    </tr>\n",
       "    <tr>\n",
       "      <th>unique</th>\n",
       "      <td>40</td>\n",
       "      <td>1</td>\n",
       "      <td>15923</td>\n",
       "    </tr>\n",
       "    <tr>\n",
       "      <th>top</th>\n",
       "      <td>SEATTLE</td>\n",
       "      <td>11</td>\n",
       "      <td>913  N 72ND ST   98103</td>\n",
       "    </tr>\n",
       "    <tr>\n",
       "      <th>freq</th>\n",
       "      <td>4731</td>\n",
       "      <td>16323</td>\n",
       "      <td>4</td>\n",
       "    </tr>\n",
       "  </tbody>\n",
       "</table>\n",
       "</div>"
      ],
      "text/plain": [
       "       DistrictName PropertyType                 Address\n",
       "count         16323        16323                   16323\n",
       "unique           40            1                   15923\n",
       "top         SEATTLE           11  913  N 72ND ST   98103\n",
       "freq           4731        16323                       4"
      ]
     },
     "execution_count": 108,
     "metadata": {},
     "output_type": "execute_result"
    }
   ],
   "source": [
    "zips[['DistrictName', 'PropertyType', 'Address']].describe()"
   ]
  },
  {
   "cell_type": "markdown",
   "metadata": {},
   "source": [
    "### Stories, Building Grade and Area Features"
   ]
  },
  {
   "cell_type": "code",
   "execution_count": 109,
   "metadata": {},
   "outputs": [
    {
     "data": {
      "text/html": [
       "<div>\n",
       "<style scoped>\n",
       "    .dataframe tbody tr th:only-of-type {\n",
       "        vertical-align: middle;\n",
       "    }\n",
       "\n",
       "    .dataframe tbody tr th {\n",
       "        vertical-align: top;\n",
       "    }\n",
       "\n",
       "    .dataframe thead th {\n",
       "        text-align: right;\n",
       "    }\n",
       "</style>\n",
       "<table border=\"1\" class=\"dataframe\">\n",
       "  <thead>\n",
       "    <tr style=\"text-align: right;\">\n",
       "      <th></th>\n",
       "      <th>Stories</th>\n",
       "      <th>BldgGrade</th>\n",
       "      <th>BldgGradeVar</th>\n",
       "      <th>SqFt1stFloor</th>\n",
       "      <th>SqFtHalfFloor</th>\n",
       "      <th>SqFt2ndFloor</th>\n",
       "      <th>SqFtUpperFloor</th>\n",
       "      <th>SqFtUnfinFull</th>\n",
       "      <th>SqFtUnfinHalf</th>\n",
       "      <th>SqFtTotLiving</th>\n",
       "    </tr>\n",
       "  </thead>\n",
       "  <tbody>\n",
       "    <tr>\n",
       "      <th>5</th>\n",
       "      <td>1</td>\n",
       "      <td>7</td>\n",
       "      <td>0</td>\n",
       "      <td>1930</td>\n",
       "      <td>0</td>\n",
       "      <td>0</td>\n",
       "      <td>0</td>\n",
       "      <td>0</td>\n",
       "      <td>0</td>\n",
       "      <td>1930</td>\n",
       "    </tr>\n",
       "    <tr>\n",
       "      <th>6</th>\n",
       "      <td>2</td>\n",
       "      <td>7</td>\n",
       "      <td>0</td>\n",
       "      <td>1057</td>\n",
       "      <td>0</td>\n",
       "      <td>918</td>\n",
       "      <td>0</td>\n",
       "      <td>0</td>\n",
       "      <td>0</td>\n",
       "      <td>1975</td>\n",
       "    </tr>\n",
       "    <tr>\n",
       "      <th>94</th>\n",
       "      <td>1</td>\n",
       "      <td>9</td>\n",
       "      <td>0</td>\n",
       "      <td>1760</td>\n",
       "      <td>0</td>\n",
       "      <td>0</td>\n",
       "      <td>0</td>\n",
       "      <td>0</td>\n",
       "      <td>0</td>\n",
       "      <td>2680</td>\n",
       "    </tr>\n",
       "  </tbody>\n",
       "</table>\n",
       "</div>"
      ],
      "text/plain": [
       "   Stories BldgGrade BldgGradeVar SqFt1stFloor SqFtHalfFloor SqFt2ndFloor  \\\n",
       "5        1         7            0         1930             0            0   \n",
       "6        2         7            0         1057             0          918   \n",
       "94       1         9            0         1760             0            0   \n",
       "\n",
       "   SqFtUpperFloor SqFtUnfinFull SqFtUnfinHalf SqFtTotLiving  \n",
       "5               0             0             0          1930  \n",
       "6               0             0             0          1975  \n",
       "94              0             0             0          2680  "
      ]
     },
     "execution_count": 109,
     "metadata": {},
     "output_type": "execute_result"
    }
   ],
   "source": [
    "li = ['Stories',\n",
    " 'BldgGrade',\n",
    " 'BldgGradeVar',\n",
    " 'SqFt1stFloor',\n",
    " 'SqFtHalfFloor',\n",
    " 'SqFt2ndFloor',\n",
    " 'SqFtUpperFloor',\n",
    " 'SqFtUnfinFull',\n",
    " 'SqFtUnfinHalf',\n",
    " 'SqFtTotLiving']\n",
    "fn.chunker(df, li)"
   ]
  },
  {
   "cell_type": "code",
   "execution_count": 110,
   "metadata": {},
   "outputs": [
    {
     "data": {
      "text/html": [
       "<div>\n",
       "<style scoped>\n",
       "    .dataframe tbody tr th:only-of-type {\n",
       "        vertical-align: middle;\n",
       "    }\n",
       "\n",
       "    .dataframe tbody tr th {\n",
       "        vertical-align: top;\n",
       "    }\n",
       "\n",
       "    .dataframe thead th {\n",
       "        text-align: right;\n",
       "    }\n",
       "</style>\n",
       "<table border=\"1\" class=\"dataframe\">\n",
       "  <thead>\n",
       "    <tr style=\"text-align: right;\">\n",
       "      <th></th>\n",
       "      <th>LUType</th>\n",
       "      <th>LUItem</th>\n",
       "      <th>LUDescription</th>\n",
       "    </tr>\n",
       "  </thead>\n",
       "  <tbody>\n",
       "    <tr>\n",
       "      <th>1150</th>\n",
       "      <td>82</td>\n",
       "      <td>1</td>\n",
       "      <td>1  Cabin</td>\n",
       "    </tr>\n",
       "    <tr>\n",
       "      <th>1151</th>\n",
       "      <td>82</td>\n",
       "      <td>10</td>\n",
       "      <td>10 Very Good</td>\n",
       "    </tr>\n",
       "    <tr>\n",
       "      <th>1152</th>\n",
       "      <td>82</td>\n",
       "      <td>11</td>\n",
       "      <td>11 Excellent</td>\n",
       "    </tr>\n",
       "    <tr>\n",
       "      <th>1153</th>\n",
       "      <td>82</td>\n",
       "      <td>12</td>\n",
       "      <td>12 Luxury</td>\n",
       "    </tr>\n",
       "    <tr>\n",
       "      <th>1154</th>\n",
       "      <td>82</td>\n",
       "      <td>13</td>\n",
       "      <td>13 Mansion</td>\n",
       "    </tr>\n",
       "    <tr>\n",
       "      <th>1155</th>\n",
       "      <td>82</td>\n",
       "      <td>2</td>\n",
       "      <td>2  Substandard</td>\n",
       "    </tr>\n",
       "    <tr>\n",
       "      <th>1156</th>\n",
       "      <td>82</td>\n",
       "      <td>20</td>\n",
       "      <td>Exceptional Properties</td>\n",
       "    </tr>\n",
       "    <tr>\n",
       "      <th>1157</th>\n",
       "      <td>82</td>\n",
       "      <td>3</td>\n",
       "      <td>3  Poor</td>\n",
       "    </tr>\n",
       "    <tr>\n",
       "      <th>1158</th>\n",
       "      <td>82</td>\n",
       "      <td>4</td>\n",
       "      <td>4  Low</td>\n",
       "    </tr>\n",
       "    <tr>\n",
       "      <th>1159</th>\n",
       "      <td>82</td>\n",
       "      <td>5</td>\n",
       "      <td>5  Fair</td>\n",
       "    </tr>\n",
       "    <tr>\n",
       "      <th>1160</th>\n",
       "      <td>82</td>\n",
       "      <td>6</td>\n",
       "      <td>6  Low Average</td>\n",
       "    </tr>\n",
       "    <tr>\n",
       "      <th>1161</th>\n",
       "      <td>82</td>\n",
       "      <td>7</td>\n",
       "      <td>7  Average</td>\n",
       "    </tr>\n",
       "    <tr>\n",
       "      <th>1162</th>\n",
       "      <td>82</td>\n",
       "      <td>8</td>\n",
       "      <td>8  Good</td>\n",
       "    </tr>\n",
       "    <tr>\n",
       "      <th>1163</th>\n",
       "      <td>82</td>\n",
       "      <td>9</td>\n",
       "      <td>9  Better</td>\n",
       "    </tr>\n",
       "  </tbody>\n",
       "</table>\n",
       "</div>"
      ],
      "text/plain": [
       "     LUType LUItem           LUDescription\n",
       "1150     82      1                1  Cabin\n",
       "1151     82     10            10 Very Good\n",
       "1152     82     11            11 Excellent\n",
       "1153     82     12               12 Luxury\n",
       "1154     82     13              13 Mansion\n",
       "1155     82      2          2  Substandard\n",
       "1156     82     20  Exceptional Properties\n",
       "1157     82      3                 3  Poor\n",
       "1158     82      4                  4  Low\n",
       "1159     82      5                 5  Fair\n",
       "1160     82      6          6  Low Average\n",
       "1161     82      7              7  Average\n",
       "1162     82      8                 8  Good\n",
       "1163     82      9               9  Better"
      ]
     },
     "execution_count": 110,
     "metadata": {},
     "output_type": "execute_result"
    }
   ],
   "source": [
    "# looking up building grade\n",
    "fn.lookup(look, 82)"
   ]
  },
  {
   "cell_type": "markdown",
   "metadata": {},
   "source": [
    "### Basement Features"
   ]
  },
  {
   "cell_type": "code",
   "execution_count": 111,
   "metadata": {},
   "outputs": [
    {
     "data": {
      "text/html": [
       "<div>\n",
       "<style scoped>\n",
       "    .dataframe tbody tr th:only-of-type {\n",
       "        vertical-align: middle;\n",
       "    }\n",
       "\n",
       "    .dataframe tbody tr th {\n",
       "        vertical-align: top;\n",
       "    }\n",
       "\n",
       "    .dataframe thead th {\n",
       "        text-align: right;\n",
       "    }\n",
       "</style>\n",
       "<table border=\"1\" class=\"dataframe\">\n",
       "  <thead>\n",
       "    <tr style=\"text-align: right;\">\n",
       "      <th></th>\n",
       "      <th>SqFtTotBasement</th>\n",
       "      <th>SqFtFinBasement</th>\n",
       "      <th>FinBasementGrade</th>\n",
       "      <th>SqFtGarageBasement</th>\n",
       "      <th>SqFtGarageAttached</th>\n",
       "      <th>DaylightBasement</th>\n",
       "    </tr>\n",
       "  </thead>\n",
       "  <tbody>\n",
       "    <tr>\n",
       "      <th>5</th>\n",
       "      <td>0</td>\n",
       "      <td>0</td>\n",
       "      <td>0</td>\n",
       "      <td>0</td>\n",
       "      <td>550</td>\n",
       "      <td></td>\n",
       "    </tr>\n",
       "    <tr>\n",
       "      <th>6</th>\n",
       "      <td>0</td>\n",
       "      <td>0</td>\n",
       "      <td>0</td>\n",
       "      <td>0</td>\n",
       "      <td>465</td>\n",
       "      <td></td>\n",
       "    </tr>\n",
       "    <tr>\n",
       "      <th>94</th>\n",
       "      <td>1700</td>\n",
       "      <td>920</td>\n",
       "      <td>8</td>\n",
       "      <td>780</td>\n",
       "      <td>0</td>\n",
       "      <td>Y</td>\n",
       "    </tr>\n",
       "  </tbody>\n",
       "</table>\n",
       "</div>"
      ],
      "text/plain": [
       "   SqFtTotBasement SqFtFinBasement FinBasementGrade SqFtGarageBasement  \\\n",
       "5                0               0                0                  0   \n",
       "6                0               0                0                  0   \n",
       "94            1700             920                8                780   \n",
       "\n",
       "   SqFtGarageAttached DaylightBasement  \n",
       "5                 550                   \n",
       "6                 465                   \n",
       "94                  0                Y  "
      ]
     },
     "execution_count": 111,
     "metadata": {},
     "output_type": "execute_result"
    }
   ],
   "source": [
    "li = ['SqFtTotBasement',\n",
    " 'SqFtFinBasement',\n",
    " 'FinBasementGrade',\n",
    " 'SqFtGarageBasement',\n",
    " 'SqFtGarageAttached',\n",
    " 'DaylightBasement']\n",
    "fn.chunker(df, li)"
   ]
  },
  {
   "cell_type": "code",
   "execution_count": 112,
   "metadata": {},
   "outputs": [
    {
     "data": {
      "text/html": [
       "<div>\n",
       "<style scoped>\n",
       "    .dataframe tbody tr th:only-of-type {\n",
       "        vertical-align: middle;\n",
       "    }\n",
       "\n",
       "    .dataframe tbody tr th {\n",
       "        vertical-align: top;\n",
       "    }\n",
       "\n",
       "    .dataframe thead th {\n",
       "        text-align: right;\n",
       "    }\n",
       "</style>\n",
       "<table border=\"1\" class=\"dataframe\">\n",
       "  <thead>\n",
       "    <tr style=\"text-align: right;\">\n",
       "      <th></th>\n",
       "      <th>LUType</th>\n",
       "      <th>LUItem</th>\n",
       "      <th>LUDescription</th>\n",
       "    </tr>\n",
       "  </thead>\n",
       "  <tbody>\n",
       "    <tr>\n",
       "      <th>1150</th>\n",
       "      <td>82</td>\n",
       "      <td>1</td>\n",
       "      <td>1  Cabin</td>\n",
       "    </tr>\n",
       "    <tr>\n",
       "      <th>1151</th>\n",
       "      <td>82</td>\n",
       "      <td>10</td>\n",
       "      <td>10 Very Good</td>\n",
       "    </tr>\n",
       "    <tr>\n",
       "      <th>1152</th>\n",
       "      <td>82</td>\n",
       "      <td>11</td>\n",
       "      <td>11 Excellent</td>\n",
       "    </tr>\n",
       "    <tr>\n",
       "      <th>1153</th>\n",
       "      <td>82</td>\n",
       "      <td>12</td>\n",
       "      <td>12 Luxury</td>\n",
       "    </tr>\n",
       "    <tr>\n",
       "      <th>1154</th>\n",
       "      <td>82</td>\n",
       "      <td>13</td>\n",
       "      <td>13 Mansion</td>\n",
       "    </tr>\n",
       "    <tr>\n",
       "      <th>1155</th>\n",
       "      <td>82</td>\n",
       "      <td>2</td>\n",
       "      <td>2  Substandard</td>\n",
       "    </tr>\n",
       "    <tr>\n",
       "      <th>1156</th>\n",
       "      <td>82</td>\n",
       "      <td>20</td>\n",
       "      <td>Exceptional Properties</td>\n",
       "    </tr>\n",
       "    <tr>\n",
       "      <th>1157</th>\n",
       "      <td>82</td>\n",
       "      <td>3</td>\n",
       "      <td>3  Poor</td>\n",
       "    </tr>\n",
       "    <tr>\n",
       "      <th>1158</th>\n",
       "      <td>82</td>\n",
       "      <td>4</td>\n",
       "      <td>4  Low</td>\n",
       "    </tr>\n",
       "    <tr>\n",
       "      <th>1159</th>\n",
       "      <td>82</td>\n",
       "      <td>5</td>\n",
       "      <td>5  Fair</td>\n",
       "    </tr>\n",
       "    <tr>\n",
       "      <th>1160</th>\n",
       "      <td>82</td>\n",
       "      <td>6</td>\n",
       "      <td>6  Low Average</td>\n",
       "    </tr>\n",
       "    <tr>\n",
       "      <th>1161</th>\n",
       "      <td>82</td>\n",
       "      <td>7</td>\n",
       "      <td>7  Average</td>\n",
       "    </tr>\n",
       "    <tr>\n",
       "      <th>1162</th>\n",
       "      <td>82</td>\n",
       "      <td>8</td>\n",
       "      <td>8  Good</td>\n",
       "    </tr>\n",
       "    <tr>\n",
       "      <th>1163</th>\n",
       "      <td>82</td>\n",
       "      <td>9</td>\n",
       "      <td>9  Better</td>\n",
       "    </tr>\n",
       "  </tbody>\n",
       "</table>\n",
       "</div>"
      ],
      "text/plain": [
       "     LUType LUItem           LUDescription\n",
       "1150     82      1                1  Cabin\n",
       "1151     82     10            10 Very Good\n",
       "1152     82     11            11 Excellent\n",
       "1153     82     12               12 Luxury\n",
       "1154     82     13              13 Mansion\n",
       "1155     82      2          2  Substandard\n",
       "1156     82     20  Exceptional Properties\n",
       "1157     82      3                 3  Poor\n",
       "1158     82      4                  4  Low\n",
       "1159     82      5                 5  Fair\n",
       "1160     82      6          6  Low Average\n",
       "1161     82      7              7  Average\n",
       "1162     82      8                 8  Good\n",
       "1163     82      9               9  Better"
      ]
     },
     "execution_count": 112,
     "metadata": {},
     "output_type": "execute_result"
    }
   ],
   "source": [
    "# looking up FinBasementGrade\n",
    "fn.lookup(look, 82)"
   ]
  },
  {
   "cell_type": "markdown",
   "metadata": {},
   "source": [
    "### Porch Features"
   ]
  },
  {
   "cell_type": "code",
   "execution_count": 113,
   "metadata": {},
   "outputs": [
    {
     "data": {
      "text/html": [
       "<div>\n",
       "<style scoped>\n",
       "    .dataframe tbody tr th:only-of-type {\n",
       "        vertical-align: middle;\n",
       "    }\n",
       "\n",
       "    .dataframe tbody tr th {\n",
       "        vertical-align: top;\n",
       "    }\n",
       "\n",
       "    .dataframe thead th {\n",
       "        text-align: right;\n",
       "    }\n",
       "</style>\n",
       "<table border=\"1\" class=\"dataframe\">\n",
       "  <thead>\n",
       "    <tr style=\"text-align: right;\">\n",
       "      <th></th>\n",
       "      <th>SqFtOpenPorch</th>\n",
       "      <th>SqFtEnclosedPorch</th>\n",
       "      <th>SqFtDeck</th>\n",
       "    </tr>\n",
       "  </thead>\n",
       "  <tbody>\n",
       "    <tr>\n",
       "      <th>5</th>\n",
       "      <td>180</td>\n",
       "      <td>0</td>\n",
       "      <td>0</td>\n",
       "    </tr>\n",
       "    <tr>\n",
       "      <th>6</th>\n",
       "      <td>45</td>\n",
       "      <td>0</td>\n",
       "      <td>0</td>\n",
       "    </tr>\n",
       "    <tr>\n",
       "      <th>94</th>\n",
       "      <td>0</td>\n",
       "      <td>330</td>\n",
       "      <td>790</td>\n",
       "    </tr>\n",
       "  </tbody>\n",
       "</table>\n",
       "</div>"
      ],
      "text/plain": [
       "   SqFtOpenPorch SqFtEnclosedPorch SqFtDeck\n",
       "5            180                 0        0\n",
       "6             45                 0        0\n",
       "94             0               330      790"
      ]
     },
     "execution_count": 113,
     "metadata": {},
     "output_type": "execute_result"
    }
   ],
   "source": [
    "li = ['SqFtOpenPorch',\n",
    " 'SqFtEnclosedPorch',\n",
    " 'SqFtDeck']\n",
    "fn.chunker(df,li)"
   ]
  },
  {
   "cell_type": "markdown",
   "metadata": {},
   "source": [
    "### Heat & Miscellaneous Features"
   ]
  },
  {
   "cell_type": "code",
   "execution_count": 114,
   "metadata": {},
   "outputs": [
    {
     "data": {
      "text/html": [
       "<div>\n",
       "<style scoped>\n",
       "    .dataframe tbody tr th:only-of-type {\n",
       "        vertical-align: middle;\n",
       "    }\n",
       "\n",
       "    .dataframe tbody tr th {\n",
       "        vertical-align: top;\n",
       "    }\n",
       "\n",
       "    .dataframe thead th {\n",
       "        text-align: right;\n",
       "    }\n",
       "</style>\n",
       "<table border=\"1\" class=\"dataframe\">\n",
       "  <thead>\n",
       "    <tr style=\"text-align: right;\">\n",
       "      <th></th>\n",
       "      <th>HeatSystem</th>\n",
       "      <th>HeatSource</th>\n",
       "      <th>BrickStone</th>\n",
       "      <th>ViewUtilization</th>\n",
       "    </tr>\n",
       "  </thead>\n",
       "  <tbody>\n",
       "    <tr>\n",
       "      <th>5</th>\n",
       "      <td>5</td>\n",
       "      <td>2</td>\n",
       "      <td>0</td>\n",
       "      <td></td>\n",
       "    </tr>\n",
       "    <tr>\n",
       "      <th>6</th>\n",
       "      <td>5</td>\n",
       "      <td>2</td>\n",
       "      <td>0</td>\n",
       "      <td></td>\n",
       "    </tr>\n",
       "    <tr>\n",
       "      <th>94</th>\n",
       "      <td>5</td>\n",
       "      <td>2</td>\n",
       "      <td>0</td>\n",
       "      <td>N</td>\n",
       "    </tr>\n",
       "  </tbody>\n",
       "</table>\n",
       "</div>"
      ],
      "text/plain": [
       "   HeatSystem HeatSource BrickStone ViewUtilization\n",
       "5           5          2          0                \n",
       "6           5          2          0                \n",
       "94          5          2          0               N"
      ]
     },
     "execution_count": 114,
     "metadata": {},
     "output_type": "execute_result"
    }
   ],
   "source": [
    "li = [ 'HeatSystem',\n",
    " 'HeatSource',\n",
    " 'BrickStone',\n",
    " 'ViewUtilization']\n",
    "fn.chunker(df,li)"
   ]
  },
  {
   "cell_type": "markdown",
   "metadata": {},
   "source": [
    "### Bedrooms & Bath"
   ]
  },
  {
   "cell_type": "code",
   "execution_count": 115,
   "metadata": {},
   "outputs": [
    {
     "data": {
      "text/html": [
       "<div>\n",
       "<style scoped>\n",
       "    .dataframe tbody tr th:only-of-type {\n",
       "        vertical-align: middle;\n",
       "    }\n",
       "\n",
       "    .dataframe tbody tr th {\n",
       "        vertical-align: top;\n",
       "    }\n",
       "\n",
       "    .dataframe thead th {\n",
       "        text-align: right;\n",
       "    }\n",
       "</style>\n",
       "<table border=\"1\" class=\"dataframe\">\n",
       "  <thead>\n",
       "    <tr style=\"text-align: right;\">\n",
       "      <th></th>\n",
       "      <th>Bedrooms</th>\n",
       "      <th>BathHalfCount</th>\n",
       "      <th>Bath3qtrCount</th>\n",
       "      <th>BathFullCount</th>\n",
       "    </tr>\n",
       "  </thead>\n",
       "  <tbody>\n",
       "    <tr>\n",
       "      <th>5</th>\n",
       "      <td>3</td>\n",
       "      <td>0</td>\n",
       "      <td>0</td>\n",
       "      <td>2</td>\n",
       "    </tr>\n",
       "    <tr>\n",
       "      <th>6</th>\n",
       "      <td>3</td>\n",
       "      <td>0</td>\n",
       "      <td>2</td>\n",
       "      <td>1</td>\n",
       "    </tr>\n",
       "    <tr>\n",
       "      <th>94</th>\n",
       "      <td>4</td>\n",
       "      <td>0</td>\n",
       "      <td>2</td>\n",
       "      <td>1</td>\n",
       "    </tr>\n",
       "  </tbody>\n",
       "</table>\n",
       "</div>"
      ],
      "text/plain": [
       "   Bedrooms BathHalfCount Bath3qtrCount BathFullCount\n",
       "5         3             0             0             2\n",
       "6         3             0             2             1\n",
       "94        4             0             2             1"
      ]
     },
     "execution_count": 115,
     "metadata": {},
     "output_type": "execute_result"
    }
   ],
   "source": [
    "li = ['Bedrooms',\n",
    " 'BathHalfCount',\n",
    " 'Bath3qtrCount',\n",
    " 'BathFullCount',]\n",
    "fn.chunker(df, li)"
   ]
  },
  {
   "cell_type": "markdown",
   "metadata": {},
   "source": [
    "### Fireplace Features"
   ]
  },
  {
   "cell_type": "code",
   "execution_count": 116,
   "metadata": {},
   "outputs": [
    {
     "data": {
      "text/html": [
       "<div>\n",
       "<style scoped>\n",
       "    .dataframe tbody tr th:only-of-type {\n",
       "        vertical-align: middle;\n",
       "    }\n",
       "\n",
       "    .dataframe tbody tr th {\n",
       "        vertical-align: top;\n",
       "    }\n",
       "\n",
       "    .dataframe thead th {\n",
       "        text-align: right;\n",
       "    }\n",
       "</style>\n",
       "<table border=\"1\" class=\"dataframe\">\n",
       "  <thead>\n",
       "    <tr style=\"text-align: right;\">\n",
       "      <th></th>\n",
       "      <th>FpMultiStory</th>\n",
       "      <th>FpFreestanding</th>\n",
       "      <th>FpAdditional</th>\n",
       "    </tr>\n",
       "  </thead>\n",
       "  <tbody>\n",
       "    <tr>\n",
       "      <th>5</th>\n",
       "      <td>0</td>\n",
       "      <td>0</td>\n",
       "      <td>0</td>\n",
       "    </tr>\n",
       "    <tr>\n",
       "      <th>6</th>\n",
       "      <td>1</td>\n",
       "      <td>0</td>\n",
       "      <td>0</td>\n",
       "    </tr>\n",
       "    <tr>\n",
       "      <th>94</th>\n",
       "      <td>1</td>\n",
       "      <td>0</td>\n",
       "      <td>1</td>\n",
       "    </tr>\n",
       "  </tbody>\n",
       "</table>\n",
       "</div>"
      ],
      "text/plain": [
       "   FpMultiStory FpFreestanding FpAdditional\n",
       "5             0              0            0\n",
       "6             1              0            0\n",
       "94            1              0            1"
      ]
     },
     "execution_count": 116,
     "metadata": {},
     "output_type": "execute_result"
    }
   ],
   "source": [
    "li = ['FpMultiStory',\n",
    " 'FpFreestanding',\n",
    " 'FpAdditional']\n",
    "fn.chunker(df, li)"
   ]
  },
  {
   "cell_type": "markdown",
   "metadata": {},
   "source": [
    "### Year Build, Year Renovated"
   ]
  },
  {
   "cell_type": "code",
   "execution_count": 117,
   "metadata": {},
   "outputs": [
    {
     "data": {
      "text/html": [
       "<div>\n",
       "<style scoped>\n",
       "    .dataframe tbody tr th:only-of-type {\n",
       "        vertical-align: middle;\n",
       "    }\n",
       "\n",
       "    .dataframe tbody tr th {\n",
       "        vertical-align: top;\n",
       "    }\n",
       "\n",
       "    .dataframe thead th {\n",
       "        text-align: right;\n",
       "    }\n",
       "</style>\n",
       "<table border=\"1\" class=\"dataframe\">\n",
       "  <thead>\n",
       "    <tr style=\"text-align: right;\">\n",
       "      <th></th>\n",
       "      <th>YrBuilt</th>\n",
       "      <th>YrRenovated</th>\n",
       "    </tr>\n",
       "  </thead>\n",
       "  <tbody>\n",
       "    <tr>\n",
       "      <th>5</th>\n",
       "      <td>1989</td>\n",
       "      <td>0</td>\n",
       "    </tr>\n",
       "    <tr>\n",
       "      <th>6</th>\n",
       "      <td>1994</td>\n",
       "      <td>0</td>\n",
       "    </tr>\n",
       "    <tr>\n",
       "      <th>94</th>\n",
       "      <td>1978</td>\n",
       "      <td>0</td>\n",
       "    </tr>\n",
       "  </tbody>\n",
       "</table>\n",
       "</div>"
      ],
      "text/plain": [
       "   YrBuilt YrRenovated\n",
       "5     1989           0\n",
       "6     1994           0\n",
       "94    1978           0"
      ]
     },
     "execution_count": 117,
     "metadata": {},
     "output_type": "execute_result"
    }
   ],
   "source": [
    "li = ['YrBuilt',\n",
    " 'YrRenovated',]\n",
    "fn.chunker(df, li)"
   ]
  },
  {
   "cell_type": "markdown",
   "metadata": {},
   "source": [
    "### Condition and Cost Features"
   ]
  },
  {
   "cell_type": "code",
   "execution_count": 118,
   "metadata": {},
   "outputs": [
    {
     "data": {
      "text/html": [
       "<div>\n",
       "<style scoped>\n",
       "    .dataframe tbody tr th:only-of-type {\n",
       "        vertical-align: middle;\n",
       "    }\n",
       "\n",
       "    .dataframe tbody tr th {\n",
       "        vertical-align: top;\n",
       "    }\n",
       "\n",
       "    .dataframe thead th {\n",
       "        text-align: right;\n",
       "    }\n",
       "</style>\n",
       "<table border=\"1\" class=\"dataframe\">\n",
       "  <thead>\n",
       "    <tr style=\"text-align: right;\">\n",
       "      <th></th>\n",
       "      <th>PcntComplete</th>\n",
       "      <th>Obsolescence</th>\n",
       "      <th>PcntNetCondition</th>\n",
       "      <th>Condition</th>\n",
       "      <th>AddnlCost</th>\n",
       "    </tr>\n",
       "  </thead>\n",
       "  <tbody>\n",
       "    <tr>\n",
       "      <th>5</th>\n",
       "      <td>0</td>\n",
       "      <td>0</td>\n",
       "      <td>0</td>\n",
       "      <td>3</td>\n",
       "      <td>0</td>\n",
       "    </tr>\n",
       "    <tr>\n",
       "      <th>6</th>\n",
       "      <td>0</td>\n",
       "      <td>0</td>\n",
       "      <td>0</td>\n",
       "      <td>3</td>\n",
       "      <td>2500</td>\n",
       "    </tr>\n",
       "    <tr>\n",
       "      <th>94</th>\n",
       "      <td>0</td>\n",
       "      <td>0</td>\n",
       "      <td>0</td>\n",
       "      <td>5</td>\n",
       "      <td>0</td>\n",
       "    </tr>\n",
       "  </tbody>\n",
       "</table>\n",
       "</div>"
      ],
      "text/plain": [
       "   PcntComplete Obsolescence PcntNetCondition Condition AddnlCost\n",
       "5             0            0                0         3         0\n",
       "6             0            0                0         3      2500\n",
       "94            0            0                0         5         0"
      ]
     },
     "execution_count": 118,
     "metadata": {},
     "output_type": "execute_result"
    }
   ],
   "source": [
    "li = ['PcntComplete',\n",
    " 'Obsolescence',\n",
    " 'PcntNetCondition',\n",
    " 'Condition',\n",
    " 'AddnlCost']\n",
    "fn.chunker(df, li)"
   ]
  },
  {
   "cell_type": "markdown",
   "metadata": {},
   "source": [
    "# Baseline Model\n",
    "Finding the continuous feature that is most highly correlated with the `SalePrice` target and creating a simple linear regression model."
   ]
  },
  {
   "cell_type": "markdown",
   "metadata": {},
   "source": [
    "### Continuous Features\n",
    "Collecting continuous features into a list, creating a `cont_df` dataframe, and converting strings to numeric types. "
   ]
  },
  {
   "cell_type": "code",
   "execution_count": 119,
   "metadata": {},
   "outputs": [],
   "source": [
    "#  making a list of continuous features\n",
    "continuous = ['SalePrice', 'SqFtLot', 'NbrLivingUnits', 'Stories',\\\n",
    "              'SqFt1stFloor', 'SqFtHalfFloor', 'SqFt2ndFloor',\\\n",
    "              'SqFtUpperFloor', 'SqFtUnfinFull', 'SqFtUnfinHalf',\\\n",
    "              'SqFtTotLiving','SqFtTotBasement','SqFtFinBasement',\\\n",
    "              'SqFtGarageBasement','SqFtGarageAttached','SqFtOpenPorch',\\\n",
    "              'SqFtEnclosedPorch','SqFtDeck','Bedrooms','BathHalfCount',\\\n",
    "              'Bath3qtrCount','BathFullCount','YrBuilt','YrRenovated',\\\n",
    "              'PcntComplete','PcntNetCondition','AddnlCost']"
   ]
  },
  {
   "cell_type": "code",
   "execution_count": 120,
   "metadata": {},
   "outputs": [],
   "source": [
    "# numeric dtypes\n",
    "df[continuous] = df[continuous].apply(pd.to_numeric)"
   ]
  },
  {
   "cell_type": "code",
   "execution_count": 121,
   "metadata": {},
   "outputs": [
    {
     "name": "stdout",
     "output_type": "stream",
     "text": [
      "(16323, 106)\n"
     ]
    },
    {
     "data": {
      "text/html": [
       "<div>\n",
       "<style scoped>\n",
       "    .dataframe tbody tr th:only-of-type {\n",
       "        vertical-align: middle;\n",
       "    }\n",
       "\n",
       "    .dataframe tbody tr th {\n",
       "        vertical-align: top;\n",
       "    }\n",
       "\n",
       "    .dataframe thead th {\n",
       "        text-align: right;\n",
       "    }\n",
       "</style>\n",
       "<table border=\"1\" class=\"dataframe\">\n",
       "  <thead>\n",
       "    <tr style=\"text-align: right;\">\n",
       "      <th></th>\n",
       "      <th>SalePrice</th>\n",
       "      <th>ID</th>\n",
       "      <th>ExciseTaxNbr</th>\n",
       "      <th>DocumentDate</th>\n",
       "      <th>PropertyType</th>\n",
       "      <th>PrincipalUse</th>\n",
       "      <th>PropType</th>\n",
       "      <th>DistrictName</th>\n",
       "      <th>SqFtLot</th>\n",
       "      <th>WaterSystem</th>\n",
       "      <th>...</th>\n",
       "      <th>FpAdditional</th>\n",
       "      <th>YrBuilt</th>\n",
       "      <th>YrRenovated</th>\n",
       "      <th>PcntComplete</th>\n",
       "      <th>Obsolescence</th>\n",
       "      <th>PcntNetCondition</th>\n",
       "      <th>Condition</th>\n",
       "      <th>AddnlCost</th>\n",
       "      <th>DocumentYear</th>\n",
       "      <th>ZipClean</th>\n",
       "    </tr>\n",
       "  </thead>\n",
       "  <tbody>\n",
       "    <tr>\n",
       "      <th>5</th>\n",
       "      <td>560000.0</td>\n",
       "      <td>2130430120</td>\n",
       "      <td>3027422</td>\n",
       "      <td>2019-12-20</td>\n",
       "      <td>11</td>\n",
       "      <td>6</td>\n",
       "      <td>R</td>\n",
       "      <td>DUVALL</td>\n",
       "      <td>10523</td>\n",
       "      <td>2</td>\n",
       "      <td>...</td>\n",
       "      <td>0</td>\n",
       "      <td>1989</td>\n",
       "      <td>0</td>\n",
       "      <td>0</td>\n",
       "      <td>0</td>\n",
       "      <td>0</td>\n",
       "      <td>3</td>\n",
       "      <td>0</td>\n",
       "      <td>2019</td>\n",
       "      <td>98019</td>\n",
       "    </tr>\n",
       "    <tr>\n",
       "      <th>6</th>\n",
       "      <td>435000.0</td>\n",
       "      <td>9406520630</td>\n",
       "      <td>3002257</td>\n",
       "      <td>2019-07-22</td>\n",
       "      <td>11</td>\n",
       "      <td>6</td>\n",
       "      <td>R</td>\n",
       "      <td>MAPLE VALLEY</td>\n",
       "      <td>7392</td>\n",
       "      <td>2</td>\n",
       "      <td>...</td>\n",
       "      <td>0</td>\n",
       "      <td>1994</td>\n",
       "      <td>0</td>\n",
       "      <td>0</td>\n",
       "      <td>0</td>\n",
       "      <td>0</td>\n",
       "      <td>3</td>\n",
       "      <td>2500</td>\n",
       "      <td>2019</td>\n",
       "      <td>98038</td>\n",
       "    </tr>\n",
       "    <tr>\n",
       "      <th>94</th>\n",
       "      <td>1255000.0</td>\n",
       "      <td>3459600230</td>\n",
       "      <td>3020690</td>\n",
       "      <td>2019-10-30</td>\n",
       "      <td>11</td>\n",
       "      <td>6</td>\n",
       "      <td>R</td>\n",
       "      <td>BELLEVUE</td>\n",
       "      <td>10500</td>\n",
       "      <td>2</td>\n",
       "      <td>...</td>\n",
       "      <td>1</td>\n",
       "      <td>1978</td>\n",
       "      <td>0</td>\n",
       "      <td>0</td>\n",
       "      <td>0</td>\n",
       "      <td>0</td>\n",
       "      <td>5</td>\n",
       "      <td>0</td>\n",
       "      <td>2019</td>\n",
       "      <td>98006</td>\n",
       "    </tr>\n",
       "    <tr>\n",
       "      <th>105</th>\n",
       "      <td>380000.0</td>\n",
       "      <td>0302000645</td>\n",
       "      <td>2976405</td>\n",
       "      <td>2019-03-04</td>\n",
       "      <td>11</td>\n",
       "      <td>6</td>\n",
       "      <td>R</td>\n",
       "      <td>AUBURN</td>\n",
       "      <td>45303</td>\n",
       "      <td>2</td>\n",
       "      <td>...</td>\n",
       "      <td>1</td>\n",
       "      <td>1963</td>\n",
       "      <td>0</td>\n",
       "      <td>0</td>\n",
       "      <td>0</td>\n",
       "      <td>0</td>\n",
       "      <td>2</td>\n",
       "      <td>0</td>\n",
       "      <td>2019</td>\n",
       "      <td>98001</td>\n",
       "    </tr>\n",
       "    <tr>\n",
       "      <th>144</th>\n",
       "      <td>930000.0</td>\n",
       "      <td>0826079096</td>\n",
       "      <td>2997972</td>\n",
       "      <td>2019-06-28</td>\n",
       "      <td>11</td>\n",
       "      <td>6</td>\n",
       "      <td>R</td>\n",
       "      <td>KING COUNTY</td>\n",
       "      <td>212911</td>\n",
       "      <td>1</td>\n",
       "      <td>...</td>\n",
       "      <td>0</td>\n",
       "      <td>1992</td>\n",
       "      <td>0</td>\n",
       "      <td>0</td>\n",
       "      <td>0</td>\n",
       "      <td>0</td>\n",
       "      <td>3</td>\n",
       "      <td>0</td>\n",
       "      <td>2019</td>\n",
       "      <td>98019</td>\n",
       "    </tr>\n",
       "  </tbody>\n",
       "</table>\n",
       "<p>5 rows × 106 columns</p>\n",
       "</div>"
      ],
      "text/plain": [
       "     SalePrice          ID ExciseTaxNbr DocumentDate PropertyType  \\\n",
       "5     560000.0  2130430120      3027422   2019-12-20           11   \n",
       "6     435000.0  9406520630      3002257   2019-07-22           11   \n",
       "94   1255000.0  3459600230      3020690   2019-10-30           11   \n",
       "105   380000.0  0302000645      2976405   2019-03-04           11   \n",
       "144   930000.0  0826079096      2997972   2019-06-28           11   \n",
       "\n",
       "    PrincipalUse PropType  DistrictName  SqFtLot WaterSystem  ...  \\\n",
       "5              6        R        DUVALL    10523           2  ...   \n",
       "6              6        R  MAPLE VALLEY     7392           2  ...   \n",
       "94             6        R      BELLEVUE    10500           2  ...   \n",
       "105            6        R        AUBURN    45303           2  ...   \n",
       "144            6        R   KING COUNTY   212911           1  ...   \n",
       "\n",
       "    FpAdditional YrBuilt YrRenovated PcntComplete Obsolescence  \\\n",
       "5              0    1989           0            0            0   \n",
       "6              0    1994           0            0            0   \n",
       "94             1    1978           0            0            0   \n",
       "105            1    1963           0            0            0   \n",
       "144            0    1992           0            0            0   \n",
       "\n",
       "    PcntNetCondition Condition AddnlCost DocumentYear ZipClean  \n",
       "5                  0         3         0         2019    98019  \n",
       "6                  0         3      2500         2019    98038  \n",
       "94                 0         5         0         2019    98006  \n",
       "105                0         2         0         2019    98001  \n",
       "144                0         3         0         2019    98019  \n",
       "\n",
       "[5 rows x 106 columns]"
      ]
     },
     "execution_count": 121,
     "metadata": {},
     "output_type": "execute_result"
    }
   ],
   "source": [
    "# checking work\n",
    "print(df.shape)\n",
    "df.head()"
   ]
  },
  {
   "cell_type": "markdown",
   "metadata": {},
   "source": [
    "### Correlation Matrix and Heatmap for Continuous Features"
   ]
  },
  {
   "cell_type": "code",
   "execution_count": 122,
   "metadata": {},
   "outputs": [],
   "source": [
    "# creating the correlation matrix\n",
    "corr = df[['SalePrice', 'SqFtLot', 'NbrLivingUnits', 'Stories',\\\n",
    "              'SqFt1stFloor', 'SqFtHalfFloor', 'SqFt2ndFloor',\\\n",
    "              'SqFtUpperFloor', 'SqFtUnfinFull', 'SqFtUnfinHalf',\\\n",
    "              'SqFtTotLiving','SqFtTotBasement','SqFtFinBasement',\\\n",
    "              'SqFtGarageBasement','SqFtGarageAttached','SqFtOpenPorch',\\\n",
    "              'SqFtEnclosedPorch','SqFtDeck','Bedrooms','BathHalfCount',\\\n",
    "              'Bath3qtrCount','BathFullCount','YrBuilt','YrRenovated',\\\n",
    "              'PcntComplete','PcntNetCondition','AddnlCost']].corr()"
   ]
  },
  {
   "cell_type": "code",
   "execution_count": 123,
   "metadata": {},
   "outputs": [
    {
     "data": {
      "image/png": "[encoded data removed]",
      "text/plain": [
       "<Figure size 792x648 with 2 Axes>"
      ]
     },
     "metadata": {
      "needs_background": "light"
     },
     "output_type": "display_data"
    }
   ],
   "source": [
    "mask = np.triu(np.ones_like(corr, dtype=np.bool))\n",
    "\n",
    "fig1, ax1 = plt.subplots(figsize=(11, 9))\n",
    "sns.heatmap(corr, mask=mask, cmap='viridis');"
   ]
  },
  {
   "cell_type": "markdown",
   "metadata": {},
   "source": [
    "### `SqFtTotLiving` Looks Most Correlated\n",
    "Confirming and printing a sorted list of correlation magnitudes"
   ]
  },
  {
   "cell_type": "code",
   "execution_count": 124,
   "metadata": {},
   "outputs": [
    {
     "data": {
      "text/plain": [
       "SqFtTotLiving         0.609454\n",
       "SqFt1stFloor          0.392227\n",
       "SqFt2ndFloor          0.370389\n",
       "BathFullCount         0.318210\n",
       "SqFtFinBasement       0.292734\n",
       "SqFtTotBasement       0.277310\n",
       "Stories               0.260426\n",
       "Bedrooms              0.253457\n",
       "SqFtOpenPorch         0.249485\n",
       "BathHalfCount         0.225802\n",
       "SqFtDeck              0.214524\n",
       "Bath3qtrCount         0.209274\n",
       "SqFtGarageAttached    0.156516\n",
       "YrRenovated           0.136423\n",
       "AddnlCost             0.097212\n",
       "SqFtHalfFloor         0.080449\n",
       "SqFtUpperFloor        0.076565\n",
       "SqFtLot               0.074803\n",
       "YrBuilt               0.051285\n",
       "SqFtGarageBasement    0.049425\n",
       "PcntComplete          0.039122\n",
       "NbrLivingUnits        0.009062\n",
       "PcntNetCondition      0.008201\n",
       "SqFtEnclosedPorch     0.008199\n",
       "SqFtUnfinFull         0.002262\n",
       "SqFtUnfinHalf         0.000483\n",
       "Name: SalePrice, dtype: float64"
      ]
     },
     "execution_count": 124,
     "metadata": {},
     "output_type": "execute_result"
    }
   ],
   "source": [
    "# creating a sorted list of correlations\n",
    "np.abs(corr.SalePrice).sort_values(ascending=False).iloc[1:]"
   ]
  },
  {
   "cell_type": "markdown",
   "metadata": {},
   "source": [
    "### Pair Plot For The Top Four Predictors"
   ]
  },
  {
   "cell_type": "code",
   "execution_count": 159,
   "metadata": {},
   "outputs": [],
   "source": [
    "# collecting the top five predictors and forming data frame\n",
    "li = ['SalePrice', 'SqFtTotLiving', 'SqFt1stFloor', 'SqFt2ndFloor',\\\n",
    "      'BathFullCount']\n",
    "\n",
    "four_most_correlated = df[li]"
   ]
  },
  {
   "cell_type": "code",
   "execution_count": 160,
   "metadata": {},
   "outputs": [
    {
     "data": {
      "text/html": [
       "<div>\n",
       "<style scoped>\n",
       "    .dataframe tbody tr th:only-of-type {\n",
       "        vertical-align: middle;\n",
       "    }\n",
       "\n",
       "    .dataframe tbody tr th {\n",
       "        vertical-align: top;\n",
       "    }\n",
       "\n",
       "    .dataframe thead th {\n",
       "        text-align: right;\n",
       "    }\n",
       "</style>\n",
       "<table border=\"1\" class=\"dataframe\">\n",
       "  <thead>\n",
       "    <tr style=\"text-align: right;\">\n",
       "      <th></th>\n",
       "      <th>SalePrice</th>\n",
       "      <th>SqFtTotLiving</th>\n",
       "      <th>SqFt1stFloor</th>\n",
       "      <th>SqFt2ndFloor</th>\n",
       "      <th>BathFullCount</th>\n",
       "    </tr>\n",
       "  </thead>\n",
       "  <tbody>\n",
       "    <tr>\n",
       "      <th>5</th>\n",
       "      <td>560000.0</td>\n",
       "      <td>1930</td>\n",
       "      <td>1930</td>\n",
       "      <td>0</td>\n",
       "      <td>2</td>\n",
       "    </tr>\n",
       "    <tr>\n",
       "      <th>6</th>\n",
       "      <td>435000.0</td>\n",
       "      <td>1975</td>\n",
       "      <td>1057</td>\n",
       "      <td>918</td>\n",
       "      <td>1</td>\n",
       "    </tr>\n",
       "    <tr>\n",
       "      <th>94</th>\n",
       "      <td>1255000.0</td>\n",
       "      <td>2680</td>\n",
       "      <td>1760</td>\n",
       "      <td>0</td>\n",
       "      <td>1</td>\n",
       "    </tr>\n",
       "    <tr>\n",
       "      <th>105</th>\n",
       "      <td>380000.0</td>\n",
       "      <td>1750</td>\n",
       "      <td>920</td>\n",
       "      <td>0</td>\n",
       "      <td>1</td>\n",
       "    </tr>\n",
       "    <tr>\n",
       "      <th>144</th>\n",
       "      <td>930000.0</td>\n",
       "      <td>2580</td>\n",
       "      <td>1780</td>\n",
       "      <td>0</td>\n",
       "      <td>2</td>\n",
       "    </tr>\n",
       "  </tbody>\n",
       "</table>\n",
       "</div>"
      ],
      "text/plain": [
       "     SalePrice  SqFtTotLiving  SqFt1stFloor  SqFt2ndFloor  BathFullCount\n",
       "5     560000.0           1930          1930             0              2\n",
       "6     435000.0           1975          1057           918              1\n",
       "94   1255000.0           2680          1760             0              1\n",
       "105   380000.0           1750           920             0              1\n",
       "144   930000.0           2580          1780             0              2"
      ]
     },
     "execution_count": 160,
     "metadata": {},
     "output_type": "execute_result"
    }
   ],
   "source": [
    "four_most_correlated.head()"
   ]
  },
  {
   "cell_type": "code",
   "execution_count": 161,
   "metadata": {},
   "outputs": [
    {
     "data": {
      "image/png": "[encoded data removed]",
      "text/plain": [
       "<Figure size 900x900 with 30 Axes>"
      ]
     },
     "metadata": {
      "needs_background": "light"
     },
     "output_type": "display_data"
    }
   ],
   "source": [
    "# printing the pairplot\n",
    "sns.pairplot(four_most_correlated);"
   ]
  },
  {
   "cell_type": "markdown",
   "metadata": {},
   "source": [
    "# First Simple Model\n",
    "Creating a baseline model using `SqFtTotLiving` as the predictor. Will be using alpha = .05 for all statistical tests performed throughout the modeling process."
   ]
  },
  {
   "cell_type": "code",
   "execution_count": 128,
   "metadata": {
    "ExecuteTime": {
     "end_time": "2021-02-11T23:24:32.276111Z",
     "start_time": "2021-02-11T23:24:32.270540Z"
    }
   },
   "outputs": [],
   "source": [
    "fsm_df = df[['SalePrice', 'SqFtTotLiving']].copy()"
   ]
  },
  {
   "cell_type": "code",
   "execution_count": 129,
   "metadata": {
    "ExecuteTime": {
     "end_time": "2021-02-11T23:24:56.925524Z",
     "start_time": "2021-02-11T23:24:56.880201Z"
    }
   },
   "outputs": [],
   "source": [
    "fsm = ols(formula=\"SalePrice ~ SqFtTotLiving\", data=fsm_df)\n",
    "fsm_results = fsm.fit()"
   ]
  },
  {
   "cell_type": "code",
   "execution_count": 130,
   "metadata": {
    "ExecuteTime": {
     "end_time": "2021-02-11T23:25:01.232574Z",
     "start_time": "2021-02-11T23:25:01.213350Z"
    }
   },
   "outputs": [
    {
     "data": {
      "text/html": [
       "<table class=\"simpletable\">\n",
       "<caption>OLS Regression Results</caption>\n",
       "<tr>\n",
       "  <th>Dep. Variable:</th>        <td>SalePrice</td>    <th>  R-squared:         </th>  <td>   0.371</td>  \n",
       "</tr>\n",
       "<tr>\n",
       "  <th>Model:</th>                   <td>OLS</td>       <th>  Adj. R-squared:    </th>  <td>   0.371</td>  \n",
       "</tr>\n",
       "<tr>\n",
       "  <th>Method:</th>             <td>Least Squares</td>  <th>  F-statistic:       </th>  <td>   9644.</td>  \n",
       "</tr>\n",
       "<tr>\n",
       "  <th>Date:</th>             <td>Fri, 26 Feb 2021</td> <th>  Prob (F-statistic):</th>   <td>  0.00</td>   \n",
       "</tr>\n",
       "<tr>\n",
       "  <th>Time:</th>                 <td>21:40:28</td>     <th>  Log-Likelihood:    </th> <td>-2.3609e+05</td>\n",
       "</tr>\n",
       "<tr>\n",
       "  <th>No. Observations:</th>      <td> 16323</td>      <th>  AIC:               </th>  <td>4.722e+05</td> \n",
       "</tr>\n",
       "<tr>\n",
       "  <th>Df Residuals:</th>          <td> 16321</td>      <th>  BIC:               </th>  <td>4.722e+05</td> \n",
       "</tr>\n",
       "<tr>\n",
       "  <th>Df Model:</th>              <td>     1</td>      <th>                     </th>      <td> </td>     \n",
       "</tr>\n",
       "<tr>\n",
       "  <th>Covariance Type:</th>      <td>nonrobust</td>    <th>                     </th>      <td> </td>     \n",
       "</tr>\n",
       "</table>\n",
       "<table class=\"simpletable\">\n",
       "<tr>\n",
       "        <td></td>           <th>coef</th>     <th>std err</th>      <th>t</th>      <th>P>|t|</th>  <th>[0.025</th>    <th>0.975]</th>  \n",
       "</tr>\n",
       "<tr>\n",
       "  <th>Intercept</th>     <td>-1.239e+04</td> <td> 8798.112</td> <td>   -1.408</td> <td> 0.159</td> <td>-2.96e+04</td> <td> 4857.279</td>\n",
       "</tr>\n",
       "<tr>\n",
       "  <th>SqFtTotLiving</th> <td>  378.4219</td> <td>    3.853</td> <td>   98.206</td> <td> 0.000</td> <td>  370.869</td> <td>  385.975</td>\n",
       "</tr>\n",
       "</table>\n",
       "<table class=\"simpletable\">\n",
       "<tr>\n",
       "  <th>Omnibus:</th>       <td>21907.178</td> <th>  Durbin-Watson:     </th>   <td>   1.949</td>  \n",
       "</tr>\n",
       "<tr>\n",
       "  <th>Prob(Omnibus):</th>  <td> 0.000</td>   <th>  Jarque-Bera (JB):  </th> <td>13486307.854</td>\n",
       "</tr>\n",
       "<tr>\n",
       "  <th>Skew:</th>           <td> 7.274</td>   <th>  Prob(JB):          </th>   <td>    0.00</td>  \n",
       "</tr>\n",
       "<tr>\n",
       "  <th>Kurtosis:</th>       <td>143.063</td>  <th>  Cond. No.          </th>   <td>5.55e+03</td>  \n",
       "</tr>\n",
       "</table><br/><br/>Notes:<br/>[1] Standard Errors assume that the covariance matrix of the errors is correctly specified.<br/>[2] The condition number is large, 5.55e+03. This might indicate that there are<br/>strong multicollinearity or other numerical problems."
      ],
      "text/plain": [
       "<class 'statsmodels.iolib.summary.Summary'>\n",
       "\"\"\"\n",
       "                            OLS Regression Results                            \n",
       "==============================================================================\n",
       "Dep. Variable:              SalePrice   R-squared:                       0.371\n",
       "Model:                            OLS   Adj. R-squared:                  0.371\n",
       "Method:                 Least Squares   F-statistic:                     9644.\n",
       "Date:                Fri, 26 Feb 2021   Prob (F-statistic):               0.00\n",
       "Time:                        21:40:28   Log-Likelihood:            -2.3609e+05\n",
       "No. Observations:               16323   AIC:                         4.722e+05\n",
       "Df Residuals:                   16321   BIC:                         4.722e+05\n",
       "Df Model:                           1                                         \n",
       "Covariance Type:            nonrobust                                         \n",
       "=================================================================================\n",
       "                    coef    std err          t      P>|t|      [0.025      0.975]\n",
       "---------------------------------------------------------------------------------\n",
       "Intercept     -1.239e+04   8798.112     -1.408      0.159   -2.96e+04    4857.279\n",
       "SqFtTotLiving   378.4219      3.853     98.206      0.000     370.869     385.975\n",
       "==============================================================================\n",
       "Omnibus:                    21907.178   Durbin-Watson:                   1.949\n",
       "Prob(Omnibus):                  0.000   Jarque-Bera (JB):         13486307.854\n",
       "Skew:                           7.274   Prob(JB):                         0.00\n",
       "Kurtosis:                     143.063   Cond. No.                     5.55e+03\n",
       "==============================================================================\n",
       "\n",
       "Notes:\n",
       "[1] Standard Errors assume that the covariance matrix of the errors is correctly specified.\n",
       "[2] The condition number is large, 5.55e+03. This might indicate that there are\n",
       "strong multicollinearity or other numerical problems.\n",
       "\"\"\""
      ]
     },
     "execution_count": 130,
     "metadata": {},
     "output_type": "execute_result"
    }
   ],
   "source": [
    "fsm_results.summary()"
   ]
  },
  {
   "cell_type": "markdown",
   "metadata": {},
   "source": [
    "### Linearity Check: Rainbow Test\n",
    "Ho: The model is linearly predicted by the features.\n",
    "\n",
    "Ha: The Model is not linearly predicted by the features."
   ]
  },
  {
   "cell_type": "code",
   "execution_count": 131,
   "metadata": {},
   "outputs": [
    {
     "name": "stdout",
     "output_type": "stream",
     "text": [
      "Rainbow statistic: 0.859061271344214\n",
      "Rainbow p-value: 0.999999999996513\n"
     ]
    }
   ],
   "source": [
    "rainbow_statistic, rainbow_p_value = linear_rainbow(fsm_results)\n",
    "print(\"Rainbow statistic:\", rainbow_statistic)\n",
    "print(\"Rainbow p-value:\", rainbow_p_value)"
   ]
  },
  {
   "cell_type": "markdown",
   "metadata": {},
   "source": [
    "#### Results\n",
    "\n",
    "Since the p-value was greater than .05, we fail to reject the null hypothesis and conclude that the model is linearly predicted by the feauture. "
   ]
  },
  {
   "cell_type": "markdown",
   "metadata": {},
   "source": [
    "### Normality of Residuals Check: Jarque-Bera\n",
    "Ho: The redisuals are normally distributed.\n",
    "\n",
    "Ha: The residuals are not normally distributed."
   ]
  },
  {
   "cell_type": "markdown",
   "metadata": {},
   "source": [
    "#### Results\n",
    "The Jarque-Bera test p-value of 0.00 indicates that the residuals are not normally distributed and that the model violates an assumption of linear regression."
   ]
  },
  {
   "cell_type": "markdown",
   "metadata": {},
   "source": [
    "### Homoscadasticity Check: Breusch-Pagan Test\n",
    "Ho: The variance of the target is homogeneous across all values of the predictors.\n",
    "\n",
    "Ha: The variance of the target is not homogeneous across all values of the preditors."
   ]
  },
  {
   "cell_type": "markdown",
   "metadata": {},
   "source": [
    "### Visual Inspection of the Residuals"
   ]
  },
  {
   "cell_type": "code",
   "execution_count": 132,
   "metadata": {},
   "outputs": [],
   "source": [
    "y = fsm_df['SalePrice']\n",
    "y_hat = fsm_results.predict()"
   ]
  },
  {
   "cell_type": "code",
   "execution_count": 133,
   "metadata": {},
   "outputs": [
    {
     "data": {
      "image/png": "[encoded data removed]",
      "text/plain": [
       "<Figure size 432x288 with 1 Axes>"
      ]
     },
     "metadata": {
      "needs_background": "light"
     },
     "output_type": "display_data"
    }
   ],
   "source": [
    "fig2, ax2 = plt.subplots()\n",
    "ax2.set(xlabel='Predicted Sale Price',\n",
    "        ylabel='Residuals (Actual Sale Price - Predicted)')\n",
    "ax2.scatter(x=y_hat, y=y-y_hat, color=\"blue\", alpha=0.2);"
   ]
  },
  {
   "cell_type": "code",
   "execution_count": 134,
   "metadata": {},
   "outputs": [
    {
     "name": "stdout",
     "output_type": "stream",
     "text": [
      "Lagrange Multiplier p-value: nan\n",
      "F-statistic p-value: 0.0\n"
     ]
    }
   ],
   "source": [
    "lm, lm_p_value, fvalue, f_p_value = het_breuschpagan(y-y_hat, fsm_df[['SalePrice']])\n",
    "print('Lagrange Multiplier p-value:', lm_p_value)\n",
    "print('F-statistic p-value:', f_p_value)"
   ]
  },
  {
   "cell_type": "markdown",
   "metadata": {},
   "source": [
    "#### Results\n",
    "The p-value of 0 indicates that we must reject the null hypothesis and conclude that the variance of the taget is not homogeneous across values of the predictor."
   ]
  },
  {
   "cell_type": "markdown",
   "metadata": {},
   "source": [
    "### Independence Check:  Variance Inflation Factor\n",
    "\n",
    "Skipping this for now, the model only has one predictor, so it is by independent by definition."
   ]
  },
  {
   "cell_type": "markdown",
   "metadata": {},
   "source": [
    "### Inspecting the Target and Predictor More Closely\n",
    "Checking the basic stats, histograms, scatterplot for the target and predictor."
   ]
  },
  {
   "cell_type": "code",
   "execution_count": 135,
   "metadata": {},
   "outputs": [
    {
     "data": {
      "text/plain": [
       "count    1.632300e+04\n",
       "mean     7.750344e+05\n",
       "std      5.836287e+05\n",
       "min      1.000000e+01\n",
       "25%      4.570000e+05\n",
       "50%      6.458650e+05\n",
       "75%      8.850000e+05\n",
       "max      1.605000e+07\n",
       "Name: SalePrice, dtype: float64"
      ]
     },
     "execution_count": 135,
     "metadata": {},
     "output_type": "execute_result"
    }
   ],
   "source": [
    "df['SalePrice'].describe()"
   ]
  },
  {
   "cell_type": "code",
   "execution_count": 136,
   "metadata": {},
   "outputs": [
    {
     "data": {
      "text/plain": [
       "count    16323.000000\n",
       "mean      2080.805428\n",
       "std        939.941911\n",
       "min        116.000000\n",
       "25%       1420.000000\n",
       "50%       1920.000000\n",
       "75%       2530.000000\n",
       "max      10910.000000\n",
       "Name: SqFtTotLiving, dtype: float64"
      ]
     },
     "execution_count": 136,
     "metadata": {},
     "output_type": "execute_result"
    }
   ],
   "source": [
    "df['SqFtTotLiving'].describe()"
   ]
  },
  {
   "cell_type": "code",
   "execution_count": 137,
   "metadata": {},
   "outputs": [
    {
     "data": {
      "image/png": "[encoded data removed]",
      "text/plain": [
       "<Figure size 432x288 with 2 Axes>"
      ]
     },
     "metadata": {
      "needs_background": "light"
     },
     "output_type": "display_data"
    }
   ],
   "source": [
    "fsm_df.hist(bins=20);"
   ]
  },
  {
   "cell_type": "code",
   "execution_count": 138,
   "metadata": {},
   "outputs": [
    {
     "data": {
      "image/png": "[encoded data removed]",
      "text/plain": [
       "<Figure size 432x288 with 1 Axes>"
      ]
     },
     "metadata": {
      "needs_background": "light"
     },
     "output_type": "display_data"
    }
   ],
   "source": [
    "fsm_df.plot.scatter(x='SqFtTotLiving', y='SalePrice');"
   ]
  },
  {
   "cell_type": "code",
   "execution_count": null,
   "metadata": {},
   "outputs": [],
   "source": []
  },
  {
   "cell_type": "code",
   "execution_count": null,
   "metadata": {},
   "outputs": [],
   "source": []
  },
  {
   "cell_type": "code",
   "execution_count": null,
   "metadata": {},
   "outputs": [],
   "source": []
  },
  {
   "cell_type": "code",
   "execution_count": null,
   "metadata": {},
   "outputs": [],
   "source": []
  },
  {
   "cell_type": "code",
   "execution_count": null,
   "metadata": {},
   "outputs": [],
   "source": []
  },
  {
   "cell_type": "code",
   "execution_count": null,
   "metadata": {},
   "outputs": [],
   "source": []
  },
  {
   "cell_type": "code",
   "execution_count": null,
   "metadata": {},
   "outputs": [],
   "source": []
  },
  {
   "cell_type": "code",
   "execution_count": null,
   "metadata": {},
   "outputs": [],
   "source": []
  },
  {
   "cell_type": "code",
   "execution_count": null,
   "metadata": {},
   "outputs": [],
   "source": []
  },
  {
   "cell_type": "code",
   "execution_count": null,
   "metadata": {},
   "outputs": [],
   "source": []
  },
  {
   "cell_type": "code",
   "execution_count": null,
   "metadata": {},
   "outputs": [],
   "source": []
  },
  {
   "cell_type": "code",
   "execution_count": null,
   "metadata": {},
   "outputs": [],
   "source": []
  },
  {
   "cell_type": "code",
   "execution_count": null,
   "metadata": {},
   "outputs": [],
   "source": []
  },
  {
   "cell_type": "code",
   "execution_count": null,
   "metadata": {},
   "outputs": [],
   "source": []
  },
  {
   "cell_type": "code",
   "execution_count": null,
   "metadata": {},
   "outputs": [],
   "source": []
  },
  {
   "cell_type": "code",
   "execution_count": null,
   "metadata": {},
   "outputs": [],
   "source": []
  },
  {
   "cell_type": "markdown",
   "metadata": {},
   "source": [
    "## Isolating Target and Initial Predictors"
   ]
  },
  {
   "cell_type": "markdown",
   "metadata": {},
   "source": [
    "### HeatSystem Dataframe\n",
    "\n",
    "Isolating ```'SalePrice'``` target and ```'HeatSystem'``` predictor in Checking first the few rows, shape, nulls, and unique values."
   ]
  },
  {
   "cell_type": "code",
   "execution_count": 139,
   "metadata": {},
   "outputs": [
    {
     "data": {
      "text/html": [
       "<div>\n",
       "<style scoped>\n",
       "    .dataframe tbody tr th:only-of-type {\n",
       "        vertical-align: middle;\n",
       "    }\n",
       "\n",
       "    .dataframe tbody tr th {\n",
       "        vertical-align: top;\n",
       "    }\n",
       "\n",
       "    .dataframe thead th {\n",
       "        text-align: right;\n",
       "    }\n",
       "</style>\n",
       "<table border=\"1\" class=\"dataframe\">\n",
       "  <thead>\n",
       "    <tr style=\"text-align: right;\">\n",
       "      <th></th>\n",
       "      <th>SalePrice</th>\n",
       "      <th>HeatSystem</th>\n",
       "    </tr>\n",
       "  </thead>\n",
       "  <tbody>\n",
       "    <tr>\n",
       "      <th>5</th>\n",
       "      <td>560000.0</td>\n",
       "      <td>5</td>\n",
       "    </tr>\n",
       "    <tr>\n",
       "      <th>6</th>\n",
       "      <td>435000.0</td>\n",
       "      <td>5</td>\n",
       "    </tr>\n",
       "    <tr>\n",
       "      <th>94</th>\n",
       "      <td>1255000.0</td>\n",
       "      <td>5</td>\n",
       "    </tr>\n",
       "  </tbody>\n",
       "</table>\n",
       "</div>"
      ],
      "text/plain": [
       "    SalePrice HeatSystem\n",
       "5    560000.0          5\n",
       "6    435000.0          5\n",
       "94  1255000.0          5"
      ]
     },
     "execution_count": 139,
     "metadata": {},
     "output_type": "execute_result"
    }
   ],
   "source": [
    "# Isolating SalePrice target and HeatSystem predictor into a data frame. \n",
    "heat_df = df[['SalePrice','HeatSystem']].copy()\n",
    "heat_df.head(3)"
   ]
  },
  {
   "cell_type": "code",
   "execution_count": 140,
   "metadata": {},
   "outputs": [
    {
     "data": {
      "text/plain": [
       "(16323, 2)"
      ]
     },
     "execution_count": 140,
     "metadata": {},
     "output_type": "execute_result"
    }
   ],
   "source": [
    "# checking shape\n",
    "heat_df.shape"
   ]
  },
  {
   "cell_type": "code",
   "execution_count": 141,
   "metadata": {},
   "outputs": [
    {
     "data": {
      "text/plain": [
       "SalePrice     0\n",
       "HeatSystem    0\n",
       "dtype: int64"
      ]
     },
     "execution_count": 141,
     "metadata": {},
     "output_type": "execute_result"
    }
   ],
   "source": [
    "# checking NaNs\n",
    "heat_df.isna().sum()"
   ]
  },
  {
   "cell_type": "markdown",
   "metadata": {},
   "source": [
    "#### Prepping for Model Data Frame\n",
    "\n",
    "Creating a dictionary of the lookup code descriptions, and using it to make a list of values for use in a new column.  Will use this column in a one-hot-encoding procedure for more descriptive column names in the model dataframe."
   ]
  },
  {
   "cell_type": "code",
   "execution_count": 142,
   "metadata": {},
   "outputs": [
    {
     "name": "stdout",
     "output_type": "stream",
     "text": [
      "['5' '4' '1' '7' '3' '6' '2' '8' '0']\n"
     ]
    },
    {
     "data": {
      "text/plain": [
       "9"
      ]
     },
     "execution_count": 142,
     "metadata": {},
     "output_type": "execute_result"
    }
   ],
   "source": [
    "# checking unique values\n",
    "print(heat_df.HeatSystem.unique())\n",
    "len(heat_df.HeatSystem.unique())"
   ]
  },
  {
   "cell_type": "markdown",
   "metadata": {},
   "source": [
    "#### Grabbing Lookup Codes"
   ]
  },
  {
   "cell_type": "code",
   "execution_count": 143,
   "metadata": {},
   "outputs": [
    {
     "data": {
      "text/html": [
       "<div>\n",
       "<style scoped>\n",
       "    .dataframe tbody tr th:only-of-type {\n",
       "        vertical-align: middle;\n",
       "    }\n",
       "\n",
       "    .dataframe tbody tr th {\n",
       "        vertical-align: top;\n",
       "    }\n",
       "\n",
       "    .dataframe thead th {\n",
       "        text-align: right;\n",
       "    }\n",
       "</style>\n",
       "<table border=\"1\" class=\"dataframe\">\n",
       "  <thead>\n",
       "    <tr style=\"text-align: right;\">\n",
       "      <th></th>\n",
       "      <th>LUType</th>\n",
       "      <th>LUItem</th>\n",
       "      <th>LUDescription</th>\n",
       "    </tr>\n",
       "  </thead>\n",
       "  <tbody>\n",
       "    <tr>\n",
       "      <th>243</th>\n",
       "      <td>108</td>\n",
       "      <td>1</td>\n",
       "      <td>Floor-Wall</td>\n",
       "    </tr>\n",
       "    <tr>\n",
       "      <th>244</th>\n",
       "      <td>108</td>\n",
       "      <td>2</td>\n",
       "      <td>Gravity</td>\n",
       "    </tr>\n",
       "    <tr>\n",
       "      <th>245</th>\n",
       "      <td>108</td>\n",
       "      <td>3</td>\n",
       "      <td>Radiant</td>\n",
       "    </tr>\n",
       "    <tr>\n",
       "      <th>246</th>\n",
       "      <td>108</td>\n",
       "      <td>4</td>\n",
       "      <td>Elec BB</td>\n",
       "    </tr>\n",
       "    <tr>\n",
       "      <th>247</th>\n",
       "      <td>108</td>\n",
       "      <td>5</td>\n",
       "      <td>Forced Air</td>\n",
       "    </tr>\n",
       "    <tr>\n",
       "      <th>248</th>\n",
       "      <td>108</td>\n",
       "      <td>6</td>\n",
       "      <td>Hot Water</td>\n",
       "    </tr>\n",
       "    <tr>\n",
       "      <th>249</th>\n",
       "      <td>108</td>\n",
       "      <td>7</td>\n",
       "      <td>Heat Pump</td>\n",
       "    </tr>\n",
       "    <tr>\n",
       "      <th>250</th>\n",
       "      <td>108</td>\n",
       "      <td>8</td>\n",
       "      <td>Other</td>\n",
       "    </tr>\n",
       "  </tbody>\n",
       "</table>\n",
       "</div>"
      ],
      "text/plain": [
       "    LUType LUItem LUDescription\n",
       "243    108      1    Floor-Wall\n",
       "244    108      2       Gravity\n",
       "245    108      3       Radiant\n",
       "246    108      4       Elec BB\n",
       "247    108      5    Forced Air\n",
       "248    108      6     Hot Water\n",
       "249    108      7     Heat Pump\n",
       "250    108      8         Other"
      ]
     },
     "execution_count": 143,
     "metadata": {},
     "output_type": "execute_result"
    }
   ],
   "source": [
    "# looking up HeatSystem codes \n",
    "lu_df = fn.lookup(look, 108)\n",
    "lu_df"
   ]
  },
  {
   "cell_type": "markdown",
   "metadata": {},
   "source": [
    "#### Making & Mapping Dictionary of Lookup Codes & Descriptions\n",
    "Zipping lists of keys and values for dictionary from lookup data frame columns. Creating dictionary and mapping it to the `heat_df` data frame."
   ]
  },
  {
   "cell_type": "code",
   "execution_count": 144,
   "metadata": {},
   "outputs": [],
   "source": [
    "# creating heatnames dictionary\n",
    "heatnames = dict(zip(lu_df.LUItem,lu_df.LUDescription))"
   ]
  },
  {
   "cell_type": "code",
   "execution_count": 145,
   "metadata": {},
   "outputs": [
    {
     "data": {
      "text/plain": [
       "5         Forced Air\n",
       "6         Forced Air\n",
       "94        Forced Air\n",
       "105          Elec BB\n",
       "144       Forced Air\n",
       "             ...    \n",
       "251274       Elec BB\n",
       "251275    Forced Air\n",
       "251276    Forced Air\n",
       "251278     Heat Pump\n",
       "251279           NaN\n",
       "Name: HeatSystem, Length: 16323, dtype: object"
      ]
     },
     "execution_count": 145,
     "metadata": {},
     "output_type": "execute_result"
    }
   ],
   "source": [
    "heat_df.HeatSystem.map(heatnames)"
   ]
  },
  {
   "cell_type": "markdown",
   "metadata": {},
   "source": [
    "#### Making `HeatNames` Column & Dropping `HeatSystems` From Data Frame"
   ]
  },
  {
   "cell_type": "code",
   "execution_count": 146,
   "metadata": {},
   "outputs": [],
   "source": [
    "heat_df['HeatNames'] = heat_df.HeatSystem.map(heatnames)"
   ]
  },
  {
   "cell_type": "code",
   "execution_count": 147,
   "metadata": {},
   "outputs": [],
   "source": [
    "fn.dropper(heat_df, 'HeatSystem', True)"
   ]
  },
  {
   "cell_type": "markdown",
   "metadata": {},
   "source": [
    "#### Checking for `NaN` values and replacing with `'NA'` strings.\n",
    "Checking for `NaN` types. Since `NaN` values mean there was no lookup code available, replacing `NaN` values with `'NA'` strings."
   ]
  },
  {
   "cell_type": "code",
   "execution_count": 148,
   "metadata": {},
   "outputs": [
    {
     "data": {
      "text/plain": [
       "19"
      ]
     },
     "execution_count": 148,
     "metadata": {},
     "output_type": "execute_result"
    }
   ],
   "source": [
    "# checking for NaNs\n",
    "heat_df['HeatNames'].isna().sum()"
   ]
  },
  {
   "cell_type": "code",
   "execution_count": 149,
   "metadata": {},
   "outputs": [],
   "source": [
    "# filling NaNs with strings\n",
    "heat_df.fillna('NA', inplace=True)"
   ]
  },
  {
   "cell_type": "code",
   "execution_count": 150,
   "metadata": {},
   "outputs": [
    {
     "data": {
      "text/plain": [
       "SalePrice    0\n",
       "HeatNames    0\n",
       "dtype: int64"
      ]
     },
     "execution_count": 150,
     "metadata": {},
     "output_type": "execute_result"
    }
   ],
   "source": [
    "# checking work\n",
    "heat_df.isna().sum()"
   ]
  },
  {
   "cell_type": "markdown",
   "metadata": {},
   "source": [
    "#### One-Hot Encoding the HeatSystem Predictor\n",
    "\n",
    "Instantiating the encoder, fitting the encoder to `heat_df[['HeatNames']]` , and transforming the data. Creating a new `heat_ohe` data frame, dropping the `'HeatNames'` column from ` heat_df2`, and concatenating it will `heat_ohe` to form a new `model_df` data frame."
   ]
  },
  {
   "cell_type": "code",
   "execution_count": 151,
   "metadata": {},
   "outputs": [],
   "source": [
    "# instantiating, fitting and transforming\n",
    "ohcoder = OneHotEncoder(drop='first')\n",
    "\n",
    "ohcoder.fit(heat_df[['HeatNames']])\n",
    "\n",
    "transformed = ohcoder.transform(heat_df[['HeatNames']])"
   ]
  },
  {
   "cell_type": "code",
   "execution_count": 152,
   "metadata": {},
   "outputs": [
    {
     "data": {
      "text/html": [
       "<div>\n",
       "<style scoped>\n",
       "    .dataframe tbody tr th:only-of-type {\n",
       "        vertical-align: middle;\n",
       "    }\n",
       "\n",
       "    .dataframe tbody tr th {\n",
       "        vertical-align: top;\n",
       "    }\n",
       "\n",
       "    .dataframe thead th {\n",
       "        text-align: right;\n",
       "    }\n",
       "</style>\n",
       "<table border=\"1\" class=\"dataframe\">\n",
       "  <thead>\n",
       "    <tr style=\"text-align: right;\">\n",
       "      <th></th>\n",
       "      <th>x0_Floor-Wall</th>\n",
       "      <th>x0_Forced Air</th>\n",
       "      <th>x0_Gravity</th>\n",
       "      <th>x0_Heat Pump</th>\n",
       "      <th>x0_Hot Water</th>\n",
       "      <th>x0_NA</th>\n",
       "      <th>x0_Other</th>\n",
       "      <th>x0_Radiant</th>\n",
       "    </tr>\n",
       "  </thead>\n",
       "  <tbody>\n",
       "    <tr>\n",
       "      <th>0</th>\n",
       "      <td>0.0</td>\n",
       "      <td>1.0</td>\n",
       "      <td>0.0</td>\n",
       "      <td>0.0</td>\n",
       "      <td>0.0</td>\n",
       "      <td>0.0</td>\n",
       "      <td>0.0</td>\n",
       "      <td>0.0</td>\n",
       "    </tr>\n",
       "    <tr>\n",
       "      <th>1</th>\n",
       "      <td>0.0</td>\n",
       "      <td>1.0</td>\n",
       "      <td>0.0</td>\n",
       "      <td>0.0</td>\n",
       "      <td>0.0</td>\n",
       "      <td>0.0</td>\n",
       "      <td>0.0</td>\n",
       "      <td>0.0</td>\n",
       "    </tr>\n",
       "    <tr>\n",
       "      <th>2</th>\n",
       "      <td>0.0</td>\n",
       "      <td>1.0</td>\n",
       "      <td>0.0</td>\n",
       "      <td>0.0</td>\n",
       "      <td>0.0</td>\n",
       "      <td>0.0</td>\n",
       "      <td>0.0</td>\n",
       "      <td>0.0</td>\n",
       "    </tr>\n",
       "  </tbody>\n",
       "</table>\n",
       "</div>"
      ],
      "text/plain": [
       "   x0_Floor-Wall  x0_Forced Air  x0_Gravity  x0_Heat Pump  x0_Hot Water  \\\n",
       "0            0.0            1.0         0.0           0.0           0.0   \n",
       "1            0.0            1.0         0.0           0.0           0.0   \n",
       "2            0.0            1.0         0.0           0.0           0.0   \n",
       "\n",
       "   x0_NA  x0_Other  x0_Radiant  \n",
       "0    0.0       0.0         0.0  \n",
       "1    0.0       0.0         0.0  \n",
       "2    0.0       0.0         0.0  "
      ]
     },
     "execution_count": 152,
     "metadata": {},
     "output_type": "execute_result"
    }
   ],
   "source": [
    "# creating heat_ohe data frame and checking the first few columns\n",
    "heat_ohe = pd.DataFrame(transformed.todense(),\\\n",
    "                       columns = ohcoder.get_feature_names())\n",
    "heat_ohe.head(3)"
   ]
  },
  {
   "cell_type": "code",
   "execution_count": 153,
   "metadata": {},
   "outputs": [],
   "source": [
    "# dropping the 'HeatNames' column from heat_df\n",
    "heat_dropped = heat_df.drop('HeatNames', axis=1)"
   ]
  },
  {
   "cell_type": "markdown",
   "metadata": {},
   "source": [
    "#### Creating `model_df` Data Frame"
   ]
  },
  {
   "cell_type": "code",
   "execution_count": 154,
   "metadata": {},
   "outputs": [
    {
     "data": {
      "text/html": [
       "<div>\n",
       "<style scoped>\n",
       "    .dataframe tbody tr th:only-of-type {\n",
       "        vertical-align: middle;\n",
       "    }\n",
       "\n",
       "    .dataframe tbody tr th {\n",
       "        vertical-align: top;\n",
       "    }\n",
       "\n",
       "    .dataframe thead th {\n",
       "        text-align: right;\n",
       "    }\n",
       "</style>\n",
       "<table border=\"1\" class=\"dataframe\">\n",
       "  <thead>\n",
       "    <tr style=\"text-align: right;\">\n",
       "      <th></th>\n",
       "      <th>SalePrice</th>\n",
       "      <th>x0_Floor-Wall</th>\n",
       "      <th>x0_Forced Air</th>\n",
       "      <th>x0_Gravity</th>\n",
       "      <th>x0_Heat Pump</th>\n",
       "      <th>x0_Hot Water</th>\n",
       "      <th>x0_NA</th>\n",
       "      <th>x0_Other</th>\n",
       "      <th>x0_Radiant</th>\n",
       "    </tr>\n",
       "  </thead>\n",
       "  <tbody>\n",
       "    <tr>\n",
       "      <th>0</th>\n",
       "      <td>NaN</td>\n",
       "      <td>0.0</td>\n",
       "      <td>1.0</td>\n",
       "      <td>0.0</td>\n",
       "      <td>0.0</td>\n",
       "      <td>0.0</td>\n",
       "      <td>0.0</td>\n",
       "      <td>0.0</td>\n",
       "      <td>0.0</td>\n",
       "    </tr>\n",
       "    <tr>\n",
       "      <th>1</th>\n",
       "      <td>NaN</td>\n",
       "      <td>0.0</td>\n",
       "      <td>1.0</td>\n",
       "      <td>0.0</td>\n",
       "      <td>0.0</td>\n",
       "      <td>0.0</td>\n",
       "      <td>0.0</td>\n",
       "      <td>0.0</td>\n",
       "      <td>0.0</td>\n",
       "    </tr>\n",
       "    <tr>\n",
       "      <th>2</th>\n",
       "      <td>NaN</td>\n",
       "      <td>0.0</td>\n",
       "      <td>1.0</td>\n",
       "      <td>0.0</td>\n",
       "      <td>0.0</td>\n",
       "      <td>0.0</td>\n",
       "      <td>0.0</td>\n",
       "      <td>0.0</td>\n",
       "      <td>0.0</td>\n",
       "    </tr>\n",
       "  </tbody>\n",
       "</table>\n",
       "</div>"
      ],
      "text/plain": [
       "   SalePrice  x0_Floor-Wall  x0_Forced Air  x0_Gravity  x0_Heat Pump  \\\n",
       "0        NaN            0.0            1.0         0.0           0.0   \n",
       "1        NaN            0.0            1.0         0.0           0.0   \n",
       "2        NaN            0.0            1.0         0.0           0.0   \n",
       "\n",
       "   x0_Hot Water  x0_NA  x0_Other  x0_Radiant  \n",
       "0           0.0    0.0       0.0         0.0  \n",
       "1           0.0    0.0       0.0         0.0  \n",
       "2           0.0    0.0       0.0         0.0  "
      ]
     },
     "execution_count": 154,
     "metadata": {},
     "output_type": "execute_result"
    }
   ],
   "source": [
    "# creating the model dataframe and checking first few rows\n",
    "model_df = pd.concat([heat_dropped, heat_ohe], axis=1)\n",
    "model_df.head(3)"
   ]
  },
  {
   "cell_type": "markdown",
   "metadata": {},
   "source": [
    "#### `model_df` Correlation Matrix and Heatmap"
   ]
  },
  {
   "cell_type": "code",
   "execution_count": 155,
   "metadata": {},
   "outputs": [
    {
     "data": {
      "text/plain": [
       "x0_Heat Pump     0.086496\n",
       "x0_Floor-Wall    0.029971\n",
       "x0_Forced Air    0.014015\n",
       "x0_NA            0.013631\n",
       "x0_Hot Water     0.010824\n",
       "x0_Gravity       0.003214\n",
       "x0_Radiant       0.001641\n",
       "x0_Other              NaN\n",
       "Name: SalePrice, dtype: float64"
      ]
     },
     "execution_count": 155,
     "metadata": {},
     "output_type": "execute_result"
    }
   ],
   "source": [
    "np.abs(model_df.corr().SalePrice).sort_values(ascending=False).iloc[1:]"
   ]
  },
  {
   "cell_type": "code",
   "execution_count": 156,
   "metadata": {},
   "outputs": [
    {
     "data": {
      "image/png": "[encoded data removed]",
      "text/plain": [
       "<Figure size 432x288 with 2 Axes>"
      ]
     },
     "metadata": {
      "needs_background": "light"
     },
     "output_type": "display_data"
    }
   ],
   "source": [
    "sns.heatmap(model_df.corr());\n",
    "\n",
    "# plt.savefig('plot.png', dpi=300, bbox_inches='tight')"
   ]
  },
  {
   "cell_type": "markdown",
   "metadata": {},
   "source": [
    "#### EnclosedPoarch Dataframe"
   ]
  },
  {
   "cell_type": "code",
   "execution_count": 157,
   "metadata": {},
   "outputs": [
    {
     "data": {
      "text/html": [
       "<div>\n",
       "<style scoped>\n",
       "    .dataframe tbody tr th:only-of-type {\n",
       "        vertical-align: middle;\n",
       "    }\n",
       "\n",
       "    .dataframe tbody tr th {\n",
       "        vertical-align: top;\n",
       "    }\n",
       "\n",
       "    .dataframe thead th {\n",
       "        text-align: right;\n",
       "    }\n",
       "</style>\n",
       "<table border=\"1\" class=\"dataframe\">\n",
       "  <thead>\n",
       "    <tr style=\"text-align: right;\">\n",
       "      <th></th>\n",
       "      <th>SqFtEnclosedPorch</th>\n",
       "    </tr>\n",
       "  </thead>\n",
       "  <tbody>\n",
       "    <tr>\n",
       "      <th>5</th>\n",
       "      <td>0</td>\n",
       "    </tr>\n",
       "    <tr>\n",
       "      <th>6</th>\n",
       "      <td>0</td>\n",
       "    </tr>\n",
       "    <tr>\n",
       "      <th>94</th>\n",
       "      <td>330</td>\n",
       "    </tr>\n",
       "    <tr>\n",
       "      <th>105</th>\n",
       "      <td>0</td>\n",
       "    </tr>\n",
       "    <tr>\n",
       "      <th>144</th>\n",
       "      <td>0</td>\n",
       "    </tr>\n",
       "  </tbody>\n",
       "</table>\n",
       "</div>"
      ],
      "text/plain": [
       "     SqFtEnclosedPorch\n",
       "5                    0\n",
       "6                    0\n",
       "94                 330\n",
       "105                  0\n",
       "144                  0"
      ]
     },
     "execution_count": 157,
     "metadata": {},
     "output_type": "execute_result"
    }
   ],
   "source": [
    "# isolating SalePrice target and SqFtEnclosedPorch predictor\n",
    "porch_df = df[['SqFtEnclosedPorch']]\n",
    "porch_df.head()"
   ]
  },
  {
   "cell_type": "code",
   "execution_count": null,
   "metadata": {},
   "outputs": [],
   "source": []
  }
 ],
 "metadata": {
  "kernelspec": {
   "display_name": "Python 3",
   "language": "python",
   "name": "python3"
  },
  "language_info": {
   "codemirror_mode": {
    "name": "ipython",
    "version": 3
   },
   "file_extension": ".py",
   "mimetype": "text/x-python",
   "name": "python",
   "nbconvert_exporter": "python",
   "pygments_lexer": "ipython3",
   "version": "3.9.1"
  },
  "toc-autonumbering": false,
  "toc-showcode": false,
  "toc-showmarkdowntxt": false
 },
 "nbformat": 4,
 "nbformat_minor": 4
}

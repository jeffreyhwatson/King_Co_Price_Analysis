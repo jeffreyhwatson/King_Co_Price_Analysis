{
 "cells": [
  {
   "cell_type": "markdown",
   "metadata": {},
   "source": [
    "# King County Project"
   ]
  },
  {
   "cell_type": "markdown",
   "metadata": {},
   "source": [
    "## Business Problem"
   ]
  },
  {
   "cell_type": "markdown",
   "metadata": {},
   "source": [
    "A client in King County, WA wants to advise homeowners on **home improvement projects** that will **add to the sale value of their homes**.\n",
    "\n",
    "**This advice should be based on data from the most recent full calendar year, 2019**."
   ]
  },
  {
   "cell_type": "markdown",
   "metadata": {},
   "source": [
    "### Core questions:\n",
    "Enclosing a porch will increase the sale price of a home.\n",
    "\n",
    "Converting a garage to a bedroom is a good way to increase the sale price of a home.\n",
    "\n",
    "Upgrading to a forced-air heating system will increase the sale price of a home."
   ]
  },
  {
   "cell_type": "markdown",
   "metadata": {},
   "source": [
    "### Core Goals:\n",
    "Create model\n",
    "\n",
    "Interpret results\n",
    "\n",
    "Make recomendations"
   ]
  },
  {
   "cell_type": "markdown",
   "metadata": {},
   "source": [
    "## Schedule"
   ]
  },
  {
   "cell_type": "markdown",
   "metadata": {},
   "source": [
    "### Friday 2/19: \n",
    "#### Business Understanding & Preliminary EDA\n",
    "* Repo Creation\n",
    "* Data Importation\n",
    "* Database Creation\n",
    "* Created initial data frame."
   ]
  },
  {
   "cell_type": "markdown",
   "metadata": {},
   "source": [
    "### Saturday 2/20: \n",
    "#### Data Understanding & EDA\n",
    "* Added ```.gitignore``` file in exploratory directory to exclude ```KingDB.db``` file.\n",
    "* Created ```lookup()``` function.\n",
    "* Created 2019 data frame.\n",
    "* Created ```nz19``` data frame of 2019 documents with non-zero sale prices."
   ]
  },
  {
   "cell_type": "markdown",
   "metadata": {},
   "source": [
    "### Sunday 2/21: \n",
    "##### Data Prep\n",
    "\n",
    "* Added a ```function.py``` module to contain the functions written while working through the project.\n",
    "* Created a ```col_stripper()``` function, and appended it, ```fetch()```, and ```lookup()``` to the ```function``` module.\n",
    "* Did some data cleaning on the lookup dataframe ```df_look```.\n",
    "* Made a ```heat_df``` data frame with the ```'SalePrice'``` target and ```'HeatSystems'``` predictor.\n",
    "* Converted  ```'HeatSystems'``` to a column called ```'HeatNames'```with more descriptive values.\n",
    "* Perfomed one-hot encoding on ```'HeatNames'``` and created a ```model_df```.\n",
    "* Created a correlation matrix and heatmap for ```model_df```.\n"
   ]
  },
  {
   "cell_type": "markdown",
   "metadata": {},
   "source": [
    "# Initial EDA Work"
   ]
  },
  {
   "cell_type": "markdown",
   "metadata": {},
   "source": [
    "#### Importing Libraries and Adjusting Settings"
   ]
  },
  {
   "cell_type": "code",
   "execution_count": 1,
   "metadata": {},
   "outputs": [],
   "source": [
    "# import modules for eda and plotting\n",
    "import pandas as pd\n",
    "import numpy as np\n",
    "import scipy.stats as stats\n",
    "\n",
    "import sqlite3\n",
    "\n",
    "from sklearn import preprocessing\n",
    "from sklearn.preprocessing import OneHotEncoder\n",
    "\n",
    "import matplotlib.pyplot as plt\n",
    "import seaborn as sns\n",
    "\n",
    "import functions as fn\n",
    "\n",
    "# setting plots to inline\n",
    "%matplotlib inline\n",
    "\n",
    "# setting the max number of rows displayed\n",
    "pd.options.display.max_rows = 200"
   ]
  },
  {
   "cell_type": "markdown",
   "metadata": {},
   "source": [
    "## SQL Dataframe"
   ]
  },
  {
   "cell_type": "markdown",
   "metadata": {},
   "source": [
    "### SQL Prelim Work\n",
    "\n",
    "#### Created Database\n",
    "Earlier, wrote up a [DB Creator](DB_Creator.ipynb) notebook and ran it to create an SQL database from the raw ```.csv``` files."
   ]
  },
  {
   "cell_type": "markdown",
   "metadata": {},
   "source": [
    "#### Creating DataFrame From the Database"
   ]
  },
  {
   "cell_type": "markdown",
   "metadata": {},
   "source": [
    "Connecting to the database, and creating a cursor object. Joining the database tables into a second main data frame. Lastly, checking basic information about the data frame."
   ]
  },
  {
   "cell_type": "code",
   "execution_count": 2,
   "metadata": {},
   "outputs": [],
   "source": [
    "# creating database, connection, and cursor\n",
    "conn = sqlite3.connect('KingDB.db')  \n",
    "cur = conn.cursor()"
   ]
  },
  {
   "cell_type": "code",
   "execution_count": 3,
   "metadata": {},
   "outputs": [
    {
     "data": {
      "text/plain": [
       "[('LOOK',), ('PARC',), ('RESB',), ('SALES',)]"
      ]
     },
     "execution_count": 3,
     "metadata": {},
     "output_type": "execute_result"
    }
   ],
   "source": [
    "# checking the table names\n",
    "q = \"\"\"SELECT name FROM sqlite_master \n",
    "WHERE type IN ('table','view') \n",
    "AND name NOT LIKE 'sqlite_%'\n",
    "ORDER BY 1\"\"\"\n",
    "fn.fetch(cur, q)"
   ]
  },
  {
   "cell_type": "markdown",
   "metadata": {},
   "source": [
    "### Joining Tables to Create the Main Data Frame"
   ]
  },
  {
   "cell_type": "code",
   "execution_count": 4,
   "metadata": {},
   "outputs": [],
   "source": [
    "# joining tables to create dataframe and appending column names\n",
    "q = \"\"\"SELECT*FROM SALES AS SA\n",
    "       JOIN PARC AS PA\n",
    "       ON SA.Major = PA.Major\n",
    "       AND SA.Minor = PA.Minor\n",
    "       JOIN RESB AS RE\n",
    "       ON PA.Major = RE.Major\n",
    "       AND PA.Minor = RE.Minor\n",
    "       \"\"\"\n",
    "df = pd.DataFrame(fn.fetch(cur, q))\n",
    "df.columns = [i[0] for i in cur.description]"
   ]
  },
  {
   "cell_type": "code",
   "execution_count": 5,
   "metadata": {},
   "outputs": [
    {
     "name": "stdout",
     "output_type": "stream",
     "text": [
      "<class 'pandas.core.frame.DataFrame'>\n",
      "RangeIndex: 251300 entries, 0 to 251299\n",
      "Columns: 156 entries, ExciseTaxNbr to AddnlCost\n",
      "dtypes: object(156)\n",
      "memory usage: 299.1+ MB\n"
     ]
    }
   ],
   "source": [
    "# checking info, shape\n",
    "df.info()"
   ]
  },
  {
   "cell_type": "markdown",
   "metadata": {},
   "source": [
    "### Creating the Lookup Data Frame"
   ]
  },
  {
   "cell_type": "code",
   "execution_count": 6,
   "metadata": {},
   "outputs": [],
   "source": [
    "# joining tables to create dataframe and appending column names\n",
    "q = \"\"\"SELECT*FROM LOOK\"\"\"\n",
    "look = pd.DataFrame(fn.fetch(cur, q))\n",
    "look.columns = [i[0] for i in cur.description]"
   ]
  },
  {
   "cell_type": "markdown",
   "metadata": {},
   "source": [
    "#### Checking the Lookup Data Frame\n",
    "\n",
    "Getting basic info, checking the first row, description strings, and cleaning the columns."
   ]
  },
  {
   "cell_type": "code",
   "execution_count": 7,
   "metadata": {},
   "outputs": [
    {
     "name": "stdout",
     "output_type": "stream",
     "text": [
      "<class 'pandas.core.frame.DataFrame'>\n",
      "RangeIndex: 1208 entries, 0 to 1207\n",
      "Data columns (total 3 columns):\n",
      " #   Column         Non-Null Count  Dtype \n",
      "---  ------         --------------  ----- \n",
      " 0   LUType         1208 non-null   object\n",
      " 1   LUItem         1208 non-null   object\n",
      " 2   LUDescription  1208 non-null   object\n",
      "dtypes: object(3)\n",
      "memory usage: 28.4+ KB\n"
     ]
    }
   ],
   "source": [
    "# getting info for lookup data frame\n",
    "look.info()"
   ]
  },
  {
   "cell_type": "code",
   "execution_count": 8,
   "metadata": {},
   "outputs": [
    {
     "data": {
      "text/html": [
       "<div>\n",
       "<style scoped>\n",
       "    .dataframe tbody tr th:only-of-type {\n",
       "        vertical-align: middle;\n",
       "    }\n",
       "\n",
       "    .dataframe tbody tr th {\n",
       "        vertical-align: top;\n",
       "    }\n",
       "\n",
       "    .dataframe thead th {\n",
       "        text-align: right;\n",
       "    }\n",
       "</style>\n",
       "<table border=\"1\" class=\"dataframe\">\n",
       "  <thead>\n",
       "    <tr style=\"text-align: right;\">\n",
       "      <th></th>\n",
       "      <th>LUType</th>\n",
       "      <th>LUItem</th>\n",
       "      <th>LUDescription</th>\n",
       "    </tr>\n",
       "  </thead>\n",
       "  <tbody>\n",
       "    <tr>\n",
       "      <th>0</th>\n",
       "      <td>1</td>\n",
       "      <td>1</td>\n",
       "      <td>LAND ONLY                                     ...</td>\n",
       "    </tr>\n",
       "  </tbody>\n",
       "</table>\n",
       "</div>"
      ],
      "text/plain": [
       "  LUType LUItem                                      LUDescription\n",
       "0    1      1    LAND ONLY                                     ..."
      ]
     },
     "execution_count": 8,
     "metadata": {},
     "output_type": "execute_result"
    }
   ],
   "source": [
    "# checking first row\n",
    "look.head(1)"
   ]
  },
  {
   "cell_type": "code",
   "execution_count": 9,
   "metadata": {},
   "outputs": [
    {
     "data": {
      "text/plain": [
       "(array(['1  ', '1  '], dtype=object),\n",
       " array(['1  ', '10 '], dtype=object),\n",
       " array(['LAND ONLY                                         ',\n",
       "        'Land with new building                            '], dtype=object))"
      ]
     },
     "execution_count": 9,
     "metadata": {},
     "output_type": "execute_result"
    }
   ],
   "source": [
    "# checking strings\n",
    "look.LUType.values[:2], look.LUItem.values[:2], look.LUDescription.values[:2]"
   ]
  },
  {
   "cell_type": "markdown",
   "metadata": {},
   "source": [
    "Cleaning strings and checking results."
   ]
  },
  {
   "cell_type": "code",
   "execution_count": 10,
   "metadata": {},
   "outputs": [],
   "source": [
    "# cleaning strings\n",
    "look['LUType'] = fn.col_stripper(look, 'LUType')\n",
    "look['LUItem'] = fn.col_stripper(look, 'LUItem')\n",
    "look['LUDescription'] = fn.col_stripper(look, 'LUDescription')"
   ]
  },
  {
   "cell_type": "code",
   "execution_count": 11,
   "metadata": {},
   "outputs": [
    {
     "name": "stdout",
     "output_type": "stream",
     "text": [
      "['1' '1' '1' ... '99' '99' '99']\n",
      "['1' '10' '11' ... '3' '4' '5']\n"
     ]
    },
    {
     "data": {
      "text/plain": [
       "array(['LAND ONLY', 'Land with new building',\n",
       "       'Household, single family units', ..., 'AVERAGE', 'ABOVE AVERAGE',\n",
       "       'EXCELLENT'], dtype=object)"
      ]
     },
     "execution_count": 11,
     "metadata": {},
     "output_type": "execute_result"
    }
   ],
   "source": [
    "# checking results\n",
    "print(look.LUType.values)\n",
    "print(look.LUItem.values)\n",
    "look.LUDescription.values"
   ]
  },
  {
   "cell_type": "markdown",
   "metadata": {},
   "source": [
    "### Checking & Dealing with Columns in Main Data Frame\n",
    "Working through the columns of the main data frame to narrow down the list of features to a more manageable size."
   ]
  },
  {
   "cell_type": "code",
   "execution_count": 12,
   "metadata": {},
   "outputs": [
    {
     "data": {
      "text/plain": [
       "['ExciseTaxNbr',\n",
       " 'Major',\n",
       " 'Minor',\n",
       " 'DocumentDate',\n",
       " 'SalePrice',\n",
       " 'RecordingNbr',\n",
       " 'Volume',\n",
       " 'Page',\n",
       " 'PlatNbr',\n",
       " 'PlatType',\n",
       " 'PlatLot',\n",
       " 'PlatBlock',\n",
       " 'SellerName',\n",
       " 'BuyerName',\n",
       " 'PropertyType',\n",
       " 'PrincipalUse',\n",
       " 'SaleInstrument',\n",
       " 'AFForestLand',\n",
       " 'AFCurrentUseLand',\n",
       " 'AFNonProfitUse',\n",
       " 'AFHistoricProperty',\n",
       " 'SaleReason',\n",
       " 'PropertyClass',\n",
       " 'SaleWarning',\n",
       " 'Unnamed: 0',\n",
       " 'Major',\n",
       " 'Minor',\n",
       " 'PropName',\n",
       " 'PlatName',\n",
       " 'PlatLot',\n",
       " 'PlatBlock',\n",
       " 'Range',\n",
       " 'Township',\n",
       " 'Section',\n",
       " 'QuarterSection',\n",
       " 'PropType',\n",
       " 'Area',\n",
       " 'SubArea',\n",
       " 'SpecArea',\n",
       " 'SpecSubArea',\n",
       " 'DistrictName',\n",
       " 'LevyCode',\n",
       " 'CurrentZoning',\n",
       " 'HBUAsIfVacant',\n",
       " 'HBUAsImproved',\n",
       " 'PresentUse',\n",
       " 'SqFtLot',\n",
       " 'WaterSystem',\n",
       " 'SewerSystem',\n",
       " 'Access',\n",
       " 'Topography',\n",
       " 'StreetSurface',\n",
       " 'RestrictiveSzShape',\n",
       " 'InadequateParking',\n",
       " 'PcntUnusable',\n",
       " 'Unbuildable',\n",
       " 'MtRainier',\n",
       " 'Olympics',\n",
       " 'Cascades',\n",
       " 'Territorial',\n",
       " 'SeattleSkyline',\n",
       " 'PugetSound',\n",
       " 'LakeWashington',\n",
       " 'LakeSammamish',\n",
       " 'SmallLakeRiverCreek',\n",
       " 'OtherView',\n",
       " 'WfntLocation',\n",
       " 'WfntFootage',\n",
       " 'WfntBank',\n",
       " 'WfntPoorQuality',\n",
       " 'WfntRestrictedAccess',\n",
       " 'WfntAccessRights',\n",
       " 'WfntProximityInfluence',\n",
       " 'TidelandShoreland',\n",
       " 'LotDepthFactor',\n",
       " 'TrafficNoise',\n",
       " 'AirportNoise',\n",
       " 'PowerLines',\n",
       " 'OtherNuisances',\n",
       " 'NbrBldgSites',\n",
       " 'Contamination',\n",
       " 'DNRLease',\n",
       " 'AdjacentGolfFairway',\n",
       " 'AdjacentGreenbelt',\n",
       " 'HistoricSite',\n",
       " 'CurrentUseDesignation',\n",
       " 'NativeGrowthProtEsmt',\n",
       " 'Easements',\n",
       " 'OtherDesignation',\n",
       " 'DeedRestrictions',\n",
       " 'DevelopmentRightsPurch',\n",
       " 'CoalMineHazard',\n",
       " 'CriticalDrainage',\n",
       " 'ErosionHazard',\n",
       " 'LandfillBuffer',\n",
       " 'HundredYrFloodPlain',\n",
       " 'SeismicHazard',\n",
       " 'LandslideHazard',\n",
       " 'SteepSlopeHazard',\n",
       " 'Stream',\n",
       " 'Wetland',\n",
       " 'SpeciesOfConcern',\n",
       " 'SensitiveAreaTract',\n",
       " 'WaterProblems',\n",
       " 'TranspConcurrency',\n",
       " 'OtherProblems',\n",
       " 'Major',\n",
       " 'Minor',\n",
       " 'BldgNbr',\n",
       " 'NbrLivingUnits',\n",
       " 'Address',\n",
       " 'BuildingNumber',\n",
       " 'Fraction',\n",
       " 'DirectionPrefix',\n",
       " 'StreetName',\n",
       " 'StreetType',\n",
       " 'DirectionSuffix',\n",
       " 'ZipCode',\n",
       " 'Stories',\n",
       " 'BldgGrade',\n",
       " 'BldgGradeVar',\n",
       " 'SqFt1stFloor',\n",
       " 'SqFtHalfFloor',\n",
       " 'SqFt2ndFloor',\n",
       " 'SqFtUpperFloor',\n",
       " 'SqFtUnfinFull',\n",
       " 'SqFtUnfinHalf',\n",
       " 'SqFtTotLiving',\n",
       " 'SqFtTotBasement',\n",
       " 'SqFtFinBasement',\n",
       " 'FinBasementGrade',\n",
       " 'SqFtGarageBasement',\n",
       " 'SqFtGarageAttached',\n",
       " 'DaylightBasement',\n",
       " 'SqFtOpenPorch',\n",
       " 'SqFtEnclosedPorch',\n",
       " 'SqFtDeck',\n",
       " 'HeatSystem',\n",
       " 'HeatSource',\n",
       " 'BrickStone',\n",
       " 'ViewUtilization',\n",
       " 'Bedrooms',\n",
       " 'BathHalfCount',\n",
       " 'Bath3qtrCount',\n",
       " 'BathFullCount',\n",
       " 'FpSingleStory',\n",
       " 'FpMultiStory',\n",
       " 'FpFreestanding',\n",
       " 'FpAdditional',\n",
       " 'YrBuilt',\n",
       " 'YrRenovated',\n",
       " 'PcntComplete',\n",
       " 'Obsolescence',\n",
       " 'PcntNetCondition',\n",
       " 'Condition',\n",
       " 'AddnlCost']"
      ]
     },
     "execution_count": 12,
     "metadata": {},
     "output_type": "execute_result"
    }
   ],
   "source": [
    "# checking columns\n",
    "list(df.columns)"
   ]
  },
  {
   "cell_type": "code",
   "execution_count": 13,
   "metadata": {},
   "outputs": [],
   "source": [
    "# # dropping unnamed column found above\n",
    "# df.drop('Unnamed: 0', axis=1, inplace=True)"
   ]
  },
  {
   "cell_type": "code",
   "execution_count": 14,
   "metadata": {},
   "outputs": [],
   "source": [
    "# using custom dropper function to remove unnamed column found above\n",
    "fn.dropper(df, ['Unnamed: 0'], True)"
   ]
  },
  {
   "cell_type": "code",
   "execution_count": 15,
   "metadata": {},
   "outputs": [
    {
     "data": {
      "text/html": [
       "<div>\n",
       "<style scoped>\n",
       "    .dataframe tbody tr th:only-of-type {\n",
       "        vertical-align: middle;\n",
       "    }\n",
       "\n",
       "    .dataframe tbody tr th {\n",
       "        vertical-align: top;\n",
       "    }\n",
       "\n",
       "    .dataframe thead th {\n",
       "        text-align: right;\n",
       "    }\n",
       "</style>\n",
       "<table border=\"1\" class=\"dataframe\">\n",
       "  <thead>\n",
       "    <tr style=\"text-align: right;\">\n",
       "      <th></th>\n",
       "      <th>ExciseTaxNbr</th>\n",
       "      <th>Major</th>\n",
       "      <th>Minor</th>\n",
       "      <th>DocumentDate</th>\n",
       "      <th>SalePrice</th>\n",
       "      <th>RecordingNbr</th>\n",
       "      <th>Volume</th>\n",
       "      <th>Page</th>\n",
       "      <th>PlatNbr</th>\n",
       "      <th>PlatType</th>\n",
       "      <th>...</th>\n",
       "      <th>FpMultiStory</th>\n",
       "      <th>FpFreestanding</th>\n",
       "      <th>FpAdditional</th>\n",
       "      <th>YrBuilt</th>\n",
       "      <th>YrRenovated</th>\n",
       "      <th>PcntComplete</th>\n",
       "      <th>Obsolescence</th>\n",
       "      <th>PcntNetCondition</th>\n",
       "      <th>Condition</th>\n",
       "      <th>AddnlCost</th>\n",
       "    </tr>\n",
       "  </thead>\n",
       "  <tbody>\n",
       "    <tr>\n",
       "      <th>0</th>\n",
       "      <td>2743355</td>\n",
       "      <td>638580</td>\n",
       "      <td>0110</td>\n",
       "      <td>07/14/2015</td>\n",
       "      <td>190000</td>\n",
       "      <td>20150715002686</td>\n",
       "      <td></td>\n",
       "      <td></td>\n",
       "      <td></td>\n",
       "      <td></td>\n",
       "      <td>...</td>\n",
       "      <td>1</td>\n",
       "      <td>0</td>\n",
       "      <td>1</td>\n",
       "      <td>1963</td>\n",
       "      <td>0</td>\n",
       "      <td>0</td>\n",
       "      <td>0</td>\n",
       "      <td>0</td>\n",
       "      <td>3</td>\n",
       "      <td>0</td>\n",
       "    </tr>\n",
       "  </tbody>\n",
       "</table>\n",
       "<p>1 rows × 155 columns</p>\n",
       "</div>"
      ],
      "text/plain": [
       "  ExciseTaxNbr   Major Minor DocumentDate SalePrice    RecordingNbr Volume  \\\n",
       "0      2743355  638580  0110   07/14/2015    190000  20150715002686          \n",
       "\n",
       "  Page PlatNbr PlatType  ... FpMultiStory FpFreestanding FpAdditional YrBuilt  \\\n",
       "0                        ...            1              0            1    1963   \n",
       "\n",
       "  YrRenovated PcntComplete Obsolescence PcntNetCondition Condition AddnlCost  \n",
       "0           0            0            0                0         3         0  \n",
       "\n",
       "[1 rows x 155 columns]"
      ]
     },
     "execution_count": 15,
     "metadata": {},
     "output_type": "execute_result"
    }
   ],
   "source": [
    "# checking first row\n",
    "df.head(1)"
   ]
  },
  {
   "cell_type": "markdown",
   "metadata": {},
   "source": [
    "### Checking For Null Values"
   ]
  },
  {
   "cell_type": "code",
   "execution_count": 16,
   "metadata": {},
   "outputs": [
    {
     "name": "stdout",
     "output_type": "stream",
     "text": [
      "ExciseTaxNbr                   0\n",
      "Major                          0\n",
      "Minor                          0\n",
      "DocumentDate                   0\n",
      "SalePrice                      0\n",
      "RecordingNbr                   0\n",
      "Volume                         0\n",
      "Page                           0\n",
      "PlatNbr                        0\n",
      "PlatType                       0\n",
      "PlatLot                        0\n",
      "PlatBlock                      0\n",
      "SellerName                     0\n",
      "BuyerName                      0\n",
      "PropertyType                   0\n",
      "PrincipalUse                   0\n",
      "SaleInstrument                 0\n",
      "AFForestLand                   0\n",
      "AFCurrentUseLand               0\n",
      "AFNonProfitUse                 0\n",
      "AFHistoricProperty             0\n",
      "SaleReason                     0\n",
      "PropertyClass                  0\n",
      "SaleWarning                    0\n",
      "Major                          0\n",
      "Minor                          0\n",
      "PropName                   11473\n",
      "PlatName                   29223\n",
      "PlatLot                        0\n",
      "PlatBlock                      0\n",
      "Range                          0\n",
      "Township                       0\n",
      "Section                        0\n",
      "QuarterSection                 0\n",
      "PropType                       0\n",
      "Area                           0\n",
      "SubArea                        0\n",
      "SpecArea                  251300\n",
      "SpecSubArea               251300\n",
      "DistrictName                   0\n",
      "LevyCode                       0\n",
      "CurrentZoning                  0\n",
      "HBUAsIfVacant                  0\n",
      "HBUAsImproved                  0\n",
      "PresentUse                     0\n",
      "SqFtLot                        0\n",
      "WaterSystem                    0\n",
      "SewerSystem                    0\n",
      "Access                         0\n",
      "Topography                     0\n",
      "StreetSurface                  0\n",
      "RestrictiveSzShape             0\n",
      "InadequateParking              0\n",
      "PcntUnusable                   0\n",
      "Unbuildable                    0\n",
      "MtRainier                      0\n",
      "Olympics                       0\n",
      "Cascades                       0\n",
      "Territorial                    0\n",
      "SeattleSkyline                 0\n",
      "PugetSound                     0\n",
      "LakeWashington                 0\n",
      "LakeSammamish                  0\n",
      "SmallLakeRiverCreek            0\n",
      "OtherView                      0\n",
      "WfntLocation                   0\n",
      "WfntFootage                    0\n",
      "WfntBank                       0\n",
      "WfntPoorQuality                0\n",
      "WfntRestrictedAccess           0\n",
      "WfntAccessRights               0\n",
      "WfntProximityInfluence         0\n",
      "TidelandShoreland              0\n",
      "LotDepthFactor                 0\n",
      "TrafficNoise                   0\n",
      "AirportNoise                   0\n",
      "PowerLines                     0\n",
      "OtherNuisances                 0\n",
      "NbrBldgSites                   0\n",
      "Contamination                  0\n",
      "DNRLease                       0\n",
      "AdjacentGolfFairway            0\n",
      "AdjacentGreenbelt              0\n",
      "HistoricSite                   0\n",
      "CurrentUseDesignation          0\n",
      "NativeGrowthProtEsmt           0\n",
      "Easements                      0\n",
      "OtherDesignation               0\n",
      "DeedRestrictions               0\n",
      "DevelopmentRightsPurch         0\n",
      "CoalMineHazard                 0\n",
      "CriticalDrainage               0\n",
      "ErosionHazard                  0\n",
      "LandfillBuffer                 0\n",
      "HundredYrFloodPlain            0\n",
      "SeismicHazard                  0\n",
      "LandslideHazard                0\n",
      "SteepSlopeHazard               0\n",
      "Stream                         0\n",
      "Wetland                        0\n",
      "SpeciesOfConcern               0\n",
      "SensitiveAreaTract             0\n",
      "WaterProblems                  0\n",
      "TranspConcurrency              0\n",
      "OtherProblems                  0\n",
      "Major                          0\n",
      "Minor                          0\n",
      "BldgNbr                        0\n",
      "NbrLivingUnits                 0\n",
      "Address                        0\n",
      "BuildingNumber                 0\n",
      "Fraction                       0\n",
      "DirectionPrefix              604\n",
      "StreetName                     0\n",
      "StreetType                     0\n",
      "DirectionSuffix              604\n",
      "ZipCode                    39980\n",
      "Stories                        0\n",
      "BldgGrade                      0\n",
      "BldgGradeVar                   0\n",
      "SqFt1stFloor                   0\n",
      "SqFtHalfFloor                  0\n",
      "SqFt2ndFloor                   0\n",
      "SqFtUpperFloor                 0\n",
      "SqFtUnfinFull                  0\n",
      "SqFtUnfinHalf                  0\n",
      "SqFtTotLiving                  0\n",
      "SqFtTotBasement                0\n",
      "SqFtFinBasement                0\n",
      "FinBasementGrade               0\n",
      "SqFtGarageBasement             0\n",
      "SqFtGarageAttached             0\n",
      "DaylightBasement               0\n",
      "SqFtOpenPorch                  0\n",
      "SqFtEnclosedPorch              0\n",
      "SqFtDeck                       0\n",
      "HeatSystem                     0\n",
      "HeatSource                     0\n",
      "BrickStone                     0\n",
      "ViewUtilization                0\n",
      "Bedrooms                       0\n",
      "BathHalfCount                  0\n",
      "Bath3qtrCount                  0\n",
      "BathFullCount                  0\n",
      "FpSingleStory                  0\n",
      "FpMultiStory                   0\n",
      "FpFreestanding                 0\n",
      "FpAdditional                   0\n",
      "YrBuilt                        0\n",
      "YrRenovated                    0\n",
      "PcntComplete                   0\n",
      "Obsolescence                   0\n",
      "PcntNetCondition               0\n",
      "Condition                      0\n",
      "AddnlCost                      0\n",
      "dtype: int64\n"
     ]
    },
    {
     "data": {
      "text/plain": [
       "(251300, 155)"
      ]
     },
     "execution_count": 16,
     "metadata": {},
     "output_type": "execute_result"
    }
   ],
   "source": [
    "# checking nulls and shape\n",
    "print(df.isna().sum())\n",
    "df.shape"
   ]
  },
  {
   "cell_type": "markdown",
   "metadata": {},
   "source": [
    "Checking ```'SpecArea', 'SpecSubArea'``` columns."
   ]
  },
  {
   "cell_type": "code",
   "execution_count": 17,
   "metadata": {},
   "outputs": [
    {
     "data": {
      "text/html": [
       "<div>\n",
       "<style scoped>\n",
       "    .dataframe tbody tr th:only-of-type {\n",
       "        vertical-align: middle;\n",
       "    }\n",
       "\n",
       "    .dataframe tbody tr th {\n",
       "        vertical-align: top;\n",
       "    }\n",
       "\n",
       "    .dataframe thead th {\n",
       "        text-align: right;\n",
       "    }\n",
       "</style>\n",
       "<table border=\"1\" class=\"dataframe\">\n",
       "  <thead>\n",
       "    <tr style=\"text-align: right;\">\n",
       "      <th></th>\n",
       "      <th>SpecArea</th>\n",
       "      <th>SpecSubArea</th>\n",
       "    </tr>\n",
       "  </thead>\n",
       "  <tbody>\n",
       "    <tr>\n",
       "      <th>0</th>\n",
       "      <td>None</td>\n",
       "      <td>None</td>\n",
       "    </tr>\n",
       "    <tr>\n",
       "      <th>1</th>\n",
       "      <td>None</td>\n",
       "      <td>None</td>\n",
       "    </tr>\n",
       "    <tr>\n",
       "      <th>2</th>\n",
       "      <td>None</td>\n",
       "      <td>None</td>\n",
       "    </tr>\n",
       "  </tbody>\n",
       "</table>\n",
       "</div>"
      ],
      "text/plain": [
       "  SpecArea SpecSubArea\n",
       "0     None        None\n",
       "1     None        None\n",
       "2     None        None"
      ]
     },
     "execution_count": 17,
     "metadata": {},
     "output_type": "execute_result"
    }
   ],
   "source": [
    "# inspecting columns with custom chunker() function\n",
    "fn.chunker(df, ['SpecArea', 'SpecSubArea'])"
   ]
  },
  {
   "cell_type": "code",
   "execution_count": null,
   "metadata": {},
   "outputs": [],
   "source": []
  },
  {
   "cell_type": "markdown",
   "metadata": {},
   "source": [
    "It looks like the ```'SpecArea'``` and ```'SpecSubArea'``` are extraneous columns for modeling purposes so they will be dropped."
   ]
  },
  {
   "cell_type": "code",
   "execution_count": 18,
   "metadata": {},
   "outputs": [
    {
     "data": {
      "text/html": [
       "<div>\n",
       "<style scoped>\n",
       "    .dataframe tbody tr th:only-of-type {\n",
       "        vertical-align: middle;\n",
       "    }\n",
       "\n",
       "    .dataframe tbody tr th {\n",
       "        vertical-align: top;\n",
       "    }\n",
       "\n",
       "    .dataframe thead th {\n",
       "        text-align: right;\n",
       "    }\n",
       "</style>\n",
       "<table border=\"1\" class=\"dataframe\">\n",
       "  <thead>\n",
       "    <tr style=\"text-align: right;\">\n",
       "      <th></th>\n",
       "      <th>ExciseTaxNbr</th>\n",
       "      <th>Major</th>\n",
       "      <th>Minor</th>\n",
       "      <th>DocumentDate</th>\n",
       "      <th>SalePrice</th>\n",
       "      <th>RecordingNbr</th>\n",
       "      <th>Volume</th>\n",
       "      <th>Page</th>\n",
       "      <th>PlatNbr</th>\n",
       "      <th>PlatType</th>\n",
       "      <th>...</th>\n",
       "      <th>FpMultiStory</th>\n",
       "      <th>FpFreestanding</th>\n",
       "      <th>FpAdditional</th>\n",
       "      <th>YrBuilt</th>\n",
       "      <th>YrRenovated</th>\n",
       "      <th>PcntComplete</th>\n",
       "      <th>Obsolescence</th>\n",
       "      <th>PcntNetCondition</th>\n",
       "      <th>Condition</th>\n",
       "      <th>AddnlCost</th>\n",
       "    </tr>\n",
       "  </thead>\n",
       "  <tbody>\n",
       "    <tr>\n",
       "      <th>0</th>\n",
       "      <td>2743355</td>\n",
       "      <td>638580</td>\n",
       "      <td>0110</td>\n",
       "      <td>07/14/2015</td>\n",
       "      <td>190000</td>\n",
       "      <td>20150715002686</td>\n",
       "      <td></td>\n",
       "      <td></td>\n",
       "      <td></td>\n",
       "      <td></td>\n",
       "      <td>...</td>\n",
       "      <td>1</td>\n",
       "      <td>0</td>\n",
       "      <td>1</td>\n",
       "      <td>1963</td>\n",
       "      <td>0</td>\n",
       "      <td>0</td>\n",
       "      <td>0</td>\n",
       "      <td>0</td>\n",
       "      <td>3</td>\n",
       "      <td>0</td>\n",
       "    </tr>\n",
       "  </tbody>\n",
       "</table>\n",
       "<p>1 rows × 153 columns</p>\n",
       "</div>"
      ],
      "text/plain": [
       "  ExciseTaxNbr   Major Minor DocumentDate SalePrice    RecordingNbr Volume  \\\n",
       "0      2743355  638580  0110   07/14/2015    190000  20150715002686          \n",
       "\n",
       "  Page PlatNbr PlatType  ... FpMultiStory FpFreestanding FpAdditional YrBuilt  \\\n",
       "0                        ...            1              0            1    1963   \n",
       "\n",
       "  YrRenovated PcntComplete Obsolescence PcntNetCondition Condition AddnlCost  \n",
       "0           0            0            0                0         3         0  \n",
       "\n",
       "[1 rows x 153 columns]"
      ]
     },
     "execution_count": 18,
     "metadata": {},
     "output_type": "execute_result"
    }
   ],
   "source": [
    "# dropping columns and checking first row\n",
    "fn.dropper(df, ['SpecArea', 'SpecSubArea'], True)\n",
    "df.head(1)"
   ]
  },
  {
   "cell_type": "markdown",
   "metadata": {},
   "source": [
    "### Inspecting Columns with Null Values"
   ]
  },
  {
   "cell_type": "code",
   "execution_count": 19,
   "metadata": {},
   "outputs": [
    {
     "data": {
      "text/html": [
       "<div>\n",
       "<style scoped>\n",
       "    .dataframe tbody tr th:only-of-type {\n",
       "        vertical-align: middle;\n",
       "    }\n",
       "\n",
       "    .dataframe tbody tr th {\n",
       "        vertical-align: top;\n",
       "    }\n",
       "\n",
       "    .dataframe thead th {\n",
       "        text-align: right;\n",
       "    }\n",
       "</style>\n",
       "<table border=\"1\" class=\"dataframe\">\n",
       "  <thead>\n",
       "    <tr style=\"text-align: right;\">\n",
       "      <th></th>\n",
       "      <th>PropName</th>\n",
       "      <th>PlatName</th>\n",
       "      <th>DirectionPrefix</th>\n",
       "      <th>DirectionSuffix</th>\n",
       "      <th>ZipCode</th>\n",
       "    </tr>\n",
       "  </thead>\n",
       "  <tbody>\n",
       "    <tr>\n",
       "      <th>0</th>\n",
       "      <td></td>\n",
       "      <td>OLYMPIC TERRACE ADD</td>\n",
       "      <td></td>\n",
       "      <td>S</td>\n",
       "      <td>98188</td>\n",
       "    </tr>\n",
       "    <tr>\n",
       "      <th>1</th>\n",
       "      <td>None</td>\n",
       "      <td>VINTNER'S PLACE</td>\n",
       "      <td>NE</td>\n",
       "      <td></td>\n",
       "      <td>None</td>\n",
       "    </tr>\n",
       "    <tr>\n",
       "      <th>2</th>\n",
       "      <td></td>\n",
       "      <td>LAKE UNION ADD</td>\n",
       "      <td></td>\n",
       "      <td>N</td>\n",
       "      <td>98103</td>\n",
       "    </tr>\n",
       "  </tbody>\n",
       "</table>\n",
       "</div>"
      ],
      "text/plain": [
       "  PropName             PlatName DirectionPrefix DirectionSuffix ZipCode\n",
       "0           OLYMPIC TERRACE ADD                              S    98188\n",
       "1     None      VINTNER'S PLACE              NE                    None\n",
       "2                LAKE UNION ADD                              N    98103"
      ]
     },
     "execution_count": 19,
     "metadata": {},
     "output_type": "execute_result"
    }
   ],
   "source": [
    "# checking problematic columns\n",
    "li = ['PropName', 'PlatName', 'DirectionPrefix', 'DirectionSuffix', 'ZipCode']\n",
    "fn.chunker(df, li)"
   ]
  },
  {
   "cell_type": "markdown",
   "metadata": {},
   "source": [
    "### Keeping ```'ZipCode'``` Column but Dropping Others\n",
    "\n",
    "The othe columns have to do with Plat Mapping and seem irrelevant to the model. Zip Codes can have value as proxy indicators so may be useful later."
   ]
  },
  {
   "cell_type": "code",
   "execution_count": 20,
   "metadata": {},
   "outputs": [],
   "source": [
    "# dropping extraneous columns\n",
    "fn.dropper(df, li[:3], True)"
   ]
  },
  {
   "cell_type": "markdown",
   "metadata": {},
   "source": [
    "### Checking Next Batch of Columns\n",
    "\n",
    "Seem to be a mix of blank columns and administrative information that will probably have no effect on the model."
   ]
  },
  {
   "cell_type": "code",
   "execution_count": 21,
   "metadata": {},
   "outputs": [
    {
     "data": {
      "text/html": [
       "<div>\n",
       "<style scoped>\n",
       "    .dataframe tbody tr th:only-of-type {\n",
       "        vertical-align: middle;\n",
       "    }\n",
       "\n",
       "    .dataframe tbody tr th {\n",
       "        vertical-align: top;\n",
       "    }\n",
       "\n",
       "    .dataframe thead th {\n",
       "        text-align: right;\n",
       "    }\n",
       "</style>\n",
       "<table border=\"1\" class=\"dataframe\">\n",
       "  <thead>\n",
       "    <tr style=\"text-align: right;\">\n",
       "      <th></th>\n",
       "      <th>RecordingNbr</th>\n",
       "      <th>Volume</th>\n",
       "      <th>Page</th>\n",
       "      <th>PlatNbr</th>\n",
       "      <th>PlatType</th>\n",
       "      <th>PlatLot</th>\n",
       "      <th>PlatLot</th>\n",
       "      <th>PlatBlock</th>\n",
       "      <th>PlatBlock</th>\n",
       "      <th>SellerName</th>\n",
       "      <th>BuyerName</th>\n",
       "    </tr>\n",
       "  </thead>\n",
       "  <tbody>\n",
       "    <tr>\n",
       "      <th>0</th>\n",
       "      <td>20150715002686</td>\n",
       "      <td></td>\n",
       "      <td></td>\n",
       "      <td></td>\n",
       "      <td></td>\n",
       "      <td></td>\n",
       "      <td>11</td>\n",
       "      <td></td>\n",
       "      <td></td>\n",
       "      <td>GINGRICH AUDREY B                             ...</td>\n",
       "      <td>NATION FRED I                                 ...</td>\n",
       "    </tr>\n",
       "    <tr>\n",
       "      <th>1</th>\n",
       "      <td>20161228000896</td>\n",
       "      <td></td>\n",
       "      <td></td>\n",
       "      <td></td>\n",
       "      <td></td>\n",
       "      <td></td>\n",
       "      <td>24</td>\n",
       "      <td></td>\n",
       "      <td></td>\n",
       "      <td>QUADRANT CORPORATION                          ...</td>\n",
       "      <td>KANG JING                                     ...</td>\n",
       "    </tr>\n",
       "    <tr>\n",
       "      <th>2</th>\n",
       "      <td>20170426000922</td>\n",
       "      <td></td>\n",
       "      <td></td>\n",
       "      <td></td>\n",
       "      <td></td>\n",
       "      <td></td>\n",
       "      <td>9</td>\n",
       "      <td></td>\n",
       "      <td>42</td>\n",
       "      <td>MALLAHAN MATTHEW JOSEPH                       ...</td>\n",
       "      <td>MALLAHAN CAROLYN S                            ...</td>\n",
       "    </tr>\n",
       "  </tbody>\n",
       "</table>\n",
       "</div>"
      ],
      "text/plain": [
       "     RecordingNbr Volume Page PlatNbr PlatType         PlatLot  \\\n",
       "0  20150715002686                                                \n",
       "1  20161228000896                                                \n",
       "2  20170426000922                                                \n",
       "\n",
       "          PlatLot PlatBlock PlatBlock  \\\n",
       "0  11                                   \n",
       "1  24                                   \n",
       "2  9                          42        \n",
       "\n",
       "                                          SellerName  \\\n",
       "0  GINGRICH AUDREY B                             ...   \n",
       "1  QUADRANT CORPORATION                          ...   \n",
       "2  MALLAHAN MATTHEW JOSEPH                       ...   \n",
       "\n",
       "                                           BuyerName  \n",
       "0  NATION FRED I                                 ...  \n",
       "1  KANG JING                                     ...  \n",
       "2  MALLAHAN CAROLYN S                            ...  "
      ]
     },
     "execution_count": 21,
     "metadata": {},
     "output_type": "execute_result"
    }
   ],
   "source": [
    "# checking columns \n",
    "li = ['RecordingNbr', 'Volume', 'Page', 'PlatNbr' ,'PlatType',\\\n",
    "    'PlatLot', 'PlatBlock', 'SellerName', 'BuyerName']\n",
    "fn.chunker(df,li)"
   ]
  },
  {
   "cell_type": "markdown",
   "metadata": {},
   "source": [
    "Dropping columns and checking the results."
   ]
  },
  {
   "cell_type": "code",
   "execution_count": 22,
   "metadata": {},
   "outputs": [],
   "source": [
    "# dropping blank and extraneous columns\n",
    "fn.dropper(df, li, True)"
   ]
  },
  {
   "cell_type": "code",
   "execution_count": 23,
   "metadata": {},
   "outputs": [
    {
     "data": {
      "text/html": [
       "<div>\n",
       "<style scoped>\n",
       "    .dataframe tbody tr th:only-of-type {\n",
       "        vertical-align: middle;\n",
       "    }\n",
       "\n",
       "    .dataframe tbody tr th {\n",
       "        vertical-align: top;\n",
       "    }\n",
       "\n",
       "    .dataframe thead th {\n",
       "        text-align: right;\n",
       "    }\n",
       "</style>\n",
       "<table border=\"1\" class=\"dataframe\">\n",
       "  <thead>\n",
       "    <tr style=\"text-align: right;\">\n",
       "      <th></th>\n",
       "      <th>ExciseTaxNbr</th>\n",
       "      <th>Major</th>\n",
       "      <th>Minor</th>\n",
       "      <th>DocumentDate</th>\n",
       "      <th>SalePrice</th>\n",
       "      <th>PropertyType</th>\n",
       "      <th>PrincipalUse</th>\n",
       "      <th>SaleInstrument</th>\n",
       "      <th>AFForestLand</th>\n",
       "      <th>AFCurrentUseLand</th>\n",
       "      <th>...</th>\n",
       "      <th>FpMultiStory</th>\n",
       "      <th>FpFreestanding</th>\n",
       "      <th>FpAdditional</th>\n",
       "      <th>YrBuilt</th>\n",
       "      <th>YrRenovated</th>\n",
       "      <th>PcntComplete</th>\n",
       "      <th>Obsolescence</th>\n",
       "      <th>PcntNetCondition</th>\n",
       "      <th>Condition</th>\n",
       "      <th>AddnlCost</th>\n",
       "    </tr>\n",
       "  </thead>\n",
       "  <tbody>\n",
       "    <tr>\n",
       "      <th>0</th>\n",
       "      <td>2743355</td>\n",
       "      <td>638580</td>\n",
       "      <td>0110</td>\n",
       "      <td>07/14/2015</td>\n",
       "      <td>190000</td>\n",
       "      <td>3</td>\n",
       "      <td>6</td>\n",
       "      <td>3</td>\n",
       "      <td>N</td>\n",
       "      <td>N</td>\n",
       "      <td>...</td>\n",
       "      <td>1</td>\n",
       "      <td>0</td>\n",
       "      <td>1</td>\n",
       "      <td>1963</td>\n",
       "      <td>0</td>\n",
       "      <td>0</td>\n",
       "      <td>0</td>\n",
       "      <td>0</td>\n",
       "      <td>3</td>\n",
       "      <td>0</td>\n",
       "    </tr>\n",
       "  </tbody>\n",
       "</table>\n",
       "<p>1 rows × 139 columns</p>\n",
       "</div>"
      ],
      "text/plain": [
       "  ExciseTaxNbr   Major Minor DocumentDate SalePrice PropertyType PrincipalUse  \\\n",
       "0      2743355  638580  0110   07/14/2015    190000            3            6   \n",
       "\n",
       "  SaleInstrument AFForestLand AFCurrentUseLand  ... FpMultiStory  \\\n",
       "0              3            N                N  ...            1   \n",
       "\n",
       "  FpFreestanding FpAdditional YrBuilt YrRenovated PcntComplete Obsolescence  \\\n",
       "0              0            1    1963           0            0            0   \n",
       "\n",
       "  PcntNetCondition Condition AddnlCost  \n",
       "0                0         3         0  \n",
       "\n",
       "[1 rows x 139 columns]"
      ]
     },
     "execution_count": 23,
     "metadata": {},
     "output_type": "execute_result"
    }
   ],
   "source": [
    "# checking first row\n",
    "df.head(1)"
   ]
  },
  {
   "cell_type": "markdown",
   "metadata": {},
   "source": [
    "### Checking for Duplicate Columns\n",
    "\n",
    "Before going any further, finding and dropping any dupes."
   ]
  },
  {
   "cell_type": "code",
   "execution_count": 24,
   "metadata": {},
   "outputs": [
    {
     "data": {
      "text/html": [
       "<div>\n",
       "<style scoped>\n",
       "    .dataframe tbody tr th:only-of-type {\n",
       "        vertical-align: middle;\n",
       "    }\n",
       "\n",
       "    .dataframe tbody tr th {\n",
       "        vertical-align: top;\n",
       "    }\n",
       "\n",
       "    .dataframe thead th {\n",
       "        text-align: right;\n",
       "    }\n",
       "</style>\n",
       "<table border=\"1\" class=\"dataframe\">\n",
       "  <thead>\n",
       "    <tr style=\"text-align: right;\">\n",
       "      <th></th>\n",
       "      <th>Major</th>\n",
       "      <th>Minor</th>\n",
       "      <th>Major</th>\n",
       "      <th>Minor</th>\n",
       "    </tr>\n",
       "  </thead>\n",
       "  <tbody>\n",
       "    <tr>\n",
       "      <th>0</th>\n",
       "      <td>638580</td>\n",
       "      <td>0110</td>\n",
       "      <td>638580</td>\n",
       "      <td>0110</td>\n",
       "    </tr>\n",
       "    <tr>\n",
       "      <th>1</th>\n",
       "      <td>894677</td>\n",
       "      <td>0240</td>\n",
       "      <td>894677</td>\n",
       "      <td>0240</td>\n",
       "    </tr>\n",
       "    <tr>\n",
       "      <th>2</th>\n",
       "      <td>408330</td>\n",
       "      <td>4150</td>\n",
       "      <td>408330</td>\n",
       "      <td>4150</td>\n",
       "    </tr>\n",
       "  </tbody>\n",
       "</table>\n",
       "</div>"
      ],
      "text/plain": [
       "    Major Minor   Major Minor\n",
       "0  638580  0110  638580  0110\n",
       "1  894677  0240  894677  0240\n",
       "2  408330  4150  408330  4150"
      ]
     },
     "execution_count": 24,
     "metadata": {},
     "output_type": "execute_result"
    }
   ],
   "source": [
    "# checking for duplicate columns\n",
    "df.loc[:, df.columns.duplicated()].head(3)"
   ]
  },
  {
   "cell_type": "code",
   "execution_count": 25,
   "metadata": {},
   "outputs": [
    {
     "data": {
      "text/plain": [
       "(251300, 135)"
      ]
     },
     "execution_count": 25,
     "metadata": {},
     "output_type": "execute_result"
    }
   ],
   "source": [
    "# dropping duplicate column and checking shape\n",
    "df = df.loc[:,~df.columns.duplicated()]\n",
    "df.shape"
   ]
  },
  {
   "cell_type": "markdown",
   "metadata": {},
   "source": [
    "###  Swapping Column Order & Adding an ```'ID'``` Feature\n",
    "Doing a little house cleaning by moving the ```'SalePrice'``` target variable to the front of the data frame and creating an ```'ID'``` feature by combining the```'Major'``` and ```'Minor'``` values into a single string. Moving the ```'ID'``` feature to second position in the data frame."
   ]
  },
  {
   "cell_type": "code",
   "execution_count": 26,
   "metadata": {},
   "outputs": [
    {
     "data": {
      "text/html": [
       "<div>\n",
       "<style scoped>\n",
       "    .dataframe tbody tr th:only-of-type {\n",
       "        vertical-align: middle;\n",
       "    }\n",
       "\n",
       "    .dataframe tbody tr th {\n",
       "        vertical-align: top;\n",
       "    }\n",
       "\n",
       "    .dataframe thead th {\n",
       "        text-align: right;\n",
       "    }\n",
       "</style>\n",
       "<table border=\"1\" class=\"dataframe\">\n",
       "  <thead>\n",
       "    <tr style=\"text-align: right;\">\n",
       "      <th></th>\n",
       "      <th>SalePrice</th>\n",
       "      <th>ExciseTaxNbr</th>\n",
       "      <th>Major</th>\n",
       "      <th>Minor</th>\n",
       "      <th>DocumentDate</th>\n",
       "      <th>PropertyType</th>\n",
       "      <th>PrincipalUse</th>\n",
       "      <th>SaleInstrument</th>\n",
       "      <th>AFForestLand</th>\n",
       "      <th>AFCurrentUseLand</th>\n",
       "      <th>...</th>\n",
       "      <th>FpMultiStory</th>\n",
       "      <th>FpFreestanding</th>\n",
       "      <th>FpAdditional</th>\n",
       "      <th>YrBuilt</th>\n",
       "      <th>YrRenovated</th>\n",
       "      <th>PcntComplete</th>\n",
       "      <th>Obsolescence</th>\n",
       "      <th>PcntNetCondition</th>\n",
       "      <th>Condition</th>\n",
       "      <th>AddnlCost</th>\n",
       "    </tr>\n",
       "  </thead>\n",
       "  <tbody>\n",
       "    <tr>\n",
       "      <th>0</th>\n",
       "      <td>190000</td>\n",
       "      <td>2743355</td>\n",
       "      <td>638580</td>\n",
       "      <td>0110</td>\n",
       "      <td>07/14/2015</td>\n",
       "      <td>3</td>\n",
       "      <td>6</td>\n",
       "      <td>3</td>\n",
       "      <td>N</td>\n",
       "      <td>N</td>\n",
       "      <td>...</td>\n",
       "      <td>1</td>\n",
       "      <td>0</td>\n",
       "      <td>1</td>\n",
       "      <td>1963</td>\n",
       "      <td>0</td>\n",
       "      <td>0</td>\n",
       "      <td>0</td>\n",
       "      <td>0</td>\n",
       "      <td>3</td>\n",
       "      <td>0</td>\n",
       "    </tr>\n",
       "    <tr>\n",
       "      <th>1</th>\n",
       "      <td>818161</td>\n",
       "      <td>2841697</td>\n",
       "      <td>894677</td>\n",
       "      <td>0240</td>\n",
       "      <td>12/21/2016</td>\n",
       "      <td>2</td>\n",
       "      <td>6</td>\n",
       "      <td>3</td>\n",
       "      <td>N</td>\n",
       "      <td>N</td>\n",
       "      <td>...</td>\n",
       "      <td>0</td>\n",
       "      <td>0</td>\n",
       "      <td>0</td>\n",
       "      <td>2016</td>\n",
       "      <td>0</td>\n",
       "      <td>0</td>\n",
       "      <td>0</td>\n",
       "      <td>0</td>\n",
       "      <td>3</td>\n",
       "      <td>0</td>\n",
       "    </tr>\n",
       "    <tr>\n",
       "      <th>2</th>\n",
       "      <td>0</td>\n",
       "      <td>2860712</td>\n",
       "      <td>408330</td>\n",
       "      <td>4150</td>\n",
       "      <td>03/15/2017</td>\n",
       "      <td>3</td>\n",
       "      <td>6</td>\n",
       "      <td>15</td>\n",
       "      <td>N</td>\n",
       "      <td>N</td>\n",
       "      <td>...</td>\n",
       "      <td>1</td>\n",
       "      <td>0</td>\n",
       "      <td>0</td>\n",
       "      <td>1906</td>\n",
       "      <td>0</td>\n",
       "      <td>0</td>\n",
       "      <td>0</td>\n",
       "      <td>0</td>\n",
       "      <td>4</td>\n",
       "      <td>0</td>\n",
       "    </tr>\n",
       "  </tbody>\n",
       "</table>\n",
       "<p>3 rows × 135 columns</p>\n",
       "</div>"
      ],
      "text/plain": [
       "  SalePrice ExciseTaxNbr   Major Minor DocumentDate PropertyType PrincipalUse  \\\n",
       "0    190000      2743355  638580  0110   07/14/2015            3            6   \n",
       "1    818161      2841697  894677  0240   12/21/2016            2            6   \n",
       "2         0      2860712  408330  4150   03/15/2017            3            6   \n",
       "\n",
       "  SaleInstrument AFForestLand AFCurrentUseLand  ... FpMultiStory  \\\n",
       "0              3            N                N  ...            1   \n",
       "1              3            N                N  ...            0   \n",
       "2             15            N                N  ...            1   \n",
       "\n",
       "  FpFreestanding FpAdditional YrBuilt YrRenovated PcntComplete Obsolescence  \\\n",
       "0              0            1    1963           0            0            0   \n",
       "1              0            0    2016           0            0            0   \n",
       "2              0            0    1906           0            0            0   \n",
       "\n",
       "  PcntNetCondition Condition AddnlCost  \n",
       "0                0         3         0  \n",
       "1                0         3         0  \n",
       "2                0         4         0  \n",
       "\n",
       "[3 rows x 135 columns]"
      ]
     },
     "execution_count": 26,
     "metadata": {},
     "output_type": "execute_result"
    }
   ],
   "source": [
    "# moving target variable to the front column of the df\n",
    "columns = list(df.columns)\n",
    "columns = [columns[4]] + columns[:4] + columns[5:]\n",
    "df = df[columns]\n",
    "df.head(3)"
   ]
  },
  {
   "cell_type": "code",
   "execution_count": 27,
   "metadata": {},
   "outputs": [],
   "source": [
    "# creating 'ID' column\n",
    "df['ID'] = df['Major'] + df['Minor']"
   ]
  },
  {
   "cell_type": "code",
   "execution_count": 28,
   "metadata": {},
   "outputs": [
    {
     "name": "stdout",
     "output_type": "stream",
     "text": [
      "<class 'pandas.core.frame.DataFrame'>\n",
      "RangeIndex: 251300 entries, 0 to 251299\n",
      "Columns: 136 entries, SalePrice to ID\n",
      "dtypes: object(136)\n",
      "memory usage: 260.7+ MB\n"
     ]
    }
   ],
   "source": [
    "# getting info\n",
    "df.info()"
   ]
  },
  {
   "cell_type": "code",
   "execution_count": 29,
   "metadata": {},
   "outputs": [
    {
     "data": {
      "text/html": [
       "<div>\n",
       "<style scoped>\n",
       "    .dataframe tbody tr th:only-of-type {\n",
       "        vertical-align: middle;\n",
       "    }\n",
       "\n",
       "    .dataframe tbody tr th {\n",
       "        vertical-align: top;\n",
       "    }\n",
       "\n",
       "    .dataframe thead th {\n",
       "        text-align: right;\n",
       "    }\n",
       "</style>\n",
       "<table border=\"1\" class=\"dataframe\">\n",
       "  <thead>\n",
       "    <tr style=\"text-align: right;\">\n",
       "      <th></th>\n",
       "      <th>SalePrice</th>\n",
       "      <th>ID</th>\n",
       "      <th>ExciseTaxNbr</th>\n",
       "      <th>Major</th>\n",
       "      <th>Minor</th>\n",
       "      <th>DocumentDate</th>\n",
       "      <th>PropertyType</th>\n",
       "      <th>PrincipalUse</th>\n",
       "      <th>SaleInstrument</th>\n",
       "      <th>AFForestLand</th>\n",
       "      <th>...</th>\n",
       "      <th>FpMultiStory</th>\n",
       "      <th>FpFreestanding</th>\n",
       "      <th>FpAdditional</th>\n",
       "      <th>YrBuilt</th>\n",
       "      <th>YrRenovated</th>\n",
       "      <th>PcntComplete</th>\n",
       "      <th>Obsolescence</th>\n",
       "      <th>PcntNetCondition</th>\n",
       "      <th>Condition</th>\n",
       "      <th>AddnlCost</th>\n",
       "    </tr>\n",
       "  </thead>\n",
       "  <tbody>\n",
       "    <tr>\n",
       "      <th>0</th>\n",
       "      <td>190000</td>\n",
       "      <td>6385800110</td>\n",
       "      <td>2743355</td>\n",
       "      <td>638580</td>\n",
       "      <td>0110</td>\n",
       "      <td>07/14/2015</td>\n",
       "      <td>3</td>\n",
       "      <td>6</td>\n",
       "      <td>3</td>\n",
       "      <td>N</td>\n",
       "      <td>...</td>\n",
       "      <td>1</td>\n",
       "      <td>0</td>\n",
       "      <td>1</td>\n",
       "      <td>1963</td>\n",
       "      <td>0</td>\n",
       "      <td>0</td>\n",
       "      <td>0</td>\n",
       "      <td>0</td>\n",
       "      <td>3</td>\n",
       "      <td>0</td>\n",
       "    </tr>\n",
       "  </tbody>\n",
       "</table>\n",
       "<p>1 rows × 136 columns</p>\n",
       "</div>"
      ],
      "text/plain": [
       "  SalePrice          ID ExciseTaxNbr   Major Minor DocumentDate PropertyType  \\\n",
       "0    190000  6385800110      2743355  638580  0110   07/14/2015            3   \n",
       "\n",
       "  PrincipalUse SaleInstrument AFForestLand  ... FpMultiStory FpFreestanding  \\\n",
       "0            6              3            N  ...            1              0   \n",
       "\n",
       "  FpAdditional YrBuilt YrRenovated PcntComplete Obsolescence PcntNetCondition  \\\n",
       "0            1    1963           0            0            0                0   \n",
       "\n",
       "  Condition AddnlCost  \n",
       "0         3         0  \n",
       "\n",
       "[1 rows x 136 columns]"
      ]
     },
     "execution_count": 29,
     "metadata": {},
     "output_type": "execute_result"
    }
   ],
   "source": [
    "# moving ID column to the front column of the df\n",
    "columns = list(df.columns)\n",
    "columns = columns[:1] + [columns[135]] + columns[1:135]\n",
    "df = df[columns]\n",
    "df.head(1)"
   ]
  },
  {
   "cell_type": "markdown",
   "metadata": {},
   "source": [
    "### Inspecting Columns and Dropping Extraneous Features\n",
    "Working through the list of columns step by step and removing features that seem like they will have minimal impact of the model."
   ]
  },
  {
   "cell_type": "code",
   "execution_count": 30,
   "metadata": {},
   "outputs": [
    {
     "data": {
      "text/plain": [
       "['SalePrice',\n",
       " 'ID',\n",
       " 'ExciseTaxNbr',\n",
       " 'Major',\n",
       " 'Minor',\n",
       " 'DocumentDate',\n",
       " 'PropertyType',\n",
       " 'PrincipalUse',\n",
       " 'SaleInstrument',\n",
       " 'AFForestLand',\n",
       " 'AFCurrentUseLand',\n",
       " 'AFNonProfitUse',\n",
       " 'AFHistoricProperty',\n",
       " 'SaleReason',\n",
       " 'PropertyClass',\n",
       " 'SaleWarning',\n",
       " 'Range',\n",
       " 'Township',\n",
       " 'Section',\n",
       " 'QuarterSection',\n",
       " 'PropType',\n",
       " 'Area',\n",
       " 'SubArea',\n",
       " 'DistrictName',\n",
       " 'LevyCode',\n",
       " 'CurrentZoning',\n",
       " 'HBUAsIfVacant',\n",
       " 'HBUAsImproved',\n",
       " 'PresentUse',\n",
       " 'SqFtLot',\n",
       " 'WaterSystem',\n",
       " 'SewerSystem',\n",
       " 'Access',\n",
       " 'Topography',\n",
       " 'StreetSurface',\n",
       " 'RestrictiveSzShape',\n",
       " 'InadequateParking',\n",
       " 'PcntUnusable',\n",
       " 'Unbuildable',\n",
       " 'MtRainier',\n",
       " 'Olympics',\n",
       " 'Cascades',\n",
       " 'Territorial',\n",
       " 'SeattleSkyline',\n",
       " 'PugetSound',\n",
       " 'LakeWashington',\n",
       " 'LakeSammamish',\n",
       " 'SmallLakeRiverCreek',\n",
       " 'OtherView',\n",
       " 'WfntLocation',\n",
       " 'WfntFootage',\n",
       " 'WfntBank',\n",
       " 'WfntPoorQuality',\n",
       " 'WfntRestrictedAccess',\n",
       " 'WfntAccessRights',\n",
       " 'WfntProximityInfluence',\n",
       " 'TidelandShoreland',\n",
       " 'LotDepthFactor',\n",
       " 'TrafficNoise',\n",
       " 'AirportNoise',\n",
       " 'PowerLines',\n",
       " 'OtherNuisances',\n",
       " 'NbrBldgSites',\n",
       " 'Contamination',\n",
       " 'DNRLease',\n",
       " 'AdjacentGolfFairway',\n",
       " 'AdjacentGreenbelt',\n",
       " 'HistoricSite',\n",
       " 'CurrentUseDesignation',\n",
       " 'NativeGrowthProtEsmt',\n",
       " 'Easements',\n",
       " 'OtherDesignation',\n",
       " 'DeedRestrictions',\n",
       " 'DevelopmentRightsPurch',\n",
       " 'CoalMineHazard',\n",
       " 'CriticalDrainage',\n",
       " 'ErosionHazard',\n",
       " 'LandfillBuffer',\n",
       " 'HundredYrFloodPlain',\n",
       " 'SeismicHazard',\n",
       " 'LandslideHazard',\n",
       " 'SteepSlopeHazard',\n",
       " 'Stream',\n",
       " 'Wetland',\n",
       " 'SpeciesOfConcern',\n",
       " 'SensitiveAreaTract',\n",
       " 'WaterProblems',\n",
       " 'TranspConcurrency',\n",
       " 'OtherProblems',\n",
       " 'BldgNbr',\n",
       " 'NbrLivingUnits',\n",
       " 'Address',\n",
       " 'BuildingNumber',\n",
       " 'Fraction',\n",
       " 'StreetName',\n",
       " 'StreetType',\n",
       " 'DirectionSuffix',\n",
       " 'ZipCode',\n",
       " 'Stories',\n",
       " 'BldgGrade',\n",
       " 'BldgGradeVar',\n",
       " 'SqFt1stFloor',\n",
       " 'SqFtHalfFloor',\n",
       " 'SqFt2ndFloor',\n",
       " 'SqFtUpperFloor',\n",
       " 'SqFtUnfinFull',\n",
       " 'SqFtUnfinHalf',\n",
       " 'SqFtTotLiving',\n",
       " 'SqFtTotBasement',\n",
       " 'SqFtFinBasement',\n",
       " 'FinBasementGrade',\n",
       " 'SqFtGarageBasement',\n",
       " 'SqFtGarageAttached',\n",
       " 'DaylightBasement',\n",
       " 'SqFtOpenPorch',\n",
       " 'SqFtEnclosedPorch',\n",
       " 'SqFtDeck',\n",
       " 'HeatSystem',\n",
       " 'HeatSource',\n",
       " 'BrickStone',\n",
       " 'ViewUtilization',\n",
       " 'Bedrooms',\n",
       " 'BathHalfCount',\n",
       " 'Bath3qtrCount',\n",
       " 'BathFullCount',\n",
       " 'FpSingleStory',\n",
       " 'FpMultiStory',\n",
       " 'FpFreestanding',\n",
       " 'FpAdditional',\n",
       " 'YrBuilt',\n",
       " 'YrRenovated',\n",
       " 'PcntComplete',\n",
       " 'Obsolescence',\n",
       " 'PcntNetCondition',\n",
       " 'Condition',\n",
       " 'AddnlCost']"
      ]
     },
     "execution_count": 30,
     "metadata": {},
     "output_type": "execute_result"
    }
   ],
   "source": [
    "# printing list of columns\n",
    "list(df.columns)"
   ]
  },
  {
   "cell_type": "code",
   "execution_count": 31,
   "metadata": {},
   "outputs": [
    {
     "data": {
      "text/html": [
       "<div>\n",
       "<style scoped>\n",
       "    .dataframe tbody tr th:only-of-type {\n",
       "        vertical-align: middle;\n",
       "    }\n",
       "\n",
       "    .dataframe tbody tr th {\n",
       "        vertical-align: top;\n",
       "    }\n",
       "\n",
       "    .dataframe thead th {\n",
       "        text-align: right;\n",
       "    }\n",
       "</style>\n",
       "<table border=\"1\" class=\"dataframe\">\n",
       "  <thead>\n",
       "    <tr style=\"text-align: right;\">\n",
       "      <th></th>\n",
       "      <th>SaleInstrument</th>\n",
       "      <th>AFForestLand</th>\n",
       "      <th>AFCurrentUseLand</th>\n",
       "      <th>AFNonProfitUse</th>\n",
       "      <th>AFHistoricProperty</th>\n",
       "      <th>SaleReason</th>\n",
       "      <th>PropertyClass</th>\n",
       "      <th>SaleWarning</th>\n",
       "    </tr>\n",
       "  </thead>\n",
       "  <tbody>\n",
       "    <tr>\n",
       "      <th>0</th>\n",
       "      <td>3</td>\n",
       "      <td>N</td>\n",
       "      <td>N</td>\n",
       "      <td>N</td>\n",
       "      <td>N</td>\n",
       "      <td>1</td>\n",
       "      <td>8</td>\n",
       "      <td>15</td>\n",
       "    </tr>\n",
       "    <tr>\n",
       "      <th>1</th>\n",
       "      <td>3</td>\n",
       "      <td>N</td>\n",
       "      <td>N</td>\n",
       "      <td>N</td>\n",
       "      <td>N</td>\n",
       "      <td>1</td>\n",
       "      <td>8</td>\n",
       "      <td></td>\n",
       "    </tr>\n",
       "    <tr>\n",
       "      <th>2</th>\n",
       "      <td>15</td>\n",
       "      <td>N</td>\n",
       "      <td>N</td>\n",
       "      <td>N</td>\n",
       "      <td>N</td>\n",
       "      <td>11</td>\n",
       "      <td>8</td>\n",
       "      <td>18 31 38</td>\n",
       "    </tr>\n",
       "  </tbody>\n",
       "</table>\n",
       "</div>"
      ],
      "text/plain": [
       "  SaleInstrument AFForestLand AFCurrentUseLand AFNonProfitUse  \\\n",
       "0              3            N                N              N   \n",
       "1              3            N                N              N   \n",
       "2             15            N                N              N   \n",
       "\n",
       "  AFHistoricProperty SaleReason PropertyClass SaleWarning  \n",
       "0                  N          1             8          15  \n",
       "1                  N          1             8              \n",
       "2                  N         11             8    18 31 38  "
      ]
     },
     "execution_count": 31,
     "metadata": {},
     "output_type": "execute_result"
    }
   ],
   "source": [
    "# creating data frame to inspect latest batch of columns\n",
    "li =['SaleInstrument',\n",
    " 'AFForestLand',\n",
    " 'AFCurrentUseLand',\n",
    " 'AFNonProfitUse',\n",
    " 'AFHistoricProperty',\n",
    " 'SaleReason',\n",
    " 'PropertyClass',\n",
    " 'SaleWarning']\n",
    "fn.chunker(df, li)"
   ]
  },
  {
   "cell_type": "markdown",
   "metadata": {},
   "source": [
    "#### Using Lookup Table For More Info on the Features\n",
    "Checking lookup data and dropping columns."
   ]
  },
  {
   "cell_type": "code",
   "execution_count": 32,
   "metadata": {},
   "outputs": [
    {
     "data": {
      "text/plain": [
       "(     LUType LUItem                    LUDescription\n",
       " 1002      6      1                             None\n",
       " 1003      6     10             Real Estate Contract\n",
       " 1004      6     11           Purchaser's Assignment\n",
       " 1005      6     13              Seller's Assignment\n",
       " 1006      6     15                  Quit Claim Deed\n",
       " 1007      6     18                   Trustees' Deed\n",
       " 1008      6     19                  Executor's Deed\n",
       " 1009      6      2                    Warranty Deed\n",
       " 1010      6     20                   Fiduciary Deed\n",
       " 1011      6     21                   Sheriff's Deed\n",
       " 1012      6     22           Bargain and Sales Deed\n",
       " 1013      6     23                   Receivers Deed\n",
       " 1014      6     24             Deed of Personal Rep\n",
       " 1015      6     25         Judgment Per Stipulation\n",
       " 1016      6     26            Other - See Affidavit\n",
       " 1017      6     27                             DEED\n",
       " 1018      6     28  Forfeiture Real Estate Contract\n",
       " 1019      6      3          Statutory Warranty Deed\n",
       " 1020      6      4            Special Warranty Deed\n",
       " 1021      6      5          Corporate Warranty Deed\n",
       " 1022      6      6         Assumption Warranty Deed\n",
       " 1023      6      7                       Grant Deed\n",
       " 1024      6      8                Contract (equity)\n",
       " 1025      6      9           Contract (installment),\n",
       "     LUType LUItem                 LUDescription\n",
       " 861      4      1                 C/I-Land only\n",
       " 862      4      2     C/I-Imp prop; no condo/MH\n",
       " 863      4      3               C/I-Condominium\n",
       " 864      4      4           C/I-Air rights only\n",
       " 865      4      5  C/I-Imp prop excl air rights\n",
       " 866      4      6    C/I-Land or bldg; no split\n",
       " 867      4      7                 Res-Land only\n",
       " 868      4      8         Res-Improved property\n",
       " 869      4      9        Res or C/I-Mobile Home)"
      ]
     },
     "execution_count": 32,
     "metadata": {},
     "output_type": "execute_result"
    }
   ],
   "source": [
    "# using custom lookup function to print info \n",
    "fn.lookup(look, 6), fn.lookup(look, 4)"
   ]
  },
  {
   "cell_type": "markdown",
   "metadata": {},
   "source": [
    "#### Dropping Columns\n",
    "Seems to be more administrative data that can be safely dropped. Droppping columns and grabbing new batch for inspection."
   ]
  },
  {
   "cell_type": "code",
   "execution_count": 33,
   "metadata": {},
   "outputs": [],
   "source": [
    "# dropping extraneous columns\n",
    "fn.dropper(df, li, True)"
   ]
  },
  {
   "cell_type": "code",
   "execution_count": 34,
   "metadata": {},
   "outputs": [
    {
     "data": {
      "text/plain": [
       "['SalePrice',\n",
       " 'ID',\n",
       " 'ExciseTaxNbr',\n",
       " 'Major',\n",
       " 'Minor',\n",
       " 'DocumentDate',\n",
       " 'PropertyType',\n",
       " 'PrincipalUse',\n",
       " 'Range',\n",
       " 'Township',\n",
       " 'Section',\n",
       " 'QuarterSection',\n",
       " 'PropType',\n",
       " 'Area',\n",
       " 'SubArea',\n",
       " 'DistrictName',\n",
       " 'LevyCode',\n",
       " 'CurrentZoning',\n",
       " 'HBUAsIfVacant',\n",
       " 'HBUAsImproved',\n",
       " 'PresentUse',\n",
       " 'SqFtLot',\n",
       " 'WaterSystem',\n",
       " 'SewerSystem',\n",
       " 'Access',\n",
       " 'Topography',\n",
       " 'StreetSurface',\n",
       " 'RestrictiveSzShape',\n",
       " 'InadequateParking',\n",
       " 'PcntUnusable',\n",
       " 'Unbuildable',\n",
       " 'MtRainier',\n",
       " 'Olympics',\n",
       " 'Cascades',\n",
       " 'Territorial',\n",
       " 'SeattleSkyline',\n",
       " 'PugetSound',\n",
       " 'LakeWashington',\n",
       " 'LakeSammamish',\n",
       " 'SmallLakeRiverCreek',\n",
       " 'OtherView',\n",
       " 'WfntLocation',\n",
       " 'WfntFootage',\n",
       " 'WfntBank',\n",
       " 'WfntPoorQuality',\n",
       " 'WfntRestrictedAccess',\n",
       " 'WfntAccessRights',\n",
       " 'WfntProximityInfluence',\n",
       " 'TidelandShoreland',\n",
       " 'LotDepthFactor',\n",
       " 'TrafficNoise',\n",
       " 'AirportNoise',\n",
       " 'PowerLines',\n",
       " 'OtherNuisances',\n",
       " 'NbrBldgSites',\n",
       " 'Contamination',\n",
       " 'DNRLease',\n",
       " 'AdjacentGolfFairway',\n",
       " 'AdjacentGreenbelt',\n",
       " 'HistoricSite',\n",
       " 'CurrentUseDesignation',\n",
       " 'NativeGrowthProtEsmt',\n",
       " 'Easements',\n",
       " 'OtherDesignation',\n",
       " 'DeedRestrictions',\n",
       " 'DevelopmentRightsPurch',\n",
       " 'CoalMineHazard',\n",
       " 'CriticalDrainage',\n",
       " 'ErosionHazard',\n",
       " 'LandfillBuffer',\n",
       " 'HundredYrFloodPlain',\n",
       " 'SeismicHazard',\n",
       " 'LandslideHazard',\n",
       " 'SteepSlopeHazard',\n",
       " 'Stream',\n",
       " 'Wetland',\n",
       " 'SpeciesOfConcern',\n",
       " 'SensitiveAreaTract',\n",
       " 'WaterProblems',\n",
       " 'TranspConcurrency',\n",
       " 'OtherProblems',\n",
       " 'BldgNbr',\n",
       " 'NbrLivingUnits',\n",
       " 'Address',\n",
       " 'BuildingNumber',\n",
       " 'Fraction',\n",
       " 'StreetName',\n",
       " 'StreetType',\n",
       " 'DirectionSuffix',\n",
       " 'ZipCode',\n",
       " 'Stories',\n",
       " 'BldgGrade',\n",
       " 'BldgGradeVar',\n",
       " 'SqFt1stFloor',\n",
       " 'SqFtHalfFloor',\n",
       " 'SqFt2ndFloor',\n",
       " 'SqFtUpperFloor',\n",
       " 'SqFtUnfinFull',\n",
       " 'SqFtUnfinHalf',\n",
       " 'SqFtTotLiving',\n",
       " 'SqFtTotBasement',\n",
       " 'SqFtFinBasement',\n",
       " 'FinBasementGrade',\n",
       " 'SqFtGarageBasement',\n",
       " 'SqFtGarageAttached',\n",
       " 'DaylightBasement',\n",
       " 'SqFtOpenPorch',\n",
       " 'SqFtEnclosedPorch',\n",
       " 'SqFtDeck',\n",
       " 'HeatSystem',\n",
       " 'HeatSource',\n",
       " 'BrickStone',\n",
       " 'ViewUtilization',\n",
       " 'Bedrooms',\n",
       " 'BathHalfCount',\n",
       " 'Bath3qtrCount',\n",
       " 'BathFullCount',\n",
       " 'FpSingleStory',\n",
       " 'FpMultiStory',\n",
       " 'FpFreestanding',\n",
       " 'FpAdditional',\n",
       " 'YrBuilt',\n",
       " 'YrRenovated',\n",
       " 'PcntComplete',\n",
       " 'Obsolescence',\n",
       " 'PcntNetCondition',\n",
       " 'Condition',\n",
       " 'AddnlCost']"
      ]
     },
     "execution_count": 34,
     "metadata": {},
     "output_type": "execute_result"
    }
   ],
   "source": [
    "# printing list of cols\n",
    "list(df.columns)"
   ]
  },
  {
   "cell_type": "markdown",
   "metadata": {},
   "source": [
    "#### Inspecting Batch and Checking ```'DistrictName'``` Feature"
   ]
  },
  {
   "cell_type": "code",
   "execution_count": 35,
   "metadata": {},
   "outputs": [
    {
     "data": {
      "text/html": [
       "<div>\n",
       "<style scoped>\n",
       "    .dataframe tbody tr th:only-of-type {\n",
       "        vertical-align: middle;\n",
       "    }\n",
       "\n",
       "    .dataframe tbody tr th {\n",
       "        vertical-align: top;\n",
       "    }\n",
       "\n",
       "    .dataframe thead th {\n",
       "        text-align: right;\n",
       "    }\n",
       "</style>\n",
       "<table border=\"1\" class=\"dataframe\">\n",
       "  <thead>\n",
       "    <tr style=\"text-align: right;\">\n",
       "      <th></th>\n",
       "      <th>Range</th>\n",
       "      <th>Township</th>\n",
       "      <th>Section</th>\n",
       "      <th>QuarterSection</th>\n",
       "      <th>PropType</th>\n",
       "      <th>Area</th>\n",
       "      <th>SubArea</th>\n",
       "      <th>DistrictName</th>\n",
       "      <th>LevyCode</th>\n",
       "      <th>CurrentZoning</th>\n",
       "    </tr>\n",
       "  </thead>\n",
       "  <tbody>\n",
       "    <tr>\n",
       "      <th>0</th>\n",
       "      <td>4</td>\n",
       "      <td>23</td>\n",
       "      <td>21</td>\n",
       "      <td>NE</td>\n",
       "      <td>R</td>\n",
       "      <td>24</td>\n",
       "      <td>3</td>\n",
       "      <td>SeaTac</td>\n",
       "      <td>2212</td>\n",
       "      <td>UL-7200</td>\n",
       "    </tr>\n",
       "    <tr>\n",
       "      <th>1</th>\n",
       "      <td>5</td>\n",
       "      <td>26</td>\n",
       "      <td>27</td>\n",
       "      <td>NW</td>\n",
       "      <td>R</td>\n",
       "      <td>93</td>\n",
       "      <td>7</td>\n",
       "      <td>KIRKLAND</td>\n",
       "      <td>1705</td>\n",
       "      <td>RSA 8</td>\n",
       "    </tr>\n",
       "    <tr>\n",
       "      <th>2</th>\n",
       "      <td>4</td>\n",
       "      <td>25</td>\n",
       "      <td>18</td>\n",
       "      <td>SE</td>\n",
       "      <td>R</td>\n",
       "      <td>43</td>\n",
       "      <td>7</td>\n",
       "      <td>SEATTLE</td>\n",
       "      <td>0010</td>\n",
       "      <td>SF 5000</td>\n",
       "    </tr>\n",
       "  </tbody>\n",
       "</table>\n",
       "</div>"
      ],
      "text/plain": [
       "  Range Township Section QuarterSection PropType Area SubArea DistrictName  \\\n",
       "0     4       23      21             NE        R   24       3       SeaTac   \n",
       "1     5       26      27             NW        R   93       7     KIRKLAND   \n",
       "2     4       25      18             SE        R   43       7      SEATTLE   \n",
       "\n",
       "  LevyCode CurrentZoning  \n",
       "0     2212       UL-7200  \n",
       "1     1705         RSA 8  \n",
       "2     0010       SF 5000  "
      ]
     },
     "execution_count": 35,
     "metadata": {},
     "output_type": "execute_result"
    }
   ],
   "source": [
    "# checking columns\n",
    "li = ['Range',\n",
    " 'Township',\n",
    " 'Section',\n",
    " 'QuarterSection',\n",
    " 'PropType',\n",
    " 'Area',\n",
    " 'SubArea',\n",
    " 'DistrictName',\n",
    " 'LevyCode',\n",
    " 'CurrentZoning']\n",
    "fn.chunker(df, li)"
   ]
  },
  {
   "cell_type": "code",
   "execution_count": 36,
   "metadata": {},
   "outputs": [
    {
     "data": {
      "text/plain": [
       "array(['SeaTac', 'KIRKLAND', 'SEATTLE', 'DUVALL', 'MAPLE VALLEY',\n",
       "       'KING COUNTY', 'TUKWILA', 'AUBURN', 'KENT', 'BELLEVUE',\n",
       "       'FEDERAL WAY', 'REDMOND', 'NORMANDY PARK', 'SHORELINE', 'RENTON',\n",
       "       'SNOQUALMIE', 'SAMMAMISH', 'BURIEN', 'BOTHELL', 'PACIFIC',\n",
       "       'DES MOINES', 'KENMORE', 'ALGONA', 'COVINGTON', 'NORTH BEND',\n",
       "       'BLACK DIAMOND', 'ENUMCLAW', 'LAKE FOREST PARK', 'MERCER ISLAND',\n",
       "       'WOODINVILLE', 'ISSAQUAH', 'NEWCASTLE', 'CLYDE HILL', 'MEDINA',\n",
       "       'SKYKOMISH', 'CARNATION', 'YARROW POINT', 'MILTON', 'BEAUX ARTS',\n",
       "       'HUNTS POINT'], dtype=object)"
      ]
     },
     "execution_count": 36,
     "metadata": {},
     "output_type": "execute_result"
    }
   ],
   "source": [
    "# getting unique values\n",
    "df['DistrictName'].unique()"
   ]
  },
  {
   "cell_type": "markdown",
   "metadata": {},
   "source": [
    "#### Slicing List and Dropping Features Except for ```'DistrictName'```\n",
    "District name seems like it may be useful so will be kept for now."
   ]
  },
  {
   "cell_type": "code",
   "execution_count": 37,
   "metadata": {},
   "outputs": [],
   "source": [
    "li = li[:7] + li[8:10]\n",
    "fn.dropper(df, li, True)"
   ]
  },
  {
   "cell_type": "markdown",
   "metadata": {},
   "source": [
    "##### Processing Next Batch\n",
    "Creating dataframe and using lookup data to inspect features."
   ]
  },
  {
   "cell_type": "code",
   "execution_count": 38,
   "metadata": {},
   "outputs": [
    {
     "data": {
      "text/html": [
       "<div>\n",
       "<style scoped>\n",
       "    .dataframe tbody tr th:only-of-type {\n",
       "        vertical-align: middle;\n",
       "    }\n",
       "\n",
       "    .dataframe tbody tr th {\n",
       "        vertical-align: top;\n",
       "    }\n",
       "\n",
       "    .dataframe thead th {\n",
       "        text-align: right;\n",
       "    }\n",
       "</style>\n",
       "<table border=\"1\" class=\"dataframe\">\n",
       "  <thead>\n",
       "    <tr style=\"text-align: right;\">\n",
       "      <th></th>\n",
       "      <th>HBUAsIfVacant</th>\n",
       "      <th>HBUAsImproved</th>\n",
       "      <th>PresentUse</th>\n",
       "      <th>SqFtLot</th>\n",
       "      <th>WaterSystem</th>\n",
       "      <th>SewerSystem</th>\n",
       "      <th>Access</th>\n",
       "      <th>Topography</th>\n",
       "      <th>StreetSurface</th>\n",
       "      <th>RestrictiveSzShape</th>\n",
       "      <th>InadequateParking</th>\n",
       "      <th>PcntUnusable</th>\n",
       "      <th>Unbuildable</th>\n",
       "    </tr>\n",
       "  </thead>\n",
       "  <tbody>\n",
       "    <tr>\n",
       "      <th>0</th>\n",
       "      <td>1</td>\n",
       "      <td>1</td>\n",
       "      <td>2</td>\n",
       "      <td>10534</td>\n",
       "      <td>2</td>\n",
       "      <td>2</td>\n",
       "      <td>4</td>\n",
       "      <td>0</td>\n",
       "      <td>1</td>\n",
       "      <td>0</td>\n",
       "      <td>2</td>\n",
       "      <td>0</td>\n",
       "      <td>False</td>\n",
       "    </tr>\n",
       "    <tr>\n",
       "      <th>1</th>\n",
       "      <td>1</td>\n",
       "      <td>1</td>\n",
       "      <td>2</td>\n",
       "      <td>3813</td>\n",
       "      <td>2</td>\n",
       "      <td>2</td>\n",
       "      <td>4</td>\n",
       "      <td>0</td>\n",
       "      <td>1</td>\n",
       "      <td>0</td>\n",
       "      <td>0</td>\n",
       "      <td>0</td>\n",
       "      <td>False</td>\n",
       "    </tr>\n",
       "    <tr>\n",
       "      <th>2</th>\n",
       "      <td>1</td>\n",
       "      <td>1</td>\n",
       "      <td>2</td>\n",
       "      <td>3420</td>\n",
       "      <td>2</td>\n",
       "      <td>2</td>\n",
       "      <td>4</td>\n",
       "      <td>0</td>\n",
       "      <td>1</td>\n",
       "      <td>0</td>\n",
       "      <td>2</td>\n",
       "      <td>0</td>\n",
       "      <td>False</td>\n",
       "    </tr>\n",
       "  </tbody>\n",
       "</table>\n",
       "</div>"
      ],
      "text/plain": [
       "  HBUAsIfVacant HBUAsImproved PresentUse SqFtLot WaterSystem SewerSystem  \\\n",
       "0             1             1          2   10534           2           2   \n",
       "1             1             1          2    3813           2           2   \n",
       "2             1             1          2    3420           2           2   \n",
       "\n",
       "  Access Topography StreetSurface RestrictiveSzShape InadequateParking  \\\n",
       "0      4          0             1                  0                 2   \n",
       "1      4          0             1                  0                 0   \n",
       "2      4          0             1                  0                 2   \n",
       "\n",
       "  PcntUnusable Unbuildable  \n",
       "0            0       False  \n",
       "1            0       False  \n",
       "2            0       False  "
      ]
     },
     "execution_count": 38,
     "metadata": {},
     "output_type": "execute_result"
    }
   ],
   "source": [
    "li = ['HBUAsIfVacant',\n",
    " 'HBUAsImproved',\n",
    " 'PresentUse',\n",
    " 'SqFtLot',\n",
    " 'WaterSystem',\n",
    " 'SewerSystem',\n",
    " 'Access',\n",
    " 'Topography',\n",
    " 'StreetSurface',\n",
    " 'RestrictiveSzShape',\n",
    " 'InadequateParking',\n",
    " 'PcntUnusable',\n",
    " 'Unbuildable',]\n",
    "fn.chunker(df, li)"
   ]
  },
  {
   "cell_type": "code",
   "execution_count": 39,
   "metadata": {
    "collapsed": true,
    "jupyter": {
     "outputs_hidden": true
    }
   },
   "outputs": [
    {
     "data": {
      "text/plain": [
       "(    LUType LUItem            LUDescription\n",
       " 213    103      1            SINGLE FAMILY\n",
       " 214    103     10  AMUSEMENT/ENTERTAINMENT\n",
       " 215    103     11                 CULTURAL\n",
       " 216    103     12      EDUCATIONAL SERVICE\n",
       " 217    103     13       COMMERCIAL SERVICE\n",
       " 218    103     14         RETAIL/WHOLESALE\n",
       " 219    103     15            MANUFACTURING\n",
       " 220    103     16             AGRICULTURAL\n",
       " 221    103     17                 FORESTRY\n",
       " 222    103     18     FISH & WILDLIFE MGMT\n",
       " 223    103     19                  MINERAL\n",
       " 224    103      2                   DUPLEX\n",
       " 225    103     20        REGIONAL LAND USE\n",
       " 226    103     21                MIXED USE\n",
       " 227    103      3                  TRIPLEX\n",
       " 228    103      4              MOBILE HOME\n",
       " 229    103      5        OTHER SF DWELLING\n",
       " 230    103      6    MULTI-FAMILY DWELLING\n",
       " 231    103      7          GROUP RESIDENCE\n",
       " 232    103      8        TEMPORARY LODGING\n",
       " 233    103      9          PARK/RECREATION,\n",
       "     LUType LUItem LUDescription\n",
       " 234    104      1   PRESENT USE\n",
       " 235    104      2   INTERIM USE\n",
       " 236    104      3     TEAR DOWN\n",
       " 237    104      4         OTHER,\n",
       "     LUType LUItem                   LUDescription\n",
       " 84     102      0                                \n",
       " 85     102     10              Congregate Housing\n",
       " 86     102    101                    Retail Store\n",
       " 87     102    104                 Retail(Big Box)\n",
       " 88     102    105                Retail(Discount)\n",
       " 89     102    106                 Office Building\n",
       " 90     102     11                       Apartment\n",
       " 91     102    118                     Office Park\n",
       " 92     102    122           Medical/Dental Office\n",
       " 93     102    126             Condominium(Office)\n",
       " 94     102    130                            Farm\n",
       " 95     102    137        Greenhse/Nrsry/Hort Srvc\n",
       " 96     102    138    Mining/Quarry/Ore Processing\n",
       " 97     102    140                   Bowling Alley\n",
       " 98     102    141                      Campground\n",
       " 99     102    142                   Driving Range\n",
       " 100    102    143                     Golf Course\n",
       " 101    102    145                     Health Club\n",
       " 102    102    146                          Marina\n",
       " 103    102    147                   Movie Theater\n",
       " 104    102    149         Park, Public(Zoo/Arbor)\n",
       " 105    102    150        Park, Private(Amuse Ctr)\n",
       " 106    102    152                        Ski Area\n",
       " 107    102    153        Skating Rink(Ice/Roller)\n",
       " 108    102    156                  Sport Facility\n",
       " 109    102    157     Art Gallery/Museum/Soc Srvc\n",
       " 110    102    159                  Parking(Assoc)\n",
       " 111    102     16            Apartment(Mixed Use)\n",
       " 112    102    160       Auditorium//Assembly Bldg\n",
       " 113    102    161           Auto Showroom and Lot\n",
       " 114    102    162                            Bank\n",
       " 115    102    163                        Car Wash\n",
       " 116    102    165       Church/Welfare/Relig Srvc\n",
       " 117    102    166                            Club\n",
       " 118    102    167          Conv Store without Gas\n",
       " 119    102    168             Conv Store with Gas\n",
       " 120    102     17                Apartment(Co-op)\n",
       " 121    102    171           Restaurant(Fast Food)\n",
       " 122    102    172            Governmental Service\n",
       " 123    102    173                        Hospital\n",
       " 124    102    179     Mortuary/Cemetery/Crematory\n",
       " 125    102     18           Apartment(Subsidized)\n",
       " 126    102    180         Parking(Commercial Lot)\n",
       " 127    102    182                 Parking(Garage)\n",
       " 128    102    183               Restaurant/Lounge\n",
       " 129    102    184                  School(Public)\n",
       " 130    102    185                 School(Private)\n",
       " 131    102    186                 Service Station\n",
       " 132    102    188                   Tavern/Lounge\n",
       " 133    102    189        Post Office/Post Service\n",
       " 134    102    190         Vet/Animal Control Srvc\n",
       " 135    102    191                   Grocery Store\n",
       " 136    102    193                  Daycare Center\n",
       " 137    102    194                       Mini Lube\n",
       " 138    102    195                       Warehouse\n",
       " 139    102      2     Single Family(Res Use/Zone)\n",
       " 140    102     20        Condominium(Residential)\n",
       " 141    102    202             High Tech/High Flex\n",
       " 142    102    210                 Industrial Park\n",
       " 143    102    216                Service Building\n",
       " 144    102    223         Industrial(Gen Purpose)\n",
       " 145    102    245               Industrial(Heavy)\n",
       " 146    102    246               Industrial(Light)\n",
       " 147    102    247        Air Terminal and Hangers\n",
       " 148    102     25          Condominium(Mixed Use)\n",
       " 149    102    252                  Mini Warehouse\n",
       " 150    102    261                  Terminal(Rail)\n",
       " 151    102    262      Terminal(Marine/Comm Fish)\n",
       " 152    102    263                 Terminal(Grain)\n",
       " 153    102    264        Terminal(Auto/Bus/Other)\n",
       " 154    102    266                 Utility, Public\n",
       " 155    102    267    Utility, Private(Radio/T.V.)\n",
       " 156    102    271                Terminal(Marine)\n",
       " 157    102    272        Historic Prop(Residence)\n",
       " 158    102    273           Historic Prop(Office)\n",
       " 159    102    274           Historic Prop(Retail)\n",
       " 160    102    275        Historic Prop(Eat/Drink)\n",
       " 161    102    276     Historic Prop(Loft/Warehse)\n",
       " 162    102    277     Historic Prop(Park/Billbrd)\n",
       " 163    102    278    Historic Prop(Transient Fac)\n",
       " 164    102    279    Historic Prop(Rec/Entertain)\n",
       " 165    102    280             Historic Prop(Misc)\n",
       " 166    102     29                  Townhouse Plat\n",
       " 167    102    299      Historic Prop(Vacant Land)\n",
       " 168    102      3                          Duplex\n",
       " 169    102    300           Vacant(Single-family)\n",
       " 170    102    301            Vacant(Multi-family)\n",
       " 171    102    309              Vacant(Commercial)\n",
       " 172    102    316              Vacant(Industrial)\n",
       " 173    102    323        Reforestation(RCW 84.28)\n",
       " 174    102    324    Forest Land(Class-RCW 84.33)\n",
       " 175    102    325    Forest Land(Desig-RCW 84.33)\n",
       " 176    102    326  Open Space(Curr Use-RCW 84.34)\n",
       " 177    102    327     Open Space(Agric-RCW 84.34)\n",
       " 178    102    328  Open Space Tmbr Land/Greenbelt\n",
       " 179    102    330                        Easement\n",
       " 180    102    331         Reserve/Wilderness Area\n",
       " 181    102    332      Right of Way/Utility, Road\n",
       " 182    102    333              River/Creek/Stream\n",
       " 183    102    334             Tideland, 1st Class\n",
       " 184    102    335             Tideland, 2nd Class\n",
       " 185    102    336         Transferable Dev Rights\n",
       " 186    102    337               Water Body, Fresh\n",
       " 187    102    339                 Shell Structure\n",
       " 188    102    340                 Bed & Breakfast\n",
       " 189    102    341                   Rooming House\n",
       " 190    102    342       Fraternity/Sorority House\n",
       " 191    102    343                     Gas Station\n",
       " 192    102     38                Mobile Home Park\n",
       " 193    102      4                         Triplex\n",
       " 194    102     48          Condominium(M Home Pk)\n",
       " 195    102     49             Retirement Facility\n",
       " 196    102      5                          4-Plex\n",
       " 197    102     51                     Hotel/Motel\n",
       " 198    102     55           Rehabilitation Center\n",
       " 199    102     56             Residence Hall/Dorm\n",
       " 200    102     57                      Group Home\n",
       " 201    102     58            Resort/Lodge/Retreat\n",
       " 202    102     59                    Nursing Home\n",
       " 203    102      6         Single Family(C/I Zone)\n",
       " 204    102     60         Shopping Ctr(Nghbrhood)\n",
       " 205    102     61         Shopping Ctr(Community)\n",
       " 206    102     62          Shopping Ctr(Regional)\n",
       " 207    102     63        Shopping Ctr(Maj Retail)\n",
       " 208    102     64         Shopping Ctr(Specialty)\n",
       " 209    102      7                       Houseboat\n",
       " 210    102      8                     Mobile Home\n",
       " 211    102      9          Single Family(C/I Use)\n",
       " 212    102     96              Retail(Line/Strip))"
      ]
     },
     "execution_count": 39,
     "metadata": {},
     "output_type": "execute_result"
    }
   ],
   "source": [
    "# looking up HBU As If Vacant, HBU As Improved, Present Use features\n",
    "fn.lookup(look,103), fn.lookup(look, 104), fn.lookup(look, 102)"
   ]
  },
  {
   "cell_type": "code",
   "execution_count": 40,
   "metadata": {},
   "outputs": [
    {
     "data": {
      "text/plain": [
       "(    LUType LUItem       LUDescription\n",
       " 989     56      1             PRIVATE\n",
       " 990     56      2      WATER DISTRICT\n",
       " 991     56      3  PRIVATE RESTRICTED\n",
       " 992     56      4   PUBLIC RESTRICTED,\n",
       "     LUType LUItem       LUDescription\n",
       " 993     57      1             PRIVATE\n",
       " 994     57      2              PUBLIC\n",
       " 995     57      3  PRIVATE RESTRICTED\n",
       " 996     57      4   PUBLIC RESTRICTED,\n",
       "     LUType LUItem      LUDescription\n",
       " 984     55      1         RESTRICTED\n",
       " 985     55      2  LEGAL/UNDEVELOPED\n",
       " 986     55      3            PRIVATE\n",
       " 987     55      4             PUBLIC\n",
       " 988     55      5            WALK IN)"
      ]
     },
     "execution_count": 40,
     "metadata": {},
     "output_type": "execute_result"
    }
   ],
   "source": [
    "# looking up info for Water System, Sewer System, Access features\n",
    "fn.lookup(look, 56), fn.lookup(look, 57), fn.lookup(look, 55)"
   ]
  },
  {
   "cell_type": "code",
   "execution_count": 41,
   "metadata": {},
   "outputs": [
    {
     "data": {
      "text/plain": [
       "(     LUType LUItem LUDescription\n",
       " 1001     59      1           YES,\n",
       "      LUType LUItem LUDescription\n",
       " 1026     60      1         PAVED\n",
       " 1027     60      2        GRAVEL\n",
       " 1028     60      3          DIRT\n",
       " 1029     60      4   UNDEVELOPED)"
      ]
     },
     "execution_count": 41,
     "metadata": {},
     "output_type": "execute_result"
    }
   ],
   "source": [
    "#  lookup for Topography, Street Surface features\n",
    "fn.lookup(look, 59), fn.lookup(look, 60)"
   ]
  },
  {
   "cell_type": "code",
   "execution_count": 42,
   "metadata": {},
   "outputs": [
    {
     "data": {
      "text/plain": [
       "(     LUType LUItem LUDescription\n",
       " 1178     90      1           YES,\n",
       "      LUType LUItem LUDescription\n",
       " 1180     92      1    INADEQUATE\n",
       " 1181     92      2      ADEQUATE)"
      ]
     },
     "execution_count": 42,
     "metadata": {},
     "output_type": "execute_result"
    }
   ],
   "source": [
    "#  lookup for Restrictive Size/Shape, Inadequate Parking features\n",
    "fn.lookup(look, 90), fn.lookup(look, 92)"
   ]
  },
  {
   "cell_type": "code",
   "execution_count": null,
   "metadata": {},
   "outputs": [],
   "source": []
  },
  {
   "cell_type": "code",
   "execution_count": null,
   "metadata": {},
   "outputs": [],
   "source": []
  },
  {
   "cell_type": "code",
   "execution_count": null,
   "metadata": {},
   "outputs": [],
   "source": []
  },
  {
   "cell_type": "code",
   "execution_count": null,
   "metadata": {},
   "outputs": [],
   "source": []
  },
  {
   "cell_type": "code",
   "execution_count": 43,
   "metadata": {},
   "outputs": [
    {
     "data": {
      "text/plain": [
       "array(['1', '2', '3', '4'], dtype=object)"
      ]
     },
     "execution_count": 43,
     "metadata": {},
     "output_type": "execute_result"
    }
   ],
   "source": [
    "single = df[(df['PropertyType'] =='11') & (df['PrincipalUse'] == '6')]\n",
    "\n",
    "single['NbrLivingUnits'].unique()"
   ]
  },
  {
   "cell_type": "markdown",
   "metadata": {},
   "source": [
    "## 2019 Data"
   ]
  },
  {
   "cell_type": "markdown",
   "metadata": {},
   "source": [
    "Since we want to train our model on 2019 data, we are going to isolate the 2019 information into a new data frame and use it to define our target and predictors."
   ]
  },
  {
   "cell_type": "markdown",
   "metadata": {},
   "source": [
    "#### Light Data Cleaning"
   ]
  },
  {
   "cell_type": "markdown",
   "metadata": {},
   "source": [
    "Changing datestrings to datetime objects,  and sale price strings to floats in the main pandas dataframe. Adding a 'DocumentYear' column to main the data frame."
   ]
  },
  {
   "cell_type": "code",
   "execution_count": 44,
   "metadata": {},
   "outputs": [],
   "source": [
    "# changing date strings to datetime objects\n",
    "df.DocumentDate = pd.to_datetime(df.DocumentDate)\n",
    "\n",
    "# adding a document year column\n",
    "df['DocumentYear'] = df['DocumentDate'].apply(lambda x: x.year)\n",
    "\n",
    "# converting SalePrice string to float\n",
    "df['SalePrice'] = df['SalePrice'].astype('float')"
   ]
  },
  {
   "cell_type": "markdown",
   "metadata": {},
   "source": [
    "#### Creating Initial 2019 DataFrame"
   ]
  },
  {
   "cell_type": "markdown",
   "metadata": {},
   "source": [
    "Creating data frame and checking basic information"
   ]
  },
  {
   "cell_type": "code",
   "execution_count": 45,
   "metadata": {},
   "outputs": [],
   "source": [
    "# isolating 2019 data\n",
    "df19 = df[df['DocumentYear']==2019]"
   ]
  },
  {
   "cell_type": "code",
   "execution_count": 46,
   "metadata": {},
   "outputs": [
    {
     "name": "stdout",
     "output_type": "stream",
     "text": [
      "(43838, 120)\n"
     ]
    },
    {
     "data": {
      "text/plain": [
       "SalePrice                    0\n",
       "ID                           0\n",
       "ExciseTaxNbr                 0\n",
       "Major                        0\n",
       "Minor                        0\n",
       "DocumentDate                 0\n",
       "PropertyType                 0\n",
       "PrincipalUse                 0\n",
       "DistrictName                 0\n",
       "HBUAsIfVacant                0\n",
       "HBUAsImproved                0\n",
       "PresentUse                   0\n",
       "SqFtLot                      0\n",
       "WaterSystem                  0\n",
       "SewerSystem                  0\n",
       "Access                       0\n",
       "Topography                   0\n",
       "StreetSurface                0\n",
       "RestrictiveSzShape           0\n",
       "InadequateParking            0\n",
       "PcntUnusable                 0\n",
       "Unbuildable                  0\n",
       "MtRainier                    0\n",
       "Olympics                     0\n",
       "Cascades                     0\n",
       "Territorial                  0\n",
       "SeattleSkyline               0\n",
       "PugetSound                   0\n",
       "LakeWashington               0\n",
       "LakeSammamish                0\n",
       "SmallLakeRiverCreek          0\n",
       "OtherView                    0\n",
       "WfntLocation                 0\n",
       "WfntFootage                  0\n",
       "WfntBank                     0\n",
       "WfntPoorQuality              0\n",
       "WfntRestrictedAccess         0\n",
       "WfntAccessRights             0\n",
       "WfntProximityInfluence       0\n",
       "TidelandShoreland            0\n",
       "LotDepthFactor               0\n",
       "TrafficNoise                 0\n",
       "AirportNoise                 0\n",
       "PowerLines                   0\n",
       "OtherNuisances               0\n",
       "NbrBldgSites                 0\n",
       "Contamination                0\n",
       "DNRLease                     0\n",
       "AdjacentGolfFairway          0\n",
       "AdjacentGreenbelt            0\n",
       "HistoricSite                 0\n",
       "CurrentUseDesignation        0\n",
       "NativeGrowthProtEsmt         0\n",
       "Easements                    0\n",
       "OtherDesignation             0\n",
       "DeedRestrictions             0\n",
       "DevelopmentRightsPurch       0\n",
       "CoalMineHazard               0\n",
       "CriticalDrainage             0\n",
       "ErosionHazard                0\n",
       "LandfillBuffer               0\n",
       "HundredYrFloodPlain          0\n",
       "SeismicHazard                0\n",
       "LandslideHazard              0\n",
       "SteepSlopeHazard             0\n",
       "Stream                       0\n",
       "Wetland                      0\n",
       "SpeciesOfConcern             0\n",
       "SensitiveAreaTract           0\n",
       "WaterProblems                0\n",
       "TranspConcurrency            0\n",
       "OtherProblems                0\n",
       "BldgNbr                      0\n",
       "NbrLivingUnits               0\n",
       "Address                      0\n",
       "BuildingNumber               0\n",
       "Fraction                     0\n",
       "StreetName                   0\n",
       "StreetType                   0\n",
       "DirectionSuffix            169\n",
       "ZipCode                   6616\n",
       "Stories                      0\n",
       "BldgGrade                    0\n",
       "BldgGradeVar                 0\n",
       "SqFt1stFloor                 0\n",
       "SqFtHalfFloor                0\n",
       "SqFt2ndFloor                 0\n",
       "SqFtUpperFloor               0\n",
       "SqFtUnfinFull                0\n",
       "SqFtUnfinHalf                0\n",
       "SqFtTotLiving                0\n",
       "SqFtTotBasement              0\n",
       "SqFtFinBasement              0\n",
       "FinBasementGrade             0\n",
       "SqFtGarageBasement           0\n",
       "SqFtGarageAttached           0\n",
       "DaylightBasement             0\n",
       "SqFtOpenPorch                0\n",
       "SqFtEnclosedPorch            0\n",
       "SqFtDeck                     0\n",
       "HeatSystem                   0\n",
       "HeatSource                   0\n",
       "BrickStone                   0\n",
       "ViewUtilization              0\n",
       "Bedrooms                     0\n",
       "BathHalfCount                0\n",
       "Bath3qtrCount                0\n",
       "BathFullCount                0\n",
       "FpSingleStory                0\n",
       "FpMultiStory                 0\n",
       "FpFreestanding               0\n",
       "FpAdditional                 0\n",
       "YrBuilt                      0\n",
       "YrRenovated                  0\n",
       "PcntComplete                 0\n",
       "Obsolescence                 0\n",
       "PcntNetCondition             0\n",
       "Condition                    0\n",
       "AddnlCost                    0\n",
       "DocumentYear                 0\n",
       "dtype: int64"
      ]
     },
     "execution_count": 46,
     "metadata": {},
     "output_type": "execute_result"
    }
   ],
   "source": [
    "# checking data frame shape and looking for NaNs\n",
    "print(df19.shape)\n",
    "df19.isna().sum()"
   ]
  },
  {
   "cell_type": "code",
   "execution_count": 47,
   "metadata": {},
   "outputs": [
    {
     "data": {
      "text/html": [
       "<div>\n",
       "<style scoped>\n",
       "    .dataframe tbody tr th:only-of-type {\n",
       "        vertical-align: middle;\n",
       "    }\n",
       "\n",
       "    .dataframe tbody tr th {\n",
       "        vertical-align: top;\n",
       "    }\n",
       "\n",
       "    .dataframe thead th {\n",
       "        text-align: right;\n",
       "    }\n",
       "</style>\n",
       "<table border=\"1\" class=\"dataframe\">\n",
       "  <thead>\n",
       "    <tr style=\"text-align: right;\">\n",
       "      <th></th>\n",
       "      <th>SalePrice</th>\n",
       "      <th>ID</th>\n",
       "      <th>ExciseTaxNbr</th>\n",
       "      <th>Major</th>\n",
       "      <th>Minor</th>\n",
       "      <th>DocumentDate</th>\n",
       "      <th>PropertyType</th>\n",
       "      <th>PrincipalUse</th>\n",
       "      <th>DistrictName</th>\n",
       "      <th>HBUAsIfVacant</th>\n",
       "      <th>...</th>\n",
       "      <th>FpFreestanding</th>\n",
       "      <th>FpAdditional</th>\n",
       "      <th>YrBuilt</th>\n",
       "      <th>YrRenovated</th>\n",
       "      <th>PcntComplete</th>\n",
       "      <th>Obsolescence</th>\n",
       "      <th>PcntNetCondition</th>\n",
       "      <th>Condition</th>\n",
       "      <th>AddnlCost</th>\n",
       "      <th>DocumentYear</th>\n",
       "    </tr>\n",
       "  </thead>\n",
       "  <tbody>\n",
       "    <tr>\n",
       "      <th>5</th>\n",
       "      <td>560000.0</td>\n",
       "      <td>2130430120</td>\n",
       "      <td>3027422</td>\n",
       "      <td>213043</td>\n",
       "      <td>0120</td>\n",
       "      <td>2019-12-20</td>\n",
       "      <td>11</td>\n",
       "      <td>6</td>\n",
       "      <td>DUVALL</td>\n",
       "      <td>1</td>\n",
       "      <td>...</td>\n",
       "      <td>0</td>\n",
       "      <td>0</td>\n",
       "      <td>1989</td>\n",
       "      <td>0</td>\n",
       "      <td>0</td>\n",
       "      <td>0</td>\n",
       "      <td>0</td>\n",
       "      <td>3</td>\n",
       "      <td>0</td>\n",
       "      <td>2019</td>\n",
       "    </tr>\n",
       "    <tr>\n",
       "      <th>6</th>\n",
       "      <td>435000.0</td>\n",
       "      <td>9406520630</td>\n",
       "      <td>3002257</td>\n",
       "      <td>940652</td>\n",
       "      <td>0630</td>\n",
       "      <td>2019-07-22</td>\n",
       "      <td>11</td>\n",
       "      <td>6</td>\n",
       "      <td>MAPLE VALLEY</td>\n",
       "      <td>1</td>\n",
       "      <td>...</td>\n",
       "      <td>0</td>\n",
       "      <td>0</td>\n",
       "      <td>1994</td>\n",
       "      <td>0</td>\n",
       "      <td>0</td>\n",
       "      <td>0</td>\n",
       "      <td>0</td>\n",
       "      <td>3</td>\n",
       "      <td>2500</td>\n",
       "      <td>2019</td>\n",
       "    </tr>\n",
       "    <tr>\n",
       "      <th>12</th>\n",
       "      <td>450000.0</td>\n",
       "      <td>1402810020</td>\n",
       "      <td>2993601</td>\n",
       "      <td>140281</td>\n",
       "      <td>0020</td>\n",
       "      <td>2019-06-04</td>\n",
       "      <td>3</td>\n",
       "      <td>6</td>\n",
       "      <td>DUVALL</td>\n",
       "      <td>1</td>\n",
       "      <td>...</td>\n",
       "      <td>0</td>\n",
       "      <td>0</td>\n",
       "      <td>1986</td>\n",
       "      <td>0</td>\n",
       "      <td>0</td>\n",
       "      <td>0</td>\n",
       "      <td>0</td>\n",
       "      <td>3</td>\n",
       "      <td>0</td>\n",
       "      <td>2019</td>\n",
       "    </tr>\n",
       "  </tbody>\n",
       "</table>\n",
       "<p>3 rows × 120 columns</p>\n",
       "</div>"
      ],
      "text/plain": [
       "    SalePrice          ID ExciseTaxNbr   Major Minor DocumentDate  \\\n",
       "5    560000.0  2130430120      3027422  213043  0120   2019-12-20   \n",
       "6    435000.0  9406520630      3002257  940652  0630   2019-07-22   \n",
       "12   450000.0  1402810020      2993601  140281  0020   2019-06-04   \n",
       "\n",
       "   PropertyType PrincipalUse  DistrictName HBUAsIfVacant  ... FpFreestanding  \\\n",
       "5            11            6        DUVALL             1  ...              0   \n",
       "6            11            6  MAPLE VALLEY             1  ...              0   \n",
       "12            3            6        DUVALL             1  ...              0   \n",
       "\n",
       "   FpAdditional YrBuilt YrRenovated PcntComplete Obsolescence  \\\n",
       "5             0    1989           0            0            0   \n",
       "6             0    1994           0            0            0   \n",
       "12            0    1986           0            0            0   \n",
       "\n",
       "   PcntNetCondition Condition AddnlCost DocumentYear  \n",
       "5                 0         3         0         2019  \n",
       "6                 0         3      2500         2019  \n",
       "12                0         3         0         2019  \n",
       "\n",
       "[3 rows x 120 columns]"
      ]
     },
     "execution_count": 47,
     "metadata": {},
     "output_type": "execute_result"
    }
   ],
   "source": [
    "# checking first few rows\n",
    "df19.head(3)"
   ]
  },
  {
   "cell_type": "markdown",
   "metadata": {},
   "source": [
    "#### Creating a 2019 Dataframe with Non-Zero Sale Prices "
   ]
  },
  {
   "cell_type": "markdown",
   "metadata": {},
   "source": [
    "Creating data frame and checking basic information"
   ]
  },
  {
   "cell_type": "code",
   "execution_count": 48,
   "metadata": {},
   "outputs": [],
   "source": [
    "# creating a datafrme of 2019 data with non-zero sale prices and restting index\n",
    "nz19 = df19[df19['SalePrice'] != 0].reset_index()"
   ]
  },
  {
   "cell_type": "code",
   "execution_count": 49,
   "metadata": {},
   "outputs": [
    {
     "name": "stdout",
     "output_type": "stream",
     "text": [
      "(29944, 121)\n"
     ]
    },
    {
     "data": {
      "text/html": [
       "<div>\n",
       "<style scoped>\n",
       "    .dataframe tbody tr th:only-of-type {\n",
       "        vertical-align: middle;\n",
       "    }\n",
       "\n",
       "    .dataframe tbody tr th {\n",
       "        vertical-align: top;\n",
       "    }\n",
       "\n",
       "    .dataframe thead th {\n",
       "        text-align: right;\n",
       "    }\n",
       "</style>\n",
       "<table border=\"1\" class=\"dataframe\">\n",
       "  <thead>\n",
       "    <tr style=\"text-align: right;\">\n",
       "      <th></th>\n",
       "      <th>index</th>\n",
       "      <th>SalePrice</th>\n",
       "      <th>ID</th>\n",
       "      <th>ExciseTaxNbr</th>\n",
       "      <th>Major</th>\n",
       "      <th>Minor</th>\n",
       "      <th>DocumentDate</th>\n",
       "      <th>PropertyType</th>\n",
       "      <th>PrincipalUse</th>\n",
       "      <th>DistrictName</th>\n",
       "      <th>...</th>\n",
       "      <th>FpFreestanding</th>\n",
       "      <th>FpAdditional</th>\n",
       "      <th>YrBuilt</th>\n",
       "      <th>YrRenovated</th>\n",
       "      <th>PcntComplete</th>\n",
       "      <th>Obsolescence</th>\n",
       "      <th>PcntNetCondition</th>\n",
       "      <th>Condition</th>\n",
       "      <th>AddnlCost</th>\n",
       "      <th>DocumentYear</th>\n",
       "    </tr>\n",
       "  </thead>\n",
       "  <tbody>\n",
       "    <tr>\n",
       "      <th>0</th>\n",
       "      <td>5</td>\n",
       "      <td>560000.0</td>\n",
       "      <td>2130430120</td>\n",
       "      <td>3027422</td>\n",
       "      <td>213043</td>\n",
       "      <td>0120</td>\n",
       "      <td>2019-12-20</td>\n",
       "      <td>11</td>\n",
       "      <td>6</td>\n",
       "      <td>DUVALL</td>\n",
       "      <td>...</td>\n",
       "      <td>0</td>\n",
       "      <td>0</td>\n",
       "      <td>1989</td>\n",
       "      <td>0</td>\n",
       "      <td>0</td>\n",
       "      <td>0</td>\n",
       "      <td>0</td>\n",
       "      <td>3</td>\n",
       "      <td>0</td>\n",
       "      <td>2019</td>\n",
       "    </tr>\n",
       "    <tr>\n",
       "      <th>1</th>\n",
       "      <td>6</td>\n",
       "      <td>435000.0</td>\n",
       "      <td>9406520630</td>\n",
       "      <td>3002257</td>\n",
       "      <td>940652</td>\n",
       "      <td>0630</td>\n",
       "      <td>2019-07-22</td>\n",
       "      <td>11</td>\n",
       "      <td>6</td>\n",
       "      <td>MAPLE VALLEY</td>\n",
       "      <td>...</td>\n",
       "      <td>0</td>\n",
       "      <td>0</td>\n",
       "      <td>1994</td>\n",
       "      <td>0</td>\n",
       "      <td>0</td>\n",
       "      <td>0</td>\n",
       "      <td>0</td>\n",
       "      <td>3</td>\n",
       "      <td>2500</td>\n",
       "      <td>2019</td>\n",
       "    </tr>\n",
       "    <tr>\n",
       "      <th>2</th>\n",
       "      <td>12</td>\n",
       "      <td>450000.0</td>\n",
       "      <td>1402810020</td>\n",
       "      <td>2993601</td>\n",
       "      <td>140281</td>\n",
       "      <td>0020</td>\n",
       "      <td>2019-06-04</td>\n",
       "      <td>3</td>\n",
       "      <td>6</td>\n",
       "      <td>DUVALL</td>\n",
       "      <td>...</td>\n",
       "      <td>0</td>\n",
       "      <td>0</td>\n",
       "      <td>1986</td>\n",
       "      <td>0</td>\n",
       "      <td>0</td>\n",
       "      <td>0</td>\n",
       "      <td>0</td>\n",
       "      <td>3</td>\n",
       "      <td>0</td>\n",
       "      <td>2019</td>\n",
       "    </tr>\n",
       "  </tbody>\n",
       "</table>\n",
       "<p>3 rows × 121 columns</p>\n",
       "</div>"
      ],
      "text/plain": [
       "   index  SalePrice          ID ExciseTaxNbr   Major Minor DocumentDate  \\\n",
       "0      5   560000.0  2130430120      3027422  213043  0120   2019-12-20   \n",
       "1      6   435000.0  9406520630      3002257  940652  0630   2019-07-22   \n",
       "2     12   450000.0  1402810020      2993601  140281  0020   2019-06-04   \n",
       "\n",
       "  PropertyType PrincipalUse  DistrictName  ... FpFreestanding FpAdditional  \\\n",
       "0           11            6        DUVALL  ...              0            0   \n",
       "1           11            6  MAPLE VALLEY  ...              0            0   \n",
       "2            3            6        DUVALL  ...              0            0   \n",
       "\n",
       "  YrBuilt YrRenovated PcntComplete Obsolescence PcntNetCondition Condition  \\\n",
       "0    1989           0            0            0                0         3   \n",
       "1    1994           0            0            0                0         3   \n",
       "2    1986           0            0            0                0         3   \n",
       "\n",
       "  AddnlCost DocumentYear  \n",
       "0         0         2019  \n",
       "1      2500         2019  \n",
       "2         0         2019  \n",
       "\n",
       "[3 rows x 121 columns]"
      ]
     },
     "execution_count": 49,
     "metadata": {},
     "output_type": "execute_result"
    }
   ],
   "source": [
    "# checking shape and first few rows\n",
    "print(nz19.shape)\n",
    "nz19.head(3)"
   ]
  },
  {
   "cell_type": "code",
   "execution_count": 50,
   "metadata": {},
   "outputs": [
    {
     "data": {
      "text/plain": [
       "SalePrice                     0\n",
       "ID                            0\n",
       "ExciseTaxNbr                  0\n",
       "Major                         0\n",
       "Minor                         0\n",
       "DocumentDate                  0\n",
       "PropertyType                  0\n",
       "PrincipalUse                  0\n",
       "DistrictName                  0\n",
       "HBUAsIfVacant                 0\n",
       "HBUAsImproved                 0\n",
       "PresentUse                    0\n",
       "SqFtLot                       0\n",
       "WaterSystem                   0\n",
       "SewerSystem                   0\n",
       "Access                        0\n",
       "Topography                    0\n",
       "StreetSurface                 0\n",
       "RestrictiveSzShape            0\n",
       "InadequateParking             0\n",
       "PcntUnusable                  0\n",
       "Unbuildable                   0\n",
       "MtRainier                     0\n",
       "Olympics                      0\n",
       "Cascades                      0\n",
       "Territorial                   0\n",
       "SeattleSkyline                0\n",
       "PugetSound                    0\n",
       "LakeWashington                0\n",
       "LakeSammamish                 0\n",
       "SmallLakeRiverCreek           0\n",
       "OtherView                     0\n",
       "WfntLocation                  0\n",
       "WfntFootage                   0\n",
       "WfntBank                      0\n",
       "WfntPoorQuality               0\n",
       "WfntRestrictedAccess          0\n",
       "WfntAccessRights              0\n",
       "WfntProximityInfluence        0\n",
       "TidelandShoreland             0\n",
       "LotDepthFactor                0\n",
       "TrafficNoise                  0\n",
       "AirportNoise                  0\n",
       "PowerLines                    0\n",
       "OtherNuisances                0\n",
       "NbrBldgSites                  0\n",
       "Contamination                 0\n",
       "DNRLease                      0\n",
       "AdjacentGolfFairway           0\n",
       "AdjacentGreenbelt             0\n",
       "HistoricSite                  0\n",
       "CurrentUseDesignation         0\n",
       "NativeGrowthProtEsmt          0\n",
       "Easements                     0\n",
       "OtherDesignation              0\n",
       "DeedRestrictions              0\n",
       "DevelopmentRightsPurch        0\n",
       "CoalMineHazard                0\n",
       "CriticalDrainage              0\n",
       "ErosionHazard                 0\n",
       "LandfillBuffer                0\n",
       "HundredYrFloodPlain           0\n",
       "SeismicHazard                 0\n",
       "LandslideHazard               0\n",
       "SteepSlopeHazard              0\n",
       "Stream                        0\n",
       "Wetland                       0\n",
       "SpeciesOfConcern              0\n",
       "SensitiveAreaTract            0\n",
       "WaterProblems                 0\n",
       "TranspConcurrency             0\n",
       "OtherProblems                 0\n",
       "BldgNbr                       0\n",
       "NbrLivingUnits                0\n",
       "Address                       0\n",
       "BuildingNumber                0\n",
       "Fraction                      0\n",
       "StreetName                    0\n",
       "StreetType                    0\n",
       "DirectionSuffix             604\n",
       "ZipCode                   39980\n",
       "Stories                       0\n",
       "BldgGrade                     0\n",
       "BldgGradeVar                  0\n",
       "SqFt1stFloor                  0\n",
       "SqFtHalfFloor                 0\n",
       "SqFt2ndFloor                  0\n",
       "SqFtUpperFloor                0\n",
       "SqFtUnfinFull                 0\n",
       "SqFtUnfinHalf                 0\n",
       "SqFtTotLiving                 0\n",
       "SqFtTotBasement               0\n",
       "SqFtFinBasement               0\n",
       "FinBasementGrade              0\n",
       "SqFtGarageBasement            0\n",
       "SqFtGarageAttached            0\n",
       "DaylightBasement              0\n",
       "SqFtOpenPorch                 0\n",
       "SqFtEnclosedPorch             0\n",
       "SqFtDeck                      0\n",
       "HeatSystem                    0\n",
       "HeatSource                    0\n",
       "BrickStone                    0\n",
       "ViewUtilization               0\n",
       "Bedrooms                      0\n",
       "BathHalfCount                 0\n",
       "Bath3qtrCount                 0\n",
       "BathFullCount                 0\n",
       "FpSingleStory                 0\n",
       "FpMultiStory                  0\n",
       "FpFreestanding                0\n",
       "FpAdditional                  0\n",
       "YrBuilt                       0\n",
       "YrRenovated                   0\n",
       "PcntComplete                  0\n",
       "Obsolescence                  0\n",
       "PcntNetCondition              0\n",
       "Condition                     0\n",
       "AddnlCost                     0\n",
       "DocumentYear                  0\n",
       "dtype: int64"
      ]
     },
     "execution_count": 50,
     "metadata": {},
     "output_type": "execute_result"
    }
   ],
   "source": [
    "# checking for NaNs\n",
    "df.isna().sum()"
   ]
  },
  {
   "cell_type": "markdown",
   "metadata": {},
   "source": [
    "## Isolating Target and Initial Predictors"
   ]
  },
  {
   "cell_type": "markdown",
   "metadata": {},
   "source": [
    "Since two of the questions we want to answer relate to the HeatSystem and SqFtEnclosedPorch features, we are going to isolate them, and our SalePrice target variable, into seperate dataframes. "
   ]
  },
  {
   "cell_type": "markdown",
   "metadata": {},
   "source": [
    "### HeatSystem Dataframe\n",
    "\n",
    "Isolating ```'SalePrice'``` target and ```'HeatSystem'``` predictor in Checking first the few rows, shape, nulls, and unique values."
   ]
  },
  {
   "cell_type": "code",
   "execution_count": 51,
   "metadata": {},
   "outputs": [
    {
     "data": {
      "text/html": [
       "<div>\n",
       "<style scoped>\n",
       "    .dataframe tbody tr th:only-of-type {\n",
       "        vertical-align: middle;\n",
       "    }\n",
       "\n",
       "    .dataframe tbody tr th {\n",
       "        vertical-align: top;\n",
       "    }\n",
       "\n",
       "    .dataframe thead th {\n",
       "        text-align: right;\n",
       "    }\n",
       "</style>\n",
       "<table border=\"1\" class=\"dataframe\">\n",
       "  <thead>\n",
       "    <tr style=\"text-align: right;\">\n",
       "      <th></th>\n",
       "      <th>SalePrice</th>\n",
       "      <th>HeatSystem</th>\n",
       "    </tr>\n",
       "  </thead>\n",
       "  <tbody>\n",
       "    <tr>\n",
       "      <th>0</th>\n",
       "      <td>560000.0</td>\n",
       "      <td>5</td>\n",
       "    </tr>\n",
       "    <tr>\n",
       "      <th>1</th>\n",
       "      <td>435000.0</td>\n",
       "      <td>5</td>\n",
       "    </tr>\n",
       "    <tr>\n",
       "      <th>2</th>\n",
       "      <td>450000.0</td>\n",
       "      <td>1</td>\n",
       "    </tr>\n",
       "  </tbody>\n",
       "</table>\n",
       "</div>"
      ],
      "text/plain": [
       "   SalePrice HeatSystem\n",
       "0   560000.0          5\n",
       "1   435000.0          5\n",
       "2   450000.0          1"
      ]
     },
     "execution_count": 51,
     "metadata": {},
     "output_type": "execute_result"
    }
   ],
   "source": [
    "# Isolating SalePrice target and HeatSystem predictor into a data frame. \n",
    "heat_df = nz19[['SalePrice','HeatSystem']]\n",
    "heat_df.head(3)"
   ]
  },
  {
   "cell_type": "code",
   "execution_count": 52,
   "metadata": {},
   "outputs": [
    {
     "data": {
      "text/plain": [
       "(29944, 2)"
      ]
     },
     "execution_count": 52,
     "metadata": {},
     "output_type": "execute_result"
    }
   ],
   "source": [
    "# checking shape\n",
    "heat_df.shape"
   ]
  },
  {
   "cell_type": "code",
   "execution_count": 53,
   "metadata": {},
   "outputs": [
    {
     "data": {
      "text/plain": [
       "SalePrice     0\n",
       "HeatSystem    0\n",
       "dtype: int64"
      ]
     },
     "execution_count": 53,
     "metadata": {},
     "output_type": "execute_result"
    }
   ],
   "source": [
    "# checking NaNs\n",
    "heat_df.isna().sum()"
   ]
  },
  {
   "cell_type": "code",
   "execution_count": 54,
   "metadata": {},
   "outputs": [
    {
     "name": "stdout",
     "output_type": "stream",
     "text": [
      "['5' '1' '4' '7' '6' '3' '0' '2' '8']\n"
     ]
    },
    {
     "data": {
      "text/plain": [
       "9"
      ]
     },
     "execution_count": 54,
     "metadata": {},
     "output_type": "execute_result"
    }
   ],
   "source": [
    "# checking unique values\n",
    "print(heat_df.HeatSystem.unique())\n",
    "len(heat_df.HeatSystem.unique())"
   ]
  },
  {
   "cell_type": "code",
   "execution_count": 55,
   "metadata": {},
   "outputs": [
    {
     "data": {
      "text/html": [
       "<div>\n",
       "<style scoped>\n",
       "    .dataframe tbody tr th:only-of-type {\n",
       "        vertical-align: middle;\n",
       "    }\n",
       "\n",
       "    .dataframe tbody tr th {\n",
       "        vertical-align: top;\n",
       "    }\n",
       "\n",
       "    .dataframe thead th {\n",
       "        text-align: right;\n",
       "    }\n",
       "</style>\n",
       "<table border=\"1\" class=\"dataframe\">\n",
       "  <thead>\n",
       "    <tr style=\"text-align: right;\">\n",
       "      <th></th>\n",
       "      <th>LUType</th>\n",
       "      <th>LUItem</th>\n",
       "      <th>LUDescription</th>\n",
       "    </tr>\n",
       "  </thead>\n",
       "  <tbody>\n",
       "    <tr>\n",
       "      <th>243</th>\n",
       "      <td>108</td>\n",
       "      <td>1</td>\n",
       "      <td>Floor-Wall</td>\n",
       "    </tr>\n",
       "    <tr>\n",
       "      <th>244</th>\n",
       "      <td>108</td>\n",
       "      <td>2</td>\n",
       "      <td>Gravity</td>\n",
       "    </tr>\n",
       "    <tr>\n",
       "      <th>245</th>\n",
       "      <td>108</td>\n",
       "      <td>3</td>\n",
       "      <td>Radiant</td>\n",
       "    </tr>\n",
       "    <tr>\n",
       "      <th>246</th>\n",
       "      <td>108</td>\n",
       "      <td>4</td>\n",
       "      <td>Elec BB</td>\n",
       "    </tr>\n",
       "    <tr>\n",
       "      <th>247</th>\n",
       "      <td>108</td>\n",
       "      <td>5</td>\n",
       "      <td>Forced Air</td>\n",
       "    </tr>\n",
       "    <tr>\n",
       "      <th>248</th>\n",
       "      <td>108</td>\n",
       "      <td>6</td>\n",
       "      <td>Hot Water</td>\n",
       "    </tr>\n",
       "    <tr>\n",
       "      <th>249</th>\n",
       "      <td>108</td>\n",
       "      <td>7</td>\n",
       "      <td>Heat Pump</td>\n",
       "    </tr>\n",
       "    <tr>\n",
       "      <th>250</th>\n",
       "      <td>108</td>\n",
       "      <td>8</td>\n",
       "      <td>Other</td>\n",
       "    </tr>\n",
       "  </tbody>\n",
       "</table>\n",
       "</div>"
      ],
      "text/plain": [
       "    LUType LUItem LUDescription\n",
       "243    108      1    Floor-Wall\n",
       "244    108      2       Gravity\n",
       "245    108      3       Radiant\n",
       "246    108      4       Elec BB\n",
       "247    108      5    Forced Air\n",
       "248    108      6     Hot Water\n",
       "249    108      7     Heat Pump\n",
       "250    108      8         Other"
      ]
     },
     "execution_count": 55,
     "metadata": {},
     "output_type": "execute_result"
    }
   ],
   "source": [
    "# looking up HeatSystem codes\n",
    "lu_df = fn.lookup(look, 108)\n",
    "lu_df"
   ]
  },
  {
   "cell_type": "markdown",
   "metadata": {},
   "source": [
    "#### Checking ```'0'``` Values\n",
    "\n",
    "Checking ```'0'```, since there is not a ```'0'``` lookup code. For now, will be assuming that there is no heating system information available for ```'0'``` enteries. May re-adjust assumption to 'no heating system in property' after researching further. "
   ]
  },
  {
   "cell_type": "code",
   "execution_count": 56,
   "metadata": {},
   "outputs": [
    {
     "name": "stdout",
     "output_type": "stream",
     "text": [
      "(122, 2)\n"
     ]
    },
    {
     "data": {
      "text/html": [
       "<div>\n",
       "<style scoped>\n",
       "    .dataframe tbody tr th:only-of-type {\n",
       "        vertical-align: middle;\n",
       "    }\n",
       "\n",
       "    .dataframe tbody tr th {\n",
       "        vertical-align: top;\n",
       "    }\n",
       "\n",
       "    .dataframe thead th {\n",
       "        text-align: right;\n",
       "    }\n",
       "</style>\n",
       "<table border=\"1\" class=\"dataframe\">\n",
       "  <thead>\n",
       "    <tr style=\"text-align: right;\">\n",
       "      <th></th>\n",
       "      <th>SalePrice</th>\n",
       "      <th>HeatSystem</th>\n",
       "    </tr>\n",
       "  </thead>\n",
       "  <tbody>\n",
       "    <tr>\n",
       "      <th>330</th>\n",
       "      <td>305510.0</td>\n",
       "      <td>0</td>\n",
       "    </tr>\n",
       "    <tr>\n",
       "      <th>475</th>\n",
       "      <td>650000.0</td>\n",
       "      <td>0</td>\n",
       "    </tr>\n",
       "    <tr>\n",
       "      <th>771</th>\n",
       "      <td>749950.0</td>\n",
       "      <td>0</td>\n",
       "    </tr>\n",
       "    <tr>\n",
       "      <th>3817</th>\n",
       "      <td>100000.0</td>\n",
       "      <td>0</td>\n",
       "    </tr>\n",
       "    <tr>\n",
       "      <th>4771</th>\n",
       "      <td>449000.0</td>\n",
       "      <td>0</td>\n",
       "    </tr>\n",
       "  </tbody>\n",
       "</table>\n",
       "</div>"
      ],
      "text/plain": [
       "      SalePrice HeatSystem\n",
       "330    305510.0          0\n",
       "475    650000.0          0\n",
       "771    749950.0          0\n",
       "3817   100000.0          0\n",
       "4771   449000.0          0"
      ]
     },
     "execution_count": 56,
     "metadata": {},
     "output_type": "execute_result"
    }
   ],
   "source": [
    "# checking '0' values\n",
    "zero_df = heat_df[heat_df['HeatSystem'] == '0']\n",
    "print(zero_df.shape)\n",
    "zero_df.head()"
   ]
  },
  {
   "cell_type": "markdown",
   "metadata": {},
   "source": [
    "#### Prepping for Model Data Frame\n",
    "\n",
    "Creating an array of the lookup code descriptions, and using it to make a list of values for use in a new column.  Will use this column in a one-hot-encoding procedure for more descriptive column names in the model dataframe."
   ]
  },
  {
   "cell_type": "code",
   "execution_count": 57,
   "metadata": {},
   "outputs": [
    {
     "data": {
      "text/plain": [
       "array(['Floor-Wall', 'Gravity', 'Radiant', 'Elec BB', 'Forced Air',\n",
       "       'Hot Water', 'Heat Pump', 'Other'], dtype=object)"
      ]
     },
     "execution_count": 57,
     "metadata": {},
     "output_type": "execute_result"
    }
   ],
   "source": [
    "column_names = lu_df.LUDescription.values\n",
    "column_names"
   ]
  },
  {
   "cell_type": "code",
   "execution_count": 58,
   "metadata": {},
   "outputs": [],
   "source": [
    "# putting descriptions into a list in preparation for adding a new column to the dataframe.\n",
    "heat_names = []\n",
    "for i in range(len(heat_df['HeatSystem'].values)):\n",
    "    if heat_df['HeatSystem'].values[i] == '0':\n",
    "        heat_names.append('NA')\n",
    "    if heat_df['HeatSystem'].values[i] == '1':\n",
    "        heat_names.append(column_names[0])\n",
    "    if heat_df['HeatSystem'].values[i] == '2':\n",
    "        heat_names.append(column_names[1])\n",
    "    if heat_df['HeatSystem'].values[i] == '3':\n",
    "        heat_names.append(column_names[2])\n",
    "    if heat_df['HeatSystem'].values[i] == '4':\n",
    "        heat_names.append(column_names[3])\n",
    "    if heat_df['HeatSystem'].values[i] == '5':\n",
    "        heat_names.append(column_names[4])\n",
    "    if heat_df['HeatSystem'].values[i] == '6':\n",
    "        heat_names.append(column_names[5])\n",
    "    if heat_df['HeatSystem'].values[i] == '7':\n",
    "        heat_names.append(column_names[6])\n",
    "    if heat_df['HeatSystem'].values[i] == '8':\n",
    "        heat_names.append(column_names[7])"
   ]
  },
  {
   "cell_type": "code",
   "execution_count": 59,
   "metadata": {},
   "outputs": [
    {
     "data": {
      "text/plain": [
       "['Forced Air', 'Forced Air', 'Floor-Wall', 'Forced Air', 'Forced Air']"
      ]
     },
     "execution_count": 59,
     "metadata": {},
     "output_type": "execute_result"
    }
   ],
   "source": [
    "# checking first few entries in list\n",
    "heat_names[:5]"
   ]
  },
  {
   "cell_type": "markdown",
   "metadata": {},
   "source": [
    "### Creating New Data Frame\n",
    "\n",
    "Creating new data frame, dropping old ```'HeatSystems'``` column, and appending a new ```'HeatNames'``` column with more descriptive system names."
   ]
  },
  {
   "cell_type": "code",
   "execution_count": 60,
   "metadata": {},
   "outputs": [],
   "source": [
    "# creating new data frame and dropping old 'HeatSystems' column\n",
    "heat_df2 = heat_df.copy().drop('HeatSystem', axis=1)"
   ]
  },
  {
   "cell_type": "code",
   "execution_count": 61,
   "metadata": {},
   "outputs": [],
   "source": [
    "# appending new, more descriptive heat systems column, 'HeatNames'\n",
    "heat_df2['HeatNames'] = heat_names"
   ]
  },
  {
   "cell_type": "code",
   "execution_count": 62,
   "metadata": {},
   "outputs": [
    {
     "data": {
      "text/html": [
       "<div>\n",
       "<style scoped>\n",
       "    .dataframe tbody tr th:only-of-type {\n",
       "        vertical-align: middle;\n",
       "    }\n",
       "\n",
       "    .dataframe tbody tr th {\n",
       "        vertical-align: top;\n",
       "    }\n",
       "\n",
       "    .dataframe thead th {\n",
       "        text-align: right;\n",
       "    }\n",
       "</style>\n",
       "<table border=\"1\" class=\"dataframe\">\n",
       "  <thead>\n",
       "    <tr style=\"text-align: right;\">\n",
       "      <th></th>\n",
       "      <th>SalePrice</th>\n",
       "      <th>HeatNames</th>\n",
       "    </tr>\n",
       "  </thead>\n",
       "  <tbody>\n",
       "    <tr>\n",
       "      <th>0</th>\n",
       "      <td>560000.0</td>\n",
       "      <td>Forced Air</td>\n",
       "    </tr>\n",
       "    <tr>\n",
       "      <th>1</th>\n",
       "      <td>435000.0</td>\n",
       "      <td>Forced Air</td>\n",
       "    </tr>\n",
       "    <tr>\n",
       "      <th>2</th>\n",
       "      <td>450000.0</td>\n",
       "      <td>Floor-Wall</td>\n",
       "    </tr>\n",
       "  </tbody>\n",
       "</table>\n",
       "</div>"
      ],
      "text/plain": [
       "   SalePrice   HeatNames\n",
       "0   560000.0  Forced Air\n",
       "1   435000.0  Forced Air\n",
       "2   450000.0  Floor-Wall"
      ]
     },
     "execution_count": 62,
     "metadata": {},
     "output_type": "execute_result"
    }
   ],
   "source": [
    "# checking first few rows\n",
    "heat_df2.head(3)"
   ]
  },
  {
   "cell_type": "markdown",
   "metadata": {},
   "source": [
    "#### One-Hot Encoding the HeatSystem Predictor\n",
    "\n",
    "Instantiating the encoder, fitting the encoder to ```heat_df2[['HeatNames']]``` , and transforming the data. Creating a new ```heat_ohe``` data frame, dropping the ```'HeatNames'``` column from ``` heat_df2```, and concatenating it will ```heat_ohe``` to form a new ```model_df``` data frame."
   ]
  },
  {
   "cell_type": "code",
   "execution_count": 63,
   "metadata": {},
   "outputs": [],
   "source": [
    "# instantiating, fitting and transforming\n",
    "ohcoder = OneHotEncoder(drop='first')\n",
    "\n",
    "ohcoder.fit(heat_df2[['HeatNames']])\n",
    "\n",
    "transformed = ohcoder.transform(heat_df2[['HeatNames']])"
   ]
  },
  {
   "cell_type": "code",
   "execution_count": 64,
   "metadata": {},
   "outputs": [
    {
     "data": {
      "text/html": [
       "<div>\n",
       "<style scoped>\n",
       "    .dataframe tbody tr th:only-of-type {\n",
       "        vertical-align: middle;\n",
       "    }\n",
       "\n",
       "    .dataframe tbody tr th {\n",
       "        vertical-align: top;\n",
       "    }\n",
       "\n",
       "    .dataframe thead th {\n",
       "        text-align: right;\n",
       "    }\n",
       "</style>\n",
       "<table border=\"1\" class=\"dataframe\">\n",
       "  <thead>\n",
       "    <tr style=\"text-align: right;\">\n",
       "      <th></th>\n",
       "      <th>x0_Floor-Wall</th>\n",
       "      <th>x0_Forced Air</th>\n",
       "      <th>x0_Gravity</th>\n",
       "      <th>x0_Heat Pump</th>\n",
       "      <th>x0_Hot Water</th>\n",
       "      <th>x0_NA</th>\n",
       "      <th>x0_Other</th>\n",
       "      <th>x0_Radiant</th>\n",
       "    </tr>\n",
       "  </thead>\n",
       "  <tbody>\n",
       "    <tr>\n",
       "      <th>0</th>\n",
       "      <td>0.0</td>\n",
       "      <td>1.0</td>\n",
       "      <td>0.0</td>\n",
       "      <td>0.0</td>\n",
       "      <td>0.0</td>\n",
       "      <td>0.0</td>\n",
       "      <td>0.0</td>\n",
       "      <td>0.0</td>\n",
       "    </tr>\n",
       "    <tr>\n",
       "      <th>1</th>\n",
       "      <td>0.0</td>\n",
       "      <td>1.0</td>\n",
       "      <td>0.0</td>\n",
       "      <td>0.0</td>\n",
       "      <td>0.0</td>\n",
       "      <td>0.0</td>\n",
       "      <td>0.0</td>\n",
       "      <td>0.0</td>\n",
       "    </tr>\n",
       "    <tr>\n",
       "      <th>2</th>\n",
       "      <td>1.0</td>\n",
       "      <td>0.0</td>\n",
       "      <td>0.0</td>\n",
       "      <td>0.0</td>\n",
       "      <td>0.0</td>\n",
       "      <td>0.0</td>\n",
       "      <td>0.0</td>\n",
       "      <td>0.0</td>\n",
       "    </tr>\n",
       "  </tbody>\n",
       "</table>\n",
       "</div>"
      ],
      "text/plain": [
       "   x0_Floor-Wall  x0_Forced Air  x0_Gravity  x0_Heat Pump  x0_Hot Water  \\\n",
       "0            0.0            1.0         0.0           0.0           0.0   \n",
       "1            0.0            1.0         0.0           0.0           0.0   \n",
       "2            1.0            0.0         0.0           0.0           0.0   \n",
       "\n",
       "   x0_NA  x0_Other  x0_Radiant  \n",
       "0    0.0       0.0         0.0  \n",
       "1    0.0       0.0         0.0  \n",
       "2    0.0       0.0         0.0  "
      ]
     },
     "execution_count": 64,
     "metadata": {},
     "output_type": "execute_result"
    }
   ],
   "source": [
    "# creating heat_ohe data frame and checking the first few columns\n",
    "heat_ohe = pd.DataFrame(transformed.todense(),\\\n",
    "                       columns = ohcoder.get_feature_names())\n",
    "heat_ohe.head(3)"
   ]
  },
  {
   "cell_type": "code",
   "execution_count": 65,
   "metadata": {},
   "outputs": [],
   "source": [
    "# dropping the 'HeatNames' column from heat_df2\n",
    "heat2_dropped = heat_df2.drop('HeatNames', axis=1)"
   ]
  },
  {
   "cell_type": "markdown",
   "metadata": {},
   "source": [
    "#### Creating ```model_df``` Data Frame"
   ]
  },
  {
   "cell_type": "code",
   "execution_count": 66,
   "metadata": {},
   "outputs": [
    {
     "data": {
      "text/html": [
       "<div>\n",
       "<style scoped>\n",
       "    .dataframe tbody tr th:only-of-type {\n",
       "        vertical-align: middle;\n",
       "    }\n",
       "\n",
       "    .dataframe tbody tr th {\n",
       "        vertical-align: top;\n",
       "    }\n",
       "\n",
       "    .dataframe thead th {\n",
       "        text-align: right;\n",
       "    }\n",
       "</style>\n",
       "<table border=\"1\" class=\"dataframe\">\n",
       "  <thead>\n",
       "    <tr style=\"text-align: right;\">\n",
       "      <th></th>\n",
       "      <th>SalePrice</th>\n",
       "      <th>x0_Floor-Wall</th>\n",
       "      <th>x0_Forced Air</th>\n",
       "      <th>x0_Gravity</th>\n",
       "      <th>x0_Heat Pump</th>\n",
       "      <th>x0_Hot Water</th>\n",
       "      <th>x0_NA</th>\n",
       "      <th>x0_Other</th>\n",
       "      <th>x0_Radiant</th>\n",
       "    </tr>\n",
       "  </thead>\n",
       "  <tbody>\n",
       "    <tr>\n",
       "      <th>0</th>\n",
       "      <td>560000.0</td>\n",
       "      <td>0.0</td>\n",
       "      <td>1.0</td>\n",
       "      <td>0.0</td>\n",
       "      <td>0.0</td>\n",
       "      <td>0.0</td>\n",
       "      <td>0.0</td>\n",
       "      <td>0.0</td>\n",
       "      <td>0.0</td>\n",
       "    </tr>\n",
       "    <tr>\n",
       "      <th>1</th>\n",
       "      <td>435000.0</td>\n",
       "      <td>0.0</td>\n",
       "      <td>1.0</td>\n",
       "      <td>0.0</td>\n",
       "      <td>0.0</td>\n",
       "      <td>0.0</td>\n",
       "      <td>0.0</td>\n",
       "      <td>0.0</td>\n",
       "      <td>0.0</td>\n",
       "    </tr>\n",
       "    <tr>\n",
       "      <th>2</th>\n",
       "      <td>450000.0</td>\n",
       "      <td>1.0</td>\n",
       "      <td>0.0</td>\n",
       "      <td>0.0</td>\n",
       "      <td>0.0</td>\n",
       "      <td>0.0</td>\n",
       "      <td>0.0</td>\n",
       "      <td>0.0</td>\n",
       "      <td>0.0</td>\n",
       "    </tr>\n",
       "  </tbody>\n",
       "</table>\n",
       "</div>"
      ],
      "text/plain": [
       "   SalePrice  x0_Floor-Wall  x0_Forced Air  x0_Gravity  x0_Heat Pump  \\\n",
       "0   560000.0            0.0            1.0         0.0           0.0   \n",
       "1   435000.0            0.0            1.0         0.0           0.0   \n",
       "2   450000.0            1.0            0.0         0.0           0.0   \n",
       "\n",
       "   x0_Hot Water  x0_NA  x0_Other  x0_Radiant  \n",
       "0           0.0    0.0       0.0         0.0  \n",
       "1           0.0    0.0       0.0         0.0  \n",
       "2           0.0    0.0       0.0         0.0  "
      ]
     },
     "execution_count": 66,
     "metadata": {},
     "output_type": "execute_result"
    }
   ],
   "source": [
    "# creating the model dataframe and checking first few rows\n",
    "model_df = pd.concat([heat2_dropped, heat_ohe], axis=1)\n",
    "model_df.head(3)"
   ]
  },
  {
   "cell_type": "markdown",
   "metadata": {},
   "source": [
    "#### ```model_df``` Correlation Matrix and Heatmap"
   ]
  },
  {
   "cell_type": "code",
   "execution_count": 67,
   "metadata": {},
   "outputs": [
    {
     "data": {
      "text/html": [
       "<div>\n",
       "<style scoped>\n",
       "    .dataframe tbody tr th:only-of-type {\n",
       "        vertical-align: middle;\n",
       "    }\n",
       "\n",
       "    .dataframe tbody tr th {\n",
       "        vertical-align: top;\n",
       "    }\n",
       "\n",
       "    .dataframe thead th {\n",
       "        text-align: right;\n",
       "    }\n",
       "</style>\n",
       "<table border=\"1\" class=\"dataframe\">\n",
       "  <thead>\n",
       "    <tr style=\"text-align: right;\">\n",
       "      <th></th>\n",
       "      <th>SalePrice</th>\n",
       "      <th>x0_Floor-Wall</th>\n",
       "      <th>x0_Forced Air</th>\n",
       "      <th>x0_Gravity</th>\n",
       "      <th>x0_Heat Pump</th>\n",
       "      <th>x0_Hot Water</th>\n",
       "      <th>x0_NA</th>\n",
       "      <th>x0_Other</th>\n",
       "      <th>x0_Radiant</th>\n",
       "    </tr>\n",
       "  </thead>\n",
       "  <tbody>\n",
       "    <tr>\n",
       "      <th>SalePrice</th>\n",
       "      <td>1.000000</td>\n",
       "      <td>-0.013960</td>\n",
       "      <td>-0.058108</td>\n",
       "      <td>-0.001774</td>\n",
       "      <td>0.023708</td>\n",
       "      <td>0.036436</td>\n",
       "      <td>-0.022709</td>\n",
       "      <td>-0.001550</td>\n",
       "      <td>0.006037</td>\n",
       "    </tr>\n",
       "    <tr>\n",
       "      <th>x0_Floor-Wall</th>\n",
       "      <td>-0.013960</td>\n",
       "      <td>1.000000</td>\n",
       "      <td>-0.326640</td>\n",
       "      <td>-0.007937</td>\n",
       "      <td>-0.062461</td>\n",
       "      <td>-0.029477</td>\n",
       "      <td>-0.011944</td>\n",
       "      <td>-0.004580</td>\n",
       "      <td>-0.021424</td>\n",
       "    </tr>\n",
       "    <tr>\n",
       "      <th>x0_Forced Air</th>\n",
       "      <td>-0.058108</td>\n",
       "      <td>-0.326640</td>\n",
       "      <td>1.000000</td>\n",
       "      <td>-0.074348</td>\n",
       "      <td>-0.585072</td>\n",
       "      <td>-0.276116</td>\n",
       "      <td>-0.111879</td>\n",
       "      <td>-0.042899</td>\n",
       "      <td>-0.200676</td>\n",
       "    </tr>\n",
       "    <tr>\n",
       "      <th>x0_Gravity</th>\n",
       "      <td>-0.001774</td>\n",
       "      <td>-0.007937</td>\n",
       "      <td>-0.074348</td>\n",
       "      <td>1.000000</td>\n",
       "      <td>-0.014217</td>\n",
       "      <td>-0.006709</td>\n",
       "      <td>-0.002719</td>\n",
       "      <td>-0.001042</td>\n",
       "      <td>-0.004876</td>\n",
       "    </tr>\n",
       "    <tr>\n",
       "      <th>x0_Heat Pump</th>\n",
       "      <td>0.023708</td>\n",
       "      <td>-0.062461</td>\n",
       "      <td>-0.585072</td>\n",
       "      <td>-0.014217</td>\n",
       "      <td>1.000000</td>\n",
       "      <td>-0.052799</td>\n",
       "      <td>-0.021394</td>\n",
       "      <td>-0.008203</td>\n",
       "      <td>-0.038374</td>\n",
       "    </tr>\n",
       "    <tr>\n",
       "      <th>x0_Hot Water</th>\n",
       "      <td>0.036436</td>\n",
       "      <td>-0.029477</td>\n",
       "      <td>-0.276116</td>\n",
       "      <td>-0.006709</td>\n",
       "      <td>-0.052799</td>\n",
       "      <td>1.000000</td>\n",
       "      <td>-0.010096</td>\n",
       "      <td>-0.003871</td>\n",
       "      <td>-0.018110</td>\n",
       "    </tr>\n",
       "    <tr>\n",
       "      <th>x0_NA</th>\n",
       "      <td>-0.022709</td>\n",
       "      <td>-0.011944</td>\n",
       "      <td>-0.111879</td>\n",
       "      <td>-0.002719</td>\n",
       "      <td>-0.021394</td>\n",
       "      <td>-0.010096</td>\n",
       "      <td>1.000000</td>\n",
       "      <td>-0.001569</td>\n",
       "      <td>-0.007338</td>\n",
       "    </tr>\n",
       "    <tr>\n",
       "      <th>x0_Other</th>\n",
       "      <td>-0.001550</td>\n",
       "      <td>-0.004580</td>\n",
       "      <td>-0.042899</td>\n",
       "      <td>-0.001042</td>\n",
       "      <td>-0.008203</td>\n",
       "      <td>-0.003871</td>\n",
       "      <td>-0.001569</td>\n",
       "      <td>1.000000</td>\n",
       "      <td>-0.002814</td>\n",
       "    </tr>\n",
       "    <tr>\n",
       "      <th>x0_Radiant</th>\n",
       "      <td>0.006037</td>\n",
       "      <td>-0.021424</td>\n",
       "      <td>-0.200676</td>\n",
       "      <td>-0.004876</td>\n",
       "      <td>-0.038374</td>\n",
       "      <td>-0.018110</td>\n",
       "      <td>-0.007338</td>\n",
       "      <td>-0.002814</td>\n",
       "      <td>1.000000</td>\n",
       "    </tr>\n",
       "  </tbody>\n",
       "</table>\n",
       "</div>"
      ],
      "text/plain": [
       "               SalePrice  x0_Floor-Wall  x0_Forced Air  x0_Gravity  \\\n",
       "SalePrice       1.000000      -0.013960      -0.058108   -0.001774   \n",
       "x0_Floor-Wall  -0.013960       1.000000      -0.326640   -0.007937   \n",
       "x0_Forced Air  -0.058108      -0.326640       1.000000   -0.074348   \n",
       "x0_Gravity     -0.001774      -0.007937      -0.074348    1.000000   \n",
       "x0_Heat Pump    0.023708      -0.062461      -0.585072   -0.014217   \n",
       "x0_Hot Water    0.036436      -0.029477      -0.276116   -0.006709   \n",
       "x0_NA          -0.022709      -0.011944      -0.111879   -0.002719   \n",
       "x0_Other       -0.001550      -0.004580      -0.042899   -0.001042   \n",
       "x0_Radiant      0.006037      -0.021424      -0.200676   -0.004876   \n",
       "\n",
       "               x0_Heat Pump  x0_Hot Water     x0_NA  x0_Other  x0_Radiant  \n",
       "SalePrice          0.023708      0.036436 -0.022709 -0.001550    0.006037  \n",
       "x0_Floor-Wall     -0.062461     -0.029477 -0.011944 -0.004580   -0.021424  \n",
       "x0_Forced Air     -0.585072     -0.276116 -0.111879 -0.042899   -0.200676  \n",
       "x0_Gravity        -0.014217     -0.006709 -0.002719 -0.001042   -0.004876  \n",
       "x0_Heat Pump       1.000000     -0.052799 -0.021394 -0.008203   -0.038374  \n",
       "x0_Hot Water      -0.052799      1.000000 -0.010096 -0.003871   -0.018110  \n",
       "x0_NA             -0.021394     -0.010096  1.000000 -0.001569   -0.007338  \n",
       "x0_Other          -0.008203     -0.003871 -0.001569  1.000000   -0.002814  \n",
       "x0_Radiant        -0.038374     -0.018110 -0.007338 -0.002814    1.000000  "
      ]
     },
     "execution_count": 67,
     "metadata": {},
     "output_type": "execute_result"
    }
   ],
   "source": [
    "model_df.corr()"
   ]
  },
  {
   "cell_type": "code",
   "execution_count": 68,
   "metadata": {},
   "outputs": [
    {
     "data": {
      "image/png": "[encoded data removed]",
      "text/plain": [
       "<Figure size 432x288 with 2 Axes>"
      ]
     },
     "metadata": {
      "needs_background": "light"
     },
     "output_type": "display_data"
    }
   ],
   "source": [
    "sns.heatmap(model_df.corr());"
   ]
  },
  {
   "cell_type": "markdown",
   "metadata": {},
   "source": [
    "#### EnclosedPoarch Dataframe"
   ]
  },
  {
   "cell_type": "code",
   "execution_count": 69,
   "metadata": {},
   "outputs": [
    {
     "data": {
      "text/html": [
       "<div>\n",
       "<style scoped>\n",
       "    .dataframe tbody tr th:only-of-type {\n",
       "        vertical-align: middle;\n",
       "    }\n",
       "\n",
       "    .dataframe tbody tr th {\n",
       "        vertical-align: top;\n",
       "    }\n",
       "\n",
       "    .dataframe thead th {\n",
       "        text-align: right;\n",
       "    }\n",
       "</style>\n",
       "<table border=\"1\" class=\"dataframe\">\n",
       "  <thead>\n",
       "    <tr style=\"text-align: right;\">\n",
       "      <th></th>\n",
       "      <th>SqFtEnclosedPorch</th>\n",
       "    </tr>\n",
       "  </thead>\n",
       "  <tbody>\n",
       "    <tr>\n",
       "      <th>0</th>\n",
       "      <td>0</td>\n",
       "    </tr>\n",
       "    <tr>\n",
       "      <th>1</th>\n",
       "      <td>0</td>\n",
       "    </tr>\n",
       "    <tr>\n",
       "      <th>2</th>\n",
       "      <td>0</td>\n",
       "    </tr>\n",
       "    <tr>\n",
       "      <th>3</th>\n",
       "      <td>0</td>\n",
       "    </tr>\n",
       "    <tr>\n",
       "      <th>4</th>\n",
       "      <td>0</td>\n",
       "    </tr>\n",
       "  </tbody>\n",
       "</table>\n",
       "</div>"
      ],
      "text/plain": [
       "  SqFtEnclosedPorch\n",
       "0                 0\n",
       "1                 0\n",
       "2                 0\n",
       "3                 0\n",
       "4                 0"
      ]
     },
     "execution_count": 69,
     "metadata": {},
     "output_type": "execute_result"
    }
   ],
   "source": [
    "# isolating SalePrice target and SqFtEnclosedPorch predictor\n",
    "porch_df = nz19[['SqFtEnclosedPorch']]\n",
    "porch_df.head()"
   ]
  },
  {
   "cell_type": "code",
   "execution_count": null,
   "metadata": {},
   "outputs": [],
   "source": []
  }
 ],
 "metadata": {
  "kernelspec": {
   "display_name": "learn-env",
   "language": "python",
   "name": "learn-env"
  },
  "language_info": {
   "codemirror_mode": {
    "name": "ipython",
    "version": 3
   },
   "file_extension": ".py",
   "mimetype": "text/x-python",
   "name": "python",
   "nbconvert_exporter": "python",
   "pygments_lexer": "ipython3",
   "version": "3.8.5"
  }
 },
 "nbformat": 4,
 "nbformat_minor": 4
}

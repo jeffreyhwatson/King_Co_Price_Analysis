{
 "cells": [
  {
   "cell_type": "markdown",
   "id": "correct-salvation",
   "metadata": {},
   "source": [
    "## Notes\n",
    "#### In Pandas\n",
    "```\n",
    "df_sale.shape, df_resb.shape, df_parc.shape, look.shape\n",
    "((351067, 24), (181510, 50), (205199, 82), (1208, 3))\n",
    "```\n",
    "\n",
    "#### Merged Data Frame\n",
    "```\n",
    "# doing a chained merge of the three data frames on the 'Major' and 'Minor' columns\n",
    "df = pd.merge(pd.merge(df_sale, df_parc, on=['Major', 'Minor']), df_resb, on=['Major', 'Minor'])\n",
    "```\n",
    "\n",
    "```\n",
    "df.shape\n",
    "(251300, 151)\n",
    "```\n",
    "\n",
    "## In SQL Data Frame\n",
    "#### Tables\n",
    "```\n",
    "('SALES',), ('RESB',), ('PARC',)\n",
    "``` \n",
    "#### Data Frame Shape After Join\n",
    "```\n",
    "q = \"\"\"SELECT*FROM SALES AS SA\n",
    "       JOIN PARC AS PA\n",
    "       ON SA.Major = PA.Major\n",
    "       AND SA.Minor = PA.Minor\n",
    "       JOIN RESB AS RE\n",
    "       ON PA.Major = RE.Major\n",
    "       AND PA.Minor = RE.Minor\n",
    "       \"\"\"\n",
    "df = pd.DataFrame(fn.fetch(cur, q))\n",
    "df.columns = [i[0] for i in cur.description]\n",
    "```\n",
    "\n",
    "```\n",
    "df.shape\n",
    "(251300, 156)\n",
    "```"
   ]
  },
  {
   "cell_type": "markdown",
   "id": "hearing-volunteer",
   "metadata": {},
   "source": [
    "## Questions:\n",
    "\n",
    "1. A lot of the cohort either did data cleaning on individual data frames and then tried to merge them later, or merged the data frames two at a time. Was it a mistake to join all three tables into a main data frame first? It seemed like the most logical way to proceed.\n",
    "\n",
    "2. **Since the smallest table (RESB) has 181510 rows, and the tables are being (INNER) JOINED, why is the shape of the data frame 251300? I thought JOIN grabs the intersection of the tables based on certain criteria. Why isn't the shape  <= 181510?**\n",
    "\n",
    "3. Pathing issues in the repo regarding the function.py module, DB_Creator notebook, KingDB.db file. Things break if the files are not in the same directory as the main notebook. What are the fixes?\n",
    "\n",
    "4. I placed a `.gitignore` file in the `/notebooks/exploratory` directory because the KingDB.db file is 176mb. Is it acceptable to have multiple .gitignore file in the repo? How do you deal with the pathing issues if you only have one `.gitignore` in the maid directory? On a side note, if your data files are large, how do you deal with that on github?\n",
    "\n",
    "5. **After creating a new `king_co` environment, should I just use the python3 kernel? Also, does it matter what evn is active when using the terminal for other stuff lit pushing to git etc.**\n",
    "\n",
    "6. **Look at the Data Understanding** "
   ]
  },
  {
   "cell_type": "code",
   "execution_count": null,
   "id": "periodic-muslim",
   "metadata": {},
   "outputs": [],
   "source": []
  }
 ],
 "metadata": {
  "kernelspec": {
   "display_name": "Python 3",
   "language": "python",
   "name": "python3"
  },
  "language_info": {
   "codemirror_mode": {
    "name": "ipython",
    "version": 3
   },
   "file_extension": ".py",
   "mimetype": "text/x-python",
   "name": "python",
   "nbconvert_exporter": "python",
   "pygments_lexer": "ipython3",
   "version": "3.9.1"
  }
 },
 "nbformat": 4,
 "nbformat_minor": 5
}

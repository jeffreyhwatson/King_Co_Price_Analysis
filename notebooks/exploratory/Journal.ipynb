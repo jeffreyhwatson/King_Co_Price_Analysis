{
 "cells": [
  {
   "cell_type": "markdown",
   "metadata": {},
   "source": [
    "## Project Journal"
   ]
  },
  {
   "cell_type": "markdown",
   "metadata": {},
   "source": [
    "### Friday 2/19: \n",
    "#### Business Understanding & Preliminary EDA\n",
    "* Repo Creation\n",
    "* Data Importation\n",
    "* Database Creation\n",
    "* Created initial data frame."
   ]
  },
  {
   "cell_type": "markdown",
   "metadata": {},
   "source": [
    "### Saturday 2/20: \n",
    "#### Data Understanding & EDA\n",
    "* Added ```.gitignore``` file in exploratory directory to exclude ```KingDB.db``` file.\n",
    "* Created ```lookup()``` function.\n",
    "* Created 2019 data frame.\n",
    "* Created ```nz19``` data frame of 2019 documents with non-zero sale prices."
   ]
  },
  {
   "cell_type": "markdown",
   "metadata": {},
   "source": [
    "### Sunday 2/21: \n",
    "#### Data Prep\n",
    "* Added a `function.py` module to contain the functions written while working through the project.\n",
    "* Created a `col_stripper()` function, and appended it, `fetch()`, and `lookup()` to the `function` module.\n",
    "* Did some data cleaning on the lookup dataframe `df_look`.\n",
    "* Made a `heat_df` data frame with the `'SalePrice'` target and `'HeatSystems'` predictor.\n",
    "* Converted  `'HeatSystems'` to a column called `'HeatNames'`with more descriptive values.\n",
    "* Perfomed one-hot encoding on `'HeatNames'` and created a `model_df`.\n",
    "* Created a correlation matrix and heatmap for `model_df`.\n"
   ]
  },
  {
   "cell_type": "markdown",
   "metadata": {},
   "source": [
    "### Monday 2/22:\n",
    "#### Data Prep\n",
    "* Added `chunker()` and `dropper()` data cleaning functions.\n",
    "* Consolidated SQL notebook.\n",
    "* Started dropping features."
   ]
  },
  {
   "cell_type": "markdown",
   "metadata": {},
   "source": [
    "### Tuesday 2/23:\n",
    "#### Data Understanding, Project Environment & Chronicling\n",
    "* Got a better grip on the data.\n",
    "* Created `king_co` virtual environment for the project.\n",
    "* Started a project journal `Journal.ipynb` notebook.\n",
    "* Added a notebook `Notes.ipynb` for project notes and question.\n",
    "* Made an `ENV_Flow.md` file with environment creation instructions.\n"
   ]
  },
  {
   "cell_type": "code",
   "execution_count": null,
   "metadata": {},
   "outputs": [],
   "source": []
  }
 ],
 "metadata": {
  "kernelspec": {
   "display_name": "Python 3",
   "language": "python",
   "name": "python3"
  },
  "language_info": {
   "codemirror_mode": {
    "name": "ipython",
    "version": 3
   },
   "file_extension": ".py",
   "mimetype": "text/x-python",
   "name": "python",
   "nbconvert_exporter": "python",
   "pygments_lexer": "ipython3",
   "version": "3.9.1"
  }
 },
 "nbformat": 4,
 "nbformat_minor": 4
}

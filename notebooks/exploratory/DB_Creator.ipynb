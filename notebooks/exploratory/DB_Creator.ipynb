{
 "cells": [
  {
   "cell_type": "markdown",
   "metadata": {},
   "source": [
    "### Run All Cells To Create the KingDB Database"
   ]
  },
  {
   "cell_type": "code",
   "execution_count": null,
   "metadata": {},
   "outputs": [],
   "source": [
    "# importing pandas\n",
    "import pandas as pd\n",
    "\n",
    "# importing sqlite\n",
    "import sqlite3"
   ]
  },
  {
   "cell_type": "code",
   "execution_count": null,
   "metadata": {},
   "outputs": [],
   "source": [
    "# create paths to the files\n",
    "files = ['EXTR_RPSale.csv', 'EXTR_ResBldg.csv', 'EXTR_Parcel.csv']\n",
    "paths = [f'../../data/raw/{file}' for file in files]\n",
    "\n",
    "# create list of data frames importing data as strings\n",
    "dfs = [pd.read_csv(path, dtype=str) for path in paths]"
   ]
  },
  {
   "cell_type": "code",
   "execution_count": null,
   "metadata": {},
   "outputs": [],
   "source": [
    "# create sales dataframe\n",
    "read_sale = pd.read_csv (paths[0], dtype=str)\n",
    "# Insert the values from the csv file into the table 'SALES' \n",
    "read_sale.to_sql('SALES', conn, if_exists='append', index = False)\n",
    "\n",
    "# create resbldg\n",
    "read_resb = pd.read_csv (paths[1], dtype=str)\n",
    "# Replace the values from the csv file into the table 'RESB'\n",
    "read_resb.to_sql('RESB', conn, if_exists='replace', index = False)\n",
    "\n",
    "# create parcel\n",
    "read_parc = pd.read_csv (paths[2], dtype=str)\n",
    "# Replace the values from the csv file into the table 'PARC'\n",
    "read_parc.to_sql('PARC', conn, if_exists='replace', index = False)"
   ]
  },
  {
   "cell_type": "code",
   "execution_count": null,
   "metadata": {},
   "outputs": [],
   "source": []
  }
 ],
 "metadata": {
  "kernelspec": {
   "display_name": "learn-env",
   "language": "python",
   "name": "learn-env"
  },
  "language_info": {
   "codemirror_mode": {
    "name": "ipython",
    "version": 3
   },
   "file_extension": ".py",
   "mimetype": "text/x-python",
   "name": "python",
   "nbconvert_exporter": "python",
   "pygments_lexer": "ipython3",
   "version": "3.8.5"
  }
 },
 "nbformat": 4,
 "nbformat_minor": 4
}
